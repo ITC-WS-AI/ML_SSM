{
 "cells": [
  {
   "cell_type": "markdown",
   "metadata": {
    "colab_type": "text",
    "id": "l_LulNCC8z96"
   },
   "source": [
    "# K nearest Neighbors \n",
    "\n",
    "## Importing the Libraries"
   ]
  },
  {
   "cell_type": "code",
   "execution_count": 1,
   "metadata": {
    "colab": {},
    "colab_type": "code",
    "id": "nhKd4hWx9GFt"
   },
   "outputs": [],
   "source": [
    "import numpy as np\n",
    "import matplotlib.pyplot as plt\n",
    "import pandas as pd"
   ]
  },
  {
   "cell_type": "markdown",
   "metadata": {
    "colab_type": "text",
    "id": "6JhpWJi59J1p"
   },
   "source": [
    "## Importing the dataset"
   ]
  },
  {
   "cell_type": "code",
   "execution_count": 2,
   "metadata": {},
   "outputs": [],
   "source": [
    "dataset = pd.read_csv('ML_training&testing_v01shuffled_20220317.csv')\n",
    "# dataset"
   ]
  },
  {
   "cell_type": "code",
   "execution_count": 3,
   "metadata": {},
   "outputs": [
    {
     "data": {
      "text/plain": [
       "Index(['Year', 'DOY', 'EVI', 'Evapo', 'LST_Daily', 'LST_Diff', 'NDVI', 'TI',\n",
       "       'T_air', 'API', 'Clay', 'Elevation', 'lat', 'lon', 'OMC', 'Porosity',\n",
       "       'Sand', 'Silt', 'Preci', 'Soil Moisture'],\n",
       "      dtype='object')"
      ]
     },
     "execution_count": 3,
     "metadata": {},
     "output_type": "execute_result"
    }
   ],
   "source": [
    "dataset.columns"
   ]
  },
  {
   "cell_type": "markdown",
   "metadata": {},
   "source": [
    "## Construction of the matrix of characteristics (X) and the dependent variable vector (y)"
   ]
  },
  {
   "cell_type": "code",
   "execution_count": 4,
   "metadata": {},
   "outputs": [],
   "source": [
    "X = dataset.iloc[:, :-1].values\n",
    "y = dataset.iloc[:, -1].values"
   ]
  },
  {
   "cell_type": "markdown",
   "metadata": {
    "colab_type": "text",
    "id": "AyhQaTwP9RzG"
   },
   "source": [
    "## Division of the dataset into the Training Set and the Test Set"
   ]
  },
  {
   "cell_type": "code",
   "execution_count": 5,
   "metadata": {
    "colab": {},
    "colab_type": "code",
    "id": "bxOOauiN9VpC"
   },
   "outputs": [],
   "source": [
    "from sklearn.model_selection import train_test_split\n",
    "X_train, X_test, y_train, y_test = train_test_split(X, y, test_size = 0.25, random_state = 0)"
   ]
  },
  {
   "cell_type": "markdown",
   "metadata": {},
   "source": [
    "## Very important: Feature scaling of X (range -3 to 3)\n",
    "\n",
    "### Obs: Fit_transform only applied to X_train to prevent data leaking"
   ]
  },
  {
   "cell_type": "code",
   "execution_count": 6,
   "metadata": {},
   "outputs": [],
   "source": [
    "from sklearn.preprocessing import StandardScaler\n",
    "sc = StandardScaler()\n",
    "X_train = sc.fit_transform(X_train)\n",
    "X_test = sc.transform(X_test)"
   ]
  },
  {
   "cell_type": "markdown",
   "metadata": {
    "colab_type": "text",
    "id": "ZijQwFMQ9itx"
   },
   "source": [
    "## Construction and training of the regression model over the training set\n"
   ]
  },
  {
   "cell_type": "code",
   "execution_count": 7,
   "metadata": {},
   "outputs": [
    {
     "name": "stdout",
     "output_type": "stream",
     "text": [
      "CPU times: user 46.4 ms, sys: 18.5 ms, total: 64.9 ms\n",
      "Wall time: 61.3 ms\n"
     ]
    },
    {
     "data": {
      "text/plain": [
       "KNeighborsRegressor()"
      ]
     },
     "execution_count": 7,
     "metadata": {},
     "output_type": "execute_result"
    }
   ],
   "source": [
    "%%time\n",
    "from sklearn.neighbors import KNeighborsRegressor  #the class \"KNeighborsRegressor\" from \"neighbors\" module of scikit-learn \n",
    "regressor = KNeighborsRegressor() #regressor object containing KNeighborsRegressor\n",
    "regressor.fit(X_train, y_train)"
   ]
  },
  {
   "cell_type": "markdown",
   "metadata": {},
   "source": [
    "## Bulid our own \"gridSearchCV\" which can run our code in more servers"
   ]
  },
  {
   "cell_type": "code",
   "execution_count": null,
   "metadata": {},
   "outputs": [],
   "source": [
    "import itertools\n",
    "\n",
    "n_neighbors = [3,4,5,6,7]\n",
    "weights = ['uniform','distance']\n",
    "p = [1,2]\n",
    "leaf_size = [20,30,40]\n",
    "algorithm = ['auto','ball_tree']\n",
    "\n",
    "param_sets_my = []\n",
    "for element in itertools.product(n_neighbors, weights, p, leaf_size, algorithm):\n",
    "    # print(element)\n",
    "    dict_i = {\n",
    "        'n_neighbors': element[0], \n",
    "        'weights': element[1], \n",
    "        'p': element[2], \n",
    "        'leaf_size': element[3], \n",
    "        'algorithm': element[4]   \n",
    "    }\n",
    "    param_sets_my.append(dict_i)"
   ]
  },
  {
   "cell_type": "code",
   "execution_count": null,
   "metadata": {},
   "outputs": [
    {
     "data": {
      "text/plain": [
       "120"
      ]
     },
     "execution_count": 9,
     "metadata": {},
     "output_type": "execute_result"
    }
   ],
   "source": [
    "len(param_sets_my)"
   ]
  },
  {
   "cell_type": "code",
   "execution_count": null,
   "metadata": {},
   "outputs": [
    {
     "data": {
      "text/plain": [
       "{'n_neighbors': 3,\n",
       " 'weights': 'uniform',\n",
       " 'p': 1,\n",
       " 'leaf_size': 20,\n",
       " 'algorithm': 'auto'}"
      ]
     },
     "execution_count": 10,
     "metadata": {},
     "output_type": "execute_result"
    }
   ],
   "source": [
    "param_sets_my[0]"
   ]
  },
  {
   "cell_type": "code",
   "execution_count": 35,
   "metadata": {},
   "outputs": [
    {
     "name": "stdout",
     "output_type": "stream",
     "text": [
      "{'n_neighbors': 3, 'weights': 'distance', 'p': 1, 'leaf_size': 20, 'algorithm': 'ball_tree'}: 0.8842513083417756\n",
      "{'n_neighbors': 3, 'weights': 'uniform', 'p': 1, 'leaf_size': 20, 'algorithm': 'ball_tree'}: 0.8799341372776761\n",
      "{'n_neighbors': 3, 'weights': 'uniform', 'p': 2, 'leaf_size': 30, 'algorithm': 'auto'}: 0.8280451855567557\n",
      "{'n_neighbors': 4, 'weights': 'uniform', 'p': 1, 'leaf_size': 20, 'algorithm': 'ball_tree'}: 0.8794007206609618\n",
      "{'n_neighbors': 5, 'weights': 'distance', 'p': 1, 'leaf_size': 20, 'algorithm': 'ball_tree'}: 0.8835407915641089\n",
      "{'n_neighbors': 3, 'weights': 'uniform', 'p': 2, 'leaf_size': 40, 'algorithm': 'auto'}: 0.8280451855567557\n",
      "{'n_neighbors': 3, 'weights': 'distance', 'p': 2, 'leaf_size': 30, 'algorithm': 'auto'}: 0.8340462775496291\n",
      "{'n_neighbors': 4, 'weights': 'distance', 'p': 1, 'leaf_size': 20, 'algorithm': 'ball_tree'}: 0.8847602664133686\n",
      "{'n_neighbors': 3, 'weights': 'distance', 'p': 2, 'leaf_size': 40, 'algorithm': 'auto'}: 0.8340462775496291\n",
      "{'n_neighbors': 3, 'weights': 'uniform', 'p': 2, 'leaf_size': 20, 'algorithm': 'auto'}: 0.8280451855567557\n",
      "{'n_neighbors': 3, 'weights': 'distance', 'p': 2, 'leaf_size': 20, 'algorithm': 'auto'}: 0.8340462775496291\n",
      "{'n_neighbors': 5, 'weights': 'uniform', 'p': 1, 'leaf_size': 20, 'algorithm': 'ball_tree'}: 0.8774031243892784\n",
      "{'n_neighbors': 4, 'weights': 'distance', 'p': 2, 'leaf_size': 30, 'algorithm': 'auto'}: 0.8357515745842945\n",
      "{'n_neighbors': 4, 'weights': 'uniform', 'p': 2, 'leaf_size': 40, 'algorithm': 'auto'}: 0.8286873942403512\n",
      "{'n_neighbors': 4, 'weights': 'uniform', 'p': 2, 'leaf_size': 20, 'algorithm': 'auto'}: 0.8286873942403512\n",
      "{'n_neighbors': 5, 'weights': 'uniform', 'p': 2, 'leaf_size': 30, 'algorithm': 'auto'}: 0.8264137395100426\n",
      "{'n_neighbors': 5, 'weights': 'distance', 'p': 2, 'leaf_size': 20, 'algorithm': 'auto'}: 0.8344167244929904\n",
      "{'n_neighbors': 5, 'weights': 'uniform', 'p': 2, 'leaf_size': 20, 'algorithm': 'auto'}: 0.8264137395100426\n",
      "{'n_neighbors': 5, 'weights': 'uniform', 'p': 2, 'leaf_size': 40, 'algorithm': 'auto'}: 0.8264137395100426\n",
      "{'n_neighbors': 4, 'weights': 'distance', 'p': 2, 'leaf_size': 40, 'algorithm': 'auto'}: 0.8357515745842945\n",
      "{'n_neighbors': 4, 'weights': 'distance', 'p': 2, 'leaf_size': 20, 'algorithm': 'auto'}: 0.8357515745842945\n",
      "{'n_neighbors': 5, 'weights': 'distance', 'p': 2, 'leaf_size': 30, 'algorithm': 'auto'}: 0.8344167244929904\n",
      "{'n_neighbors': 4, 'weights': 'uniform', 'p': 2, 'leaf_size': 30, 'algorithm': 'auto'}: 0.8286873942403512\n",
      "{'n_neighbors': 3, 'weights': 'distance', 'p': 1, 'leaf_size': 30, 'algorithm': 'ball_tree'}: 0.8842513178824398\n",
      "{'n_neighbors': 3, 'weights': 'distance', 'p': 1, 'leaf_size': 40, 'algorithm': 'ball_tree'}: 0.8842513178824398\n",
      "{'n_neighbors': 3, 'weights': 'uniform', 'p': 1, 'leaf_size': 40, 'algorithm': 'ball_tree'}: 0.8799341320664613\n",
      "{'n_neighbors': 3, 'weights': 'uniform', 'p': 1, 'leaf_size': 30, 'algorithm': 'ball_tree'}: 0.8799341320664613\n",
      "{'n_neighbors': 4, 'weights': 'distance', 'p': 1, 'leaf_size': 30, 'algorithm': 'ball_tree'}: 0.884760220869801\n",
      "{'n_neighbors': 4, 'weights': 'uniform', 'p': 1, 'leaf_size': 30, 'algorithm': 'ball_tree'}: 0.8794007040340003\n",
      "{'n_neighbors': 4, 'weights': 'distance', 'p': 1, 'leaf_size': 40, 'algorithm': 'ball_tree'}: 0.884760220869801\n",
      "{'n_neighbors': 4, 'weights': 'uniform', 'p': 1, 'leaf_size': 40, 'algorithm': 'ball_tree'}: 0.8794007040340003\n",
      "{'n_neighbors': 5, 'weights': 'uniform', 'p': 1, 'leaf_size': 30, 'algorithm': 'ball_tree'}: 0.8774031091566676\n",
      "{'n_neighbors': 3, 'weights': 'distance', 'p': 2, 'leaf_size': 20, 'algorithm': 'ball_tree'}: 0.83404673234499\n",
      "{'n_neighbors': 5, 'weights': 'distance', 'p': 1, 'leaf_size': 40, 'algorithm': 'ball_tree'}: 0.8835407968887606\n",
      "{'n_neighbors': 5, 'weights': 'uniform', 'p': 1, 'leaf_size': 40, 'algorithm': 'ball_tree'}: 0.8774031091566676\n",
      "{'n_neighbors': 5, 'weights': 'distance', 'p': 1, 'leaf_size': 30, 'algorithm': 'ball_tree'}: 0.8835407968887606\n",
      "{'n_neighbors': 4, 'weights': 'distance', 'p': 2, 'leaf_size': 20, 'algorithm': 'ball_tree'}: 0.8357516549088907\n",
      "{'n_neighbors': 3, 'weights': 'uniform', 'p': 2, 'leaf_size': 20, 'algorithm': 'ball_tree'}: 0.8280456359839683\n",
      "{'n_neighbors': 4, 'weights': 'uniform', 'p': 2, 'leaf_size': 20, 'algorithm': 'ball_tree'}: 0.8286873729117501\n",
      "{'n_neighbors': 5, 'weights': 'uniform', 'p': 2, 'leaf_size': 20, 'algorithm': 'ball_tree'}: 0.8264137470812267\n",
      "{'n_neighbors': 5, 'weights': 'distance', 'p': 2, 'leaf_size': 20, 'algorithm': 'ball_tree'}: 0.8344168128255702\n",
      "{'n_neighbors': 3, 'weights': 'uniform', 'p': 2, 'leaf_size': 40, 'algorithm': 'ball_tree'}: 0.8280454890872515\n",
      "{'n_neighbors': 3, 'weights': 'distance', 'p': 2, 'leaf_size': 40, 'algorithm': 'ball_tree'}: 0.8340466009901918\n",
      "{'n_neighbors': 3, 'weights': 'distance', 'p': 2, 'leaf_size': 30, 'algorithm': 'ball_tree'}: 0.8340466009901918\n",
      "{'n_neighbors': 3, 'weights': 'uniform', 'p': 2, 'leaf_size': 30, 'algorithm': 'ball_tree'}: 0.8280454890872515\n",
      "{'n_neighbors': 4, 'weights': 'distance', 'p': 2, 'leaf_size': 40, 'algorithm': 'ball_tree'}: 0.8357516173687057\n",
      "{'n_neighbors': 4, 'weights': 'uniform', 'p': 2, 'leaf_size': 40, 'algorithm': 'ball_tree'}: 0.8286873498473251\n",
      "{'n_neighbors': 5, 'weights': 'distance', 'p': 2, 'leaf_size': 30, 'algorithm': 'ball_tree'}: 0.8344168220760088\n",
      "{'n_neighbors': 4, 'weights': 'uniform', 'p': 2, 'leaf_size': 30, 'algorithm': 'ball_tree'}: 0.8286873498473251\n",
      "{'n_neighbors': 4, 'weights': 'distance', 'p': 2, 'leaf_size': 30, 'algorithm': 'ball_tree'}: 0.8357516173687057\n",
      "{'n_neighbors': 5, 'weights': 'uniform', 'p': 2, 'leaf_size': 30, 'algorithm': 'ball_tree'}: 0.8264137611725715\n",
      "{'n_neighbors': 5, 'weights': 'uniform', 'p': 2, 'leaf_size': 40, 'algorithm': 'ball_tree'}: 0.8264137611725715\n",
      "{'n_neighbors': 5, 'weights': 'uniform', 'p': 1, 'leaf_size': 20, 'algorithm': 'auto'}: 0.8774031269880737\n",
      "{'n_neighbors': 4, 'weights': 'uniform', 'p': 1, 'leaf_size': 40, 'algorithm': 'auto'}: 0.879400740260742\n",
      "{'n_neighbors': 5, 'weights': 'distance', 'p': 2, 'leaf_size': 40, 'algorithm': 'auto'}: 0.8344167244929904\n",
      "{'n_neighbors': 5, 'weights': 'distance', 'p': 1, 'leaf_size': 30, 'algorithm': 'auto'}: 0.8835408031099689\n",
      "{'n_neighbors': 6, 'weights': 'uniform', 'p': 2, 'leaf_size': 30, 'algorithm': 'auto'}: 0.8228586819100334\n",
      "{'n_neighbors': 6, 'weights': 'uniform', 'p': 2, 'leaf_size': 20, 'algorithm': 'auto'}: 0.8228586819100334\n",
      "{'n_neighbors': 5, 'weights': 'distance', 'p': 1, 'leaf_size': 40, 'algorithm': 'auto'}: 0.8835408031099689\n",
      "{'n_neighbors': 6, 'weights': 'uniform', 'p': 2, 'leaf_size': 40, 'algorithm': 'auto'}: 0.8228586819100334\n",
      "{'n_neighbors': 6, 'weights': 'distance', 'p': 2, 'leaf_size': 20, 'algorithm': 'auto'}: 0.8320195741509875\n",
      "{'n_neighbors': 6, 'weights': 'distance', 'p': 2, 'leaf_size': 30, 'algorithm': 'auto'}: 0.8320195741509875\n",
      "{'n_neighbors': 3, 'weights': 'uniform', 'p': 1, 'leaf_size': 30, 'algorithm': 'auto'}: 0.8799341345426559\n",
      "{'n_neighbors': 3, 'weights': 'uniform', 'p': 1, 'leaf_size': 40, 'algorithm': 'auto'}: 0.8799341345426559\n",
      "{'n_neighbors': 3, 'weights': 'uniform', 'p': 1, 'leaf_size': 20, 'algorithm': 'auto'}: 0.8799341345426559\n",
      "{'n_neighbors': 3, 'weights': 'distance', 'p': 1, 'leaf_size': 20, 'algorithm': 'auto'}: 0.8842513126381168\n",
      "{'n_neighbors': 3, 'weights': 'distance', 'p': 1, 'leaf_size': 30, 'algorithm': 'auto'}: 0.8842513126381168\n",
      "{'n_neighbors': 3, 'weights': 'distance', 'p': 1, 'leaf_size': 40, 'algorithm': 'auto'}: 0.8842513126381168\n",
      "{'n_neighbors': 6, 'weights': 'distance', 'p': 2, 'leaf_size': 40, 'algorithm': 'auto'}: 0.8320195741509875\n",
      "{'n_neighbors': 7, 'weights': 'uniform', 'p': 2, 'leaf_size': 30, 'algorithm': 'auto'}: 0.8188946763485225\n",
      "{'n_neighbors': 7, 'weights': 'uniform', 'p': 2, 'leaf_size': 20, 'algorithm': 'auto'}: 0.8188946763485225\n",
      "{'n_neighbors': 5, 'weights': 'distance', 'p': 1, 'leaf_size': 20, 'algorithm': 'auto'}: 0.8835408031099689\n",
      "{'n_neighbors': 4, 'weights': 'uniform', 'p': 1, 'leaf_size': 20, 'algorithm': 'auto'}: 0.879400740260742\n",
      "{'n_neighbors': 4, 'weights': 'distance', 'p': 1, 'leaf_size': 40, 'algorithm': 'auto'}: 0.8847602636750698\n",
      "{'n_neighbors': 4, 'weights': 'distance', 'p': 1, 'leaf_size': 30, 'algorithm': 'auto'}: 0.8847602636750698\n",
      "{'n_neighbors': 5, 'weights': 'uniform', 'p': 1, 'leaf_size': 30, 'algorithm': 'auto'}: 0.8774031269880737\n",
      "{'n_neighbors': 5, 'weights': 'uniform', 'p': 1, 'leaf_size': 40, 'algorithm': 'auto'}: 0.8774031269880737\n",
      "{'n_neighbors': 4, 'weights': 'distance', 'p': 1, 'leaf_size': 20, 'algorithm': 'auto'}: 0.8847602636750698\n",
      "{'n_neighbors': 4, 'weights': 'uniform', 'p': 1, 'leaf_size': 30, 'algorithm': 'auto'}: 0.879400740260742\n",
      "{'n_neighbors': 7, 'weights': 'uniform', 'p': 2, 'leaf_size': 40, 'algorithm': 'auto'}: 0.8188946763485225\n",
      "{'n_neighbors': 6, 'weights': 'uniform', 'p': 1, 'leaf_size': 20, 'algorithm': 'ball_tree'}: 0.8744164560036615\n",
      "{'n_neighbors': 7, 'weights': 'distance', 'p': 2, 'leaf_size': 20, 'algorithm': 'auto'}: 0.8290382195560272\n",
      "{'n_neighbors': 7, 'weights': 'distance', 'p': 2, 'leaf_size': 30, 'algorithm': 'auto'}: 0.8290382195560272\n",
      "{'n_neighbors': 7, 'weights': 'uniform', 'p': 1, 'leaf_size': 20, 'algorithm': 'ball_tree'}: 0.871672001347737\n",
      "{'n_neighbors': 7, 'weights': 'distance', 'p': 2, 'leaf_size': 40, 'algorithm': 'auto'}: 0.8290382195560272\n",
      "{'n_neighbors': 6, 'weights': 'uniform', 'p': 1, 'leaf_size': 40, 'algorithm': 'ball_tree'}: 0.8744163948728485\n",
      "{'n_neighbors': 6, 'weights': 'distance', 'p': 1, 'leaf_size': 20, 'algorithm': 'ball_tree'}: 0.8816549221333138\n",
      "{'n_neighbors': 7, 'weights': 'distance', 'p': 1, 'leaf_size': 20, 'algorithm': 'ball_tree'}: 0.8796424793870737\n",
      "{'n_neighbors': 6, 'weights': 'uniform', 'p': 1, 'leaf_size': 30, 'algorithm': 'auto'}: 0.8744164575879436\n",
      "{'n_neighbors': 6, 'weights': 'uniform', 'p': 1, 'leaf_size': 30, 'algorithm': 'ball_tree'}: 0.8744163948728485\n",
      "{'n_neighbors': 7, 'weights': 'uniform', 'p': 1, 'leaf_size': 40, 'algorithm': 'ball_tree'}: 0.8716720511044797\n",
      "{'n_neighbors': 7, 'weights': 'uniform', 'p': 1, 'leaf_size': 30, 'algorithm': 'ball_tree'}: 0.8716720511044797\n",
      "{'n_neighbors': 6, 'weights': 'distance', 'p': 1, 'leaf_size': 30, 'algorithm': 'ball_tree'}: 0.8816549426101954\n",
      "{'n_neighbors': 7, 'weights': 'uniform', 'p': 2, 'leaf_size': 20, 'algorithm': 'ball_tree'}: 0.8188946165594375\n",
      "{'n_neighbors': 5, 'weights': 'distance', 'p': 2, 'leaf_size': 40, 'algorithm': 'ball_tree'}: 0.8344168220760088\n",
      "{'n_neighbors': 6, 'weights': 'distance', 'p': 2, 'leaf_size': 20, 'algorithm': 'ball_tree'}: 0.832019646372937\n",
      "{'n_neighbors': 6, 'weights': 'uniform', 'p': 2, 'leaf_size': 20, 'algorithm': 'ball_tree'}: 0.8228587417546753\n",
      "{'n_neighbors': 6, 'weights': 'uniform', 'p': 1, 'leaf_size': 20, 'algorithm': 'auto'}: 0.8744164575879436\n",
      "{'n_neighbors': 6, 'weights': 'uniform', 'p': 1, 'leaf_size': 40, 'algorithm': 'auto'}: 0.8744164575879436\n",
      "{'n_neighbors': 6, 'weights': 'uniform', 'p': 2, 'leaf_size': 30, 'algorithm': 'ball_tree'}: 0.8228587980768032\n",
      "{'n_neighbors': 7, 'weights': 'uniform', 'p': 1, 'leaf_size': 20, 'algorithm': 'auto'}: 0.8716719744297785\n",
      "{'n_neighbors': 7, 'weights': 'uniform', 'p': 1, 'leaf_size': 30, 'algorithm': 'auto'}: 0.8716719744297785\n",
      "{'n_neighbors': 6, 'weights': 'distance', 'p': 1, 'leaf_size': 40, 'algorithm': 'ball_tree'}: 0.8816549426101954\n",
      "{'n_neighbors': 7, 'weights': 'uniform', 'p': 1, 'leaf_size': 40, 'algorithm': 'auto'}: 0.8716719744297785\n",
      "{'n_neighbors': 6, 'weights': 'distance', 'p': 1, 'leaf_size': 20, 'algorithm': 'auto'}: 0.8816549318490203\n",
      "{'n_neighbors': 6, 'weights': 'distance', 'p': 1, 'leaf_size': 30, 'algorithm': 'auto'}: 0.8816549318490203\n",
      "{'n_neighbors': 6, 'weights': 'distance', 'p': 1, 'leaf_size': 40, 'algorithm': 'auto'}: 0.8816549318490203\n",
      "{'n_neighbors': 6, 'weights': 'distance', 'p': 2, 'leaf_size': 30, 'algorithm': 'ball_tree'}: 0.832019714618709\n",
      "{'n_neighbors': 7, 'weights': 'distance', 'p': 1, 'leaf_size': 30, 'algorithm': 'ball_tree'}: 0.879642480546627\n",
      "{'n_neighbors': 6, 'weights': 'distance', 'p': 2, 'leaf_size': 40, 'algorithm': 'ball_tree'}: 0.832019714618709\n",
      "{'n_neighbors': 7, 'weights': 'distance', 'p': 1, 'leaf_size': 20, 'algorithm': 'auto'}: 0.8796424790360188\n",
      "{'n_neighbors': 7, 'weights': 'distance', 'p': 2, 'leaf_size': 20, 'algorithm': 'ball_tree'}: 0.8290382550010869\n",
      "{'n_neighbors': 7, 'weights': 'distance', 'p': 1, 'leaf_size': 40, 'algorithm': 'ball_tree'}: 0.879642480546627\n",
      "{'n_neighbors': 7, 'weights': 'uniform', 'p': 2, 'leaf_size': 30, 'algorithm': 'ball_tree'}: 0.8188946542424913\n",
      "{'n_neighbors': 7, 'weights': 'uniform', 'p': 2, 'leaf_size': 40, 'algorithm': 'ball_tree'}: 0.8188946542424913\n",
      "{'n_neighbors': 6, 'weights': 'uniform', 'p': 2, 'leaf_size': 40, 'algorithm': 'ball_tree'}: 0.8228587980768032\n",
      "{'n_neighbors': 7, 'weights': 'distance', 'p': 1, 'leaf_size': 30, 'algorithm': 'auto'}: 0.8796424790360188\n",
      "{'n_neighbors': 7, 'weights': 'distance', 'p': 1, 'leaf_size': 40, 'algorithm': 'auto'}: 0.8796424790360188\n",
      "{'n_neighbors': 7, 'weights': 'distance', 'p': 2, 'leaf_size': 30, 'algorithm': 'ball_tree'}: 0.8290382703733896\n",
      "{'n_neighbors': 7, 'weights': 'distance', 'p': 2, 'leaf_size': 40, 'algorithm': 'ball_tree'}: 0.8290382703733896\n",
      "CPU times: user 2.04 s, sys: 2.29 s, total: 4.33 s\n",
      "Wall time: 4h 52min\n"
     ]
    }
   ],
   "source": [
    "%%time\n",
    "from multiprocessing import Pool\n",
    "# param_sets = [\n",
    "#     {'weights': 'uniform',\n",
    "#      'leaf_size': 20,\n",
    "#      'p': 1\n",
    "#     },\n",
    "#     {'weights': 'distance',\n",
    "#      'leaf_size': 30,\n",
    "#      'p': 2\n",
    "#     }\n",
    "# ]\n",
    "\n",
    "def f(x):\n",
    "    param_set = param_sets_my[x]\n",
    "    regressor = KNeighborsRegressor(**param_set) # == KNeighborsRegressor(weights='uniform', leaf_size=20, p=1)\n",
    "    regressor.fit(X_train, y_train)\n",
    "    y_pred = regressor.predict(X_test) #X_test[:100000]\n",
    "    score = regressor.score(X_test, y_test) #X_test[:100000], y_test[:100000]\n",
    "    print(f'{param_set}: {score}')\n",
    "    return (x, score)\n",
    "\n",
    "if __name__ == '__main__':\n",
    "    with Pool(70) as p:\n",
    "        res = p.map(f, range(len(param_sets_my)))\n",
    "        # res = p.map(f, [0, 11, 20, 3]) #\n",
    "        # res = p.map(f, param_sets_my[:3])"
   ]
  },
  {
   "cell_type": "code",
   "execution_count": 38,
   "metadata": {},
   "outputs": [
    {
     "data": {
      "text/plain": [
       "(120, 2)"
      ]
     },
     "execution_count": 38,
     "metadata": {},
     "output_type": "execute_result"
    }
   ],
   "source": [
    "df = pd.DataFrame(res)\n",
    "df.columns = ['x', 'r2']\n",
    "df.head()\n",
    "df.shape"
   ]
  },
  {
   "cell_type": "code",
   "execution_count": 39,
   "metadata": {},
   "outputs": [
    {
     "data": {
      "text/html": [
       "<div>\n",
       "<style scoped>\n",
       "    .dataframe tbody tr th:only-of-type {\n",
       "        vertical-align: middle;\n",
       "    }\n",
       "\n",
       "    .dataframe tbody tr th {\n",
       "        vertical-align: top;\n",
       "    }\n",
       "\n",
       "    .dataframe thead th {\n",
       "        text-align: right;\n",
       "    }\n",
       "</style>\n",
       "<table border=\"1\" class=\"dataframe\">\n",
       "  <thead>\n",
       "    <tr style=\"text-align: right;\">\n",
       "      <th></th>\n",
       "      <th>x</th>\n",
       "      <th>r2</th>\n",
       "    </tr>\n",
       "  </thead>\n",
       "  <tbody>\n",
       "    <tr>\n",
       "      <th>0</th>\n",
       "      <td>0</td>\n",
       "      <td>0.879934</td>\n",
       "    </tr>\n",
       "    <tr>\n",
       "      <th>1</th>\n",
       "      <td>1</td>\n",
       "      <td>0.879934</td>\n",
       "    </tr>\n",
       "    <tr>\n",
       "      <th>2</th>\n",
       "      <td>2</td>\n",
       "      <td>0.879934</td>\n",
       "    </tr>\n",
       "    <tr>\n",
       "      <th>3</th>\n",
       "      <td>3</td>\n",
       "      <td>0.879934</td>\n",
       "    </tr>\n",
       "    <tr>\n",
       "      <th>4</th>\n",
       "      <td>4</td>\n",
       "      <td>0.879934</td>\n",
       "    </tr>\n",
       "    <tr>\n",
       "      <th>...</th>\n",
       "      <td>...</td>\n",
       "      <td>...</td>\n",
       "    </tr>\n",
       "    <tr>\n",
       "      <th>115</th>\n",
       "      <td>115</td>\n",
       "      <td>0.829038</td>\n",
       "    </tr>\n",
       "    <tr>\n",
       "      <th>116</th>\n",
       "      <td>116</td>\n",
       "      <td>0.829038</td>\n",
       "    </tr>\n",
       "    <tr>\n",
       "      <th>117</th>\n",
       "      <td>117</td>\n",
       "      <td>0.829038</td>\n",
       "    </tr>\n",
       "    <tr>\n",
       "      <th>118</th>\n",
       "      <td>118</td>\n",
       "      <td>0.829038</td>\n",
       "    </tr>\n",
       "    <tr>\n",
       "      <th>119</th>\n",
       "      <td>119</td>\n",
       "      <td>0.829038</td>\n",
       "    </tr>\n",
       "  </tbody>\n",
       "</table>\n",
       "<p>120 rows × 2 columns</p>\n",
       "</div>"
      ],
      "text/plain": [
       "       x        r2\n",
       "0      0  0.879934\n",
       "1      1  0.879934\n",
       "2      2  0.879934\n",
       "3      3  0.879934\n",
       "4      4  0.879934\n",
       "..   ...       ...\n",
       "115  115  0.829038\n",
       "116  116  0.829038\n",
       "117  117  0.829038\n",
       "118  118  0.829038\n",
       "119  119  0.829038\n",
       "\n",
       "[120 rows x 2 columns]"
      ]
     },
     "execution_count": 39,
     "metadata": {},
     "output_type": "execute_result"
    }
   ],
   "source": [
    "df"
   ]
  },
  {
   "cell_type": "code",
   "execution_count": 40,
   "metadata": {},
   "outputs": [
    {
     "data": {
      "text/html": [
       "<div>\n",
       "<style scoped>\n",
       "    .dataframe tbody tr th:only-of-type {\n",
       "        vertical-align: middle;\n",
       "    }\n",
       "\n",
       "    .dataframe tbody tr th {\n",
       "        vertical-align: top;\n",
       "    }\n",
       "\n",
       "    .dataframe thead th {\n",
       "        text-align: right;\n",
       "    }\n",
       "</style>\n",
       "<table border=\"1\" class=\"dataframe\">\n",
       "  <thead>\n",
       "    <tr style=\"text-align: right;\">\n",
       "      <th></th>\n",
       "      <th>x</th>\n",
       "      <th>r2</th>\n",
       "    </tr>\n",
       "  </thead>\n",
       "  <tbody>\n",
       "    <tr>\n",
       "      <th>37</th>\n",
       "      <td>37</td>\n",
       "      <td>0.88476</td>\n",
       "    </tr>\n",
       "  </tbody>\n",
       "</table>\n",
       "</div>"
      ],
      "text/plain": [
       "     x       r2\n",
       "37  37  0.88476"
      ]
     },
     "execution_count": 40,
     "metadata": {},
     "output_type": "execute_result"
    }
   ],
   "source": [
    "df[df.r2 == df.r2.max()]"
   ]
  },
  {
   "cell_type": "code",
   "execution_count": 41,
   "metadata": {},
   "outputs": [
    {
     "data": {
      "text/plain": [
       "{'n_neighbors': 4,\n",
       " 'weights': 'distance',\n",
       " 'p': 1,\n",
       " 'leaf_size': 20,\n",
       " 'algorithm': 'ball_tree'}"
      ]
     },
     "execution_count": 41,
     "metadata": {},
     "output_type": "execute_result"
    }
   ],
   "source": [
    "param_sets_my[37]"
   ]
  },
  {
   "cell_type": "code",
   "execution_count": null,
   "metadata": {},
   "outputs": [],
   "source": []
  }
 ],
 "metadata": {
  "colab": {
   "authorship_tag": "ABX9TyP1VVwrQU8S68bmX5lftYWC",
   "name": "Simple Linear Regression",
   "provenance": [],
   "toc_visible": true
  },
  "kernelspec": {
   "display_name": "Python",
   "language": "python",
   "name": "python3"
  },
  "language_info": {
   "codemirror_mode": {
    "name": "ipython",
    "version": 3
   },
   "file_extension": ".py",
   "mimetype": "text/x-python",
   "name": "python",
   "nbconvert_exporter": "python",
   "pygments_lexer": "ipython3",
   "version": "3.8.10"
  }
 },
 "nbformat": 4,
 "nbformat_minor": 4
}
