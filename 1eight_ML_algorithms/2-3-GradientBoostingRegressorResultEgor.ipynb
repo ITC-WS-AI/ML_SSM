{
 "cells": [
  {
   "cell_type": "markdown",
   "metadata": {
    "colab_type": "text",
    "id": "l_LulNCC8z96"
   },
   "source": [
    "# K nearest Neighbors \n",
    "\n",
    "## Importing the Libraries"
   ]
  },
  {
   "cell_type": "code",
   "execution_count": 18,
   "metadata": {
    "colab": {},
    "colab_type": "code",
    "id": "nhKd4hWx9GFt"
   },
   "outputs": [],
   "source": [
    "import numpy as np\n",
    "import matplotlib.pyplot as plt\n",
    "import pandas as pd\n",
    "import glob\n",
    "from scipy.stats import pearsonr"
   ]
  },
  {
   "cell_type": "markdown",
   "metadata": {
    "colab_type": "text",
    "id": "6JhpWJi59J1p"
   },
   "source": [
    "## Importing the dataset"
   ]
  },
  {
   "cell_type": "code",
   "execution_count": 19,
   "metadata": {},
   "outputs": [
    {
     "data": {
      "text/html": [
       "<div>\n",
       "<style scoped>\n",
       "    .dataframe tbody tr th:only-of-type {\n",
       "        vertical-align: middle;\n",
       "    }\n",
       "\n",
       "    .dataframe tbody tr th {\n",
       "        vertical-align: top;\n",
       "    }\n",
       "\n",
       "    .dataframe thead th {\n",
       "        text-align: right;\n",
       "    }\n",
       "</style>\n",
       "<table border=\"1\" class=\"dataframe\">\n",
       "  <thead>\n",
       "    <tr style=\"text-align: right;\">\n",
       "      <th></th>\n",
       "      <th>Year</th>\n",
       "      <th>DOY</th>\n",
       "      <th>EVI</th>\n",
       "      <th>Evapo</th>\n",
       "      <th>LST_Daily</th>\n",
       "      <th>LST_Diff</th>\n",
       "      <th>NDVI</th>\n",
       "      <th>TI</th>\n",
       "      <th>T_air</th>\n",
       "      <th>API</th>\n",
       "      <th>Clay</th>\n",
       "      <th>Elevation</th>\n",
       "      <th>lat</th>\n",
       "      <th>lon</th>\n",
       "      <th>OMC</th>\n",
       "      <th>Porosity</th>\n",
       "      <th>Sand</th>\n",
       "      <th>Silt</th>\n",
       "      <th>Preci</th>\n",
       "      <th>Soil Moisture</th>\n",
       "    </tr>\n",
       "  </thead>\n",
       "  <tbody>\n",
       "    <tr>\n",
       "      <th>0</th>\n",
       "      <td>2015</td>\n",
       "      <td>222</td>\n",
       "      <td>0.120117</td>\n",
       "      <td>-0.002280</td>\n",
       "      <td>29.12</td>\n",
       "      <td>31.14</td>\n",
       "      <td>0.183740</td>\n",
       "      <td>11.589293</td>\n",
       "      <td>23.996123</td>\n",
       "      <td>8.695007</td>\n",
       "      <td>19.700001</td>\n",
       "      <td>1752.627563</td>\n",
       "      <td>40.078119</td>\n",
       "      <td>-112.361396</td>\n",
       "      <td>3.56868</td>\n",
       "      <td>0.490566</td>\n",
       "      <td>37.700001</td>\n",
       "      <td>42.700001</td>\n",
       "      <td>0.000853</td>\n",
       "      <td>0.092000</td>\n",
       "    </tr>\n",
       "    <tr>\n",
       "      <th>1</th>\n",
       "      <td>2010</td>\n",
       "      <td>177</td>\n",
       "      <td>0.515586</td>\n",
       "      <td>-0.004072</td>\n",
       "      <td>19.55</td>\n",
       "      <td>8.68</td>\n",
       "      <td>0.685505</td>\n",
       "      <td>14.058996</td>\n",
       "      <td>21.684099</td>\n",
       "      <td>14.624732</td>\n",
       "      <td>22.799999</td>\n",
       "      <td>153.939468</td>\n",
       "      <td>48.726702</td>\n",
       "      <td>3.203102</td>\n",
       "      <td>6.65464</td>\n",
       "      <td>0.509434</td>\n",
       "      <td>10.400000</td>\n",
       "      <td>66.800003</td>\n",
       "      <td>0.000849</td>\n",
       "      <td>0.001500</td>\n",
       "    </tr>\n",
       "    <tr>\n",
       "      <th>2</th>\n",
       "      <td>2012</td>\n",
       "      <td>79</td>\n",
       "      <td>0.238310</td>\n",
       "      <td>-0.002077</td>\n",
       "      <td>8.04</td>\n",
       "      <td>10.50</td>\n",
       "      <td>0.410580</td>\n",
       "      <td>14.444198</td>\n",
       "      <td>8.660008</td>\n",
       "      <td>4.510628</td>\n",
       "      <td>23.799999</td>\n",
       "      <td>73.877228</td>\n",
       "      <td>43.717169</td>\n",
       "      <td>3.857831</td>\n",
       "      <td>6.98220</td>\n",
       "      <td>0.490566</td>\n",
       "      <td>29.799999</td>\n",
       "      <td>46.400002</td>\n",
       "      <td>0.321031</td>\n",
       "      <td>0.123435</td>\n",
       "    </tr>\n",
       "    <tr>\n",
       "      <th>3</th>\n",
       "      <td>2013</td>\n",
       "      <td>95</td>\n",
       "      <td>0.188224</td>\n",
       "      <td>-0.002522</td>\n",
       "      <td>12.32</td>\n",
       "      <td>29.50</td>\n",
       "      <td>0.352700</td>\n",
       "      <td>15.731341</td>\n",
       "      <td>7.477071</td>\n",
       "      <td>13.977669</td>\n",
       "      <td>31.600000</td>\n",
       "      <td>213.627564</td>\n",
       "      <td>40.052801</td>\n",
       "      <td>-88.372904</td>\n",
       "      <td>6.39604</td>\n",
       "      <td>0.471698</td>\n",
       "      <td>8.800000</td>\n",
       "      <td>59.599998</td>\n",
       "      <td>0.000435</td>\n",
       "      <td>0.394130</td>\n",
       "    </tr>\n",
       "    <tr>\n",
       "      <th>4</th>\n",
       "      <td>2007</td>\n",
       "      <td>299</td>\n",
       "      <td>0.435490</td>\n",
       "      <td>-0.001802</td>\n",
       "      <td>8.66</td>\n",
       "      <td>7.38</td>\n",
       "      <td>0.882154</td>\n",
       "      <td>12.428805</td>\n",
       "      <td>7.207212</td>\n",
       "      <td>52.144912</td>\n",
       "      <td>40.299999</td>\n",
       "      <td>192.723587</td>\n",
       "      <td>45.249999</td>\n",
       "      <td>-123.280000</td>\n",
       "      <td>16.34352</td>\n",
       "      <td>0.539623</td>\n",
       "      <td>15.800000</td>\n",
       "      <td>43.799999</td>\n",
       "      <td>0.001720</td>\n",
       "      <td>0.387500</td>\n",
       "    </tr>\n",
       "    <tr>\n",
       "      <th>...</th>\n",
       "      <td>...</td>\n",
       "      <td>...</td>\n",
       "      <td>...</td>\n",
       "      <td>...</td>\n",
       "      <td>...</td>\n",
       "      <td>...</td>\n",
       "      <td>...</td>\n",
       "      <td>...</td>\n",
       "      <td>...</td>\n",
       "      <td>...</td>\n",
       "      <td>...</td>\n",
       "      <td>...</td>\n",
       "      <td>...</td>\n",
       "      <td>...</td>\n",
       "      <td>...</td>\n",
       "      <td>...</td>\n",
       "      <td>...</td>\n",
       "      <td>...</td>\n",
       "      <td>...</td>\n",
       "      <td>...</td>\n",
       "    </tr>\n",
       "    <tr>\n",
       "      <th>469429</th>\n",
       "      <td>2016</td>\n",
       "      <td>197</td>\n",
       "      <td>0.309898</td>\n",
       "      <td>-0.001307</td>\n",
       "      <td>25.57</td>\n",
       "      <td>15.68</td>\n",
       "      <td>0.588824</td>\n",
       "      <td>13.894586</td>\n",
       "      <td>20.975506</td>\n",
       "      <td>1.797110</td>\n",
       "      <td>14.300000</td>\n",
       "      <td>2563.126221</td>\n",
       "      <td>35.700000</td>\n",
       "      <td>-105.809995</td>\n",
       "      <td>11.55080</td>\n",
       "      <td>0.581132</td>\n",
       "      <td>59.900002</td>\n",
       "      <td>25.799999</td>\n",
       "      <td>0.126868</td>\n",
       "      <td>0.001000</td>\n",
       "    </tr>\n",
       "    <tr>\n",
       "      <th>469430</th>\n",
       "      <td>2011</td>\n",
       "      <td>250</td>\n",
       "      <td>0.157988</td>\n",
       "      <td>-0.000601</td>\n",
       "      <td>22.23</td>\n",
       "      <td>32.08</td>\n",
       "      <td>0.256247</td>\n",
       "      <td>11.722256</td>\n",
       "      <td>22.917156</td>\n",
       "      <td>0.250635</td>\n",
       "      <td>17.000000</td>\n",
       "      <td>661.658142</td>\n",
       "      <td>47.759130</td>\n",
       "      <td>-118.745460</td>\n",
       "      <td>4.18932</td>\n",
       "      <td>0.516981</td>\n",
       "      <td>31.100000</td>\n",
       "      <td>51.900002</td>\n",
       "      <td>0.000858</td>\n",
       "      <td>0.072000</td>\n",
       "    </tr>\n",
       "    <tr>\n",
       "      <th>469431</th>\n",
       "      <td>2013</td>\n",
       "      <td>147</td>\n",
       "      <td>0.030116</td>\n",
       "      <td>-0.000081</td>\n",
       "      <td>36.09</td>\n",
       "      <td>19.04</td>\n",
       "      <td>0.047282</td>\n",
       "      <td>11.334223</td>\n",
       "      <td>29.584159</td>\n",
       "      <td>0.885216</td>\n",
       "      <td>25.400000</td>\n",
       "      <td>27.083851</td>\n",
       "      <td>36.602000</td>\n",
       "      <td>-117.144897</td>\n",
       "      <td>0.99992</td>\n",
       "      <td>0.520755</td>\n",
       "      <td>42.900002</td>\n",
       "      <td>31.700001</td>\n",
       "      <td>0.000852</td>\n",
       "      <td>0.020667</td>\n",
       "    </tr>\n",
       "    <tr>\n",
       "      <th>469432</th>\n",
       "      <td>2013</td>\n",
       "      <td>192</td>\n",
       "      <td>0.518430</td>\n",
       "      <td>-0.003983</td>\n",
       "      <td>25.18</td>\n",
       "      <td>13.34</td>\n",
       "      <td>0.684706</td>\n",
       "      <td>12.998422</td>\n",
       "      <td>24.711874</td>\n",
       "      <td>5.491154</td>\n",
       "      <td>19.799999</td>\n",
       "      <td>246.750183</td>\n",
       "      <td>39.866798</td>\n",
       "      <td>-93.147005</td>\n",
       "      <td>5.56852</td>\n",
       "      <td>0.464151</td>\n",
       "      <td>9.900000</td>\n",
       "      <td>70.199997</td>\n",
       "      <td>0.000854</td>\n",
       "      <td>0.181333</td>\n",
       "    </tr>\n",
       "    <tr>\n",
       "      <th>469433</th>\n",
       "      <td>2016</td>\n",
       "      <td>85</td>\n",
       "      <td>0.258698</td>\n",
       "      <td>-0.002285</td>\n",
       "      <td>9.91</td>\n",
       "      <td>2.56</td>\n",
       "      <td>0.569781</td>\n",
       "      <td>14.609997</td>\n",
       "      <td>9.990561</td>\n",
       "      <td>78.996310</td>\n",
       "      <td>17.000000</td>\n",
       "      <td>439.712647</td>\n",
       "      <td>40.650699</td>\n",
       "      <td>-122.606796</td>\n",
       "      <td>7.53388</td>\n",
       "      <td>0.509434</td>\n",
       "      <td>50.200001</td>\n",
       "      <td>32.799999</td>\n",
       "      <td>0.000871</td>\n",
       "      <td>0.187750</td>\n",
       "    </tr>\n",
       "  </tbody>\n",
       "</table>\n",
       "<p>469434 rows × 20 columns</p>\n",
       "</div>"
      ],
      "text/plain": [
       "        Year  DOY       EVI     Evapo  LST_Daily  LST_Diff      NDVI  \\\n",
       "0       2015  222  0.120117 -0.002280      29.12     31.14  0.183740   \n",
       "1       2010  177  0.515586 -0.004072      19.55      8.68  0.685505   \n",
       "2       2012   79  0.238310 -0.002077       8.04     10.50  0.410580   \n",
       "3       2013   95  0.188224 -0.002522      12.32     29.50  0.352700   \n",
       "4       2007  299  0.435490 -0.001802       8.66      7.38  0.882154   \n",
       "...      ...  ...       ...       ...        ...       ...       ...   \n",
       "469429  2016  197  0.309898 -0.001307      25.57     15.68  0.588824   \n",
       "469430  2011  250  0.157988 -0.000601      22.23     32.08  0.256247   \n",
       "469431  2013  147  0.030116 -0.000081      36.09     19.04  0.047282   \n",
       "469432  2013  192  0.518430 -0.003983      25.18     13.34  0.684706   \n",
       "469433  2016   85  0.258698 -0.002285       9.91      2.56  0.569781   \n",
       "\n",
       "               TI      T_air        API       Clay    Elevation        lat  \\\n",
       "0       11.589293  23.996123   8.695007  19.700001  1752.627563  40.078119   \n",
       "1       14.058996  21.684099  14.624732  22.799999   153.939468  48.726702   \n",
       "2       14.444198   8.660008   4.510628  23.799999    73.877228  43.717169   \n",
       "3       15.731341   7.477071  13.977669  31.600000   213.627564  40.052801   \n",
       "4       12.428805   7.207212  52.144912  40.299999   192.723587  45.249999   \n",
       "...           ...        ...        ...        ...          ...        ...   \n",
       "469429  13.894586  20.975506   1.797110  14.300000  2563.126221  35.700000   \n",
       "469430  11.722256  22.917156   0.250635  17.000000   661.658142  47.759130   \n",
       "469431  11.334223  29.584159   0.885216  25.400000    27.083851  36.602000   \n",
       "469432  12.998422  24.711874   5.491154  19.799999   246.750183  39.866798   \n",
       "469433  14.609997   9.990561  78.996310  17.000000   439.712647  40.650699   \n",
       "\n",
       "               lon       OMC  Porosity       Sand       Silt     Preci  \\\n",
       "0      -112.361396   3.56868  0.490566  37.700001  42.700001  0.000853   \n",
       "1         3.203102   6.65464  0.509434  10.400000  66.800003  0.000849   \n",
       "2         3.857831   6.98220  0.490566  29.799999  46.400002  0.321031   \n",
       "3       -88.372904   6.39604  0.471698   8.800000  59.599998  0.000435   \n",
       "4      -123.280000  16.34352  0.539623  15.800000  43.799999  0.001720   \n",
       "...            ...       ...       ...        ...        ...       ...   \n",
       "469429 -105.809995  11.55080  0.581132  59.900002  25.799999  0.126868   \n",
       "469430 -118.745460   4.18932  0.516981  31.100000  51.900002  0.000858   \n",
       "469431 -117.144897   0.99992  0.520755  42.900002  31.700001  0.000852   \n",
       "469432  -93.147005   5.56852  0.464151   9.900000  70.199997  0.000854   \n",
       "469433 -122.606796   7.53388  0.509434  50.200001  32.799999  0.000871   \n",
       "\n",
       "        Soil Moisture  \n",
       "0            0.092000  \n",
       "1            0.001500  \n",
       "2            0.123435  \n",
       "3            0.394130  \n",
       "4            0.387500  \n",
       "...               ...  \n",
       "469429       0.001000  \n",
       "469430       0.072000  \n",
       "469431       0.020667  \n",
       "469432       0.181333  \n",
       "469433       0.187750  \n",
       "\n",
       "[469434 rows x 20 columns]"
      ]
     },
     "execution_count": 19,
     "metadata": {},
     "output_type": "execute_result"
    }
   ],
   "source": [
    "dataset = pd.read_csv('/data/private/VM/data/ML_training&testing_v01shuffled_20220317.csv')\n",
    "dataset"
   ]
  },
  {
   "cell_type": "code",
   "execution_count": 20,
   "metadata": {},
   "outputs": [
    {
     "data": {
      "text/plain": [
       "Index(['Year', 'DOY', 'EVI', 'Evapo', 'LST_Daily', 'LST_Diff', 'NDVI', 'TI',\n",
       "       'T_air', 'API', 'Clay', 'Elevation', 'lat', 'lon', 'OMC', 'Porosity',\n",
       "       'Sand', 'Silt', 'Preci', 'Soil Moisture'],\n",
       "      dtype='object')"
      ]
     },
     "execution_count": 20,
     "metadata": {},
     "output_type": "execute_result"
    }
   ],
   "source": [
    "dataset.columns"
   ]
  },
  {
   "cell_type": "markdown",
   "metadata": {},
   "source": [
    "## Construction of the matrix of characteristics (X) and the dependent variable vector (y)"
   ]
  },
  {
   "cell_type": "code",
   "execution_count": 21,
   "metadata": {},
   "outputs": [],
   "source": [
    "X = dataset.iloc[:, :-1].values\n",
    "y = dataset.iloc[:, -1].values"
   ]
  },
  {
   "cell_type": "markdown",
   "metadata": {
    "colab_type": "text",
    "id": "AyhQaTwP9RzG"
   },
   "source": [
    "## Division of the dataset into the Training Set and the Test Set"
   ]
  },
  {
   "cell_type": "code",
   "execution_count": 22,
   "metadata": {
    "colab": {},
    "colab_type": "code",
    "id": "bxOOauiN9VpC"
   },
   "outputs": [],
   "source": [
    "from sklearn.model_selection import train_test_split\n",
    "X_train, X_test, y_train, y_test = train_test_split(X, y, test_size = 0.25, random_state = 0)"
   ]
  },
  {
   "cell_type": "code",
   "execution_count": 23,
   "metadata": {},
   "outputs": [
    {
     "data": {
      "text/plain": [
       "(352075, 19)"
      ]
     },
     "execution_count": 23,
     "metadata": {},
     "output_type": "execute_result"
    }
   ],
   "source": [
    "X_train.shape"
   ]
  },
  {
   "cell_type": "code",
   "execution_count": 24,
   "metadata": {},
   "outputs": [
    {
     "data": {
      "text/plain": [
       "(117359, 19)"
      ]
     },
     "execution_count": 24,
     "metadata": {},
     "output_type": "execute_result"
    }
   ],
   "source": [
    "X_test.shape"
   ]
  },
  {
   "cell_type": "code",
   "execution_count": 25,
   "metadata": {},
   "outputs": [
    {
     "data": {
      "text/plain": [
       "(array([[2.01200000e+03, 2.18000000e+02, 1.30008333e-01, ...,\n",
       "         2.87999992e+01, 4.39000015e+01, 4.41074000e-04],\n",
       "        [2.01100000e+03, 2.26000000e+02, 4.82789881e-01, ...,\n",
       "         3.97000008e+01, 4.40999985e+01, 4.35114000e-04],\n",
       "        [2.01300000e+03, 2.47000000e+02, 2.82306548e-01, ...,\n",
       "         3.50999985e+01, 4.17999992e+01, 2.63536535e+00],\n",
       "        ...,\n",
       "        [2.01300000e+03, 2.03000000e+02, 1.10332738e-01, ...,\n",
       "         5.77000008e+01, 2.45000000e+01, 0.00000000e+00],\n",
       "        [2.01000000e+03, 1.09000000e+02, 4.05214290e-02, ...,\n",
       "         4.29000015e+01, 3.17000008e+01, 8.52346000e-04],\n",
       "        [2.01000000e+03, 2.26000000e+02, 4.27702679e-01, ...,\n",
       "         2.41000004e+01, 6.64000015e+01, 4.26173000e-04]]),\n",
       " array([[2.01500000e+03, 2.18000000e+02, 2.38563095e-01, ...,\n",
       "         1.28999996e+01, 6.25999985e+01, 1.29044000e-03],\n",
       "        [2.01400000e+03, 2.39000000e+02, 4.99024987e-01, ...,\n",
       "         1.89999998e+00, 7.96999969e+01, 4.26173000e-04],\n",
       "        [2.01400000e+03, 2.05000000e+02, 1.63733333e-01, ...,\n",
       "         3.89000015e+01, 3.82000008e+01, 6.76512700e-03],\n",
       "        ...,\n",
       "        [2.01200000e+03, 5.10000000e+01, 2.85629762e-01, ...,\n",
       "         9.30000019e+00, 6.46999969e+01, 0.00000000e+00],\n",
       "        [2.01100000e+03, 2.72000000e+02, 2.73874998e-01, ...,\n",
       "         3.79000015e+01, 3.92999992e+01, 8.71447000e-04],\n",
       "        [2.01200000e+03, 2.48000000e+02, 1.39112502e-01, ...,\n",
       "         6.24000015e+01, 2.05000000e+01, 8.51363000e-04]]))"
      ]
     },
     "execution_count": 25,
     "metadata": {},
     "output_type": "execute_result"
    }
   ],
   "source": [
    "X_train, X_test"
   ]
  },
  {
   "cell_type": "code",
   "execution_count": 26,
   "metadata": {},
   "outputs": [],
   "source": [
    "X_test1 = X_test"
   ]
  },
  {
   "cell_type": "markdown",
   "metadata": {},
   "source": [
    "## Very important: Feature scaling of X (range -3 to 3)\n",
    "\n",
    "### Obs: Fit_transform only applied to X_train to prevent data leaking"
   ]
  },
  {
   "cell_type": "code",
   "execution_count": 27,
   "metadata": {},
   "outputs": [],
   "source": [
    "from sklearn.preprocessing import StandardScaler\n",
    "sc = StandardScaler()\n",
    "X_train = sc.fit_transform(X_train)\n",
    "X_test = sc.transform(X_test)"
   ]
  },
  {
   "cell_type": "code",
   "execution_count": 28,
   "metadata": {},
   "outputs": [
    {
     "data": {
      "text/plain": [
       "(1.0007581037794264, -2.6934007929017374e-05)"
      ]
     },
     "execution_count": 28,
     "metadata": {},
     "output_type": "execute_result"
    }
   ],
   "source": [
    "np.concatenate((X_train,X_test)).std(),np.concatenate((X_train,X_test)).mean()"
   ]
  },
  {
   "cell_type": "code",
   "execution_count": 29,
   "metadata": {},
   "outputs": [
    {
     "data": {
      "text/plain": [
       "(8.623456396466387e-14,\n",
       " 1.0000000000000624,\n",
       " -0.0001077355729727705,\n",
       " 1.0030289599840096)"
      ]
     },
     "execution_count": 29,
     "metadata": {},
     "output_type": "execute_result"
    }
   ],
   "source": [
    "X_train.mean(), X_train.std(),X_test.mean(),X_test.std()"
   ]
  },
  {
   "cell_type": "markdown",
   "metadata": {
    "colab_type": "text",
    "id": "ZijQwFMQ9itx"
   },
   "source": [
    "## Construction and training of the regression model over the training set\n"
   ]
  },
  {
   "cell_type": "code",
   "execution_count": 34,
   "metadata": {},
   "outputs": [
    {
     "data": {
      "text/html": [
       "<style>#sk-container-id-3 {color: black;background-color: white;}#sk-container-id-3 pre{padding: 0;}#sk-container-id-3 div.sk-toggleable {background-color: white;}#sk-container-id-3 label.sk-toggleable__label {cursor: pointer;display: block;width: 100%;margin-bottom: 0;padding: 0.3em;box-sizing: border-box;text-align: center;}#sk-container-id-3 label.sk-toggleable__label-arrow:before {content: \"▸\";float: left;margin-right: 0.25em;color: #696969;}#sk-container-id-3 label.sk-toggleable__label-arrow:hover:before {color: black;}#sk-container-id-3 div.sk-estimator:hover label.sk-toggleable__label-arrow:before {color: black;}#sk-container-id-3 div.sk-toggleable__content {max-height: 0;max-width: 0;overflow: hidden;text-align: left;background-color: #f0f8ff;}#sk-container-id-3 div.sk-toggleable__content pre {margin: 0.2em;color: black;border-radius: 0.25em;background-color: #f0f8ff;}#sk-container-id-3 input.sk-toggleable__control:checked~div.sk-toggleable__content {max-height: 200px;max-width: 100%;overflow: auto;}#sk-container-id-3 input.sk-toggleable__control:checked~label.sk-toggleable__label-arrow:before {content: \"▾\";}#sk-container-id-3 div.sk-estimator input.sk-toggleable__control:checked~label.sk-toggleable__label {background-color: #d4ebff;}#sk-container-id-3 div.sk-label input.sk-toggleable__control:checked~label.sk-toggleable__label {background-color: #d4ebff;}#sk-container-id-3 input.sk-hidden--visually {border: 0;clip: rect(1px 1px 1px 1px);clip: rect(1px, 1px, 1px, 1px);height: 1px;margin: -1px;overflow: hidden;padding: 0;position: absolute;width: 1px;}#sk-container-id-3 div.sk-estimator {font-family: monospace;background-color: #f0f8ff;border: 1px dotted black;border-radius: 0.25em;box-sizing: border-box;margin-bottom: 0.5em;}#sk-container-id-3 div.sk-estimator:hover {background-color: #d4ebff;}#sk-container-id-3 div.sk-parallel-item::after {content: \"\";width: 100%;border-bottom: 1px solid gray;flex-grow: 1;}#sk-container-id-3 div.sk-label:hover label.sk-toggleable__label {background-color: #d4ebff;}#sk-container-id-3 div.sk-serial::before {content: \"\";position: absolute;border-left: 1px solid gray;box-sizing: border-box;top: 0;bottom: 0;left: 50%;z-index: 0;}#sk-container-id-3 div.sk-serial {display: flex;flex-direction: column;align-items: center;background-color: white;padding-right: 0.2em;padding-left: 0.2em;position: relative;}#sk-container-id-3 div.sk-item {position: relative;z-index: 1;}#sk-container-id-3 div.sk-parallel {display: flex;align-items: stretch;justify-content: center;background-color: white;position: relative;}#sk-container-id-3 div.sk-item::before, #sk-container-id-3 div.sk-parallel-item::before {content: \"\";position: absolute;border-left: 1px solid gray;box-sizing: border-box;top: 0;bottom: 0;left: 50%;z-index: -1;}#sk-container-id-3 div.sk-parallel-item {display: flex;flex-direction: column;z-index: 1;position: relative;background-color: white;}#sk-container-id-3 div.sk-parallel-item:first-child::after {align-self: flex-end;width: 50%;}#sk-container-id-3 div.sk-parallel-item:last-child::after {align-self: flex-start;width: 50%;}#sk-container-id-3 div.sk-parallel-item:only-child::after {width: 0;}#sk-container-id-3 div.sk-dashed-wrapped {border: 1px dashed gray;margin: 0 0.4em 0.5em 0.4em;box-sizing: border-box;padding-bottom: 0.4em;background-color: white;}#sk-container-id-3 div.sk-label label {font-family: monospace;font-weight: bold;display: inline-block;line-height: 1.2em;}#sk-container-id-3 div.sk-label-container {text-align: center;}#sk-container-id-3 div.sk-container {/* jupyter's `normalize.less` sets `[hidden] { display: none; }` but bootstrap.min.css set `[hidden] { display: none !important; }` so we also need the `!important` here to be able to override the default hidden behavior on the sphinx rendered scikit-learn.org. See: https://github.com/scikit-learn/scikit-learn/issues/21755 */display: inline-block !important;position: relative;}#sk-container-id-3 div.sk-text-repr-fallback {display: none;}</style><div id=\"sk-container-id-3\" class=\"sk-top-container\"><div class=\"sk-text-repr-fallback\"><pre>GradientBoostingRegressor(learning_rate=0.5, max_depth=5, n_estimators=120)</pre><b>In a Jupyter environment, please rerun this cell to show the HTML representation or trust the notebook. <br />On GitHub, the HTML representation is unable to render, please try loading this page with nbviewer.org.</b></div><div class=\"sk-container\" hidden><div class=\"sk-item\"><div class=\"sk-estimator sk-toggleable\"><input class=\"sk-toggleable__control sk-hidden--visually\" id=\"sk-estimator-id-3\" type=\"checkbox\" checked><label for=\"sk-estimator-id-3\" class=\"sk-toggleable__label sk-toggleable__label-arrow\">GradientBoostingRegressor</label><div class=\"sk-toggleable__content\"><pre>GradientBoostingRegressor(learning_rate=0.5, max_depth=5, n_estimators=120)</pre></div></div></div></div></div>"
      ],
      "text/plain": [
       "GradientBoostingRegressor(learning_rate=0.5, max_depth=5, n_estimators=120)"
      ]
     },
     "execution_count": 34,
     "metadata": {},
     "output_type": "execute_result"
    }
   ],
   "source": [
    "from sklearn.ensemble import GradientBoostingRegressor  #\"GradientBoostingRegressor\" class from \"ensemble\" module \n",
    "regressor = GradientBoostingRegressor(n_estimators=120, max_depth=5, learning_rate=0.5) #regressor object\n",
    "regressor.fit(X_train, y_train)"
   ]
  },
  {
   "cell_type": "code",
   "execution_count": 31,
   "metadata": {},
   "outputs": [
    {
     "name": "stderr",
     "output_type": "stream",
     "text": [
      "/usr/local/lib/python3.8/dist-packages/sklearn/base.py:329: UserWarning: Trying to unpickle estimator DummyRegressor from version 1.0.2 when using version 1.1.1. This might lead to breaking code or invalid results. Use at your own risk. For more info please refer to:\n",
      "https://scikit-learn.org/stable/model_persistence.html#security-maintainability-limitations\n",
      "  warnings.warn(\n",
      "/usr/local/lib/python3.8/dist-packages/sklearn/base.py:329: UserWarning: Trying to unpickle estimator DecisionTreeRegressor from version 1.0.2 when using version 1.1.1. This might lead to breaking code or invalid results. Use at your own risk. For more info please refer to:\n",
      "https://scikit-learn.org/stable/model_persistence.html#security-maintainability-limitations\n",
      "  warnings.warn(\n",
      "/usr/local/lib/python3.8/dist-packages/sklearn/base.py:329: UserWarning: Trying to unpickle estimator GradientBoostingRegressor from version 1.0.2 when using version 1.1.1. This might lead to breaking code or invalid results. Use at your own risk. For more info please refer to:\n",
      "https://scikit-learn.org/stable/model_persistence.html#security-maintainability-limitations\n",
      "  warnings.warn(\n"
     ]
    },
    {
     "data": {
      "text/html": [
       "<style>#sk-container-id-2 {color: black;background-color: white;}#sk-container-id-2 pre{padding: 0;}#sk-container-id-2 div.sk-toggleable {background-color: white;}#sk-container-id-2 label.sk-toggleable__label {cursor: pointer;display: block;width: 100%;margin-bottom: 0;padding: 0.3em;box-sizing: border-box;text-align: center;}#sk-container-id-2 label.sk-toggleable__label-arrow:before {content: \"▸\";float: left;margin-right: 0.25em;color: #696969;}#sk-container-id-2 label.sk-toggleable__label-arrow:hover:before {color: black;}#sk-container-id-2 div.sk-estimator:hover label.sk-toggleable__label-arrow:before {color: black;}#sk-container-id-2 div.sk-toggleable__content {max-height: 0;max-width: 0;overflow: hidden;text-align: left;background-color: #f0f8ff;}#sk-container-id-2 div.sk-toggleable__content pre {margin: 0.2em;color: black;border-radius: 0.25em;background-color: #f0f8ff;}#sk-container-id-2 input.sk-toggleable__control:checked~div.sk-toggleable__content {max-height: 200px;max-width: 100%;overflow: auto;}#sk-container-id-2 input.sk-toggleable__control:checked~label.sk-toggleable__label-arrow:before {content: \"▾\";}#sk-container-id-2 div.sk-estimator input.sk-toggleable__control:checked~label.sk-toggleable__label {background-color: #d4ebff;}#sk-container-id-2 div.sk-label input.sk-toggleable__control:checked~label.sk-toggleable__label {background-color: #d4ebff;}#sk-container-id-2 input.sk-hidden--visually {border: 0;clip: rect(1px 1px 1px 1px);clip: rect(1px, 1px, 1px, 1px);height: 1px;margin: -1px;overflow: hidden;padding: 0;position: absolute;width: 1px;}#sk-container-id-2 div.sk-estimator {font-family: monospace;background-color: #f0f8ff;border: 1px dotted black;border-radius: 0.25em;box-sizing: border-box;margin-bottom: 0.5em;}#sk-container-id-2 div.sk-estimator:hover {background-color: #d4ebff;}#sk-container-id-2 div.sk-parallel-item::after {content: \"\";width: 100%;border-bottom: 1px solid gray;flex-grow: 1;}#sk-container-id-2 div.sk-label:hover label.sk-toggleable__label {background-color: #d4ebff;}#sk-container-id-2 div.sk-serial::before {content: \"\";position: absolute;border-left: 1px solid gray;box-sizing: border-box;top: 0;bottom: 0;left: 50%;z-index: 0;}#sk-container-id-2 div.sk-serial {display: flex;flex-direction: column;align-items: center;background-color: white;padding-right: 0.2em;padding-left: 0.2em;position: relative;}#sk-container-id-2 div.sk-item {position: relative;z-index: 1;}#sk-container-id-2 div.sk-parallel {display: flex;align-items: stretch;justify-content: center;background-color: white;position: relative;}#sk-container-id-2 div.sk-item::before, #sk-container-id-2 div.sk-parallel-item::before {content: \"\";position: absolute;border-left: 1px solid gray;box-sizing: border-box;top: 0;bottom: 0;left: 50%;z-index: -1;}#sk-container-id-2 div.sk-parallel-item {display: flex;flex-direction: column;z-index: 1;position: relative;background-color: white;}#sk-container-id-2 div.sk-parallel-item:first-child::after {align-self: flex-end;width: 50%;}#sk-container-id-2 div.sk-parallel-item:last-child::after {align-self: flex-start;width: 50%;}#sk-container-id-2 div.sk-parallel-item:only-child::after {width: 0;}#sk-container-id-2 div.sk-dashed-wrapped {border: 1px dashed gray;margin: 0 0.4em 0.5em 0.4em;box-sizing: border-box;padding-bottom: 0.4em;background-color: white;}#sk-container-id-2 div.sk-label label {font-family: monospace;font-weight: bold;display: inline-block;line-height: 1.2em;}#sk-container-id-2 div.sk-label-container {text-align: center;}#sk-container-id-2 div.sk-container {/* jupyter's `normalize.less` sets `[hidden] { display: none; }` but bootstrap.min.css set `[hidden] { display: none !important; }` so we also need the `!important` here to be able to override the default hidden behavior on the sphinx rendered scikit-learn.org. See: https://github.com/scikit-learn/scikit-learn/issues/21755 */display: inline-block !important;position: relative;}#sk-container-id-2 div.sk-text-repr-fallback {display: none;}</style><div id=\"sk-container-id-2\" class=\"sk-top-container\"><div class=\"sk-text-repr-fallback\"><pre>GradientBoostingRegressor(learning_rate=0.5, max_depth=5, n_estimators=120)</pre><b>In a Jupyter environment, please rerun this cell to show the HTML representation or trust the notebook. <br />On GitHub, the HTML representation is unable to render, please try loading this page with nbviewer.org.</b></div><div class=\"sk-container\" hidden><div class=\"sk-item\"><div class=\"sk-estimator sk-toggleable\"><input class=\"sk-toggleable__control sk-hidden--visually\" id=\"sk-estimator-id-2\" type=\"checkbox\" checked><label for=\"sk-estimator-id-2\" class=\"sk-toggleable__label sk-toggleable__label-arrow\">GradientBoostingRegressor</label><div class=\"sk-toggleable__content\"><pre>GradientBoostingRegressor(learning_rate=0.5, max_depth=5, n_estimators=120)</pre></div></div></div></div></div>"
      ],
      "text/plain": [
       "GradientBoostingRegressor(learning_rate=0.5, max_depth=5, n_estimators=120)"
      ]
     },
     "execution_count": 31,
     "metadata": {},
     "output_type": "execute_result"
    }
   ],
   "source": [
    "import pickle\n",
    "\n",
    "# with open('/data/private/VM/trainedModel/GB.pkl', 'wb') as f:\n",
    "#     pickle.dump(regressor, f)\n",
    "# with open('/data/private/VM/trainedModel/GB.pkl', 'rb') as f: #2022年5月左右训练的模型，现在再load会报错，好像是python版本的问题。重新训练。\n",
    "#     regressor = pickle.load(f)\n",
    "# regressor\n",
    "# regressor.score(X_test, y_test)"
   ]
  },
  {
   "cell_type": "markdown",
   "metadata": {
    "colab_type": "text",
    "id": "wa2T1Lq89o5H"
   },
   "source": [
    "## Prediction of Test set results (obtaining y_pred)"
   ]
  },
  {
   "cell_type": "code",
   "execution_count": 36,
   "metadata": {
    "colab": {},
    "colab_type": "code",
    "id": "Rn_sTJ2o9smm"
   },
   "outputs": [
    {
     "data": {
      "text/plain": [
       "datetime.datetime(2023, 3, 8, 10, 43, 56, 22507)"
      ]
     },
     "execution_count": 36,
     "metadata": {},
     "output_type": "execute_result"
    }
   ],
   "source": [
    "import datetime\n",
    "starttime_testing = datetime.datetime.now()\n",
    "starttime_testing"
   ]
  },
  {
   "cell_type": "code",
   "execution_count": 37,
   "metadata": {},
   "outputs": [],
   "source": [
    "y_pred = regressor.predict(X_test) "
   ]
  },
  {
   "cell_type": "code",
   "execution_count": 38,
   "metadata": {},
   "outputs": [
    {
     "name": "stdout",
     "output_type": "stream",
     "text": [
      "2023-03-08 10:43:58.402648\n",
      "running time of testing\n",
      "0:00:02.380141\n"
     ]
    }
   ],
   "source": [
    "endtime_testing = datetime.datetime.now()\n",
    "print(endtime_testing)\n",
    "print(\"running time of testing\")\n",
    "print(endtime_testing - starttime_testing)"
   ]
  },
  {
   "cell_type": "code",
   "execution_count": 40,
   "metadata": {},
   "outputs": [
    {
     "name": "stdout",
     "output_type": "stream",
     "text": [
      "R2score is 0.7976747536827081\n",
      "MAE is 0.037085512480616416\n",
      "MSE is 0.002516403893968467\n",
      "RMSE is 0.05016377073116082\n",
      "r (0.8932255179716784, 0.0)\n"
     ]
    }
   ],
   "source": [
    "from sklearn.metrics import r2_score, mean_absolute_error, mean_squared_error\n",
    "r2score= r2_score(y_test, y_pred)\n",
    "print('R2score is',r2score )\n",
    "MAE=mean_absolute_error(y_test, y_pred)\n",
    "print('MAE is',MAE)\n",
    "MSE=mean_squared_error(y_test, y_pred)\n",
    "print('MSE is',MSE)\n",
    "RMSE = np.sqrt(MSE)\n",
    "print('RMSE is',RMSE)\n",
    "r = pearsonr(y_test, y_pred)\n",
    "print('r',r)"
   ]
  },
  {
   "cell_type": "code",
   "execution_count": 41,
   "metadata": {},
   "outputs": [
    {
     "data": {
      "text/plain": [
       "Text(0.1, 0.37, 'r: 0.89')"
      ]
     },
     "execution_count": 41,
     "metadata": {},
     "output_type": "execute_result"
    },
    {
     "data": {
      "image/png": "[encoded data removed]",
      "text/plain": [
       "<Figure size 640x480 with 2 Axes>"
      ]
     },
     "metadata": {},
     "output_type": "display_data"
    }
   ],
   "source": [
    "from pylab import hist2d\n",
    "# show the validation of the test set\n",
    "plt.figure()\n",
    "# label of the axis.\n",
    "plt.xlabel('In-situ soil moisture [$\\mathregular{cm^3}$/$\\mathregular{cm^3}$]', fontsize=12)\n",
    "plt.ylabel('Estimated soil moisture [$\\mathregular{cm^3}$/$\\mathregular{cm^3}$]', fontsize=12)\n",
    "# plot the data with the density (number of pixels)\n",
    "h = hist2d(list(y_test), list(y_pred), bins=40, cmap='PuBu',\n",
    "           range=[[0, 0.6], [0, 0.6]])\n",
    "cb = plt.colorbar()\n",
    "cb.set_label('Numbers of points')\n",
    "# Add 1:1 line\n",
    "x = np.arange(0, 0.6, 0.1, dtype=float)\n",
    "y = x\n",
    "# Add the information of RMSE and r on the figure.\n",
    "plt.text(0.1, 0.52, 'RMSE: %.2f' % RMSE, fontdict={'size': 12})\n",
    "plt.text(0.1, 0.47, 'n_size: %d' % len(y_test), fontdict={'size': 12})\n",
    "plt.text(0.1, 0.42, 'r2: %.2f' % r2score, fontdict={'size': 12})\n",
    "plt.text(0.1, 0.37, 'r: %.2f' % r[0], fontdict={'size': 12})\n",
    "# plt.savefig(\"Kneighbors.png\")"
   ]
  },
  {
   "cell_type": "code",
   "execution_count": 42,
   "metadata": {
    "tags": []
   },
   "outputs": [],
   "source": [
    "pd.DataFrame({\"insitu\":y_test,\"predicted\":y_pred},columns=[\"insitu\",\"predicted\"]).to_csv(path_or_buf=r'predictedSSM/test_random_GB.csv', sep=',', index=False)"
   ]
  },
  {
   "cell_type": "markdown",
   "metadata": {},
   "source": [
    "## per site"
   ]
  },
  {
   "cell_type": "code",
   "execution_count": 319,
   "metadata": {},
   "outputs": [],
   "source": [
    "def get_site_stats(row):\n",
    "    y_test = row['Soil Moisture']\n",
    "    y_pred = row['Predicted']\n",
    "    metrics_i = {\n",
    "        'r2': r2_score(y_test, y_pred),\n",
    "        'MAE': mean_absolute_error(y_test, y_pred),\n",
    "        'MSE': mean_squared_error(y_test, y_pred),\n",
    "        'RMSE': np.sqrt(mean_squared_error(y_test, y_pred)),\n",
    "        'r': np.corrcoef(y_test, y_pred)[0, 1],\n",
    "        'n_size': y_test.size\n",
    "    }\n",
    "    return pd.Series(metrics_i)"
   ]
  },
  {
   "cell_type": "code",
   "execution_count": 320,
   "metadata": {},
   "outputs": [
    {
     "data": {
      "text/html": [
       "<div>\n",
       "<style scoped>\n",
       "    .dataframe tbody tr th:only-of-type {\n",
       "        vertical-align: middle;\n",
       "    }\n",
       "\n",
       "    .dataframe tbody tr th {\n",
       "        vertical-align: top;\n",
       "    }\n",
       "\n",
       "    .dataframe thead th {\n",
       "        text-align: right;\n",
       "    }\n",
       "</style>\n",
       "<table border=\"1\" class=\"dataframe\">\n",
       "  <thead>\n",
       "    <tr style=\"text-align: right;\">\n",
       "      <th></th>\n",
       "      <th>Year</th>\n",
       "      <th>DOY</th>\n",
       "      <th>EVI</th>\n",
       "      <th>Evapo</th>\n",
       "      <th>LST_Daily</th>\n",
       "      <th>LST_Diff</th>\n",
       "      <th>NDVI</th>\n",
       "      <th>TI</th>\n",
       "      <th>T_air</th>\n",
       "      <th>API</th>\n",
       "      <th>...</th>\n",
       "      <th>Elevation</th>\n",
       "      <th>lat</th>\n",
       "      <th>lon</th>\n",
       "      <th>OMC</th>\n",
       "      <th>Porosity</th>\n",
       "      <th>Sand</th>\n",
       "      <th>Silt</th>\n",
       "      <th>Preci</th>\n",
       "      <th>Predicted</th>\n",
       "      <th>Soil Moisture</th>\n",
       "    </tr>\n",
       "  </thead>\n",
       "  <tbody>\n",
       "    <tr>\n",
       "      <th>0</th>\n",
       "      <td>2015.0</td>\n",
       "      <td>218.0</td>\n",
       "      <td>0.238563</td>\n",
       "      <td>-0.003556</td>\n",
       "      <td>31.41</td>\n",
       "      <td>16.00</td>\n",
       "      <td>0.389563</td>\n",
       "      <td>13.639832</td>\n",
       "      <td>29.109518</td>\n",
       "      <td>22.532099</td>\n",
       "      <td>...</td>\n",
       "      <td>313.751617</td>\n",
       "      <td>36.605398</td>\n",
       "      <td>-97.487801</td>\n",
       "      <td>3.49972</td>\n",
       "      <td>0.430189</td>\n",
       "      <td>12.900000</td>\n",
       "      <td>62.599998</td>\n",
       "      <td>0.001290</td>\n",
       "      <td>0.137738</td>\n",
       "      <td>0.144783</td>\n",
       "    </tr>\n",
       "    <tr>\n",
       "      <th>1</th>\n",
       "      <td>2014.0</td>\n",
       "      <td>239.0</td>\n",
       "      <td>0.499025</td>\n",
       "      <td>-0.003532</td>\n",
       "      <td>24.54</td>\n",
       "      <td>9.66</td>\n",
       "      <td>0.798357</td>\n",
       "      <td>15.972043</td>\n",
       "      <td>27.561245</td>\n",
       "      <td>19.036508</td>\n",
       "      <td>...</td>\n",
       "      <td>92.272484</td>\n",
       "      <td>34.255002</td>\n",
       "      <td>-89.873498</td>\n",
       "      <td>6.32708</td>\n",
       "      <td>0.524528</td>\n",
       "      <td>1.900000</td>\n",
       "      <td>79.699997</td>\n",
       "      <td>0.000426</td>\n",
       "      <td>0.158926</td>\n",
       "      <td>0.163696</td>\n",
       "    </tr>\n",
       "    <tr>\n",
       "      <th>2</th>\n",
       "      <td>2014.0</td>\n",
       "      <td>205.0</td>\n",
       "      <td>0.163733</td>\n",
       "      <td>-0.001807</td>\n",
       "      <td>26.83</td>\n",
       "      <td>27.00</td>\n",
       "      <td>0.265293</td>\n",
       "      <td>12.178329</td>\n",
       "      <td>18.385873</td>\n",
       "      <td>6.103567</td>\n",
       "      <td>...</td>\n",
       "      <td>1795.768799</td>\n",
       "      <td>45.043467</td>\n",
       "      <td>-112.524095</td>\n",
       "      <td>3.68936</td>\n",
       "      <td>0.498113</td>\n",
       "      <td>38.900002</td>\n",
       "      <td>38.200001</td>\n",
       "      <td>0.006765</td>\n",
       "      <td>0.048400</td>\n",
       "      <td>0.051000</td>\n",
       "    </tr>\n",
       "    <tr>\n",
       "      <th>3</th>\n",
       "      <td>2016.0</td>\n",
       "      <td>41.0</td>\n",
       "      <td>0.048950</td>\n",
       "      <td>-0.000041</td>\n",
       "      <td>17.09</td>\n",
       "      <td>3.00</td>\n",
       "      <td>0.083452</td>\n",
       "      <td>10.144185</td>\n",
       "      <td>18.029755</td>\n",
       "      <td>2.338439</td>\n",
       "      <td>...</td>\n",
       "      <td>504.757355</td>\n",
       "      <td>34.157557</td>\n",
       "      <td>-115.145101</td>\n",
       "      <td>0.94820</td>\n",
       "      <td>0.471698</td>\n",
       "      <td>55.500000</td>\n",
       "      <td>28.799999</td>\n",
       "      <td>0.000852</td>\n",
       "      <td>0.121389</td>\n",
       "      <td>0.076000</td>\n",
       "    </tr>\n",
       "    <tr>\n",
       "      <th>4</th>\n",
       "      <td>2012.0</td>\n",
       "      <td>264.0</td>\n",
       "      <td>0.285447</td>\n",
       "      <td>-0.000763</td>\n",
       "      <td>16.24</td>\n",
       "      <td>17.74</td>\n",
       "      <td>0.458675</td>\n",
       "      <td>10.988085</td>\n",
       "      <td>14.592750</td>\n",
       "      <td>3.125408</td>\n",
       "      <td>...</td>\n",
       "      <td>2713.882568</td>\n",
       "      <td>39.010000</td>\n",
       "      <td>-111.580001</td>\n",
       "      <td>21.61896</td>\n",
       "      <td>0.569811</td>\n",
       "      <td>33.099998</td>\n",
       "      <td>41.599998</td>\n",
       "      <td>0.001288</td>\n",
       "      <td>0.131045</td>\n",
       "      <td>0.146917</td>\n",
       "    </tr>\n",
       "    <tr>\n",
       "      <th>...</th>\n",
       "      <td>...</td>\n",
       "      <td>...</td>\n",
       "      <td>...</td>\n",
       "      <td>...</td>\n",
       "      <td>...</td>\n",
       "      <td>...</td>\n",
       "      <td>...</td>\n",
       "      <td>...</td>\n",
       "      <td>...</td>\n",
       "      <td>...</td>\n",
       "      <td>...</td>\n",
       "      <td>...</td>\n",
       "      <td>...</td>\n",
       "      <td>...</td>\n",
       "      <td>...</td>\n",
       "      <td>...</td>\n",
       "      <td>...</td>\n",
       "      <td>...</td>\n",
       "      <td>...</td>\n",
       "      <td>...</td>\n",
       "      <td>...</td>\n",
       "    </tr>\n",
       "    <tr>\n",
       "      <th>117354</th>\n",
       "      <td>2014.0</td>\n",
       "      <td>364.0</td>\n",
       "      <td>0.150423</td>\n",
       "      <td>-0.001551</td>\n",
       "      <td>6.32</td>\n",
       "      <td>9.26</td>\n",
       "      <td>0.382683</td>\n",
       "      <td>11.787125</td>\n",
       "      <td>6.007813</td>\n",
       "      <td>44.415241</td>\n",
       "      <td>...</td>\n",
       "      <td>236.017914</td>\n",
       "      <td>38.150182</td>\n",
       "      <td>-120.785467</td>\n",
       "      <td>5.18924</td>\n",
       "      <td>0.490566</td>\n",
       "      <td>40.799999</td>\n",
       "      <td>38.000000</td>\n",
       "      <td>0.109795</td>\n",
       "      <td>0.343012</td>\n",
       "      <td>0.410058</td>\n",
       "    </tr>\n",
       "    <tr>\n",
       "      <th>117355</th>\n",
       "      <td>2013.0</td>\n",
       "      <td>237.0</td>\n",
       "      <td>0.192040</td>\n",
       "      <td>-0.000395</td>\n",
       "      <td>23.83</td>\n",
       "      <td>20.64</td>\n",
       "      <td>0.266993</td>\n",
       "      <td>15.176023</td>\n",
       "      <td>19.459036</td>\n",
       "      <td>0.176301</td>\n",
       "      <td>...</td>\n",
       "      <td>762.167541</td>\n",
       "      <td>41.300100</td>\n",
       "      <td>-5.247038</td>\n",
       "      <td>5.77540</td>\n",
       "      <td>0.494340</td>\n",
       "      <td>60.700001</td>\n",
       "      <td>18.100000</td>\n",
       "      <td>0.000000</td>\n",
       "      <td>0.124496</td>\n",
       "      <td>0.075375</td>\n",
       "    </tr>\n",
       "    <tr>\n",
       "      <th>117356</th>\n",
       "      <td>2012.0</td>\n",
       "      <td>51.0</td>\n",
       "      <td>0.285630</td>\n",
       "      <td>-0.001408</td>\n",
       "      <td>6.11</td>\n",
       "      <td>12.20</td>\n",
       "      <td>0.507140</td>\n",
       "      <td>12.975164</td>\n",
       "      <td>4.544440</td>\n",
       "      <td>42.463486</td>\n",
       "      <td>...</td>\n",
       "      <td>247.596176</td>\n",
       "      <td>34.900002</td>\n",
       "      <td>-86.532998</td>\n",
       "      <td>6.72360</td>\n",
       "      <td>0.501887</td>\n",
       "      <td>9.300000</td>\n",
       "      <td>64.699997</td>\n",
       "      <td>0.000000</td>\n",
       "      <td>0.354716</td>\n",
       "      <td>0.384813</td>\n",
       "    </tr>\n",
       "    <tr>\n",
       "      <th>117357</th>\n",
       "      <td>2011.0</td>\n",
       "      <td>272.0</td>\n",
       "      <td>0.273875</td>\n",
       "      <td>-0.001003</td>\n",
       "      <td>14.99</td>\n",
       "      <td>10.72</td>\n",
       "      <td>0.648324</td>\n",
       "      <td>11.806067</td>\n",
       "      <td>14.673877</td>\n",
       "      <td>7.967519</td>\n",
       "      <td>...</td>\n",
       "      <td>3026.673340</td>\n",
       "      <td>38.480000</td>\n",
       "      <td>-109.269995</td>\n",
       "      <td>18.29164</td>\n",
       "      <td>0.600000</td>\n",
       "      <td>37.900002</td>\n",
       "      <td>39.299999</td>\n",
       "      <td>0.000871</td>\n",
       "      <td>0.124915</td>\n",
       "      <td>0.125958</td>\n",
       "    </tr>\n",
       "    <tr>\n",
       "      <th>117358</th>\n",
       "      <td>2012.0</td>\n",
       "      <td>248.0</td>\n",
       "      <td>0.139113</td>\n",
       "      <td>-0.000171</td>\n",
       "      <td>26.63</td>\n",
       "      <td>27.80</td>\n",
       "      <td>0.228559</td>\n",
       "      <td>12.749979</td>\n",
       "      <td>23.464860</td>\n",
       "      <td>0.700701</td>\n",
       "      <td>...</td>\n",
       "      <td>1432.354858</td>\n",
       "      <td>42.051508</td>\n",
       "      <td>-104.910590</td>\n",
       "      <td>2.55152</td>\n",
       "      <td>0.471698</td>\n",
       "      <td>62.400002</td>\n",
       "      <td>20.500000</td>\n",
       "      <td>0.000851</td>\n",
       "      <td>0.076669</td>\n",
       "      <td>0.069000</td>\n",
       "    </tr>\n",
       "  </tbody>\n",
       "</table>\n",
       "<p>117359 rows × 21 columns</p>\n",
       "</div>"
      ],
      "text/plain": [
       "          Year    DOY       EVI     Evapo  LST_Daily  LST_Diff      NDVI  \\\n",
       "0       2015.0  218.0  0.238563 -0.003556      31.41     16.00  0.389563   \n",
       "1       2014.0  239.0  0.499025 -0.003532      24.54      9.66  0.798357   \n",
       "2       2014.0  205.0  0.163733 -0.001807      26.83     27.00  0.265293   \n",
       "3       2016.0   41.0  0.048950 -0.000041      17.09      3.00  0.083452   \n",
       "4       2012.0  264.0  0.285447 -0.000763      16.24     17.74  0.458675   \n",
       "...        ...    ...       ...       ...        ...       ...       ...   \n",
       "117354  2014.0  364.0  0.150423 -0.001551       6.32      9.26  0.382683   \n",
       "117355  2013.0  237.0  0.192040 -0.000395      23.83     20.64  0.266993   \n",
       "117356  2012.0   51.0  0.285630 -0.001408       6.11     12.20  0.507140   \n",
       "117357  2011.0  272.0  0.273875 -0.001003      14.99     10.72  0.648324   \n",
       "117358  2012.0  248.0  0.139113 -0.000171      26.63     27.80  0.228559   \n",
       "\n",
       "               TI      T_air        API  ...    Elevation        lat  \\\n",
       "0       13.639832  29.109518  22.532099  ...   313.751617  36.605398   \n",
       "1       15.972043  27.561245  19.036508  ...    92.272484  34.255002   \n",
       "2       12.178329  18.385873   6.103567  ...  1795.768799  45.043467   \n",
       "3       10.144185  18.029755   2.338439  ...   504.757355  34.157557   \n",
       "4       10.988085  14.592750   3.125408  ...  2713.882568  39.010000   \n",
       "...           ...        ...        ...  ...          ...        ...   \n",
       "117354  11.787125   6.007813  44.415241  ...   236.017914  38.150182   \n",
       "117355  15.176023  19.459036   0.176301  ...   762.167541  41.300100   \n",
       "117356  12.975164   4.544440  42.463486  ...   247.596176  34.900002   \n",
       "117357  11.806067  14.673877   7.967519  ...  3026.673340  38.480000   \n",
       "117358  12.749979  23.464860   0.700701  ...  1432.354858  42.051508   \n",
       "\n",
       "               lon       OMC  Porosity       Sand       Silt     Preci  \\\n",
       "0       -97.487801   3.49972  0.430189  12.900000  62.599998  0.001290   \n",
       "1       -89.873498   6.32708  0.524528   1.900000  79.699997  0.000426   \n",
       "2      -112.524095   3.68936  0.498113  38.900002  38.200001  0.006765   \n",
       "3      -115.145101   0.94820  0.471698  55.500000  28.799999  0.000852   \n",
       "4      -111.580001  21.61896  0.569811  33.099998  41.599998  0.001288   \n",
       "...            ...       ...       ...        ...        ...       ...   \n",
       "117354 -120.785467   5.18924  0.490566  40.799999  38.000000  0.109795   \n",
       "117355   -5.247038   5.77540  0.494340  60.700001  18.100000  0.000000   \n",
       "117356  -86.532998   6.72360  0.501887   9.300000  64.699997  0.000000   \n",
       "117357 -109.269995  18.29164  0.600000  37.900002  39.299999  0.000871   \n",
       "117358 -104.910590   2.55152  0.471698  62.400002  20.500000  0.000851   \n",
       "\n",
       "        Predicted  Soil Moisture  \n",
       "0        0.137738       0.144783  \n",
       "1        0.158926       0.163696  \n",
       "2        0.048400       0.051000  \n",
       "3        0.121389       0.076000  \n",
       "4        0.131045       0.146917  \n",
       "...           ...            ...  \n",
       "117354   0.343012       0.410058  \n",
       "117355   0.124496       0.075375  \n",
       "117356   0.354716       0.384813  \n",
       "117357   0.124915       0.125958  \n",
       "117358   0.076669       0.069000  \n",
       "\n",
       "[117359 rows x 21 columns]"
      ]
     },
     "execution_count": 320,
     "metadata": {},
     "output_type": "execute_result"
    }
   ],
   "source": [
    "hh = pd.DataFrame(X_test1)\n",
    "hh.columns = dataset.columns[0:-1]\n",
    "hh['Predicted'] = y_pred\n",
    "hh['Soil Moisture'] = y_test\n",
    "hh"
   ]
  },
  {
   "cell_type": "code",
   "execution_count": null,
   "metadata": {},
   "outputs": [],
   "source": [
    "res_testing = hh.groupby([ 'lat', 'lon'], as_index=False).apply(get_site_stats)"
   ]
  },
  {
   "cell_type": "code",
   "execution_count": 317,
   "metadata": {},
   "outputs": [],
   "source": [
    "res_testing.to_csv(r'result/GB_testing_per_station.csv')"
   ]
  },
  {
   "cell_type": "markdown",
   "metadata": {},
   "source": [
    "## Prediction of validating set results (obtaining y_pred_validating)"
   ]
  },
  {
   "cell_type": "code",
   "execution_count": 43,
   "metadata": {},
   "outputs": [
    {
     "data": {
      "text/html": [
       "<div>\n",
       "<style scoped>\n",
       "    .dataframe tbody tr th:only-of-type {\n",
       "        vertical-align: middle;\n",
       "    }\n",
       "\n",
       "    .dataframe tbody tr th {\n",
       "        vertical-align: top;\n",
       "    }\n",
       "\n",
       "    .dataframe thead th {\n",
       "        text-align: right;\n",
       "    }\n",
       "</style>\n",
       "<table border=\"1\" class=\"dataframe\">\n",
       "  <thead>\n",
       "    <tr style=\"text-align: right;\">\n",
       "      <th></th>\n",
       "      <th>station</th>\n",
       "      <th>EVI</th>\n",
       "      <th>Evapo</th>\n",
       "      <th>LST_Daily</th>\n",
       "      <th>LST_Diff</th>\n",
       "      <th>NDVI</th>\n",
       "      <th>TI</th>\n",
       "      <th>T_air</th>\n",
       "      <th>API</th>\n",
       "      <th>Clay</th>\n",
       "      <th>...</th>\n",
       "      <th>ESA-CCI</th>\n",
       "      <th>lat</th>\n",
       "      <th>lon</th>\n",
       "      <th>network</th>\n",
       "      <th>OMC</th>\n",
       "      <th>Porosity</th>\n",
       "      <th>Sand</th>\n",
       "      <th>Silt</th>\n",
       "      <th>Soil Moisture</th>\n",
       "      <th>Preci</th>\n",
       "    </tr>\n",
       "  </thead>\n",
       "  <tbody>\n",
       "    <tr>\n",
       "      <th>0</th>\n",
       "      <td>SAA111</td>\n",
       "      <td>0.267585</td>\n",
       "      <td>-0.002658</td>\n",
       "      <td>13.80</td>\n",
       "      <td>5.34</td>\n",
       "      <td>0.503435</td>\n",
       "      <td>9.724592</td>\n",
       "      <td>10.782256</td>\n",
       "      <td>42.469012</td>\n",
       "      <td>9.4</td>\n",
       "      <td>...</td>\n",
       "      <td>0.256715</td>\n",
       "      <td>68.330194</td>\n",
       "      <td>27.550618</td>\n",
       "      <td>FMI</td>\n",
       "      <td>37.6694</td>\n",
       "      <td>0.762264</td>\n",
       "      <td>55.5</td>\n",
       "      <td>35.099998</td>\n",
       "      <td>0.175417</td>\n",
       "      <td>0.121573</td>\n",
       "    </tr>\n",
       "    <tr>\n",
       "      <th>1</th>\n",
       "      <td>SAA111</td>\n",
       "      <td>0.264823</td>\n",
       "      <td>-0.003970</td>\n",
       "      <td>22.36</td>\n",
       "      <td>13.26</td>\n",
       "      <td>0.497070</td>\n",
       "      <td>9.724592</td>\n",
       "      <td>15.129432</td>\n",
       "      <td>38.514693</td>\n",
       "      <td>9.4</td>\n",
       "      <td>...</td>\n",
       "      <td>0.258126</td>\n",
       "      <td>68.330194</td>\n",
       "      <td>27.550618</td>\n",
       "      <td>FMI</td>\n",
       "      <td>37.6694</td>\n",
       "      <td>0.762264</td>\n",
       "      <td>55.5</td>\n",
       "      <td>35.099998</td>\n",
       "      <td>0.172500</td>\n",
       "      <td>0.001892</td>\n",
       "    </tr>\n",
       "    <tr>\n",
       "      <th>2</th>\n",
       "      <td>SAA111</td>\n",
       "      <td>0.256537</td>\n",
       "      <td>-0.003107</td>\n",
       "      <td>18.15</td>\n",
       "      <td>11.12</td>\n",
       "      <td>0.477974</td>\n",
       "      <td>9.724592</td>\n",
       "      <td>16.073048</td>\n",
       "      <td>41.956012</td>\n",
       "      <td>9.4</td>\n",
       "      <td>...</td>\n",
       "      <td>0.287426</td>\n",
       "      <td>68.330194</td>\n",
       "      <td>27.550618</td>\n",
       "      <td>FMI</td>\n",
       "      <td>37.6694</td>\n",
       "      <td>0.762264</td>\n",
       "      <td>55.5</td>\n",
       "      <td>35.099998</td>\n",
       "      <td>0.179500</td>\n",
       "      <td>6.832266</td>\n",
       "    </tr>\n",
       "    <tr>\n",
       "      <th>3</th>\n",
       "      <td>SAA111</td>\n",
       "      <td>0.220529</td>\n",
       "      <td>-0.003018</td>\n",
       "      <td>10.73</td>\n",
       "      <td>-11.00</td>\n",
       "      <td>0.403011</td>\n",
       "      <td>9.724592</td>\n",
       "      <td>14.346681</td>\n",
       "      <td>41.557064</td>\n",
       "      <td>9.4</td>\n",
       "      <td>...</td>\n",
       "      <td>0.254694</td>\n",
       "      <td>68.330194</td>\n",
       "      <td>27.550618</td>\n",
       "      <td>FMI</td>\n",
       "      <td>37.6694</td>\n",
       "      <td>0.762264</td>\n",
       "      <td>55.5</td>\n",
       "      <td>35.099998</td>\n",
       "      <td>0.179375</td>\n",
       "      <td>0.021294</td>\n",
       "    </tr>\n",
       "    <tr>\n",
       "      <th>4</th>\n",
       "      <td>SAA111</td>\n",
       "      <td>0.213499</td>\n",
       "      <td>-0.003174</td>\n",
       "      <td>14.76</td>\n",
       "      <td>5.98</td>\n",
       "      <td>0.396828</td>\n",
       "      <td>9.724592</td>\n",
       "      <td>14.414658</td>\n",
       "      <td>42.532913</td>\n",
       "      <td>9.4</td>\n",
       "      <td>...</td>\n",
       "      <td>0.243986</td>\n",
       "      <td>68.330194</td>\n",
       "      <td>27.550618</td>\n",
       "      <td>FMI</td>\n",
       "      <td>37.6694</td>\n",
       "      <td>0.762264</td>\n",
       "      <td>55.5</td>\n",
       "      <td>35.099998</td>\n",
       "      <td>0.176958</td>\n",
       "      <td>0.166529</td>\n",
       "    </tr>\n",
       "  </tbody>\n",
       "</table>\n",
       "<p>5 rows × 22 columns</p>\n",
       "</div>"
      ],
      "text/plain": [
       "  station       EVI     Evapo  LST_Daily  LST_Diff      NDVI        TI  \\\n",
       "0  SAA111  0.267585 -0.002658      13.80      5.34  0.503435  9.724592   \n",
       "1  SAA111  0.264823 -0.003970      22.36     13.26  0.497070  9.724592   \n",
       "2  SAA111  0.256537 -0.003107      18.15     11.12  0.477974  9.724592   \n",
       "3  SAA111  0.220529 -0.003018      10.73    -11.00  0.403011  9.724592   \n",
       "4  SAA111  0.213499 -0.003174      14.76      5.98  0.396828  9.724592   \n",
       "\n",
       "       T_air        API  Clay  ...   ESA-CCI        lat        lon  network  \\\n",
       "0  10.782256  42.469012   9.4  ...  0.256715  68.330194  27.550618      FMI   \n",
       "1  15.129432  38.514693   9.4  ...  0.258126  68.330194  27.550618      FMI   \n",
       "2  16.073048  41.956012   9.4  ...  0.287426  68.330194  27.550618      FMI   \n",
       "3  14.346681  41.557064   9.4  ...  0.254694  68.330194  27.550618      FMI   \n",
       "4  14.414658  42.532913   9.4  ...  0.243986  68.330194  27.550618      FMI   \n",
       "\n",
       "       OMC  Porosity  Sand       Silt  Soil Moisture     Preci  \n",
       "0  37.6694  0.762264  55.5  35.099998       0.175417  0.121573  \n",
       "1  37.6694  0.762264  55.5  35.099998       0.172500  0.001892  \n",
       "2  37.6694  0.762264  55.5  35.099998       0.179500  6.832266  \n",
       "3  37.6694  0.762264  55.5  35.099998       0.179375  0.021294  \n",
       "4  37.6694  0.762264  55.5  35.099998       0.176958  0.166529  \n",
       "\n",
       "[5 rows x 22 columns]"
      ]
     },
     "execution_count": 43,
     "metadata": {},
     "output_type": "execute_result"
    }
   ],
   "source": [
    "dataset_val = pd.read_csv('/data/private/VM/data/ML_validating_v01_20220303.csv')\n",
    "dataset_val.head()"
   ]
  },
  {
   "cell_type": "code",
   "execution_count": 44,
   "metadata": {},
   "outputs": [
    {
     "data": {
      "text/plain": [
       "(199886, 22)"
      ]
     },
     "execution_count": 44,
     "metadata": {},
     "output_type": "execute_result"
    }
   ],
   "source": [
    "dataset_val.shape"
   ]
  },
  {
   "cell_type": "code",
   "execution_count": 45,
   "metadata": {},
   "outputs": [
    {
     "data": {
      "text/plain": [
       "AdamsRanch#1            583\n",
       "WalnutGulch#1           548\n",
       "NDAP-SCGN               516\n",
       "SIERRABLANCA            469\n",
       "PORTALESAP              447\n",
       "                       ... \n",
       "BaoxieWeatherStation      1\n",
       "MOORECREEKBRIDGE          1\n",
       "Coos-Bay-8-SW             1\n",
       "MascomaRiver              1\n",
       "Topeka                    1\n",
       "Name: station, Length: 1550, dtype: int64"
      ]
     },
     "execution_count": 45,
     "metadata": {},
     "output_type": "execute_result"
    }
   ],
   "source": [
    "dataset_val.station.value_counts()"
   ]
  },
  {
   "cell_type": "code",
   "execution_count": 46,
   "metadata": {},
   "outputs": [
    {
     "data": {
      "text/plain": [
       "Index(['station', 'EVI', 'Evapo', 'LST_Daily', 'LST_Diff', 'NDVI', 'TI',\n",
       "       'T_air', 'API', 'Clay', 'Date', 'Elevation', 'ESA-CCI', 'lat', 'lon',\n",
       "       'network', 'OMC', 'Porosity', 'Sand', 'Silt', 'Soil Moisture', 'Preci'],\n",
       "      dtype='object')"
      ]
     },
     "execution_count": 46,
     "metadata": {},
     "output_type": "execute_result"
    }
   ],
   "source": [
    "dataset_val.columns"
   ]
  },
  {
   "cell_type": "code",
   "execution_count": 47,
   "metadata": {},
   "outputs": [],
   "source": [
    "dataset2=pd.to_datetime(dataset_val['Date'])\n",
    "DOY=dataset2.dt.dayofyear #create a Series \"day\", where the day of the year is stored\n",
    "#also allows for weekofyear\n",
    "Year= dataset2.dt.year #create a \"year series\"\n",
    "dataset_val.insert(0, 'DOY', DOY) #insert the day series to the beggining of the dataset\n",
    "dataset_val.insert(0, 'Year', Year)#insert the year series to the beggining of the dataset\n",
    "dataset_val.drop(labels=['Date'], axis=1,inplace = True) #eliminate the date column"
   ]
  },
  {
   "cell_type": "code",
   "execution_count": 48,
   "metadata": {},
   "outputs": [
    {
     "data": {
      "text/html": [
       "<div>\n",
       "<style scoped>\n",
       "    .dataframe tbody tr th:only-of-type {\n",
       "        vertical-align: middle;\n",
       "    }\n",
       "\n",
       "    .dataframe tbody tr th {\n",
       "        vertical-align: top;\n",
       "    }\n",
       "\n",
       "    .dataframe thead th {\n",
       "        text-align: right;\n",
       "    }\n",
       "</style>\n",
       "<table border=\"1\" class=\"dataframe\">\n",
       "  <thead>\n",
       "    <tr style=\"text-align: right;\">\n",
       "      <th></th>\n",
       "      <th>Year</th>\n",
       "      <th>DOY</th>\n",
       "      <th>EVI</th>\n",
       "      <th>Evapo</th>\n",
       "      <th>LST_Daily</th>\n",
       "      <th>LST_Diff</th>\n",
       "      <th>NDVI</th>\n",
       "      <th>TI</th>\n",
       "      <th>T_air</th>\n",
       "      <th>API</th>\n",
       "      <th>Clay</th>\n",
       "      <th>Elevation</th>\n",
       "      <th>lat</th>\n",
       "      <th>lon</th>\n",
       "      <th>OMC</th>\n",
       "      <th>Porosity</th>\n",
       "      <th>Sand</th>\n",
       "      <th>Silt</th>\n",
       "      <th>Preci</th>\n",
       "      <th>Soil Moisture</th>\n",
       "    </tr>\n",
       "  </thead>\n",
       "  <tbody>\n",
       "    <tr>\n",
       "      <th>0</th>\n",
       "      <td>2016</td>\n",
       "      <td>178</td>\n",
       "      <td>0.267585</td>\n",
       "      <td>-0.002658</td>\n",
       "      <td>13.80</td>\n",
       "      <td>5.34</td>\n",
       "      <td>0.503435</td>\n",
       "      <td>9.724592</td>\n",
       "      <td>10.782256</td>\n",
       "      <td>42.469012</td>\n",
       "      <td>9.400000</td>\n",
       "      <td>468.604279</td>\n",
       "      <td>68.330194</td>\n",
       "      <td>27.550618</td>\n",
       "      <td>37.66940</td>\n",
       "      <td>0.762264</td>\n",
       "      <td>55.500000</td>\n",
       "      <td>35.099998</td>\n",
       "      <td>0.121573</td>\n",
       "      <td>0.175417</td>\n",
       "    </tr>\n",
       "    <tr>\n",
       "      <th>1</th>\n",
       "      <td>2016</td>\n",
       "      <td>179</td>\n",
       "      <td>0.264823</td>\n",
       "      <td>-0.003970</td>\n",
       "      <td>22.36</td>\n",
       "      <td>13.26</td>\n",
       "      <td>0.497070</td>\n",
       "      <td>9.724592</td>\n",
       "      <td>15.129432</td>\n",
       "      <td>38.514693</td>\n",
       "      <td>9.400000</td>\n",
       "      <td>468.604279</td>\n",
       "      <td>68.330194</td>\n",
       "      <td>27.550618</td>\n",
       "      <td>37.66940</td>\n",
       "      <td>0.762264</td>\n",
       "      <td>55.500000</td>\n",
       "      <td>35.099998</td>\n",
       "      <td>0.001892</td>\n",
       "      <td>0.172500</td>\n",
       "    </tr>\n",
       "    <tr>\n",
       "      <th>2</th>\n",
       "      <td>2016</td>\n",
       "      <td>182</td>\n",
       "      <td>0.256537</td>\n",
       "      <td>-0.003107</td>\n",
       "      <td>18.15</td>\n",
       "      <td>11.12</td>\n",
       "      <td>0.477974</td>\n",
       "      <td>9.724592</td>\n",
       "      <td>16.073048</td>\n",
       "      <td>41.956012</td>\n",
       "      <td>9.400000</td>\n",
       "      <td>468.604279</td>\n",
       "      <td>68.330194</td>\n",
       "      <td>27.550618</td>\n",
       "      <td>37.66940</td>\n",
       "      <td>0.762264</td>\n",
       "      <td>55.500000</td>\n",
       "      <td>35.099998</td>\n",
       "      <td>6.832266</td>\n",
       "      <td>0.179500</td>\n",
       "    </tr>\n",
       "    <tr>\n",
       "      <th>3</th>\n",
       "      <td>2016</td>\n",
       "      <td>197</td>\n",
       "      <td>0.220529</td>\n",
       "      <td>-0.003018</td>\n",
       "      <td>10.73</td>\n",
       "      <td>-11.00</td>\n",
       "      <td>0.403011</td>\n",
       "      <td>9.724592</td>\n",
       "      <td>14.346681</td>\n",
       "      <td>41.557064</td>\n",
       "      <td>9.400000</td>\n",
       "      <td>468.604279</td>\n",
       "      <td>68.330194</td>\n",
       "      <td>27.550618</td>\n",
       "      <td>37.66940</td>\n",
       "      <td>0.762264</td>\n",
       "      <td>55.500000</td>\n",
       "      <td>35.099998</td>\n",
       "      <td>0.021294</td>\n",
       "      <td>0.179375</td>\n",
       "    </tr>\n",
       "    <tr>\n",
       "      <th>4</th>\n",
       "      <td>2016</td>\n",
       "      <td>202</td>\n",
       "      <td>0.213499</td>\n",
       "      <td>-0.003174</td>\n",
       "      <td>14.76</td>\n",
       "      <td>5.98</td>\n",
       "      <td>0.396828</td>\n",
       "      <td>9.724592</td>\n",
       "      <td>14.414658</td>\n",
       "      <td>42.532913</td>\n",
       "      <td>9.400000</td>\n",
       "      <td>468.604279</td>\n",
       "      <td>68.330194</td>\n",
       "      <td>27.550618</td>\n",
       "      <td>37.66940</td>\n",
       "      <td>0.762264</td>\n",
       "      <td>55.500000</td>\n",
       "      <td>35.099998</td>\n",
       "      <td>0.166529</td>\n",
       "      <td>0.176958</td>\n",
       "    </tr>\n",
       "    <tr>\n",
       "      <th>...</th>\n",
       "      <td>...</td>\n",
       "      <td>...</td>\n",
       "      <td>...</td>\n",
       "      <td>...</td>\n",
       "      <td>...</td>\n",
       "      <td>...</td>\n",
       "      <td>...</td>\n",
       "      <td>...</td>\n",
       "      <td>...</td>\n",
       "      <td>...</td>\n",
       "      <td>...</td>\n",
       "      <td>...</td>\n",
       "      <td>...</td>\n",
       "      <td>...</td>\n",
       "      <td>...</td>\n",
       "      <td>...</td>\n",
       "      <td>...</td>\n",
       "      <td>...</td>\n",
       "      <td>...</td>\n",
       "      <td>...</td>\n",
       "    </tr>\n",
       "    <tr>\n",
       "      <th>199881</th>\n",
       "      <td>2007</td>\n",
       "      <td>243</td>\n",
       "      <td>0.240733</td>\n",
       "      <td>-0.004534</td>\n",
       "      <td>24.88</td>\n",
       "      <td>9.90</td>\n",
       "      <td>0.387445</td>\n",
       "      <td>15.238001</td>\n",
       "      <td>24.888287</td>\n",
       "      <td>8.485890</td>\n",
       "      <td>24.700001</td>\n",
       "      <td>129.928635</td>\n",
       "      <td>38.130001</td>\n",
       "      <td>-88.920000</td>\n",
       "      <td>5.03408</td>\n",
       "      <td>0.475472</td>\n",
       "      <td>5.900000</td>\n",
       "      <td>69.300003</td>\n",
       "      <td>0.000435</td>\n",
       "      <td>0.144600</td>\n",
       "    </tr>\n",
       "    <tr>\n",
       "      <th>199882</th>\n",
       "      <td>2007</td>\n",
       "      <td>256</td>\n",
       "      <td>0.227114</td>\n",
       "      <td>-0.003647</td>\n",
       "      <td>18.90</td>\n",
       "      <td>14.94</td>\n",
       "      <td>0.375854</td>\n",
       "      <td>15.238001</td>\n",
       "      <td>20.006017</td>\n",
       "      <td>30.926773</td>\n",
       "      <td>24.700001</td>\n",
       "      <td>129.928635</td>\n",
       "      <td>38.130001</td>\n",
       "      <td>-88.920000</td>\n",
       "      <td>5.03408</td>\n",
       "      <td>0.475472</td>\n",
       "      <td>5.900000</td>\n",
       "      <td>69.300003</td>\n",
       "      <td>0.000858</td>\n",
       "      <td>0.157600</td>\n",
       "    </tr>\n",
       "    <tr>\n",
       "      <th>199883</th>\n",
       "      <td>2007</td>\n",
       "      <td>304</td>\n",
       "      <td>0.223807</td>\n",
       "      <td>-0.001522</td>\n",
       "      <td>12.57</td>\n",
       "      <td>8.64</td>\n",
       "      <td>0.392707</td>\n",
       "      <td>15.238001</td>\n",
       "      <td>13.731508</td>\n",
       "      <td>35.938500</td>\n",
       "      <td>24.700001</td>\n",
       "      <td>129.928635</td>\n",
       "      <td>38.130001</td>\n",
       "      <td>-88.920000</td>\n",
       "      <td>5.03408</td>\n",
       "      <td>0.475472</td>\n",
       "      <td>5.900000</td>\n",
       "      <td>69.300003</td>\n",
       "      <td>0.000000</td>\n",
       "      <td>0.353900</td>\n",
       "    </tr>\n",
       "    <tr>\n",
       "      <th>199884</th>\n",
       "      <td>2008</td>\n",
       "      <td>197</td>\n",
       "      <td>0.465335</td>\n",
       "      <td>-0.005154</td>\n",
       "      <td>25.11</td>\n",
       "      <td>7.40</td>\n",
       "      <td>0.626214</td>\n",
       "      <td>15.238001</td>\n",
       "      <td>26.364821</td>\n",
       "      <td>45.631101</td>\n",
       "      <td>24.700001</td>\n",
       "      <td>129.928635</td>\n",
       "      <td>38.130001</td>\n",
       "      <td>-88.920000</td>\n",
       "      <td>5.03408</td>\n",
       "      <td>0.475472</td>\n",
       "      <td>5.900000</td>\n",
       "      <td>69.300003</td>\n",
       "      <td>0.001716</td>\n",
       "      <td>0.372900</td>\n",
       "    </tr>\n",
       "    <tr>\n",
       "      <th>199885</th>\n",
       "      <td>2008</td>\n",
       "      <td>196</td>\n",
       "      <td>0.726137</td>\n",
       "      <td>-0.005380</td>\n",
       "      <td>22.43</td>\n",
       "      <td>14.92</td>\n",
       "      <td>0.913425</td>\n",
       "      <td>18.246663</td>\n",
       "      <td>22.721974</td>\n",
       "      <td>23.579384</td>\n",
       "      <td>16.900000</td>\n",
       "      <td>150.898056</td>\n",
       "      <td>40.300000</td>\n",
       "      <td>-89.900003</td>\n",
       "      <td>5.63748</td>\n",
       "      <td>0.445283</td>\n",
       "      <td>61.799999</td>\n",
       "      <td>21.299999</td>\n",
       "      <td>0.027052</td>\n",
       "      <td>0.208100</td>\n",
       "    </tr>\n",
       "  </tbody>\n",
       "</table>\n",
       "<p>199886 rows × 20 columns</p>\n",
       "</div>"
      ],
      "text/plain": [
       "        Year  DOY       EVI     Evapo  LST_Daily  LST_Diff      NDVI  \\\n",
       "0       2016  178  0.267585 -0.002658      13.80      5.34  0.503435   \n",
       "1       2016  179  0.264823 -0.003970      22.36     13.26  0.497070   \n",
       "2       2016  182  0.256537 -0.003107      18.15     11.12  0.477974   \n",
       "3       2016  197  0.220529 -0.003018      10.73    -11.00  0.403011   \n",
       "4       2016  202  0.213499 -0.003174      14.76      5.98  0.396828   \n",
       "...      ...  ...       ...       ...        ...       ...       ...   \n",
       "199881  2007  243  0.240733 -0.004534      24.88      9.90  0.387445   \n",
       "199882  2007  256  0.227114 -0.003647      18.90     14.94  0.375854   \n",
       "199883  2007  304  0.223807 -0.001522      12.57      8.64  0.392707   \n",
       "199884  2008  197  0.465335 -0.005154      25.11      7.40  0.626214   \n",
       "199885  2008  196  0.726137 -0.005380      22.43     14.92  0.913425   \n",
       "\n",
       "               TI      T_air        API       Clay   Elevation        lat  \\\n",
       "0        9.724592  10.782256  42.469012   9.400000  468.604279  68.330194   \n",
       "1        9.724592  15.129432  38.514693   9.400000  468.604279  68.330194   \n",
       "2        9.724592  16.073048  41.956012   9.400000  468.604279  68.330194   \n",
       "3        9.724592  14.346681  41.557064   9.400000  468.604279  68.330194   \n",
       "4        9.724592  14.414658  42.532913   9.400000  468.604279  68.330194   \n",
       "...           ...        ...        ...        ...         ...        ...   \n",
       "199881  15.238001  24.888287   8.485890  24.700001  129.928635  38.130001   \n",
       "199882  15.238001  20.006017  30.926773  24.700001  129.928635  38.130001   \n",
       "199883  15.238001  13.731508  35.938500  24.700001  129.928635  38.130001   \n",
       "199884  15.238001  26.364821  45.631101  24.700001  129.928635  38.130001   \n",
       "199885  18.246663  22.721974  23.579384  16.900000  150.898056  40.300000   \n",
       "\n",
       "              lon       OMC  Porosity       Sand       Silt     Preci  \\\n",
       "0       27.550618  37.66940  0.762264  55.500000  35.099998  0.121573   \n",
       "1       27.550618  37.66940  0.762264  55.500000  35.099998  0.001892   \n",
       "2       27.550618  37.66940  0.762264  55.500000  35.099998  6.832266   \n",
       "3       27.550618  37.66940  0.762264  55.500000  35.099998  0.021294   \n",
       "4       27.550618  37.66940  0.762264  55.500000  35.099998  0.166529   \n",
       "...           ...       ...       ...        ...        ...       ...   \n",
       "199881 -88.920000   5.03408  0.475472   5.900000  69.300003  0.000435   \n",
       "199882 -88.920000   5.03408  0.475472   5.900000  69.300003  0.000858   \n",
       "199883 -88.920000   5.03408  0.475472   5.900000  69.300003  0.000000   \n",
       "199884 -88.920000   5.03408  0.475472   5.900000  69.300003  0.001716   \n",
       "199885 -89.900003   5.63748  0.445283  61.799999  21.299999  0.027052   \n",
       "\n",
       "        Soil Moisture  \n",
       "0            0.175417  \n",
       "1            0.172500  \n",
       "2            0.179500  \n",
       "3            0.179375  \n",
       "4            0.176958  \n",
       "...               ...  \n",
       "199881       0.144600  \n",
       "199882       0.157600  \n",
       "199883       0.353900  \n",
       "199884       0.372900  \n",
       "199885       0.208100  \n",
       "\n",
       "[199886 rows x 20 columns]"
      ]
     },
     "execution_count": 48,
     "metadata": {},
     "output_type": "execute_result"
    }
   ],
   "source": [
    "Xy = dataset_val[dataset.columns]\n",
    "Xy"
   ]
  },
  {
   "cell_type": "code",
   "execution_count": 49,
   "metadata": {},
   "outputs": [
    {
     "data": {
      "text/plain": [
       "array([[ 1.47493722e+00, -3.38055770e-01,  2.12423800e-02, ...,\n",
       "         8.03556515e-01, -1.51644677e-01, -1.14538440e-01],\n",
       "       [ 1.47493722e+00, -3.24606147e-01, -7.55387217e-04, ...,\n",
       "         8.03556515e-01, -1.51644677e-01, -2.26396683e-01],\n",
       "       [ 1.47493722e+00, -2.84257278e-01, -6.67486730e-02, ...,\n",
       "         8.03556515e-01, -1.51644677e-01,  6.15756472e+00],\n",
       "       ...,\n",
       "       [-1.07076807e+00,  1.35659671e+00, -3.27405917e-01, ...,\n",
       "        -2.08455945e+00,  2.52204755e+00, -2.28165445e-01],\n",
       "       [-7.87911927e-01, -8.25129351e-02,  1.59608638e+00, ...,\n",
       "        -2.08455945e+00,  2.52204755e+00, -2.26562012e-01],\n",
       "       [-7.87911927e-01, -9.59625580e-02,  3.67307950e+00, ...,\n",
       "         1.17039378e+00, -1.23050274e+00, -2.02881884e-01]])"
      ]
     },
     "execution_count": 49,
     "metadata": {},
     "output_type": "execute_result"
    }
   ],
   "source": [
    "X_validating = Xy.iloc[:, :-1].values\n",
    "y_validating = Xy.iloc[:, -1].values\n",
    "X_validating = sc.transform(X_validating)\n",
    "X_validating"
   ]
  },
  {
   "cell_type": "code",
   "execution_count": 50,
   "metadata": {},
   "outputs": [
    {
     "data": {
      "text/plain": [
       "(0.07552357740355688, 1.0366578329944045)"
      ]
     },
     "execution_count": 50,
     "metadata": {},
     "output_type": "execute_result"
    }
   ],
   "source": [
    "X_validating.mean(),X_validating.std()"
   ]
  },
  {
   "cell_type": "code",
   "execution_count": 51,
   "metadata": {},
   "outputs": [
    {
     "data": {
      "text/plain": [
       "(0.07552357740355688, 1.0366578329944045)"
      ]
     },
     "execution_count": 51,
     "metadata": {},
     "output_type": "execute_result"
    }
   ],
   "source": [
    "X_validating.mean(),X_validating.std()"
   ]
  },
  {
   "cell_type": "code",
   "execution_count": 52,
   "metadata": {},
   "outputs": [
    {
     "data": {
      "text/plain": [
       "datetime.datetime(2023, 3, 8, 10, 45, 52, 42724)"
      ]
     },
     "execution_count": 52,
     "metadata": {},
     "output_type": "execute_result"
    }
   ],
   "source": [
    "import datetime\n",
    "starttime_validating = datetime.datetime.now()\n",
    "starttime_validating"
   ]
  },
  {
   "cell_type": "code",
   "execution_count": 53,
   "metadata": {},
   "outputs": [],
   "source": [
    "y_pred_validating = regressor.predict(X_validating) "
   ]
  },
  {
   "cell_type": "code",
   "execution_count": 54,
   "metadata": {},
   "outputs": [
    {
     "name": "stdout",
     "output_type": "stream",
     "text": [
      "2023-03-08 10:45:55.435008\n",
      "running time of validating\n",
      "0:00:03.392284\n"
     ]
    }
   ],
   "source": [
    "endtime_validating = datetime.datetime.now()\n",
    "print(endtime_validating)\n",
    "print(\"running time of validating\")\n",
    "print(endtime_validating - starttime_validating)"
   ]
  },
  {
   "cell_type": "code",
   "execution_count": 56,
   "metadata": {},
   "outputs": [
    {
     "name": "stdout",
     "output_type": "stream",
     "text": [
      "R2score is 0.6947991826174735\n",
      "MAE is 0.04499961704627784\n",
      "MSE is 0.0038046067990624185\n",
      "RMSE is 0.06168149478621946\n",
      "r (0.8352699057508878, 0.0)\n"
     ]
    }
   ],
   "source": [
    "from sklearn.metrics import r2_score, mean_absolute_error, mean_squared_error\n",
    "r2score= r2_score(y_validating, y_pred_validating)\n",
    "print('R2score is',r2score )\n",
    "MAE=mean_absolute_error(y_validating, y_pred_validating)\n",
    "print('MAE is',MAE)\n",
    "MSE=mean_squared_error(y_validating, y_pred_validating)\n",
    "print('MSE is',MSE)\n",
    "RMSE = np.sqrt(MSE)\n",
    "print('RMSE is',RMSE)\n",
    "r = pearsonr(y_validating, y_pred_validating)\n",
    "print('r',r)"
   ]
  },
  {
   "cell_type": "code",
   "execution_count": 57,
   "metadata": {},
   "outputs": [],
   "source": [
    "pd.DataFrame({\"insitu\":y_validating,\"predicted\":y_pred_validating},columns=[\"insitu\",\"predicted\"]).to_csv(path_or_buf=r'predictedSSM/test_temporal_GB.csv', sep=',', index=False)"
   ]
  },
  {
   "cell_type": "markdown",
   "metadata": {},
   "source": [
    "## Per site"
   ]
  },
  {
   "cell_type": "code",
   "execution_count": 517,
   "metadata": {},
   "outputs": [
    {
     "data": {
      "text/plain": [
       "Index(['Year', 'DOY', 'station', 'EVI', 'Evapo', 'LST_Daily', 'LST_Diff',\n",
       "       'NDVI', 'TI', 'T_air', 'API', 'Clay', 'Elevation', 'ESA-CCI', 'lat',\n",
       "       'lon', 'network', 'OMC', 'Porosity', 'Sand', 'Silt', 'Soil Moisture',\n",
       "       'Preci', 'Predicted'],\n",
       "      dtype='object')"
      ]
     },
     "execution_count": 517,
     "metadata": {},
     "output_type": "execute_result"
    }
   ],
   "source": [
    "dataset_val.columns"
   ]
  },
  {
   "cell_type": "code",
   "execution_count": 518,
   "metadata": {},
   "outputs": [],
   "source": [
    "dataset_val['Predicted'] = y_pred_validating"
   ]
  },
  {
   "cell_type": "code",
   "execution_count": 519,
   "metadata": {},
   "outputs": [
    {
     "data": {
      "text/plain": [
       "r2             0.664892\n",
       "MAE            0.046739\n",
       "MSE            0.004177\n",
       "RMSE           0.064633\n",
       "r              0.818735\n",
       "n_size    199886.000000\n",
       "dtype: float64"
      ]
     },
     "execution_count": 519,
     "metadata": {},
     "output_type": "execute_result"
    }
   ],
   "source": [
    "# small check\n",
    "get_site_stats(dataset_val)"
   ]
  },
  {
   "cell_type": "code",
   "execution_count": null,
   "metadata": {},
   "outputs": [],
   "source": [
    "res_val = dataset_val.groupby(['station', 'lat', 'lon'], as_index=False).apply(get_site_stats)"
   ]
  },
  {
   "cell_type": "code",
   "execution_count": 521,
   "metadata": {},
   "outputs": [],
   "source": [
    "res_val.to_csv(r'result/GB1_validation_per_station.csv')"
   ]
  },
  {
   "cell_type": "markdown",
   "metadata": {},
   "source": [
    "## Prediction of independent evaluation results (obtaining y_pred_independent)"
   ]
  },
  {
   "cell_type": "code",
   "execution_count": 61,
   "metadata": {},
   "outputs": [
    {
     "data": {
      "text/plain": [
       "datetime.datetime(2023, 3, 8, 10, 56, 47, 387394)"
      ]
     },
     "execution_count": 61,
     "metadata": {},
     "output_type": "execute_result"
    }
   ],
   "source": [
    "import datetime\n",
    "starttime_independent = datetime.datetime.now()\n",
    "starttime_independent"
   ]
  },
  {
   "cell_type": "code",
   "execution_count": 62,
   "metadata": {},
   "outputs": [
    {
     "data": {
      "text/plain": [
       "['/data/private/VM/data/Independent_stations_v01cleaned0509/Independent_SNOTEL_MERCHANTVALLEY.csv',\n",
       " '/data/private/VM/data/Independent_stations_v01cleaned0509/Independent_HiWATER-EHWSN_SoilNET-044.csv']"
      ]
     },
     "execution_count": 62,
     "metadata": {},
     "output_type": "execute_result"
    }
   ],
   "source": [
    "glob.glob(\"/data/private/VM/data/Independent_stations_v01cleaned0509/*.csv\")[0:2]"
   ]
  },
  {
   "cell_type": "code",
   "execution_count": 63,
   "metadata": {
    "tags": []
   },
   "outputs": [
    {
     "name": "stdout",
     "output_type": "stream",
     "text": [
      "r [0.22657926896578526, 0.15377884096088784, 0.4801053219340918, 0.28893085431272114, 0.23377014161999243, 0.775935730901462, 0.6839224054717976, 0.8935138959061946, 0.7456327707830256, 0.6191066934760747, 0.6030553502542242, 0.3254729422131521, 0.7184399955603559, 0.20297944749519486, 0.6755610402442436, 0.5733159799710957, 0.8450806993743055, 0.8327861693862985, 0.7203433375981634, 0.6097239550844895, 0.35200644799873715, 0.9602888738706109, 0.739067070604699, 0.7216841339629289, 0.5939118521304296, 0.8152659532035395, 0.7294721906669133, 0.4436970214530518, 0.788328189376164, 0.7017359791238038, 0.45232514771619126, 0.6033189836282784, 0.7458514768901875, 0.5084169527389845, 0.6100506086654023, -0.822986322358447, 0.7218201424728204, 0.8232012025272256, 0.5404161475466016, 0.6682357097593633, 0.6552452563760792, 0.7924856654859641, 0.8075357467209507, 0.7023837870340659, 0.342152295305313, 0.8994847694263114, -0.012621753116565599, 0.821678837372138, 0.5898906005683509, 0.2028522656410459, 0.685090844150778, 0.6972615655782487, 0.6613541212090686, 0.9552349874686495, 0.503192217475223, 0.0767857492935413, 0.8613240778424184, 0.5169635553858176, 0.6349555733503044, 0.8008171965416979, 0.7097279501966671, -0.05814333141520902, 0.6730949138836813, 0.5461397880523875, 0.5332433778698086, -0.032620578231672887, 0.2073568065592812, 0.6503536182612468, 0.6693420564837304, 0.33427001620451974, 0.8513374902762577, 0.38414628524218064, 0.749189125645205, 0.6394854465301621, 0.4481559236260331, 0.40141163861909085, 0.3253780169325207, 0.0341184104832669, 0.7460575886531873, 0.6916546279661911, 0.9525486330754696, 0.6863784938388919, 0.8895399431813485, 0.7475834583710526, 0.6378528069699171, 0.8312015711651686, 0.742053796882489, 0.8377129689403726, 0.48947781255186934, 0.7144495169634192, 0.5987541078310807, 0.8023186499426549, 0.7915767120285542, 0.23192861392129918, 0.6538693303863092, 0.8244867825241067, 0.626611008435634, 0.6531952425843699, 0.42184971822677386, 0.6003321101834272, 0.6744563705347572, 0.6761273772846064, 0.10266552719469, 0.7219709917706986, 0.5845270425292964, -0.445260187130567, 0.42932375621916485, 0.7635089527242042, 0.6858619811876209, 0.6319005706930784, 0.5093812057717001, 0.7474802963217244, 0.6944777534011972, 0.5322154419602725, 0.7644804350326467, 0.7737169451631305, 0.9026571915426465, 0.7422564280266196, 0.7933275606247365, 0.7981544688394312, 0.608587107950834, 0.616170667079747, 0.6488421844124582, 0.7574127661812219, 0.7529216727744483, 0.6136833297241022, 0.8613086730603746, 0.5957033717514103, 0.7752952103139846, 0.6553134425124231, 0.46631507415803564, 0.734000209831927, 0.42664456244602, 0.8800709692860234, -0.12806769142895805, 0.8745688179097183, 0.03690841518801856, 0.6724109526794977, 0.7269480693273016, 0.7431739128310906, 0.7522593610334893, 0.6558895721835757, 0.7037286330757564, 0.7749518052178858, 0.5600206664882124, 0.34725056956071626, 0.7903651120489871, 0.5134562112419999]\n",
      "R2score is [-2.2450866255789825, -0.07995098570555603, -3.2192671128042223, 0.04292121952241301, -4.755281724797268, -0.5021880907667331, -0.7611677601412812, 0.37839880905517675, -2.5935821300942705, 0.3791171297476974, 0.2165354267937344, -0.5938530313802375, 0.27102045801395924, -0.14115915435966397, -1.3167897701091507, -2.882336570081352, 0.5182316193663197, 0.4275772910466804, 0.28131384868060205, -1.619763632721586, -1.6804921252952356, -15.682283568843943, 0.4944131065713685, -0.49301829841769496, -0.1701297591746116, 0.5837945426009934, -0.2551825801919789, -5.97902316875268, 0.2902281295150825, 0.4171243201739646, -3.3075225392069996, -15.669058099737427, -0.03732701931324178, -6.1401066684063155, -0.4492378646625348, -1.508757842829536, -0.3654864161390978, 0.6287572387976124, 0.1359852028887233, 0.18856488149167006, -0.4011883473307152, -1.5383354286650675, 0.18814628188017557, 0.46434762893931014, -2.380415512688418, 0.24103474005432002, -3.477794059672095, 0.45171955217804194, 0.2982893340406635, -1.000854131548511, 0.2354790930699565, 0.3667345401934399, 0.36835446323455656, 0.8986755385707216, 0.22440910959822624, -2.098981602648056, 0.5774991677731233, -1.2238087029883076, -1.4501251957839911, 0.040918625337639014, 0.35954756624666573, -10.768632572506878, 0.16371856665143125, -0.4167691824008075, -0.465180331982435, -82.16187741863828, -0.20533882934872594, -0.0910307187239019, -0.8323630111734215, -1.6259309781880873, 0.5612308591777313, -1.7151777881889334, 0.03796426619767146, 0.17541514247947443, -3.4607936484044437, -1.640510195958718, -1.1991253762700236, -12.436587874536267, -0.2012105441858354, -0.6159881124800166, 0.7518057280286888, 0.28084934938691763, -1.2217403912797242, 0.3989439794467181, 0.1599963797806213, 0.2515870638802665, -2.045138778821659, 0.5642083105638829, -0.4687014838400032, -4.966421614547206, -3.555962693299218, -0.27279038618136675, 0.6226780168586281, -5.771039091390494, -1.6047692183090798, 0.4741543980581321, 0.11075252560760829, 0.07522339863929628, -6.97497537252071, 0.32680930728186197, -2.9292635626720935, -0.16006120811967195, -1.1898190656597674, -2.561063428193564, -8.2855424412722, -1.1142638879062097, -1.082058185086987, 0.5521148018351602, 0.13322076068035293, 0.05396980783539951, -1.3097943055338082, 0.35679867873792803, -6.421219027628125, -1.733943244938906, 0.28003702436478695, -0.16301322212559355, 0.7269251254306615, 0.5189871214368316, 0.604638046681213, -0.21994177125505843, -0.14415393588908332, 0.2601672358635515, -1.564095391361069, 0.5634263309363126, 0.4834646605432694, -0.13609184638691363, 0.6657957809429143, -1.8474718783469668, -0.8547777959153366, -2.1171013038792657, -0.8084439834066104, 0.5339802450773685, -1.5795714460745707, 0.2708415946610814, -0.6772543524096628, 0.7218491399679472, -0.5795343673237774, -4.979708772466066, 0.39670986488398363, 0.5308860465052732, 0.5170449662524419, -19.817606965742474, -1.1825201014092634, 0.5404233339789593, -4.573138766152841, -0.46116815666461175, -0.7427597159578754, -12.921543772336289]\n",
      "RMSEs [0.1544765101131311, 0.06150170253987485, 0.04483364805084265, 0.054540125574836264, 0.14540772668197297, 0.07233240623708766, 0.04956246147682004, 0.062241388617379045, 0.0789810502122096, 0.04880329067728704, 0.08356566777657312, 0.06382738852740794, 0.06227202069711593, 0.14743419135495298, 0.0582521071010711, 0.14014559361573337, 0.04139747029682448, 0.05118608045124305, 0.0706297298962408, 0.13165343010118832, 0.0457224709995887, 0.0530783171789919, 0.054501161830308106, 0.04521997890120463, 0.05947979083200456, 0.06609700776371541, 0.037804978779957914, 0.050058841466005706, 0.05432526018899329, 0.0794382670869106, 0.08039510888163257, 0.14795597544242745, 0.09378857553828246, 0.16152637067843703, 0.1266753499021314, 0.07657165699670264, 0.09934684463669687, 0.04729468793464451, 0.044933575252271374, 0.08263002771370512, 0.09408802039137036, 0.07948939405338246, 0.08620543810326874, 0.06100886729481095, 0.13619422346440352, 0.05993236324659008, 0.05637185876550138, 0.0881055145132527, 0.0380425978201876, 0.0474683021745608, 0.06477351480288228, 0.05162035947497052, 0.08317222730821805, 0.019838712833350754, 0.04476524297026875, 0.07067368436891161, 0.05575569667248601, 0.11546386475275612, 0.09901845437496709, 0.07121542406325154, 0.05481483980726129, 0.051198685142130294, 0.09255109663074253, 0.10514587283105496, 0.04730912576342346, 0.2146520189702481, 0.03894157799005599, 0.062236416839356705, 0.05344047935971841, 0.08509590420192845, 0.04201745807408534, 0.18095697797589297, 0.14478839045576494, 0.07803846340276478, 0.11984599624859114, 0.0940249760839374, 0.06279232088657498, 0.07818148756837523, 0.059917864134577725, 0.04517130860992574, 0.04502989172407195, 0.09813332235562676, 0.0844590182724461, 0.07200050475040824, 0.07985966979968308, 0.06718805791472861, 0.09141700670997804, 0.07339536534013509, 0.06799396060373998, 0.06873464909263946, 0.09323774971540924, 0.09441922148288691, 0.0432425208412433, 0.09632260867345686, 0.1265829373601529, 0.05075784975642972, 0.05066721876314086, 0.04276268352279941, 0.055539258058763745, 0.08237265842974202, 0.057524452229455625, 0.08177895613867876, 0.0668231099493814, 0.09140299270758254, 0.09121753422563186, 0.12811975033711234, 0.027970908279828937, 0.044551833668700046, 0.04866965878239038, 0.08654395568316262, 0.09152730725583463, 0.05974616536144513, 0.12965337366052065, 0.1341187460699207, 0.05611908389578912, 0.1373240775673124, 0.05801551917579253, 0.04604565164710376, 0.06126143455200597, 0.02558663856921647, 0.11327649885276725, 0.07406411508947645, 0.12880180263312005, 0.03129641015092169, 0.06294207720792402, 0.0602558930310009, 0.0508483997501819, 0.08082143135783453, 0.11102182759689269, 0.09860524049730017, 0.04703032883362853, 0.04156003702597655, 0.10824406667416162, 0.06626820668980546, 0.08138323590406848, 0.05440080563638871, 0.10706172442483095, 0.0876798482543708, 0.08665650847274713, 0.05641366531047851, 0.06024062053944436, 0.15667325407221835, 0.040821012550892995, 0.05512139837960557, 0.05069730643490991, 0.11749234111830484, 0.10975686284406731, 0.04936439413400633]\n",
      "networks ['SNOTEL', 'HiWATER-EHWSN', 'PBO-H2O', 'PBO-H2O', 'MAQU', 'SMOSMANIA', 'SCAN', 'SOILSCAPE', 'REMEDHUS', 'AWDN', 'SCAN', 'HiWATER-EHWSN', 'BNZ-LTER', 'HiWATER-EHWSN', 'PBO-H2O', 'CTP-SMTMN', 'PBO-H2O', 'PBO-H2O', 'PBO-H2O', 'SNOTEL', 'HiWATER-EHWSN', 'SOILSCAPE', 'OZNET', 'HiWATER-EHWSN', 'SCAN', 'SCAN', 'COSMOS', 'SCAN', 'SOILSCAPE', 'SNOTEL', 'HiWATER-EHWSN', 'USCRN', 'SNOTEL', 'COSMOS', 'SNOTEL', 'SNOTEL', 'USCRN', 'SOILSCAPE', 'PBO-H2O', 'SNOTEL', 'USCRN', 'SOILSCAPE', 'SNOTEL', 'OZNET', 'SNOTEL', 'SNOTEL', 'PBO-H2O', 'SOILSCAPE', 'PBO-H2O', 'MONGOLIA', 'USCRN', 'SNOTEL', 'SNOTEL', 'SOILSCAPE', 'HiWATER-EHWSN', 'SCAN', 'PBO-H2O', 'SNOTEL', 'SNOTEL', 'SNOTEL', 'SNOTEL', 'USCRN', 'SNOTEL', 'SNOTEL', 'HiWATER-EHWSN', 'SNOTEL', 'HiWATER-EHWSN', 'AWDN', 'HiWATER-EHWSN', 'HOBE', 'SOILSCAPE', 'SNOTEL', 'SNOTEL', 'SOILSCAPE', 'AWDN', 'USCRN', 'SCAN', 'FMI', 'HiWATER-EHWSN', 'PBO-H2O', 'SOILSCAPE', 'SNOTEL', 'SCAN', 'SNOTEL', 'SCAN', 'SCAN', 'CTP-SMTMN', 'SCAN', 'SNOTEL', 'USCRN', 'HOBE', 'SNOTEL', 'CTP-SMTMN', 'RISMA', 'CTP-SMTMN', 'SNOTEL', 'PBO-H2O', 'COSMOS', 'WEGENERNET', 'USCRN', 'COSMOS', 'SOILSCAPE', 'HiWATER-EHWSN', 'SOILSCAPE', 'SOILSCAPE', 'BIEBRZA-S-1', 'HiWATER-EHWSN', 'ICN', 'HiWATER-EHWSN', 'SNOTEL', 'SNOTEL', 'SNOTEL', 'ARM', 'SNOTEL', 'SNOTEL', 'SNOTEL', 'SNOTEL', 'FMI', 'SNOTEL', 'COSMOS', 'SNOTEL', 'SCAN', 'SNOTEL', 'PBO-H2O', 'SNOTEL', 'COSMOS', 'PBO-H2O', 'HOBE', 'SOILSCAPE', 'CTP-SMTMN', 'HiWATER-EHWSN', 'AWDN', 'RISMA', 'UMBRIA', 'BIEBRZA-S-1', 'SNOTEL', 'SNOTEL', 'ARM', 'SOILSCAPE', 'SCAN', 'SNOTEL', 'SCAN', 'OZNET', 'USCRN', 'RSMN', 'SCAN', 'SCAN', 'COSMOS']\n",
      "stations ['MERCHANTVALLEY', 'SoilNET-044', 'Upington', 'IMPERIALSP', 'NST-05', 'Condom', 'PineNut', 'node412', 'Zamarron', 'Brunswick', 'GoodwinCreekTimber', 'SoilNET-003', 'UP1A', 'SoilNET-004', 'KAMASLLOYD', 'S04', 'QCY2-BARD', 'REIDHILLVW', 'SLAVENCYN', 'SantaFe', 'WATERNET-10', 'node1026', 'Dry-Lake', 'HD-0010', 'Nephi', 'UAPBCampus-PB', 'RobsonsCreekDualTube', 'Spooky', 'node1030', 'ARAPAHORIDGE', 'BD-0016', 'Nunn-7-NNE', 'CLEARCREEK#1', 'Toulouse', 'FREMONTPASS', 'SASSERIDGE', 'Elkins-21-ENE', 'node915', 'AUBREYPEAK', 'GRANDTARGHEE', 'St.-Mary-1-SSW', 'node803', 'MILL-DNORTH', 'Spring-Bank', 'MUNSONRIDGE', 'QUARTZMOUNTAIN', 'SEVILLETA', 'node505', 'GRANITEPK', 'Tsetserleg', 'Stillwater-5-WNW', 'EASTRIMDIVIDE', 'DIAMONDPEAK', 'node902', 'HD-0009', 'HubbardBrook', 'CARRIZORAN', 'WINDYPEAK', 'WILDBASIN', 'CASTLECREEK', 'WHISKEYCK', 'Mercury-3-SSW', 'REDPINERIDGE', 'BALDY', 'WATERNET-35', 'MT.RYAN', 'WATERNET-32', 'MeadAgrofarm', 'WATERNET-40', '3.01', 'node802', 'CARSONPASS', 'GallegosPeak', 'node107', 'Ainsworth', 'Durham-2-SSW', 'LynhartRanch', 'SOD091', 'HD-0018', 'HAYSPEAK', 'node1031', 'BUCKINGHORSE', 'FrenchGulch', 'SALTRIVERSUMMIT', 'MtVernon', 'SHELDON', 'L05-M06', 'Cullman-NAHRC', 'BIGGOOSE', 'Whitman-5-ENE', '3.05', 'SuuRanch', 'L13', 'MB2', 'L26', 'BENLOMONDTRAIL', 'MCDERMITT', 'Sterling', '6', 'Pierre-24-S', 'Water4CropsBudrioIT', 'node112', 'SoilNET-033', 'node1018', 'node1405', 'marshland-soil-26', 'BD-0045', 'Freeport', 'BD-0039', 'LONECONE', 'SHUREE', 'CLEARLAKE', 'Vici', 'EFBLACKSFORKGS', 'KALAMAZOO', 'PARADISE', 'HARDSCRABBLE', 'SOD130', 'KILFOILCREEK', 'Daly', 'GOOSEBERRYR.S.UP', 'UAPBPointRemove', 'BONESPRINGSDIV', 'LITTLELOST', 'Chalender', 'Mozark', 'WICKSRANCH', '2.07', 'node816', 'M20', 'BD-0038', 'ClayCenter(SC)', 'ON5', 'Monterchi', 'marshland-soil-15', 'TIPTON', 'MYRTLECREEK', 'Cordell', 'node509', 'AAMU-jtg', 'EASTWILLOWCREEK', 'Selma', 'Balranald-Bolton-Park', 'Durham-2-N', 'Barlad', 'RogersFarm#1', 'GoodwinCreekPasture', 'Biosphere']\n",
      "sizes [1049, 17, 287, 693, 55, 722, 967, 557, 1172, 344, 800, 16, 314, 13, 368, 147, 1009, 867, 330, 298, 17, 7, 882, 23, 916, 1128, 45, 811, 61, 955, 23, 564, 940, 506, 335, 5, 308, 328, 756, 454, 429, 208, 918, 957, 187, 50, 505, 312, 440, 6, 849, 516, 1002, 279, 32, 368, 1093, 746, 109, 447, 48, 687, 929, 1225, 19, 214, 15, 264, 25, 150, 229, 871, 524, 216, 410, 152, 1246, 24, 25, 666, 138, 724, 281, 474, 824, 822, 215, 810, 5, 705, 144, 354, 182, 196, 159, 1169, 621, 90, 30, 581, 198, 154, 16, 161, 90, 16, 25, 21, 25, 791, 507, 384, 762, 204, 441, 348, 1005, 115, 611, 801, 457, 1286, 468, 415, 584, 526, 701, 165, 146, 133, 18, 356, 171, 186, 24, 1097, 652, 869, 193, 725, 985, 348, 959, 510, 310, 819, 847, 525]\n"
     ]
    }
   ],
   "source": [
    "rs = []\n",
    "r2scores = []\n",
    "RMSEs = []\n",
    "networks = []\n",
    "stations = []\n",
    "lons = []\n",
    "lats = []\n",
    "sizes = []\n",
    "for files in glob.glob(\"/data/private/VM/data/Independent_stations_v01cleaned0509/*.csv\"):\n",
    "    independentdataset = pd.read_csv(files)\n",
    "    size = len(independentdataset['network'])\n",
    "    network = independentdataset['network'][0]\n",
    "    station = str(independentdataset['station'][0])\n",
    "    independentdataset.rename(columns={'Lon':'lon','Lat':'lat'},inplace=True)\n",
    "    lon = independentdataset['lon'][0]\n",
    "    lat = independentdataset['lat'][0]\n",
    "    independentdataset = independentdataset.drop('network', axis=1)\n",
    "    independentdataset = independentdataset.drop('station', axis=1)\n",
    "    X_independent = independentdataset.iloc[:, :-1].values\n",
    "    # print(X_independent)\n",
    "    y_independent = independentdataset.iloc[:, -1].values\n",
    "    # print(y_independent)\n",
    "    X_independent = sc.transform(X_independent)\n",
    "    y_pred_independent = regressor.predict(X_independent) \n",
    "    from sklearn.metrics import r2_score, mean_absolute_error, mean_squared_error\n",
    "    r2score= r2_score(y_independent, y_pred_independent)\n",
    "    # print('R2score is',r2score)\n",
    "    MAE=mean_absolute_error(y_independent, y_pred_independent)\n",
    "    MSE=mean_squared_error(y_independent, y_pred_independent)\n",
    "    RMSE = np.sqrt(MSE)\n",
    "    # print('RMSE is',RMSE)\n",
    "    r2scores.append(r2score)\n",
    "    RMSEs.append(RMSE)\n",
    "    r = pearsonr(y_independent, y_pred_independent)\n",
    "    rs.append(r[0])\n",
    "    # print('r',r)\n",
    "    networks.append(network)\n",
    "    stations.append(station)\n",
    "    lons.append(lon)\n",
    "    lats.append(lat)\n",
    "    sizes.append(size)\n",
    "    pd.DataFrame({\"insitu\":y_independent,\"predicted\":y_pred_independent},columns=[\"insitu\",\"predicted\"]).to_csv(path_or_buf=r'predictedSSM/GB/'+files.split('/')[-1], sep=',', index=False)\n",
    "print('r',rs)\n",
    "print('R2score is',r2scores)\n",
    "print(\"RMSEs\",RMSEs)\n",
    "print('networks',networks)\n",
    "print('stations',stations)\n",
    "print('sizes',sizes)"
   ]
  },
  {
   "cell_type": "code",
   "execution_count": 103,
   "metadata": {},
   "outputs": [
    {
     "name": "stdout",
     "output_type": "stream",
     "text": [
      "        network   station         lon        lat         r        r2  \\\n",
      "119        HOBE      2.07    9.033702  55.948198  0.583433 -1.705116   \n",
      "44         HOBE      3.01    9.014202  55.880701  0.315798  -2.12394   \n",
      "94         HOBE      3.05    8.917498  55.902501  0.598754 -3.555963   \n",
      "34   WEGENERNET         6    15.85507  46.997262   0.42185 -6.974975   \n",
      "89         SCAN  AAMU-jtg  -86.550001  34.782999  0.743174  0.530886   \n",
      "..          ...       ...         ...        ...       ...       ...   \n",
      "86    SOILSCAPE   node802 -120.797346  38.507191  0.851337  0.561231   \n",
      "146   SOILSCAPE   node803 -120.798287  38.507254  0.792486 -1.538335   \n",
      "10    SOILSCAPE   node816 -120.797881   38.50514  0.775295 -0.854778   \n",
      "70    SOILSCAPE   node902 -120.905471  38.393511  0.955235  0.898676   \n",
      "132   SOILSCAPE   node915 -120.906126   38.39125  0.823201  0.628757   \n",
      "\n",
      "         RMSE n_size  \n",
      "119  0.078775    165  \n",
      "44   0.092815    150  \n",
      "94   0.093238    144  \n",
      "34   0.055539     30  \n",
      "89   0.056414    725  \n",
      "..        ...    ...  \n",
      "86   0.042017    229  \n",
      "146  0.079489    208  \n",
      "10   0.111022    146  \n",
      "70   0.019839    279  \n",
      "132  0.047295    328  \n",
      "\n",
      "[148 rows x 8 columns]\n"
     ]
    }
   ],
   "source": [
    "independentMetrics = pd.DataFrame(data=(networks,stations,lons,lats,rs,r2scores,RMSEs,sizes)).T\n",
    "independentMetrics.columns = ['network','station','lon','lat','r','r2','RMSE','n_size']\n",
    "print(independentMetrics.sort_values('station')) #\n",
    "independentMetrics.sort_values('station').to_csv(\"/data/private/VM/result/independentMetrics_GB.csv\", sep=',', index=False)"
   ]
  },
  {
   "cell_type": "code",
   "execution_count": 97,
   "metadata": {},
   "outputs": [
    {
     "name": "stdout",
     "output_type": "stream",
     "text": [
      "2022-05-16 20:55:55.279977\n",
      "running time of independent\n",
      "0:00:06.926010\n"
     ]
    }
   ],
   "source": [
    "endtime_independent = datetime.datetime.now()\n",
    "print(endtime_independent)\n",
    "print(\"running time of independent\")\n",
    "print(endtime_independent - starttime_independent)"
   ]
  },
  {
   "cell_type": "code",
   "execution_count": null,
   "metadata": {},
   "outputs": [],
   "source": []
  }
 ],
 "metadata": {
  "colab": {
   "authorship_tag": "ABX9TyP1VVwrQU8S68bmX5lftYWC",
   "name": "Simple Linear Regression",
   "provenance": [],
   "toc_visible": true
  },
  "kernelspec": {
   "display_name": "Python",
   "language": "python",
   "name": "python3"
  },
  "language_info": {
   "codemirror_mode": {
    "name": "ipython",
    "version": 3
   },
   "file_extension": ".py",
   "mimetype": "text/x-python",
   "name": "python",
   "nbconvert_exporter": "python",
   "pygments_lexer": "ipython3",
   "version": "3.8.10"
  }
 },
 "nbformat": 4,
 "nbformat_minor": 4
}
