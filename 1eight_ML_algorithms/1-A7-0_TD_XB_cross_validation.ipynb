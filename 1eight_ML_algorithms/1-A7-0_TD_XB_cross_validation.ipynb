{
 "cells": [
  {
   "cell_type": "code",
   "execution_count": 18,
   "id": "31fb1ed0-7c4d-44a7-9355-640c90f20981",
   "metadata": {},
   "outputs": [],
   "source": [
    "import numpy as np\n",
    "import pandas as pd\n",
    "import xgboost as xgb\n",
    "from sklearn.metrics import r2_score, mean_absolute_error, mean_squared_error\n",
    "from sklearn.model_selection import train_test_split\n",
    "from sklearn.model_selection import GridSearchCV\n",
    "from sklearn.model_selection import cross_validate\n",
    "from sklearn.metrics import make_scorer\n",
    "from sklearn.ensemble import AdaBoostRegressor"
   ]
  },
  {
   "cell_type": "code",
   "execution_count": 2,
   "id": "b1e9c57a-b413-427a-8f89-3619d1c39f6b",
   "metadata": {},
   "outputs": [],
   "source": [
    "dataset = pd.read_csv('ML_training&testing_v01shuffled_20220317.csv')"
   ]
  },
  {
   "cell_type": "code",
   "execution_count": 3,
   "id": "64ca8bf1-b3b8-4ce6-9064-5eab668dd32e",
   "metadata": {},
   "outputs": [],
   "source": [
    "X = dataset.iloc[:, :-1].values.astype(float)\n",
    "y = dataset.iloc[:, -1].values.astype(float)"
   ]
  },
  {
   "cell_type": "code",
   "execution_count": 4,
   "id": "d88fa79f-f4ce-4a77-9215-7df7893b012e",
   "metadata": {},
   "outputs": [],
   "source": [
    "X_train, X_test, y_train, y_test = train_test_split(X, y, test_size = 0.25, random_state = 0,shuffle=True)"
   ]
  },
  {
   "cell_type": "code",
   "execution_count": 10,
   "id": "95a5c426-3a5e-46ca-8e1f-e378390ffa6f",
   "metadata": {},
   "outputs": [
    {
     "name": "stdout",
     "output_type": "stream",
     "text": [
      "CPU times: user 2h 25min 45s, sys: 2min 15s, total: 2h 28min 1s\n",
      "Wall time: 27min 41s\n"
     ]
    }
   ],
   "source": [
    "%%time\n",
    "scoring = {'r': make_scorer(lambda x,y: np.corrcoef(x, y)[0, 1]),\n",
    "           'r2': 'r2',\n",
    "           'rmse_neg': 'neg_root_mean_squared_error'}\n",
    "\n",
    "regressor = xgb.XGBRegressor(learning_rate=0.1,n_estimators=800,max_depth=10,min_child_weight=1,seed=0,\n",
    "subsample= 0.8, colsample_bytree= 0.9, gamma= 0, reg_alpha= 0.05, reg_lambda= 0.1)\n",
    "\n",
    "scores = cross_validate(regressor, X_train, y_train, scoring=scoring,\n",
    "                         cv=5, return_train_score=True)"
   ]
  },
  {
   "cell_type": "code",
   "execution_count": 11,
   "id": "30b50c54-7eae-4375-b23f-ae65d5c88ff3",
   "metadata": {},
   "outputs": [
    {
     "data": {
      "text/plain": [
       "(0.908100282614677, 0.0008103944226280174)"
      ]
     },
     "execution_count": 11,
     "metadata": {},
     "output_type": "execute_result"
    }
   ],
   "source": [
    "scores['test_r2'].mean(), scores['test_r2'].std()"
   ]
  },
  {
   "cell_type": "code",
   "execution_count": 12,
   "id": "334fed73-af44-45cd-9589-d43fdd96fc1a",
   "metadata": {},
   "outputs": [
    {
     "data": {
      "text/plain": [
       "(0.9532703232686893, 0.0004406202326859871)"
      ]
     },
     "execution_count": 12,
     "metadata": {},
     "output_type": "execute_result"
    }
   ],
   "source": [
    "scores['test_r'].mean(), scores['test_r'].std()"
   ]
  },
  {
   "cell_type": "code",
   "execution_count": 13,
   "id": "8109a3d7-2ce3-4ad1-adf2-73513d41bca4",
   "metadata": {},
   "outputs": [
    {
     "data": {
      "text/plain": [
       "(-0.03374899762040335, 0.00010799526583814949)"
      ]
     },
     "execution_count": 13,
     "metadata": {},
     "output_type": "execute_result"
    }
   ],
   "source": [
    "scores['test_rmse_neg'].mean(), scores['test_rmse_neg'].std()"
   ]
  }
 ],
 "metadata": {
  "kernelspec": {
   "display_name": "Python",
   "language": "python",
   "name": "python3"
  },
  "language_info": {
   "codemirror_mode": {
    "name": "ipython",
    "version": 3
   },
   "file_extension": ".py",
   "mimetype": "text/x-python",
   "name": "python",
   "nbconvert_exporter": "python",
   "pygments_lexer": "ipython3",
   "version": "3.8.10"
  }
 },
 "nbformat": 4,
 "nbformat_minor": 5
}
