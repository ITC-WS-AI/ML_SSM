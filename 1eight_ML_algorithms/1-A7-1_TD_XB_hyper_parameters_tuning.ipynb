{
 "cells": [
  {
   "cell_type": "code",
   "execution_count": 18,
   "id": "31fb1ed0-7c4d-44a7-9355-640c90f20981",
   "metadata": {},
   "outputs": [],
   "source": [
    "import numpy as np\n",
    "import pandas as pd\n",
    "import xgboost as xgb\n",
    "from sklearn.metrics import r2_score, mean_absolute_error, mean_squared_error\n",
    "from sklearn.model_selection import train_test_split\n",
    "from sklearn.model_selection import GridSearchCV\n",
    "from sklearn.model_selection import cross_validate\n",
    "from sklearn.metrics import make_scorer\n",
    "from sklearn.ensemble import AdaBoostRegressor"
   ]
  },
  {
   "cell_type": "code",
   "execution_count": 2,
   "id": "b1e9c57a-b413-427a-8f89-3619d1c39f6b",
   "metadata": {},
   "outputs": [],
   "source": [
    "dataset = pd.read_csv('ML_training&testing_v01shuffled_20220317.csv')"
   ]
  },
  {
   "cell_type": "code",
   "execution_count": 3,
   "id": "64ca8bf1-b3b8-4ce6-9064-5eab668dd32e",
   "metadata": {},
   "outputs": [],
   "source": [
    "X = dataset.iloc[:, :-1].values.astype(float)\n",
    "y = dataset.iloc[:, -1].values.astype(float)"
   ]
  },
  {
   "cell_type": "code",
   "execution_count": 4,
   "id": "d88fa79f-f4ce-4a77-9215-7df7893b012e",
   "metadata": {},
   "outputs": [],
   "source": [
    "X_train, X_test, y_train, y_test = train_test_split(X, y, test_size = 0.25, random_state = 0,shuffle=True)"
   ]
  },
  {
   "cell_type": "code",
   "execution_count": 10,
   "id": "95a5c426-3a5e-46ca-8e1f-e378390ffa6f",
   "metadata": {},
   "outputs": [
    {
     "name": "stdout",
     "output_type": "stream",
     "text": [
      "CPU times: user 2h 25min 45s, sys: 2min 15s, total: 2h 28min 1s\n",
      "Wall time: 27min 41s\n"
     ]
    }
   ],
   "source": [
    "%%time\n",
    "scoring = {'r': make_scorer(lambda x,y: np.corrcoef(x, y)[0, 1]),\n",
    "           'r2': 'r2',\n",
    "           'rmse_neg': 'neg_root_mean_squared_error'}\n",
    "\n",
    "regressor = xgb.XGBRegressor(learning_rate=0.1,n_estimators=800,max_depth=10,min_child_weight=1,seed=0,\n",
    "subsample= 0.8, colsample_bytree= 0.9, gamma= 0, reg_alpha= 0.05, reg_lambda= 0.1)\n",
    "\n",
    "scores = cross_validate(regressor, X_train, y_train, scoring=scoring,\n",
    "                         cv=5, return_train_score=True)"
   ]
  },
  {
   "cell_type": "code",
   "execution_count": 11,
   "id": "30b50c54-7eae-4375-b23f-ae65d5c88ff3",
   "metadata": {},
   "outputs": [
    {
     "data": {
      "text/plain": [
       "(0.908100282614677, 0.0008103944226280174)"
      ]
     },
     "execution_count": 11,
     "metadata": {},
     "output_type": "execute_result"
    }
   ],
   "source": [
    "scores['test_r2'].mean(), scores['test_r2'].std()"
   ]
  },
  {
   "cell_type": "code",
   "execution_count": 12,
   "id": "334fed73-af44-45cd-9589-d43fdd96fc1a",
   "metadata": {},
   "outputs": [
    {
     "data": {
      "text/plain": [
       "(0.9532703232686893, 0.0004406202326859871)"
      ]
     },
     "execution_count": 12,
     "metadata": {},
     "output_type": "execute_result"
    }
   ],
   "source": [
    "scores['test_r'].mean(), scores['test_r'].std()"
   ]
  },
  {
   "cell_type": "code",
   "execution_count": 13,
   "id": "8109a3d7-2ce3-4ad1-adf2-73513d41bca4",
   "metadata": {},
   "outputs": [
    {
     "data": {
      "text/plain": [
       "(-0.03374899762040335, 0.00010799526583814949)"
      ]
     },
     "execution_count": 13,
     "metadata": {},
     "output_type": "execute_result"
    }
   ],
   "source": [
    "scores['test_rmse_neg'].mean(), scores['test_rmse_neg'].std()"
   ]
  },
  {
   "cell_type": "code",
   "execution_count": 19,
   "id": "1c3848e1-6ad8-4e89-9e34-31b415b3d838",
   "metadata": {},
   "outputs": [
    {
     "name": "stdout",
     "output_type": "stream",
     "text": [
      "CPU times: user 4min 17s, sys: 218 ms, total: 4min 17s\n",
      "Wall time: 4min 19s\n"
     ]
    }
   ],
   "source": [
    "%%time\n",
    "scoring = {'r': make_scorer(lambda x,y: np.corrcoef(x, y)[0, 1]),\n",
    "           'r2': 'r2',\n",
    "           'rmse_neg': 'neg_root_mean_squared_error'}\n",
    "\n",
    "regressor = AdaBoostRegressor(n_estimators=30,learning_rate=0.2)\n",
    "\n",
    "scores = cross_validate(regressor, X_train, y_train, scoring=scoring,\n",
    "                         cv=5, return_train_score=True)"
   ]
  },
  {
   "cell_type": "code",
   "execution_count": 20,
   "id": "099850fb-05bc-4af2-b014-9cd8b4e5a300",
   "metadata": {},
   "outputs": [
    {
     "data": {
      "text/plain": [
       "(0.38007484291879273, 0.0037144177795472256)"
      ]
     },
     "execution_count": 20,
     "metadata": {},
     "output_type": "execute_result"
    }
   ],
   "source": [
    "scores['test_r2'].mean(), scores['test_r2'].std()"
   ]
  },
  {
   "cell_type": "code",
   "execution_count": 21,
   "id": "c8fde2ff-9897-41a8-9d07-def04f4f3be0",
   "metadata": {},
   "outputs": [
    {
     "data": {
      "text/plain": [
       "(0.6403247674555999, 0.003184983915496707)"
      ]
     },
     "execution_count": 21,
     "metadata": {},
     "output_type": "execute_result"
    }
   ],
   "source": [
    "scores['test_r'].mean(), scores['test_r'].std()"
   ]
  },
  {
   "cell_type": "code",
   "execution_count": 22,
   "id": "fdafc690-b58c-4f67-8800-fd57f2e9cc84",
   "metadata": {},
   "outputs": [
    {
     "data": {
      "text/plain": [
       "(-0.08765494710350161, 0.00015075505379607543)"
      ]
     },
     "execution_count": 22,
     "metadata": {},
     "output_type": "execute_result"
    }
   ],
   "source": [
    "scores['test_rmse_neg'].mean(), scores['test_rmse_neg'].std()"
   ]
  },
  {
   "cell_type": "code",
   "execution_count": 18,
   "id": "6b64a642-39e3-4211-a62b-aa1bd295bb87",
   "metadata": {},
   "outputs": [
    {
     "name": "stdout",
     "output_type": "stream",
     "text": [
      "Fitting 5 folds for each of 5 candidates, totalling 25 fits\n",
      "evaluate_result:{'mean_fit_time': array([174.47059374, 215.78626542, 258.8593482 , 295.9017159 ,\n",
      "       295.02599711]), 'std_fit_time': array([ 2.34249839,  2.24922608,  2.21441193,  0.4988847 , 67.84198006]), 'mean_score_time': array([3.17593322, 0.46788936, 0.56297545, 0.66914606, 0.53780804]), 'std_score_time': array([1.39173924, 0.02893735, 0.045661  , 0.00964764, 0.14579523]), 'param_n_estimators': masked_array(data=[400, 500, 600, 700, 800],\n",
      "             mask=[False, False, False, False, False],\n",
      "       fill_value='?',\n",
      "            dtype=object), 'params': [{'n_estimators': 400}, {'n_estimators': 500}, {'n_estimators': 600}, {'n_estimators': 700}, {'n_estimators': 800}], 'split0_test_score': array([0.78812302, 0.8013698 , 0.81194738, 0.81955279, 0.8262796 ]), 'split1_test_score': array([0.78737557, 0.80206346, 0.81252847, 0.82062925, 0.82766354]), 'split2_test_score': array([0.79069823, 0.80314561, 0.81383336, 0.82151432, 0.82843355]), 'split3_test_score': array([0.78763111, 0.80143562, 0.81166476, 0.81972957, 0.82592007]), 'split4_test_score': array([0.78691667, 0.80102197, 0.81096661, 0.81914262, 0.82569326]), 'mean_test_score': array([0.78814892, 0.80180729, 0.81218811, 0.82011371, 0.826798  ]), 'std_test_score': array([0.00133299, 0.00074873, 0.00096401, 0.00085237, 0.00106622]), 'rank_test_score': array([5, 4, 3, 2, 1], dtype=int32)}\n",
      "best_param：{'n_estimators': 800}\n",
      "best_score:0.8267980016358434\n",
      "CPU times: user 12min 53s, sys: 3.66 s, total: 12min 56s\n",
      "Wall time: 29min 19s\n"
     ]
    }
   ],
   "source": [
    "%%time\n",
    "cv_params = {'n_estimators': [400, 500, 600, 700, 800]}\n",
    "other_params = {'learning_rate': 0.1, 'n_estimators': 500, 'max_depth': 5, 'min_child_weight': 1, 'seed': 0,\n",
    "                    'subsample': 0.8, 'colsample_bytree': 0.8, 'gamma': 0, 'reg_alpha': 0, 'reg_lambda': 1}\n",
    "\n",
    "model = xgb.XGBRegressor(**other_params)\n",
    "optimized_GBM = GridSearchCV(estimator=model, param_grid=cv_params, scoring='r2', cv=5, verbose=1, n_jobs=4)\n",
    "optimized_GBM.fit(X_train, y_train)\n",
    "evalute_result = optimized_GBM.cv_results_\n",
    "print('evaluate_result:{0}'.format(evalute_result))\n",
    "print('best_param：{0}'.format(optimized_GBM.best_params_))\n",
    "print('best_score:{0}'.format(optimized_GBM.best_score_))"
   ]
  },
  {
   "cell_type": "code",
   "execution_count": 8,
   "id": "6b2bafd4-4778-4b64-ba70-baa62b6eb032",
   "metadata": {},
   "outputs": [
    {
     "name": "stdout",
     "output_type": "stream",
     "text": [
      "Fitting 5 folds for each of 48 candidates, totalling 240 fits\n",
      "evaluate_result:{'mean_fit_time': array([195.3110312 , 195.01114993, 192.95153985, 197.93856416,\n",
      "       194.59731455, 194.85558133, 268.83795061, 266.81230855,\n",
      "       263.69005132, 264.50050454, 262.87595844, 264.10332828,\n",
      "       346.01773963, 342.28062954, 343.07502084, 341.59097018,\n",
      "       341.06043811, 342.68316112, 437.46394467, 436.07633405,\n",
      "       436.37340693, 434.77769675, 434.05905623, 430.37027988,\n",
      "       529.63023114, 529.79420896, 530.01525736, 531.553297  ,\n",
      "       530.69241991, 530.00302939, 633.33065228, 630.36922698,\n",
      "       628.76131606, 626.69009814, 625.75123386, 627.02690129,\n",
      "       727.48487506, 744.53311458, 737.98698373, 746.696668  ,\n",
      "       748.5668694 , 743.12023559, 841.97388535, 849.62471504,\n",
      "       862.76285563, 857.59481039, 854.14229846, 759.03053923]), 'std_fit_time': array([ 0.77586504,  3.29757951,  1.84492992,  1.94440273,  1.43534026,\n",
      "        2.25902696,  2.11348199,  1.20775201,  2.13026761,  1.46748109,\n",
      "        2.22994622,  2.39755277,  2.84411571,  0.98442291,  2.20972536,\n",
      "        1.23937359,  1.01594193,  1.91692685,  3.39937551,  2.92452321,\n",
      "        2.82014961,  2.36384785,  4.77066388,  2.38680887,  3.51512803,\n",
      "        2.10180042,  4.01824285,  4.35417295,  4.13677761,  6.24720007,\n",
      "        3.66555562,  5.25359709,  1.72773357,  1.37893221,  1.11815913,\n",
      "        4.97997325,  4.9503011 ,  3.68940397, 10.47986545,  2.14496347,\n",
      "        2.96721552,  3.61973988, 12.34348212, 12.86506786,  6.01820985,\n",
      "        7.99473895,  7.52375215, 99.67272449]), 'mean_score_time': array([3.28531747, 0.45724492, 0.41814284, 0.4409441 , 0.40643439,\n",
      "       0.42554588, 0.55512891, 0.53941231, 0.53955021, 0.5177546 ,\n",
      "       0.48366675, 0.54655404, 0.67866645, 0.6879457 , 0.66556969,\n",
      "       0.68411388, 0.65567822, 0.65227652, 0.87629781, 0.89218183,\n",
      "       0.87052598, 0.90645461, 0.90946593, 0.85752869, 1.11147866,\n",
      "       1.13480296, 1.16327949, 1.07498021, 1.14515681, 1.10379505,\n",
      "       1.41887879, 1.53433671, 1.4863369 , 1.42293611, 1.43338599,\n",
      "       1.38585343, 2.72057242, 4.58501692, 1.99233866, 1.84206419,\n",
      "       2.17128663, 1.8179595 , 3.29049497, 4.06243162, 2.45286989,\n",
      "       2.33564911, 2.42820983, 1.79366279]), 'std_score_time': array([1.40701134, 0.02935909, 0.03484343, 0.03698379, 0.01838729,\n",
      "       0.03756163, 0.02493508, 0.01850082, 0.03141186, 0.026898  ,\n",
      "       0.03653359, 0.02711365, 0.043905  , 0.01877748, 0.01330676,\n",
      "       0.07612895, 0.04233323, 0.05942231, 0.05695074, 0.05353628,\n",
      "       0.04557062, 0.07703679, 0.06926564, 0.0458767 , 0.07084568,\n",
      "       0.06617831, 0.05075987, 0.04652613, 0.05455586, 0.07612225,\n",
      "       0.04293888, 0.08599412, 0.07276593, 0.06224992, 0.08357278,\n",
      "       0.09663071, 1.77746963, 2.07359517, 0.09533576, 0.08062775,\n",
      "       0.38650254, 0.11128867, 1.9280093 , 2.22170878, 0.14275001,\n",
      "       0.08686865, 0.11420367, 0.60248762]), 'param_max_depth': masked_array(data=[3, 3, 3, 3, 3, 3, 4, 4, 4, 4, 4, 4, 5, 5, 5, 5, 5, 5,\n",
      "                   6, 6, 6, 6, 6, 6, 7, 7, 7, 7, 7, 7, 8, 8, 8, 8, 8, 8,\n",
      "                   9, 9, 9, 9, 9, 9, 10, 10, 10, 10, 10, 10],\n",
      "             mask=[False, False, False, False, False, False, False, False,\n",
      "                   False, False, False, False, False, False, False, False,\n",
      "                   False, False, False, False, False, False, False, False,\n",
      "                   False, False, False, False, False, False, False, False,\n",
      "                   False, False, False, False, False, False, False, False,\n",
      "                   False, False, False, False, False, False, False, False],\n",
      "       fill_value='?',\n",
      "            dtype=object), 'param_min_child_weight': masked_array(data=[1, 2, 3, 4, 5, 6, 1, 2, 3, 4, 5, 6, 1, 2, 3, 4, 5, 6,\n",
      "                   1, 2, 3, 4, 5, 6, 1, 2, 3, 4, 5, 6, 1, 2, 3, 4, 5, 6,\n",
      "                   1, 2, 3, 4, 5, 6, 1, 2, 3, 4, 5, 6],\n",
      "             mask=[False, False, False, False, False, False, False, False,\n",
      "                   False, False, False, False, False, False, False, False,\n",
      "                   False, False, False, False, False, False, False, False,\n",
      "                   False, False, False, False, False, False, False, False,\n",
      "                   False, False, False, False, False, False, False, False,\n",
      "                   False, False, False, False, False, False, False, False],\n",
      "       fill_value='?',\n",
      "            dtype=object), 'params': [{'max_depth': 3, 'min_child_weight': 1}, {'max_depth': 3, 'min_child_weight': 2}, {'max_depth': 3, 'min_child_weight': 3}, {'max_depth': 3, 'min_child_weight': 4}, {'max_depth': 3, 'min_child_weight': 5}, {'max_depth': 3, 'min_child_weight': 6}, {'max_depth': 4, 'min_child_weight': 1}, {'max_depth': 4, 'min_child_weight': 2}, {'max_depth': 4, 'min_child_weight': 3}, {'max_depth': 4, 'min_child_weight': 4}, {'max_depth': 4, 'min_child_weight': 5}, {'max_depth': 4, 'min_child_weight': 6}, {'max_depth': 5, 'min_child_weight': 1}, {'max_depth': 5, 'min_child_weight': 2}, {'max_depth': 5, 'min_child_weight': 3}, {'max_depth': 5, 'min_child_weight': 4}, {'max_depth': 5, 'min_child_weight': 5}, {'max_depth': 5, 'min_child_weight': 6}, {'max_depth': 6, 'min_child_weight': 1}, {'max_depth': 6, 'min_child_weight': 2}, {'max_depth': 6, 'min_child_weight': 3}, {'max_depth': 6, 'min_child_weight': 4}, {'max_depth': 6, 'min_child_weight': 5}, {'max_depth': 6, 'min_child_weight': 6}, {'max_depth': 7, 'min_child_weight': 1}, {'max_depth': 7, 'min_child_weight': 2}, {'max_depth': 7, 'min_child_weight': 3}, {'max_depth': 7, 'min_child_weight': 4}, {'max_depth': 7, 'min_child_weight': 5}, {'max_depth': 7, 'min_child_weight': 6}, {'max_depth': 8, 'min_child_weight': 1}, {'max_depth': 8, 'min_child_weight': 2}, {'max_depth': 8, 'min_child_weight': 3}, {'max_depth': 8, 'min_child_weight': 4}, {'max_depth': 8, 'min_child_weight': 5}, {'max_depth': 8, 'min_child_weight': 6}, {'max_depth': 9, 'min_child_weight': 1}, {'max_depth': 9, 'min_child_weight': 2}, {'max_depth': 9, 'min_child_weight': 3}, {'max_depth': 9, 'min_child_weight': 4}, {'max_depth': 9, 'min_child_weight': 5}, {'max_depth': 9, 'min_child_weight': 6}, {'max_depth': 10, 'min_child_weight': 1}, {'max_depth': 10, 'min_child_weight': 2}, {'max_depth': 10, 'min_child_weight': 3}, {'max_depth': 10, 'min_child_weight': 4}, {'max_depth': 10, 'min_child_weight': 5}, {'max_depth': 10, 'min_child_weight': 6}], 'split0_test_score': array([0.74241454, 0.74172293, 0.74134829, 0.74037531, 0.74036192,\n",
      "       0.7419916 , 0.79103882, 0.79051297, 0.79048286, 0.79114239,\n",
      "       0.78983711, 0.79085996, 0.8262796 , 0.82537272, 0.8262931 ,\n",
      "       0.82556817, 0.82779404, 0.82615584, 0.85240126, 0.85240316,\n",
      "       0.85150168, 0.85224041, 0.85195022, 0.85278623, 0.87294507,\n",
      "       0.872519  , 0.87204267, 0.87244236, 0.87068467, 0.87161965,\n",
      "       0.8882321 , 0.88724285, 0.88674458, 0.88722169, 0.88697767,\n",
      "       0.88601839, 0.89898067, 0.89829973, 0.89896282, 0.89854864,\n",
      "       0.8973956 , 0.89682283, 0.90682796, 0.90671266, 0.90631131,\n",
      "       0.90548633, 0.90489246, 0.90418957]), 'split1_test_score': array([0.74081178, 0.74117413, 0.74079073, 0.74080016, 0.74048981,\n",
      "       0.74150799, 0.79033189, 0.79209677, 0.79205218, 0.79339534,\n",
      "       0.79199387, 0.79296128, 0.82766354, 0.82795266, 0.82879522,\n",
      "       0.82933286, 0.82804629, 0.82664079, 0.85589717, 0.85436417,\n",
      "       0.85342031, 0.85460122, 0.85339367, 0.85437996, 0.87437228,\n",
      "       0.87383267, 0.87398326, 0.87369827, 0.8735585 , 0.87369353,\n",
      "       0.8895176 , 0.887988  , 0.88980726, 0.88925433, 0.88860543,\n",
      "       0.88765041, 0.90031517, 0.89923726, 0.89933366, 0.89934433,\n",
      "       0.89784372, 0.8990089 , 0.90650434, 0.90577705, 0.90695049,\n",
      "       0.90606058, 0.90580798, 0.90575583]), 'split2_test_score': array([0.74469364, 0.7433207 , 0.74376666, 0.74496733, 0.74355098,\n",
      "       0.74369892, 0.7931017 , 0.79428585, 0.79378821, 0.79442562,\n",
      "       0.79336229, 0.79342468, 0.82843355, 0.82918813, 0.8288145 ,\n",
      "       0.8281049 , 0.82768751, 0.8270299 , 0.85570692, 0.85507509,\n",
      "       0.85528246, 0.85487248, 0.85488423, 0.85534126, 0.87492279,\n",
      "       0.87512041, 0.87452144, 0.87515546, 0.87455161, 0.87267405,\n",
      "       0.88998371, 0.88974075, 0.8889156 , 0.88852324, 0.88876258,\n",
      "       0.88764134, 0.90011293, 0.90042416, 0.89984248, 0.89987211,\n",
      "       0.89947692, 0.89964212, 0.90749258, 0.90767132, 0.90663495,\n",
      "       0.90704388, 0.90677565, 0.90584323]), 'split3_test_score': array([0.74137931, 0.74128199, 0.7425903 , 0.742344  , 0.74313156,\n",
      "       0.74300595, 0.79098054, 0.79032616, 0.79134516, 0.79034543,\n",
      "       0.79079282, 0.79110529, 0.82592007, 0.82680466, 0.82655743,\n",
      "       0.82640052, 0.82679874, 0.82671653, 0.85313834, 0.85276135,\n",
      "       0.8532777 , 0.85323306, 0.85380677, 0.85203258, 0.87349703,\n",
      "       0.87404493, 0.87357632, 0.87301984, 0.87250699, 0.87241647,\n",
      "       0.88854382, 0.88794479, 0.89001498, 0.88805323, 0.88723303,\n",
      "       0.88768156, 0.89984541, 0.89967581, 0.89828761, 0.89907823,\n",
      "       0.89856475, 0.89786223, 0.90709455, 0.90759802, 0.90679245,\n",
      "       0.9064429 , 0.90610913, 0.90598142]), 'split4_test_score': array([0.73947723, 0.73900769, 0.73927694, 0.73816442, 0.73889016,\n",
      "       0.7394163 , 0.79038849, 0.78938859, 0.78925643, 0.78930998,\n",
      "       0.78963411, 0.79087481, 0.82569326, 0.82532925, 0.824644  ,\n",
      "       0.82453768, 0.82463606, 0.82556969, 0.85187386, 0.85213849,\n",
      "       0.85286644, 0.85256041, 0.85200305, 0.85244461, 0.87159994,\n",
      "       0.87184895, 0.87224485, 0.87090877, 0.87181873, 0.8706153 ,\n",
      "       0.88766712, 0.88728245, 0.88746667, 0.88678479, 0.88759848,\n",
      "       0.8864336 , 0.89819789, 0.89815033, 0.89716388, 0.89788872,\n",
      "       0.89773014, 0.89796273, 0.90624852, 0.90551958, 0.90600147,\n",
      "       0.90458003, 0.90492856, 0.9040789 ]), 'mean_test_score': array([0.7417553 , 0.74130149, 0.74155458, 0.74133024, 0.74128489,\n",
      "       0.74192415, 0.79116829, 0.79132207, 0.79138497, 0.79172375,\n",
      "       0.79112404, 0.7918452 , 0.826798  , 0.82692948, 0.82702085,\n",
      "       0.82678882, 0.82699253, 0.82642255, 0.85380351, 0.85334845,\n",
      "       0.85326972, 0.85350151, 0.85320759, 0.85339693, 0.87346742,\n",
      "       0.87347319, 0.87327371, 0.87304494, 0.8726241 , 0.8722038 ,\n",
      "       0.88878887, 0.88803977, 0.88858982, 0.88796745, 0.88783544,\n",
      "       0.88708506, 0.89949041, 0.89915746, 0.89871809, 0.89894641,\n",
      "       0.89820223, 0.89825976, 0.90683359, 0.90665572, 0.90653813,\n",
      "       0.90592274, 0.90570276, 0.90516979]), 'std_test_score': array([0.00174869, 0.00138079, 0.00153491, 0.00225705, 0.00177562,\n",
      "       0.00146882, 0.00100973, 0.00171866, 0.00152097, 0.00190569,\n",
      "       0.00139658, 0.00111357, 0.00106622, 0.0014932 , 0.00159746,\n",
      "       0.001727  , 0.0012511 , 0.00051018, 0.00168159, 0.0011589 ,\n",
      "       0.00121346, 0.00106179, 0.00111684, 0.00125603, 0.00115742,\n",
      "       0.00115914, 0.0009722 , 0.00140058, 0.00134254, 0.00103443,\n",
      "       0.000847  , 0.00090704, 0.0012873 , 0.00088625, 0.00072212,\n",
      "       0.00071373, 0.00079047, 0.00085201, 0.00092779, 0.00067964,\n",
      "       0.00074274, 0.00097808, 0.0004366 , 0.0008928 , 0.00034163,\n",
      "       0.00084141, 0.00071879, 0.0008493 ]), 'rank_test_score': array([44, 47, 45, 46, 48, 43, 41, 40, 39, 38, 42, 37, 34, 33, 31, 35, 32,\n",
      "       36, 25, 28, 29, 26, 30, 27, 20, 19, 21, 22, 23, 24, 13, 15, 14, 16,\n",
      "       17, 18,  7,  8, 10,  9, 12, 11,  1,  2,  3,  4,  5,  6],\n",
      "      dtype=int32)}\n",
      "best_param：{'max_depth': 10, 'min_child_weight': 1}\n",
      "best_score:0.9068335892365544\n",
      "CPU times: user 32min 54s, sys: 10.4 s, total: 33min 4s\n",
      "Wall time: 8h 26min 15s\n"
     ]
    }
   ],
   "source": [
    "%%time\n",
    "cv_params = {'max_depth': [3, 4, 5, 6, 7, 8, 9, 10], 'min_child_weight': [1, 2, 3, 4, 5, 6]}\n",
    "other_params = {'learning_rate': 0.1, 'n_estimators': 800, 'max_depth': 5, 'min_child_weight': 1, 'seed': 0,\n",
    "                    'subsample': 0.8, 'colsample_bytree': 0.8, 'gamma': 0, 'reg_alpha': 0, 'reg_lambda': 1}\n",
    "\n",
    "model = xgb.XGBRegressor(**other_params)\n",
    "optimized_GBM = GridSearchCV(estimator=model, param_grid=cv_params, scoring='r2', cv=5, verbose=1, n_jobs=4)\n",
    "optimized_GBM.fit(X_train, y_train)\n",
    "evalute_result = optimized_GBM.cv_results_\n",
    "print('evaluate_result:{0}'.format(evalute_result))\n",
    "print('best_param：{0}'.format(optimized_GBM.best_params_))\n",
    "print('best_score:{0}'.format(optimized_GBM.best_score_))"
   ]
  },
  {
   "cell_type": "code",
   "execution_count": 12,
   "id": "a62627bb-cb47-4af8-9403-a2bfc4b1972a",
   "metadata": {},
   "outputs": [
    {
     "name": "stdout",
     "output_type": "stream",
     "text": [
      "Fitting 5 folds for each of 6 candidates, totalling 30 fits\n",
      "evaluate_result:{'mean_fit_time': array([834.20582318, 840.0803277 , 840.13491845, 832.78077598,\n",
      "       799.09371943, 666.71996121]), 'std_fit_time': array([  6.78669807,   5.36679596,   7.21235411,   7.36276416,\n",
      "        12.35615122, 161.19475122]), 'mean_score_time': array([1.30405364, 3.03747172, 0.39238124, 1.19151778, 0.32172174,\n",
      "       0.22241144]), 'std_score_time': array([1.71406574, 2.0675925 , 0.05669072, 1.67747082, 0.03790409,\n",
      "       0.06033702]), 'param_gamma': masked_array(data=[0.1, 0.2, 0.3, 0.4, 0.5, 0.6],\n",
      "             mask=[False, False, False, False, False, False],\n",
      "       fill_value='?',\n",
      "            dtype=object), 'params': [{'gamma': 0.1}, {'gamma': 0.2}, {'gamma': 0.3}, {'gamma': 0.4}, {'gamma': 0.5}, {'gamma': 0.6}], 'split0_test_score': array([0.84487918, 0.81956313, 0.80347389, 0.79017627, 0.77775908,\n",
      "       0.76688937]), 'split1_test_score': array([0.84545913, 0.81926841, 0.80327296, 0.78784352, 0.77833552,\n",
      "       0.76630211]), 'split2_test_score': array([0.84782691, 0.82228137, 0.8060373 , 0.79237729, 0.77964971,\n",
      "       0.7702383 ]), 'split3_test_score': array([0.84493398, 0.81971362, 0.80172597, 0.78828559, 0.77645544,\n",
      "       0.76559181]), 'split4_test_score': array([0.84371742, 0.81730441, 0.8025002 , 0.78943649, 0.77448969,\n",
      "       0.76681473]), 'mean_test_score': array([0.84536332, 0.81962619, 0.80340206, 0.78962383, 0.77733789,\n",
      "       0.76716726]), 'std_test_score': array([0.00135692, 0.00158621, 0.00145526, 0.00160513, 0.00175546,\n",
      "       0.00160395]), 'rank_test_score': array([1, 2, 3, 4, 5, 6], dtype=int32)}\n",
      "best_param：{'gamma': 0.1}\n",
      "best_score:0.8453633246817167\n",
      "CPU times: user 31min 14s, sys: 9.16 s, total: 31min 23s\n",
      "Wall time: 1h 49min 14s\n"
     ]
    }
   ],
   "source": [
    "%%time\n",
    "cv_params = {'gamma': [0.1, 0.2, 0.3, 0.4, 0.5, 0.6]}\n",
    "other_params = {'learning_rate': 0.1, 'n_estimators': 800, 'max_depth': 10, 'min_child_weight': 1, 'seed': 0,\n",
    "                    'subsample': 0.8, 'colsample_bytree': 0.8, 'gamma': 0, 'reg_alpha': 0, 'reg_lambda': 1}\n",
    "\n",
    "model = xgb.XGBRegressor(**other_params)\n",
    "optimized_GBM = GridSearchCV(estimator=model, param_grid=cv_params, scoring='r2', cv=5, verbose=1, n_jobs=4)\n",
    "optimized_GBM.fit(X_train, y_train)\n",
    "evalute_result = optimized_GBM.cv_results_\n",
    "print('evaluate_result:{0}'.format(evalute_result))\n",
    "print('best_param：{0}'.format(optimized_GBM.best_params_))\n",
    "print('best_score:{0}'.format(optimized_GBM.best_score_))"
   ]
  },
  {
   "cell_type": "code",
   "execution_count": 13,
   "id": "6f4a0ebd-c4cd-4266-a98c-2887d104668b",
   "metadata": {},
   "outputs": [
    {
     "name": "stdout",
     "output_type": "stream",
     "text": [
      "Fitting 5 folds for each of 16 candidates, totalling 80 fits\n",
      "evaluate_result:{'mean_fit_time': array([669.81272564, 679.48470135, 684.83110919, 686.23252354,\n",
      "       746.79390645, 747.8973084 , 748.99171615, 757.34608078,\n",
      "       820.05911074, 831.81295886, 835.26497188, 842.02583165,\n",
      "       905.43070564, 916.36027265, 924.17239633, 917.11101918]), 'std_fit_time': array([ 1.37138034,  1.65669715,  1.43305633,  2.68244684,  5.83303192,\n",
      "        7.35452802,  1.31304925,  1.34956008,  1.38212052,  4.57182773,\n",
      "        0.24297516,  2.05935417,  1.37536743,  2.0229815 ,  1.66410734,\n",
      "       18.1864936 ]), 'mean_score_time': array([5.77393942, 2.7194375 , 2.45980887, 2.26659584, 2.45935998,\n",
      "       2.4815486 , 2.30946836, 2.27465596, 2.55748935, 2.39218082,\n",
      "       2.37468758, 2.35758972, 2.64277697, 2.50050726, 2.51507506,\n",
      "       1.77851081]), 'std_score_time': array([1.81370744, 0.53454183, 0.19528951, 0.09412631, 0.12307982,\n",
      "       0.06746561, 0.08992808, 0.07165477, 0.06811205, 0.06033808,\n",
      "       0.1228925 , 0.06644751, 0.17808177, 0.11457206, 0.05733798,\n",
      "       0.60411102]), 'param_colsample_bytree': masked_array(data=[0.6, 0.6, 0.6, 0.6, 0.7, 0.7, 0.7, 0.7, 0.8, 0.8, 0.8,\n",
      "                   0.8, 0.9, 0.9, 0.9, 0.9],\n",
      "             mask=[False, False, False, False, False, False, False, False,\n",
      "                   False, False, False, False, False, False, False, False],\n",
      "       fill_value='?',\n",
      "            dtype=object), 'param_subsample': masked_array(data=[0.6, 0.7, 0.8, 0.9, 0.6, 0.7, 0.8, 0.9, 0.6, 0.7, 0.8,\n",
      "                   0.9, 0.6, 0.7, 0.8, 0.9],\n",
      "             mask=[False, False, False, False, False, False, False, False,\n",
      "                   False, False, False, False, False, False, False, False],\n",
      "       fill_value='?',\n",
      "            dtype=object), 'params': [{'colsample_bytree': 0.6, 'subsample': 0.6}, {'colsample_bytree': 0.6, 'subsample': 0.7}, {'colsample_bytree': 0.6, 'subsample': 0.8}, {'colsample_bytree': 0.6, 'subsample': 0.9}, {'colsample_bytree': 0.7, 'subsample': 0.6}, {'colsample_bytree': 0.7, 'subsample': 0.7}, {'colsample_bytree': 0.7, 'subsample': 0.8}, {'colsample_bytree': 0.7, 'subsample': 0.9}, {'colsample_bytree': 0.8, 'subsample': 0.6}, {'colsample_bytree': 0.8, 'subsample': 0.7}, {'colsample_bytree': 0.8, 'subsample': 0.8}, {'colsample_bytree': 0.8, 'subsample': 0.9}, {'colsample_bytree': 0.9, 'subsample': 0.6}, {'colsample_bytree': 0.9, 'subsample': 0.7}, {'colsample_bytree': 0.9, 'subsample': 0.8}, {'colsample_bytree': 0.9, 'subsample': 0.9}], 'split0_test_score': array([0.90003345, 0.90228153, 0.90318285, 0.90273852, 0.9017342 ,\n",
      "       0.9049678 , 0.9053524 , 0.90492872, 0.90457044, 0.90583482,\n",
      "       0.90682796, 0.90570859, 0.90424483, 0.90606297, 0.90700496,\n",
      "       0.90643852]), 'split1_test_score': array([0.90158639, 0.90391759, 0.90364755, 0.9032764 , 0.90257741,\n",
      "       0.90465959, 0.90444407, 0.9048331 , 0.90471774, 0.90645361,\n",
      "       0.90650434, 0.90658753, 0.90461691, 0.90557561, 0.90761294,\n",
      "       0.90676552]), 'split2_test_score': array([0.90157287, 0.90328195, 0.90437821, 0.90390278, 0.90363065,\n",
      "       0.90464708, 0.9060325 , 0.90588122, 0.90538017, 0.9060726 ,\n",
      "       0.90749258, 0.90744226, 0.90488171, 0.90613889, 0.90797495,\n",
      "       0.90712212]), 'split3_test_score': array([0.90148892, 0.90360209, 0.904369  , 0.90466618, 0.90296101,\n",
      "       0.90400403, 0.9064427 , 0.90449847, 0.90414911, 0.90754992,\n",
      "       0.90709455, 0.90682126, 0.90379049, 0.90562734, 0.90743023,\n",
      "       0.90716547]), 'split4_test_score': array([0.90140188, 0.9021677 , 0.90325507, 0.90309757, 0.90100329,\n",
      "       0.90369539, 0.90432875, 0.9040205 , 0.9035411 , 0.90489468,\n",
      "       0.90624852, 0.90551505, 0.90396187, 0.90409232, 0.90591586,\n",
      "       0.90577094]), 'mean_test_score': array([0.9012167 , 0.90305017, 0.90376654, 0.90353629, 0.90238131,\n",
      "       0.90439478, 0.90532008, 0.9048324 , 0.90447171, 0.90616113,\n",
      "       0.90683359, 0.90641494, 0.90429916, 0.90549943, 0.90718779,\n",
      "       0.90665251]), 'std_test_score': array([0.00059532, 0.00070432, 0.0005203 , 0.00067933, 0.00092228,\n",
      "       0.00046989, 0.00083893, 0.00061319, 0.00061085, 0.000864  ,\n",
      "       0.0004366 , 0.0007154 , 0.00040393, 0.00073873, 0.00070857,\n",
      "       0.00051369]), 'rank_test_score': array([16, 14, 12, 13, 15, 10,  7,  8,  9,  5,  2,  4, 11,  6,  1,  3],\n",
      "      dtype=int32)}\n",
      "best_param：{'colsample_bytree': 0.9, 'subsample': 0.8}\n",
      "best_score:0.9071877891411031\n",
      "CPU times: user 34min 39s, sys: 10.2 s, total: 34min 49s\n",
      "Wall time: 4h 31min 57s\n"
     ]
    }
   ],
   "source": [
    "%%time\n",
    "cv_params = {'subsample': [0.6, 0.7, 0.8, 0.9], 'colsample_bytree': [0.6, 0.7, 0.8, 0.9]}\n",
    "other_params = {'learning_rate': 0.1, 'n_estimators': 800, 'max_depth': 10, 'min_child_weight': 1, 'seed': 0,\n",
    "                    'subsample': 0.8, 'colsample_bytree': 0.8, 'gamma': 0, 'reg_alpha': 0, 'reg_lambda': 1}\n",
    "\n",
    "model = xgb.XGBRegressor(**other_params)\n",
    "optimized_GBM = GridSearchCV(estimator=model, param_grid=cv_params, scoring='r2', cv=5, verbose=1, n_jobs=4)\n",
    "optimized_GBM.fit(X_train, y_train)\n",
    "evalute_result = optimized_GBM.cv_results_\n",
    "print('evaluate_result:{0}'.format(evalute_result))\n",
    "print('best_param：{0}'.format(optimized_GBM.best_params_))\n",
    "print('best_score:{0}'.format(optimized_GBM.best_score_))"
   ]
  },
  {
   "cell_type": "code",
   "execution_count": 14,
   "id": "57ed012a-c0ae-4e7c-99ca-7068c4b50382",
   "metadata": {},
   "outputs": [
    {
     "name": "stdout",
     "output_type": "stream",
     "text": [
      "Fitting 5 folds for each of 25 candidates, totalling 125 fits\n",
      "evaluate_result:{'mean_fit_time': array([963.78407011, 962.91913238, 952.37100286, 944.07602506,\n",
      "       929.94381733, 937.08642583, 936.67912221, 941.68685112,\n",
      "       937.74370127, 942.30425439, 955.16060529, 959.46948643,\n",
      "       958.87249165, 960.1522552 , 959.89711213, 945.52697921,\n",
      "       952.02182794, 954.26243639, 944.13528347, 949.74453073,\n",
      "       929.67047195, 926.65196261, 923.84274578, 921.69575057,\n",
      "       792.75609674]), 'std_fit_time': array([  2.15347271,   4.2326034 ,  10.26830933,  12.10382958,\n",
      "         2.11086313,   1.17873668,   1.28368821,   8.69360446,\n",
      "         1.44710432,   7.94982955,   6.00302744,   4.45533568,\n",
      "         3.07943542,   7.22959189,   6.52450221,   4.01540604,\n",
      "         5.54177902,   6.38350128,   3.56355452,   6.0052617 ,\n",
      "         8.29385502,   7.98035999,   2.02194728,   1.93831886,\n",
      "       247.53812565]), 'mean_score_time': array([5.75306993, 2.64457874, 2.78064542, 2.61437964, 2.66133232,\n",
      "       2.70531354, 2.70910001, 2.99194641, 3.21224642, 2.66700373,\n",
      "       2.85299015, 3.15978956, 2.94787865, 2.88843479, 3.23359175,\n",
      "       2.68055568, 2.38616657, 2.45669723, 2.58351216, 2.53617868,\n",
      "       2.71656604, 2.67635922, 2.18336658, 2.5642066 , 1.92993393]), 'std_score_time': array([2.03546429, 0.354053  , 0.47522364, 0.12281621, 0.02877302,\n",
      "       0.14722721, 0.19149504, 0.43774446, 0.50437044, 0.12487221,\n",
      "       0.1817346 , 0.40753754, 0.18987944, 0.66565023, 0.43596759,\n",
      "       0.26069722, 0.21559655, 0.17065102, 0.04812507, 0.13262155,\n",
      "       0.27203858, 0.45756284, 0.15658399, 0.45100361, 0.81694329]), 'param_reg_alpha': masked_array(data=[0.05, 0.05, 0.05, 0.05, 0.05, 0.1, 0.1, 0.1, 0.1, 0.1,\n",
      "                   1, 1, 1, 1, 1, 2, 2, 2, 2, 2, 3, 3, 3, 3, 3],\n",
      "             mask=[False, False, False, False, False, False, False, False,\n",
      "                   False, False, False, False, False, False, False, False,\n",
      "                   False, False, False, False, False, False, False, False,\n",
      "                   False],\n",
      "       fill_value='?',\n",
      "            dtype=object), 'param_reg_lambda': masked_array(data=[0.05, 0.1, 1, 2, 3, 0.05, 0.1, 1, 2, 3, 0.05, 0.1, 1,\n",
      "                   2, 3, 0.05, 0.1, 1, 2, 3, 0.05, 0.1, 1, 2, 3],\n",
      "             mask=[False, False, False, False, False, False, False, False,\n",
      "                   False, False, False, False, False, False, False, False,\n",
      "                   False, False, False, False, False, False, False, False,\n",
      "                   False],\n",
      "       fill_value='?',\n",
      "            dtype=object), 'params': [{'reg_alpha': 0.05, 'reg_lambda': 0.05}, {'reg_alpha': 0.05, 'reg_lambda': 0.1}, {'reg_alpha': 0.05, 'reg_lambda': 1}, {'reg_alpha': 0.05, 'reg_lambda': 2}, {'reg_alpha': 0.05, 'reg_lambda': 3}, {'reg_alpha': 0.1, 'reg_lambda': 0.05}, {'reg_alpha': 0.1, 'reg_lambda': 0.1}, {'reg_alpha': 0.1, 'reg_lambda': 1}, {'reg_alpha': 0.1, 'reg_lambda': 2}, {'reg_alpha': 0.1, 'reg_lambda': 3}, {'reg_alpha': 1, 'reg_lambda': 0.05}, {'reg_alpha': 1, 'reg_lambda': 0.1}, {'reg_alpha': 1, 'reg_lambda': 1}, {'reg_alpha': 1, 'reg_lambda': 2}, {'reg_alpha': 1, 'reg_lambda': 3}, {'reg_alpha': 2, 'reg_lambda': 0.05}, {'reg_alpha': 2, 'reg_lambda': 0.1}, {'reg_alpha': 2, 'reg_lambda': 1}, {'reg_alpha': 2, 'reg_lambda': 2}, {'reg_alpha': 2, 'reg_lambda': 3}, {'reg_alpha': 3, 'reg_lambda': 0.05}, {'reg_alpha': 3, 'reg_lambda': 0.1}, {'reg_alpha': 3, 'reg_lambda': 1}, {'reg_alpha': 3, 'reg_lambda': 2}, {'reg_alpha': 3, 'reg_lambda': 3}], 'split0_test_score': array([0.90788807, 0.90712264, 0.9075961 , 0.90707594, 0.90618685,\n",
      "       0.90825479, 0.90779229, 0.90720408, 0.90671213, 0.90648253,\n",
      "       0.89892413, 0.89856532, 0.89787814, 0.89799434, 0.89802531,\n",
      "       0.88949209, 0.88899049, 0.88978231, 0.88879963, 0.8894945 ,\n",
      "       0.88185432, 0.88130442, 0.88214543, 0.8821454 , 0.88115494]), 'split1_test_score': array([0.90808094, 0.90814674, 0.90745663, 0.90632417, 0.9069275 ,\n",
      "       0.90821872, 0.90827486, 0.90764094, 0.90705313, 0.90592077,\n",
      "       0.89795012, 0.89905885, 0.89795198, 0.8979043 , 0.89770958,\n",
      "       0.88936642, 0.88944761, 0.88944758, 0.88947898, 0.88978539,\n",
      "       0.88198697, 0.88107266, 0.88187841, 0.88115007, 0.88177114]), 'split2_test_score': array([0.90820222, 0.90953802, 0.90881515, 0.90750527, 0.90720351,\n",
      "       0.90872662, 0.90806341, 0.90916044, 0.90781073, 0.90783294,\n",
      "       0.8988845 , 0.8985614 , 0.89841803, 0.89825935, 0.89846704,\n",
      "       0.89025064, 0.8909824 , 0.89045081, 0.89003691, 0.88971143,\n",
      "       0.88269235, 0.88274476, 0.88294425, 0.88256885, 0.88263444]), 'split3_test_score': array([0.90812178, 0.90810232, 0.90776285, 0.90766532, 0.9065189 ,\n",
      "       0.90840828, 0.9085356 , 0.90852069, 0.90804117, 0.90777221,\n",
      "       0.89866253, 0.89816564, 0.89777569, 0.89755127, 0.89799961,\n",
      "       0.88953573, 0.88882457, 0.88931798, 0.88878556, 0.88911068,\n",
      "       0.88234004, 0.88114368, 0.88202478, 0.88151643, 0.8819951 ]), 'split4_test_score': array([0.90788407, 0.9075917 , 0.90618162, 0.9062134 , 0.90577066,\n",
      "       0.9067808 , 0.90749623, 0.90687324, 0.90595327, 0.90601616,\n",
      "       0.89683737, 0.89671616, 0.89651074, 0.89709463, 0.89712135,\n",
      "       0.88848492, 0.88833838, 0.88837832, 0.88792001, 0.88828345,\n",
      "       0.88066476, 0.88038218, 0.88038045, 0.88059775, 0.88011589]), 'mean_test_score': array([0.90803541, 0.90810028, 0.90756247, 0.90695682, 0.90652148,\n",
      "       0.90807784, 0.90803248, 0.90787988, 0.90711409, 0.90680492,\n",
      "       0.89825173, 0.89821347, 0.89770692, 0.89776078, 0.89786458,\n",
      "       0.88942596, 0.88931669, 0.8894754 , 0.88900422, 0.88927709,\n",
      "       0.88190769, 0.88132954, 0.88187466, 0.8815957 , 0.8815343 ]), 'std_test_score': array([0.00012804, 0.00081039, 0.00084005, 0.00059496, 0.00051102,\n",
      "       0.00067284, 0.00036279, 0.00084588, 0.00075599, 0.00083669,\n",
      "       0.00078901, 0.00080047, 0.00063728, 0.00040283, 0.0004435 ,\n",
      "       0.00056314, 0.00090525, 0.0006745 , 0.00071513, 0.00054942,\n",
      "       0.00068653, 0.00077479, 0.00083337, 0.0007    , 0.00085259]), 'rank_test_score': array([ 3,  1,  6,  8, 10,  2,  4,  5,  7,  9, 11, 12, 15, 14, 13, 17, 18,\n",
      "       16, 20, 19, 21, 25, 22, 23, 24], dtype=int32)}\n",
      "best_param：{'reg_alpha': 0.05, 'reg_lambda': 0.1}\n",
      "best_score:0.908100282614677\n",
      "CPU times: user 34min 59s, sys: 10.9 s, total: 35min 10s\n",
      "Wall time: 8h 20min 1s\n"
     ]
    }
   ],
   "source": [
    "%%time\n",
    "cv_params = {'reg_alpha': [0.05, 0.1, 1, 2, 3], 'reg_lambda': [0.05, 0.1, 1, 2, 3]}\n",
    "other_params = {'learning_rate': 0.1, 'n_estimators': 800, 'max_depth': 10, 'min_child_weight': 1, 'seed': 0,\n",
    "                    'subsample': 0.8, 'colsample_bytree': 0.9, 'gamma': 0, 'reg_alpha': 0, 'reg_lambda': 1}\n",
    "\n",
    "model = xgb.XGBRegressor(**other_params)\n",
    "optimized_GBM = GridSearchCV(estimator=model, param_grid=cv_params, scoring='r2', cv=5, verbose=1, n_jobs=4)\n",
    "optimized_GBM.fit(X_train, y_train)\n",
    "evalute_result = optimized_GBM.cv_results_\n",
    "print('evaluate_result:{0}'.format(evalute_result))\n",
    "print('best_param：{0}'.format(optimized_GBM.best_params_))\n",
    "print('best_score:{0}'.format(optimized_GBM.best_score_))"
   ]
  },
  {
   "cell_type": "code",
   "execution_count": 15,
   "id": "814bc509-3fc6-46a0-8b90-4f47be6e54cc",
   "metadata": {},
   "outputs": [
    {
     "name": "stdout",
     "output_type": "stream",
     "text": [
      "Fitting 5 folds for each of 5 candidates, totalling 25 fits\n",
      "evaluate_result:{'mean_fit_time': array([936.41231818, 947.69680576, 937.09545789, 931.75016794,\n",
      "       808.54696078]), 'std_fit_time': array([  5.15337111,  12.52292384,  10.12724183,   7.56702251,\n",
      "       249.19374259]), 'mean_score_time': array([7.54961801, 3.51073976, 2.76166825, 2.57214832, 2.0479569 ]), 'std_score_time': array([1.93637684, 0.55853819, 0.59567274, 0.10288739, 0.66090822]), 'param_learning_rate': masked_array(data=[0.01, 0.05, 0.07, 0.1, 0.2],\n",
      "             mask=[False, False, False, False, False],\n",
      "       fill_value='?',\n",
      "            dtype=object), 'params': [{'learning_rate': 0.01}, {'learning_rate': 0.05}, {'learning_rate': 0.07}, {'learning_rate': 0.1}, {'learning_rate': 0.2}], 'split0_test_score': array([0.8369078 , 0.9007358 , 0.90488363, 0.90712264, 0.90519248]), 'split1_test_score': array([0.83640814, 0.90067693, 0.90531976, 0.90814674, 0.90359468]), 'split2_test_score': array([0.83968509, 0.90172364, 0.90683103, 0.90953802, 0.90514359]), 'split3_test_score': array([0.83765396, 0.90035084, 0.90535619, 0.90810232, 0.90621412]), 'split4_test_score': array([0.83684038, 0.89949559, 0.90413717, 0.9075917 , 0.90618144]), 'mean_test_score': array([0.83749908, 0.90059656, 0.90530555, 0.90810028, 0.90526526]), 'std_test_score': array([0.00116415, 0.00071675, 0.00088011, 0.00081039, 0.00095401]), 'rank_test_score': array([5, 4, 2, 1, 3], dtype=int32)}\n",
      "best_param：{'learning_rate': 0.1}\n",
      "best_score:0.908100282614677\n",
      "CPU times: user 34min 45s, sys: 9.49 s, total: 34min 55s\n",
      "Wall time: 1h 44min 34s\n"
     ]
    }
   ],
   "source": [
    "%%time\n",
    "cv_params = {'learning_rate': [0.01, 0.05, 0.07, 0.1, 0.2]}\n",
    "other_params = {'learning_rate': 0.1, 'n_estimators': 800, 'max_depth': 10, 'min_child_weight': 1, 'seed': 0,\n",
    "                    'subsample': 0.8, 'colsample_bytree': 0.9, 'gamma': 0, 'reg_alpha': 0.05, 'reg_lambda': 0.1}\n",
    "\n",
    "model = xgb.XGBRegressor(**other_params)\n",
    "optimized_GBM = GridSearchCV(estimator=model, param_grid=cv_params, scoring='r2', cv=5, verbose=1, n_jobs=4)\n",
    "optimized_GBM.fit(X_train, y_train)\n",
    "evalute_result = optimized_GBM.cv_results_\n",
    "print('evaluate_result:{0}'.format(evalute_result))\n",
    "print('best_param：{0}'.format(optimized_GBM.best_params_))\n",
    "print('best_score:{0}'.format(optimized_GBM.best_score_))"
   ]
  },
  {
   "cell_type": "code",
   "execution_count": 16,
   "id": "d11a850f-334b-4938-86fc-d5e1052f1ba2",
   "metadata": {},
   "outputs": [
    {
     "name": "stdout",
     "output_type": "stream",
     "text": [
      "Fitting 5 folds for each of 5 candidates, totalling 25 fits\n",
      "evaluate_result:{'mean_fit_time': array([ 777.93094192,  865.19423723,  945.69795704, 1035.59795475,\n",
      "        983.19041643]), 'std_fit_time': array([  1.97437102,   9.64126279,   8.88739014,   9.58400148,\n",
      "       248.72566499]), 'mean_score_time': array([5.43432469, 2.35194683, 3.71925111, 5.68573766, 2.43204679]), 'std_score_time': array([1.63712581, 0.15703752, 1.91956085, 2.2098727 , 0.77381487]), 'param_n_estimators': masked_array(data=[650, 725, 800, 875, 950],\n",
      "             mask=[False, False, False, False, False],\n",
      "       fill_value='?',\n",
      "            dtype=object), 'params': [{'n_estimators': 650}, {'n_estimators': 725}, {'n_estimators': 800}, {'n_estimators': 875}, {'n_estimators': 950}], 'split0_test_score': array([0.90406088, 0.90582005, 0.90712264, 0.90838759, 0.9094504 ]), 'split1_test_score': array([0.90495751, 0.90649239, 0.90814674, 0.90941019, 0.91037554]), 'split2_test_score': array([0.90623277, 0.90793044, 0.90953802, 0.91056526, 0.91162728]), 'split3_test_score': array([0.90515737, 0.90680212, 0.90810232, 0.90936212, 0.91016636]), 'split4_test_score': array([0.90463704, 0.90628059, 0.9075917 , 0.90866054, 0.90972243]), 'mean_test_score': array([0.90500911, 0.90666512, 0.90810028, 0.90927714, 0.9102684 ]), 'std_test_score': array([0.00071548, 0.00070875, 0.00081039, 0.00075573, 0.00075308]), 'rank_test_score': array([5, 4, 3, 2, 1], dtype=int32)}\n",
      "best_param：{'n_estimators': 950}\n",
      "best_score:0.9102684002366134\n",
      "CPU times: user 41min 23s, sys: 11.9 s, total: 41min 35s\n",
      "Wall time: 1h 47min 20s\n"
     ]
    }
   ],
   "source": [
    "%%time\n",
    "cv_params = {'n_estimators': [650, 725, 800, 875, 950]}\n",
    "other_params = {'learning_rate': 0.1, 'n_estimators': 800, 'max_depth': 10, 'min_child_weight': 1, 'seed': 0,\n",
    "                    'subsample': 0.8, 'colsample_bytree': 0.9, 'gamma': 0, 'reg_alpha': 0.05, 'reg_lambda': 0.1}\n",
    "\n",
    "model = xgb.XGBRegressor(**other_params)\n",
    "optimized_GBM = GridSearchCV(estimator=model, param_grid=cv_params, scoring='r2', cv=5, verbose=1, n_jobs=4)\n",
    "optimized_GBM.fit(X_train, y_train)\n",
    "evalute_result = optimized_GBM.cv_results_\n",
    "print('evaluate_result:{0}'.format(evalute_result))\n",
    "print('best_param：{0}'.format(optimized_GBM.best_params_))\n",
    "print('best_score:{0}'.format(optimized_GBM.best_score_))"
   ]
  },
  {
   "cell_type": "code",
   "execution_count": 9,
   "id": "bbf5287d-4359-41df-8aa7-8a28baca4767",
   "metadata": {},
   "outputs": [],
   "source": [
    "xgb_reg = xgb.XGBRegressor('learning_rate': 0.1, 'n_estimators': 400, 'max_depth': 5, 'min_child_weight': 1, 'seed': 0,\n",
    "                    'subsample': 0.8, 'colsample_bytree': 0.8, 'gamma': 0, 'reg_alpha': 0, 'reg_lambda': 1)"
   ]
  },
  {
   "cell_type": "code",
   "execution_count": 10,
   "id": "81d9d42a-10a4-483d-a31f-f3faf3705f0f",
   "metadata": {},
   "outputs": [
    {
     "data": {
      "text/plain": [
       "XGBRegressor(base_score=0.5, booster='gbtree', colsample_bylevel=1,\n",
       "             colsample_bynode=1, colsample_bytree=1, enable_categorical=False,\n",
       "             gamma=0, gpu_id=-1, importance_type=None,\n",
       "             interaction_constraints='', learning_rate=0.300000012,\n",
       "             max_delta_step=0, max_depth=6, min_child_weight=1, missing=nan,\n",
       "             monotone_constraints='()', n_estimators=100, n_jobs=8,\n",
       "             num_parallel_tree=1, predictor='auto', random_state=0, reg_alpha=0,\n",
       "             reg_lambda=1, scale_pos_weight=1, subsample=1, tree_method='exact',\n",
       "             validate_parameters=1, verbosity=None)"
      ]
     },
     "execution_count": 10,
     "metadata": {},
     "output_type": "execute_result"
    }
   ],
   "source": [
    "xgb_reg.fit(X_train, y_train)"
   ]
  },
  {
   "cell_type": "code",
   "execution_count": 11,
   "id": "dc3e8623-25a8-4451-a5ab-8e76a7fafb52",
   "metadata": {},
   "outputs": [],
   "source": [
    "y_pred = xgb_reg.predict(X_test)"
   ]
  },
  {
   "cell_type": "code",
   "execution_count": 12,
   "id": "b4edcd2c-51e6-4946-8617-57909fe0c252",
   "metadata": {},
   "outputs": [
    {
     "name": "stdout",
     "output_type": "stream",
     "text": [
      "R2score is 0.8318714674220904\n",
      "MAE is 0.020981251245801788\n",
      "MSE is 0.0008497341675312962\n"
     ]
    }
   ],
   "source": [
    "r2score= r2_score(y_test, y_pred)\n",
    "print('R2score is',r2score )\n",
    "MAE=mean_absolute_error(y_test, y_pred)\n",
    "print('MAE is',MAE)\n",
    "MSE=mean_squared_error(y_test, y_pred)\n",
    "print('MSE is',MSE)"
   ]
  }
 ],
 "metadata": {
  "kernelspec": {
   "display_name": "Python",
   "language": "python",
   "name": "python3"
  },
  "language_info": {
   "codemirror_mode": {
    "name": "ipython",
    "version": 3
   },
   "file_extension": ".py",
   "mimetype": "text/x-python",
   "name": "python",
   "nbconvert_exporter": "python",
   "pygments_lexer": "ipython3",
   "version": "3.8.10"
  }
 },
 "nbformat": 4,
 "nbformat_minor": 5
}
