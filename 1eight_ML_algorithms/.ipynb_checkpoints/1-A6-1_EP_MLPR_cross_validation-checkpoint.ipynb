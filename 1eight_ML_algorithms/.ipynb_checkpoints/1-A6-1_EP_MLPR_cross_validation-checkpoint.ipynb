{
 "cells": [
  {
   "cell_type": "markdown",
   "metadata": {
    "colab_type": "text",
    "id": "l_LulNCC8z96"
   },
   "source": [
    "# MLP - multilayer perceptron regression"
   ]
  },
  {
   "cell_type": "code",
   "execution_count": 10,
   "metadata": {
    "colab": {},
    "colab_type": "code",
    "id": "nhKd4hWx9GFt"
   },
   "outputs": [],
   "source": [
    "import matplotlib.pyplot as plt\n",
    "import numpy as np\n",
    "import pandas as pd\n",
    "import pickle\n",
    "\n",
    "from sklearn.metrics import r2_score, mean_absolute_error, mean_squared_error\n",
    "from sklearn.preprocessing import StandardScaler\n",
    "from sklearn.model_selection import train_test_split\n",
    "from sklearn.model_selection import KFold\n",
    "from sklearn.neural_network import MLPRegressor\n",
    "\n",
    "from pathlib import Path"
   ]
  },
  {
   "cell_type": "code",
   "execution_count": 11,
   "metadata": {},
   "outputs": [],
   "source": [
    "path_data = Path(r'../../../../Input_data/')"
   ]
  },
  {
   "cell_type": "markdown",
   "metadata": {
    "colab_type": "text",
    "id": "6JhpWJi59J1p"
   },
   "source": [
    "## Importing the dataset"
   ]
  },
  {
   "cell_type": "code",
   "execution_count": 12,
   "metadata": {
    "colab": {},
    "colab_type": "code",
    "id": "f8GfYDZ59O18"
   },
   "outputs": [
    {
     "data": {
      "text/html": [
       "<div>\n",
       "<style scoped>\n",
       "    .dataframe tbody tr th:only-of-type {\n",
       "        vertical-align: middle;\n",
       "    }\n",
       "\n",
       "    .dataframe tbody tr th {\n",
       "        vertical-align: top;\n",
       "    }\n",
       "\n",
       "    .dataframe thead th {\n",
       "        text-align: right;\n",
       "    }\n",
       "</style>\n",
       "<table border=\"1\" class=\"dataframe\">\n",
       "  <thead>\n",
       "    <tr style=\"text-align: right;\">\n",
       "      <th></th>\n",
       "      <th>Year</th>\n",
       "      <th>DOY</th>\n",
       "      <th>EVI</th>\n",
       "      <th>Evapo</th>\n",
       "      <th>LST_Daily</th>\n",
       "      <th>LST_Diff</th>\n",
       "      <th>NDVI</th>\n",
       "      <th>TI</th>\n",
       "      <th>T_air</th>\n",
       "      <th>API</th>\n",
       "      <th>Clay</th>\n",
       "      <th>Elevation</th>\n",
       "      <th>lat</th>\n",
       "      <th>lon</th>\n",
       "      <th>OMC</th>\n",
       "      <th>Porosity</th>\n",
       "      <th>Sand</th>\n",
       "      <th>Silt</th>\n",
       "      <th>Preci</th>\n",
       "      <th>Soil Moisture</th>\n",
       "    </tr>\n",
       "  </thead>\n",
       "  <tbody>\n",
       "    <tr>\n",
       "      <th>0</th>\n",
       "      <td>2015</td>\n",
       "      <td>222</td>\n",
       "      <td>0.120117</td>\n",
       "      <td>-0.002280</td>\n",
       "      <td>29.12</td>\n",
       "      <td>31.14</td>\n",
       "      <td>0.183740</td>\n",
       "      <td>11.589293</td>\n",
       "      <td>23.996123</td>\n",
       "      <td>8.695007</td>\n",
       "      <td>19.700001</td>\n",
       "      <td>1752.627563</td>\n",
       "      <td>40.078119</td>\n",
       "      <td>-112.361396</td>\n",
       "      <td>3.56868</td>\n",
       "      <td>0.490566</td>\n",
       "      <td>37.700001</td>\n",
       "      <td>42.700001</td>\n",
       "      <td>0.000853</td>\n",
       "      <td>0.092000</td>\n",
       "    </tr>\n",
       "    <tr>\n",
       "      <th>1</th>\n",
       "      <td>2010</td>\n",
       "      <td>177</td>\n",
       "      <td>0.515586</td>\n",
       "      <td>-0.004072</td>\n",
       "      <td>19.55</td>\n",
       "      <td>8.68</td>\n",
       "      <td>0.685505</td>\n",
       "      <td>14.058996</td>\n",
       "      <td>21.684099</td>\n",
       "      <td>14.624732</td>\n",
       "      <td>22.799999</td>\n",
       "      <td>153.939468</td>\n",
       "      <td>48.726702</td>\n",
       "      <td>3.203102</td>\n",
       "      <td>6.65464</td>\n",
       "      <td>0.509434</td>\n",
       "      <td>10.400000</td>\n",
       "      <td>66.800003</td>\n",
       "      <td>0.000849</td>\n",
       "      <td>0.001500</td>\n",
       "    </tr>\n",
       "    <tr>\n",
       "      <th>2</th>\n",
       "      <td>2012</td>\n",
       "      <td>79</td>\n",
       "      <td>0.238310</td>\n",
       "      <td>-0.002077</td>\n",
       "      <td>8.04</td>\n",
       "      <td>10.50</td>\n",
       "      <td>0.410580</td>\n",
       "      <td>14.444198</td>\n",
       "      <td>8.660008</td>\n",
       "      <td>4.510628</td>\n",
       "      <td>23.799999</td>\n",
       "      <td>73.877228</td>\n",
       "      <td>43.717169</td>\n",
       "      <td>3.857831</td>\n",
       "      <td>6.98220</td>\n",
       "      <td>0.490566</td>\n",
       "      <td>29.799999</td>\n",
       "      <td>46.400002</td>\n",
       "      <td>0.321031</td>\n",
       "      <td>0.123435</td>\n",
       "    </tr>\n",
       "    <tr>\n",
       "      <th>3</th>\n",
       "      <td>2013</td>\n",
       "      <td>95</td>\n",
       "      <td>0.188224</td>\n",
       "      <td>-0.002522</td>\n",
       "      <td>12.32</td>\n",
       "      <td>29.50</td>\n",
       "      <td>0.352700</td>\n",
       "      <td>15.731341</td>\n",
       "      <td>7.477071</td>\n",
       "      <td>13.977669</td>\n",
       "      <td>31.600000</td>\n",
       "      <td>213.627564</td>\n",
       "      <td>40.052801</td>\n",
       "      <td>-88.372904</td>\n",
       "      <td>6.39604</td>\n",
       "      <td>0.471698</td>\n",
       "      <td>8.800000</td>\n",
       "      <td>59.599998</td>\n",
       "      <td>0.000435</td>\n",
       "      <td>0.394130</td>\n",
       "    </tr>\n",
       "    <tr>\n",
       "      <th>4</th>\n",
       "      <td>2007</td>\n",
       "      <td>299</td>\n",
       "      <td>0.435490</td>\n",
       "      <td>-0.001802</td>\n",
       "      <td>8.66</td>\n",
       "      <td>7.38</td>\n",
       "      <td>0.882154</td>\n",
       "      <td>12.428805</td>\n",
       "      <td>7.207212</td>\n",
       "      <td>52.144912</td>\n",
       "      <td>40.299999</td>\n",
       "      <td>192.723587</td>\n",
       "      <td>45.249999</td>\n",
       "      <td>-123.280000</td>\n",
       "      <td>16.34352</td>\n",
       "      <td>0.539623</td>\n",
       "      <td>15.800000</td>\n",
       "      <td>43.799999</td>\n",
       "      <td>0.001720</td>\n",
       "      <td>0.387500</td>\n",
       "    </tr>\n",
       "  </tbody>\n",
       "</table>\n",
       "</div>"
      ],
      "text/plain": [
       "   Year  DOY       EVI     Evapo  LST_Daily  LST_Diff      NDVI         TI  \\\n",
       "0  2015  222  0.120117 -0.002280      29.12     31.14  0.183740  11.589293   \n",
       "1  2010  177  0.515586 -0.004072      19.55      8.68  0.685505  14.058996   \n",
       "2  2012   79  0.238310 -0.002077       8.04     10.50  0.410580  14.444198   \n",
       "3  2013   95  0.188224 -0.002522      12.32     29.50  0.352700  15.731341   \n",
       "4  2007  299  0.435490 -0.001802       8.66      7.38  0.882154  12.428805   \n",
       "\n",
       "       T_air        API       Clay    Elevation        lat         lon  \\\n",
       "0  23.996123   8.695007  19.700001  1752.627563  40.078119 -112.361396   \n",
       "1  21.684099  14.624732  22.799999   153.939468  48.726702    3.203102   \n",
       "2   8.660008   4.510628  23.799999    73.877228  43.717169    3.857831   \n",
       "3   7.477071  13.977669  31.600000   213.627564  40.052801  -88.372904   \n",
       "4   7.207212  52.144912  40.299999   192.723587  45.249999 -123.280000   \n",
       "\n",
       "        OMC  Porosity       Sand       Silt     Preci  Soil Moisture  \n",
       "0   3.56868  0.490566  37.700001  42.700001  0.000853       0.092000  \n",
       "1   6.65464  0.509434  10.400000  66.800003  0.000849       0.001500  \n",
       "2   6.98220  0.490566  29.799999  46.400002  0.321031       0.123435  \n",
       "3   6.39604  0.471698   8.800000  59.599998  0.000435       0.394130  \n",
       "4  16.34352  0.539623  15.800000  43.799999  0.001720       0.387500  "
      ]
     },
     "execution_count": 12,
     "metadata": {},
     "output_type": "execute_result"
    }
   ],
   "source": [
    "dataset = pd.read_csv(path_data / 'ML_SSM_dataset_v1_20220317/ML_training&testing_v01shuffled_20220317.csv')\n",
    "dataset.head()"
   ]
  },
  {
   "cell_type": "code",
   "execution_count": 13,
   "metadata": {},
   "outputs": [
    {
     "data": {
      "text/plain": [
       "(469434, 20)"
      ]
     },
     "execution_count": 13,
     "metadata": {},
     "output_type": "execute_result"
    }
   ],
   "source": [
    "dataset.shape"
   ]
  },
  {
   "cell_type": "markdown",
   "metadata": {},
   "source": [
    "## Construction of the matrix of characteristics (X) and the dependent variable vector (y)"
   ]
  },
  {
   "cell_type": "code",
   "execution_count": 14,
   "metadata": {},
   "outputs": [],
   "source": [
    "X = dataset.iloc[:, :-1].values #all columns, but the last\n",
    "y = dataset.iloc[:, -1].values #only the last column"
   ]
  },
  {
   "cell_type": "markdown",
   "metadata": {
    "colab_type": "text",
    "id": "AyhQaTwP9RzG"
   },
   "source": [
    "## Division of the dataset into the Training Set and the Test Set\n",
    "- Obs: \"random_state = 0\" to ensure the training and testing sets are the same each time we train the model. "
   ]
  },
  {
   "cell_type": "code",
   "execution_count": 15,
   "metadata": {
    "colab": {},
    "colab_type": "code",
    "id": "bxOOauiN9VpC"
   },
   "outputs": [],
   "source": [
    "X_train, X_test, y_train, y_test = train_test_split(X, y, test_size = 0.25, random_state = 0)"
   ]
  },
  {
   "cell_type": "markdown",
   "metadata": {},
   "source": [
    "## Very important: Feature scaling of X (z-transformation => mean = 0, std=1)\n",
    "\n",
    "### Obs: Fit_transform only applied to X_train to prevent data leaking"
   ]
  },
  {
   "cell_type": "code",
   "execution_count": 16,
   "metadata": {},
   "outputs": [
    {
     "data": {
      "text/plain": [
       "(117359, 19)"
      ]
     },
     "execution_count": 16,
     "metadata": {},
     "output_type": "execute_result"
    }
   ],
   "source": [
    "sc = StandardScaler()\n",
    "X_train = sc.fit_transform(X_train)\n",
    "X_test = sc.transform(X_test)\n",
    "X_test.shape"
   ]
  },
  {
   "cell_type": "code",
   "execution_count": 17,
   "metadata": {},
   "outputs": [
    {
     "data": {
      "text/plain": [
       "(1.0007581037794264, -2.6934007929017374e-05)"
      ]
     },
     "execution_count": 17,
     "metadata": {},
     "output_type": "execute_result"
    }
   ],
   "source": [
    "np.concatenate((X_train, X_test)).std(), np.concatenate((X_train, X_test)).mean()"
   ]
  },
  {
   "cell_type": "markdown",
   "metadata": {},
   "source": [
    "# Loading (or training) the estimator\n",
    "\n",
    "training takes long"
   ]
  },
  {
   "cell_type": "code",
   "execution_count": 18,
   "metadata": {},
   "outputs": [],
   "source": [
    "with open('../models/grid_search_30_30.pkl', 'rb') as f:\n",
    "    loaded_model = pickle.load(f)"
   ]
  },
  {
   "cell_type": "code",
   "execution_count": 19,
   "metadata": {},
   "outputs": [
    {
     "data": {
      "text/plain": [
       "MLPRegressor(activation='tanh', alpha=1e-06, hidden_layer_sizes=(30, 30),\n",
       "             learning_rate='adaptive', max_iter=1000, random_state=0,\n",
       "             tol=1e-07)"
      ]
     },
     "execution_count": 19,
     "metadata": {},
     "output_type": "execute_result"
    }
   ],
   "source": [
    "regressor = loaded_model.best_estimator_\n",
    "regressor"
   ]
  },
  {
   "cell_type": "code",
   "execution_count": 26,
   "metadata": {},
   "outputs": [
    {
     "name": "stdout",
     "output_type": "stream",
     "text": [
      "CPU times: user 5min 37s, sys: 0 ns, total: 5min 37s\n",
      "Wall time: 5min 37s\n"
     ]
    },
    {
     "data": {
      "text/plain": [
       "MLPRegressor(activation='tanh', alpha=1e-06, hidden_layer_sizes=(30, 30),\n",
       "             learning_rate='adaptive', max_iter=1000, random_state=0,\n",
       "             tol=1e-07)"
      ]
     },
     "execution_count": 26,
     "metadata": {},
     "output_type": "execute_result"
    }
   ],
   "source": [
    "# %%time\n",
    "\n",
    "# regressor = MLPRegressor(random_state=0,\n",
    "#                          hidden_layer_sizes=(30, 30), \n",
    "#                          activation = 'tanh', \n",
    "#                          solver = 'adam', \n",
    "#                          learning_rate = 'adaptive', \n",
    "#                          max_iter=1000, \n",
    "#                          early_stopping=False, \n",
    "#                          alpha=1e-6,\n",
    "#                          tol=1e-7\n",
    "#                         ) \n",
    "# regressor.fit(X_train, y_train)"
   ]
  },
  {
   "cell_type": "markdown",
   "metadata": {},
   "source": [
    "# CV"
   ]
  },
  {
   "cell_type": "code",
   "execution_count": 20,
   "metadata": {},
   "outputs": [
    {
     "data": {
      "text/html": [
       "<div>\n",
       "<style scoped>\n",
       "    .dataframe tbody tr th:only-of-type {\n",
       "        vertical-align: middle;\n",
       "    }\n",
       "\n",
       "    .dataframe tbody tr th {\n",
       "        vertical-align: top;\n",
       "    }\n",
       "\n",
       "    .dataframe thead th {\n",
       "        text-align: right;\n",
       "    }\n",
       "</style>\n",
       "<table border=\"1\" class=\"dataframe\">\n",
       "  <thead>\n",
       "    <tr style=\"text-align: right;\">\n",
       "      <th></th>\n",
       "      <th>r2score</th>\n",
       "      <th>MAE</th>\n",
       "      <th>MSE</th>\n",
       "      <th>RMSE</th>\n",
       "      <th>r</th>\n",
       "    </tr>\n",
       "  </thead>\n",
       "  <tbody>\n",
       "    <tr>\n",
       "      <th>mean</th>\n",
       "      <td>0.763818</td>\n",
       "      <td>0.040205</td>\n",
       "      <td>0.002929</td>\n",
       "      <td>0.054120</td>\n",
       "      <td>0.874126</td>\n",
       "    </tr>\n",
       "    <tr>\n",
       "      <th>std</th>\n",
       "      <td>0.000416</td>\n",
       "      <td>0.000030</td>\n",
       "      <td>0.000003</td>\n",
       "      <td>0.000029</td>\n",
       "      <td>0.000235</td>\n",
       "    </tr>\n",
       "  </tbody>\n",
       "</table>\n",
       "</div>"
      ],
      "text/plain": [
       "       r2score       MAE       MSE      RMSE         r\n",
       "mean  0.763818  0.040205  0.002929  0.054120  0.874126\n",
       "std   0.000416  0.000030  0.000003  0.000029  0.000235"
      ]
     },
     "execution_count": 20,
     "metadata": {},
     "output_type": "execute_result"
    }
   ],
   "source": [
    "res = []\n",
    "\n",
    "for train_index, test_index in KFold(n_splits=5).split(X_train):\n",
    "    # print(train_index.size)\n",
    "    X_val = X_train[train_index]\n",
    "    y_val = y_train[train_index]\n",
    "\n",
    "    y_val_pred = regressor.predict(X_val)\n",
    "    res_i = dict(\n",
    "        r2score= r2_score(y_val, y_val_pred),\n",
    "        MAE=mean_absolute_error(y_val, y_val_pred),\n",
    "        MSE=mean_squared_error(y_val, y_val_pred),\n",
    "        RMSE=np.sqrt(mean_squared_error(y_val, y_val_pred)),\n",
    "        r=np.corrcoef(y_val, y_val_pred)[0, 1]\n",
    "    )\n",
    "    res.append(res_i)\n",
    "pd.DataFrame(res).agg(['mean', 'std'])"
   ]
  }
 ],
 "metadata": {
  "colab": {
   "authorship_tag": "ABX9TyP1VVwrQU8S68bmX5lftYWC",
   "name": "Simple Linear Regression",
   "provenance": [],
   "toc_visible": true
  },
  "kernelspec": {
   "display_name": "Python",
   "language": "python",
   "name": "python3"
  },
  "language_info": {
   "codemirror_mode": {
    "name": "ipython",
    "version": 3
   },
   "file_extension": ".py",
   "mimetype": "text/x-python",
   "name": "python",
   "nbconvert_exporter": "python",
   "pygments_lexer": "ipython3",
   "version": "3.8.10"
  }
 },
 "nbformat": 4,
 "nbformat_minor": 4
}
