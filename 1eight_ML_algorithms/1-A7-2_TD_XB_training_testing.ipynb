{
 "cells": [
  {
   "cell_type": "code",
   "execution_count": 1,
   "id": "f1b6820b-135e-4635-bdb4-eb7f8b0b6a81",
   "metadata": {},
   "outputs": [],
   "source": [
    "import numpy as np\n",
    "import pandas as pd\n",
    "from xgboost import XGBRegressor\n",
    "from sklearn.metrics import r2_score, mean_absolute_error, mean_squared_error\n",
    "from sklearn.model_selection import train_test_split\n",
    "from sklearn.model_selection import GridSearchCV\n",
    "from sklearn.model_selection import cross_validate\n",
    "from sklearn.metrics import make_scorer\n",
    "from sklearn.ensemble import AdaBoostRegressor\n",
    "from sklearn.tree import DecisionTreeRegressor\n",
    "import os\n",
    "from scipy.stats import pearsonr"
   ]
  },
  {
   "cell_type": "code",
   "execution_count": 2,
   "id": "7b9ef7f0-890c-4b8d-a968-75ec28e838f6",
   "metadata": {},
   "outputs": [],
   "source": [
    "def format_val_file(file_val, index_col):\n",
    "    \"\"\"\n",
    "    The columns is kid of different from the 'shuffled_20220317.csv'\n",
    "    :param file_val: File for validate.\n",
    "    :return: X_val and y_val\n",
    "    \"\"\"\n",
    "    df_val = pd.read_csv(file_val, index_col=index_col)\n",
    "    dataset2 = pd.to_datetime(df_val['Date'])\n",
    "    DOY = dataset2.dt.dayofyear\n",
    "    Year = dataset2.dt.year\n",
    "    df_val.insert(0, 'DOY', DOY)\n",
    "    df_val.insert(0, 'Year', Year)\n",
    "    df_val.drop(labels=['Date', 'station', 'ESA-CCI', 'network'], axis=1, inplace=True)\n",
    "    y_val = df_val.iloc[:, -2].values\n",
    "    df_val.drop(labels='Soil Moisture', axis=1, inplace=True)\n",
    "    X_val = df_val.iloc[:, :].values\n",
    "\n",
    "    return X_val, y_val"
   ]
  },
  {
   "cell_type": "code",
   "execution_count": 3,
   "id": "f314c5e1-3f0b-4a49-95c1-05c6aef06351",
   "metadata": {},
   "outputs": [],
   "source": [
    "file = 'ML_training&testing_v01shuffled_20220317.csv'\n",
    "file_val = 'ML_validating_v01_20220303.csv'\n",
    "folder_independent = 'output'\n",
    "df = pd.read_csv(file)\n",
    "\n",
    "X = df.iloc[:, :-1].values\n",
    "y = df.iloc[:, -1].values\n",
    "\n",
    "# Split the training&testing data into training dataset and testing dataset, respectively.\n",
    "X_train, X_test, y_train, y_test = train_test_split(X, y, test_size=0.25, random_state=0)"
   ]
  },
  {
   "cell_type": "code",
   "execution_count": null,
   "id": "22289d3b-44df-4ab8-8d6f-67a3e2677576",
   "metadata": {},
   "outputs": [],
   "source": [
    "reg_XGB = XGBRegressor(n_estimator=800, max_depth=10, min_child_weight=1, gamma=0, subscample=0.8, colsample_bytree=0.9,\n",
    "                      reg_alpha=0.05, reg_lambda=0.1)\n",
    "ereg = reg_XGB.fit(X_train,y_train)"
   ]
  },
  {
   "cell_type": "code",
   "execution_count": null,
   "id": "828ae1e8-f054-494c-a1ed-26a1b3fb3c6e",
   "metadata": {},
   "outputs": [],
   "source": [
    "%%time\n",
    "pred = ereg.predict(X_test)\n",
    "result = pd.DataFrame([y_test,pred],index=[\"y_test\",\"y_pred\"])\n",
    "result.T.to_csv('test_random.csv')\n",
    "pearson_r = pearsonr(y_test, pred)[0]\n",
    "mse = mean_squared_error(y_test, pred)\n",
    "rmse = np.sqrt(mse)\n",
    "r2 = r2_score(y_test, pred)\n",
    "print('Testing: ')\n",
    "print(f'MSE: {mse}, RMSE: {rmse}, r2: {r2}, Pearson_r:, {pearson_r}')\n",
    "print('--------------- \\n\\n')"
   ]
  },
  {
   "cell_type": "code",
   "execution_count": null,
   "id": "b31d82f0-9b3d-4bea-9966-cd3d0254622c",
   "metadata": {},
   "outputs": [],
   "source": [
    "%%time\n",
    "X_val, y_val = format_val_file(file_val, index_col=None)\n",
    "pred_val = ereg.predict(X_val)\n",
    "result = pd.DataFrame([y_val, pred_val],index=[\"y_test\",\"y_pred\"])\n",
    "result.T.to_csv('test_temporal.csv')\n",
    "mse = mean_squared_error(y_val, pred_val)\n",
    "rmse = np.sqrt(mse)\n",
    "r2 = r2_score(y_val, pred_val)\n",
    "pearson_r = pearsonr(y_val, pred_val)[0]\n",
    "print('Validation: ')\n",
    "print(f'MSE: {mse}, RMSE: {rmse}, r2: {r2}, Pearson_r:, {pearson_r}')\n",
    "print('--------------- \\n\\n')"
   ]
  },
  {
   "cell_type": "code",
   "execution_count": null,
   "id": "a8cb0a78-cfe2-42aa-b5a7-9eb964a4b3f7",
   "metadata": {},
   "outputs": [],
   "source": [
    "%%time\n",
    "files = os.listdir(folder_independent)\n",
    "df_independent_metrics = pd.DataFrame(columns=['network', 'station', 'MSE', 'RMSE', 'R2', 'Pearson_r', 'n_size'],\n",
    "                                          dtype='object')\n",
    "for idx, file in enumerate(files):\n",
    "    # Read the data from independent stations.\n",
    "    X_val_in, y_val_in = format_val_file(os.path.join(folder_independent, file), index_col=0)\n",
    "    pred_val_in = ereg.predict(X_val_in)\n",
    "    result = pd.DataFrame([y_val_in,pred_val_in],index=[\"y_test\",\"y_pred\"])\n",
    "    result.T.to_csv(file[:-4] + '_xgb.csv')\n",
    "    mse = mean_squared_error(y_val_in, pred_val_in)\n",
    "    rmse = np.sqrt(mse)\n",
    "    r2 = r2_score(y_val_in, pred_val_in)\n",
    "    pearson_r = pearsonr(y_val_in, pred_val_in)[0]\n",
    "\n",
    "    df_val_in = pd.read_csv(os.path.join(folder_independent, file))\n",
    "\n",
    "    s_val_in = pd.Series(index=['network', 'station', 'MSE', 'RMSE', 'R2', 'Pearson_r', 'n_size'], dtype='object')\n",
    "    s_val_in['network'] = file.split('_')[1]\n",
    "    s_val_in['station'] = file.split('_')[2]\n",
    "    s_val_in['MSE'] = mse\n",
    "    s_val_in['RMSE'] = rmse\n",
    "    s_val_in['R2'] = r2\n",
    "    s_val_in['Pearson_r'] = pearson_r\n",
    "    s_val_in['n_size'] = len(df_val_in)\n",
    "    # print(idx, s_val_in)\n",
    "\n",
    "    df_independent_metrics = df_independent_metrics.append(s_val_in, ignore_index=True)\n",
    "    del s_val_in\n",
    "df_independent_metrics.to_csv('test_independent_stations.csv')"
   ]
  }
 ],
 "metadata": {
  "kernelspec": {
   "display_name": "Python",
   "language": "python",
   "name": "python3"
  },
  "language_info": {
   "codemirror_mode": {
    "name": "ipython",
    "version": 3
   },
   "file_extension": ".py",
   "mimetype": "text/x-python",
   "name": "python",
   "nbconvert_exporter": "python",
   "pygments_lexer": "ipython3",
   "version": "3.8.10"
  }
 },
 "nbformat": 4,
 "nbformat_minor": 5
}
