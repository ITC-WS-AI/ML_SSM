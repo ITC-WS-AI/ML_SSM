{
 "cells": [
  {
   "cell_type": "code",
   "execution_count": 13,
   "id": "80993fbe-6556-4a4f-8c04-b322bf9b8dbb",
   "metadata": {},
   "outputs": [],
   "source": [
    "import numpy as np\n",
    "import pandas as pd\n",
    "import xgboost as xgb\n",
    "from sklearn.metrics import r2_score, mean_absolute_error, mean_squared_error\n",
    "from sklearn.model_selection import train_test_split\n",
    "from sklearn.model_selection import GridSearchCV\n",
    "from sklearn.model_selection import cross_validate\n",
    "from sklearn.metrics import make_scorer\n",
    "from sklearn.ensemble import AdaBoostRegressor\n",
    "from sklearn.tree import DecisionTreeRegressor\n",
    "import os\n",
    "from scipy.stats import pearsonr"
   ]
  },
  {
   "cell_type": "code",
   "execution_count": 4,
   "id": "3bd101dd-e212-4889-a97d-c8a6874eeadd",
   "metadata": {},
   "outputs": [],
   "source": [
    "dataset = pd.read_csv('ML_training&testing_v01shuffled_20220317.csv')\n",
    "X = dataset.iloc[:, :-1].values.astype(float)\n",
    "y = dataset.iloc[:, -1].values.astype(float)\n",
    "X_train, X_test, y_train, y_test = train_test_split(X, y, test_size = 0.25, random_state = 0,shuffle=True)"
   ]
  },
  {
   "cell_type": "code",
   "execution_count": 5,
   "id": "03464583-3e8f-4e8d-926e-991bad3c8e67",
   "metadata": {},
   "outputs": [
    {
     "name": "stdout",
     "output_type": "stream",
     "text": [
      "CPU times: user 11min 57s, sys: 2.22 s, total: 11min 59s\n",
      "Wall time: 12min 6s\n"
     ]
    },
    {
     "data": {
      "text/plain": [
       "(-0.06525459653054759, 0.0002668389055185286)"
      ]
     },
     "execution_count": 5,
     "metadata": {},
     "output_type": "execute_result"
    }
   ],
   "source": [
    "%%time\n",
    "scoring = {'r': make_scorer(lambda x,y: np.corrcoef(x, y)[0, 1]),\n",
    "           'r2': 'r2',\n",
    "           'rmse_neg': 'neg_root_mean_squared_error'}\n",
    "\n",
    "regressor = AdaBoostRegressor(DecisionTreeRegressor(criterion='squared_error',max_depth=10),n_estimators=30,learning_rate=0.2)\n",
    "\n",
    "scores = cross_validate(regressor, X_train, y_train, scoring=scoring,\n",
    "                         cv=5, return_train_score=True)"
   ]
  },
  {
   "cell_type": "code",
   "execution_count": 6,
   "id": "9c699ee5-17d1-4cbd-b584-021c2de65505",
   "metadata": {},
   "outputs": [
    {
     "data": {
      "text/plain": [
       "(0.6566264855997824, 0.002485807104556049)"
      ]
     },
     "execution_count": 6,
     "metadata": {},
     "output_type": "execute_result"
    }
   ],
   "source": [
    "scores['test_r2'].mean(), scores['test_r2'].std()"
   ]
  },
  {
   "cell_type": "code",
   "execution_count": 7,
   "id": "71b0b0ff-a984-4663-b99b-e4008c09c6fb",
   "metadata": {},
   "outputs": [
    {
     "data": {
      "text/plain": [
       "(0.8201059883257173, 0.0016914065917151267)"
      ]
     },
     "execution_count": 7,
     "metadata": {},
     "output_type": "execute_result"
    }
   ],
   "source": [
    "scores['test_r'].mean(), scores['test_r'].std()"
   ]
  },
  {
   "cell_type": "code",
   "execution_count": 8,
   "id": "b9f4291b-59df-499e-ba0b-c450209c3e3f",
   "metadata": {},
   "outputs": [
    {
     "data": {
      "text/plain": [
       "(-0.06525459653054759, 0.0002668389055185286)"
      ]
     },
     "execution_count": 8,
     "metadata": {},
     "output_type": "execute_result"
    }
   ],
   "source": [
    "scores['test_rmse_neg'].mean(), scores['test_rmse_neg'].std()"
   ]
  }
 ],
 "metadata": {
  "kernelspec": {
   "display_name": "Python",
   "language": "python",
   "name": "python3"
  },
  "language_info": {
   "codemirror_mode": {
    "name": "ipython",
    "version": 3
   },
   "file_extension": ".py",
   "mimetype": "text/x-python",
   "name": "python",
   "nbconvert_exporter": "python",
   "pygments_lexer": "ipython3",
   "version": "3.8.10"
  }
 },
 "nbformat": 4,
 "nbformat_minor": 5
}
