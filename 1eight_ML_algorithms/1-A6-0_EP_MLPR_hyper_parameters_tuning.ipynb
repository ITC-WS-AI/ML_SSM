{
 "cells": [
  {
   "cell_type": "markdown",
   "metadata": {
    "colab_type": "text",
    "id": "l_LulNCC8z96"
   },
   "source": [
    "# Multilayer perceptron - scikit implementation"
   ]
  },
  {
   "cell_type": "code",
   "execution_count": 1,
   "metadata": {
    "colab": {},
    "colab_type": "code",
    "id": "nhKd4hWx9GFt"
   },
   "outputs": [],
   "source": [
    "import matplotlib.pyplot as plt\n",
    "import numpy as np\n",
    "import pandas as pd\n",
    "import pickle\n",
    "\n",
    "from sklearn.metrics import r2_score, mean_absolute_error, mean_squared_error\n",
    "from sklearn.preprocessing import StandardScaler\n",
    "from sklearn.model_selection import train_test_split\n",
    "from sklearn.neural_network import MLPRegressor\n",
    "from sklearn.model_selection import GridSearchCV\n",
    "\n",
    "from multiprocessing import Pool\n",
    "from pathlib import Path"
   ]
  },
  {
   "cell_type": "markdown",
   "metadata": {
    "colab_type": "text",
    "id": "6JhpWJi59J1p"
   },
   "source": [
    "## Importing the dataset"
   ]
  },
  {
   "cell_type": "code",
   "execution_count": 2,
   "metadata": {},
   "outputs": [
    {
     "data": {
      "text/html": [
       "<div>\n",
       "<style scoped>\n",
       "    .dataframe tbody tr th:only-of-type {\n",
       "        vertical-align: middle;\n",
       "    }\n",
       "\n",
       "    .dataframe tbody tr th {\n",
       "        vertical-align: top;\n",
       "    }\n",
       "\n",
       "    .dataframe thead th {\n",
       "        text-align: right;\n",
       "    }\n",
       "</style>\n",
       "<table border=\"1\" class=\"dataframe\">\n",
       "  <thead>\n",
       "    <tr style=\"text-align: right;\">\n",
       "      <th></th>\n",
       "      <th>Year</th>\n",
       "      <th>DOY</th>\n",
       "      <th>EVI</th>\n",
       "      <th>Evapo</th>\n",
       "      <th>LST_Daily</th>\n",
       "      <th>LST_Diff</th>\n",
       "      <th>NDVI</th>\n",
       "      <th>TI</th>\n",
       "      <th>T_air</th>\n",
       "      <th>API</th>\n",
       "      <th>Clay</th>\n",
       "      <th>Elevation</th>\n",
       "      <th>lat</th>\n",
       "      <th>lon</th>\n",
       "      <th>OMC</th>\n",
       "      <th>Porosity</th>\n",
       "      <th>Sand</th>\n",
       "      <th>Silt</th>\n",
       "      <th>Preci</th>\n",
       "      <th>Soil Moisture</th>\n",
       "    </tr>\n",
       "  </thead>\n",
       "  <tbody>\n",
       "    <tr>\n",
       "      <th>0</th>\n",
       "      <td>2015</td>\n",
       "      <td>222</td>\n",
       "      <td>0.120117</td>\n",
       "      <td>-0.002280</td>\n",
       "      <td>29.12</td>\n",
       "      <td>31.14</td>\n",
       "      <td>0.183740</td>\n",
       "      <td>11.589293</td>\n",
       "      <td>23.996123</td>\n",
       "      <td>8.695007</td>\n",
       "      <td>19.700001</td>\n",
       "      <td>1752.627563</td>\n",
       "      <td>40.078119</td>\n",
       "      <td>-112.361396</td>\n",
       "      <td>3.56868</td>\n",
       "      <td>0.490566</td>\n",
       "      <td>37.700001</td>\n",
       "      <td>42.700001</td>\n",
       "      <td>0.000853</td>\n",
       "      <td>0.092000</td>\n",
       "    </tr>\n",
       "    <tr>\n",
       "      <th>1</th>\n",
       "      <td>2010</td>\n",
       "      <td>177</td>\n",
       "      <td>0.515586</td>\n",
       "      <td>-0.004072</td>\n",
       "      <td>19.55</td>\n",
       "      <td>8.68</td>\n",
       "      <td>0.685505</td>\n",
       "      <td>14.058996</td>\n",
       "      <td>21.684099</td>\n",
       "      <td>14.624732</td>\n",
       "      <td>22.799999</td>\n",
       "      <td>153.939468</td>\n",
       "      <td>48.726702</td>\n",
       "      <td>3.203102</td>\n",
       "      <td>6.65464</td>\n",
       "      <td>0.509434</td>\n",
       "      <td>10.400000</td>\n",
       "      <td>66.800003</td>\n",
       "      <td>0.000849</td>\n",
       "      <td>0.001500</td>\n",
       "    </tr>\n",
       "    <tr>\n",
       "      <th>2</th>\n",
       "      <td>2012</td>\n",
       "      <td>79</td>\n",
       "      <td>0.238310</td>\n",
       "      <td>-0.002077</td>\n",
       "      <td>8.04</td>\n",
       "      <td>10.50</td>\n",
       "      <td>0.410580</td>\n",
       "      <td>14.444198</td>\n",
       "      <td>8.660008</td>\n",
       "      <td>4.510628</td>\n",
       "      <td>23.799999</td>\n",
       "      <td>73.877228</td>\n",
       "      <td>43.717169</td>\n",
       "      <td>3.857831</td>\n",
       "      <td>6.98220</td>\n",
       "      <td>0.490566</td>\n",
       "      <td>29.799999</td>\n",
       "      <td>46.400002</td>\n",
       "      <td>0.321031</td>\n",
       "      <td>0.123435</td>\n",
       "    </tr>\n",
       "    <tr>\n",
       "      <th>3</th>\n",
       "      <td>2013</td>\n",
       "      <td>95</td>\n",
       "      <td>0.188224</td>\n",
       "      <td>-0.002522</td>\n",
       "      <td>12.32</td>\n",
       "      <td>29.50</td>\n",
       "      <td>0.352700</td>\n",
       "      <td>15.731341</td>\n",
       "      <td>7.477071</td>\n",
       "      <td>13.977669</td>\n",
       "      <td>31.600000</td>\n",
       "      <td>213.627564</td>\n",
       "      <td>40.052801</td>\n",
       "      <td>-88.372904</td>\n",
       "      <td>6.39604</td>\n",
       "      <td>0.471698</td>\n",
       "      <td>8.800000</td>\n",
       "      <td>59.599998</td>\n",
       "      <td>0.000435</td>\n",
       "      <td>0.394130</td>\n",
       "    </tr>\n",
       "    <tr>\n",
       "      <th>4</th>\n",
       "      <td>2007</td>\n",
       "      <td>299</td>\n",
       "      <td>0.435490</td>\n",
       "      <td>-0.001802</td>\n",
       "      <td>8.66</td>\n",
       "      <td>7.38</td>\n",
       "      <td>0.882154</td>\n",
       "      <td>12.428805</td>\n",
       "      <td>7.207212</td>\n",
       "      <td>52.144912</td>\n",
       "      <td>40.299999</td>\n",
       "      <td>192.723587</td>\n",
       "      <td>45.249999</td>\n",
       "      <td>-123.280000</td>\n",
       "      <td>16.34352</td>\n",
       "      <td>0.539623</td>\n",
       "      <td>15.800000</td>\n",
       "      <td>43.799999</td>\n",
       "      <td>0.001720</td>\n",
       "      <td>0.387500</td>\n",
       "    </tr>\n",
       "  </tbody>\n",
       "</table>\n",
       "</div>"
      ],
      "text/plain": [
       "   Year  DOY       EVI     Evapo  LST_Daily  LST_Diff      NDVI         TI  \\\n",
       "0  2015  222  0.120117 -0.002280      29.12     31.14  0.183740  11.589293   \n",
       "1  2010  177  0.515586 -0.004072      19.55      8.68  0.685505  14.058996   \n",
       "2  2012   79  0.238310 -0.002077       8.04     10.50  0.410580  14.444198   \n",
       "3  2013   95  0.188224 -0.002522      12.32     29.50  0.352700  15.731341   \n",
       "4  2007  299  0.435490 -0.001802       8.66      7.38  0.882154  12.428805   \n",
       "\n",
       "       T_air        API       Clay    Elevation        lat         lon  \\\n",
       "0  23.996123   8.695007  19.700001  1752.627563  40.078119 -112.361396   \n",
       "1  21.684099  14.624732  22.799999   153.939468  48.726702    3.203102   \n",
       "2   8.660008   4.510628  23.799999    73.877228  43.717169    3.857831   \n",
       "3   7.477071  13.977669  31.600000   213.627564  40.052801  -88.372904   \n",
       "4   7.207212  52.144912  40.299999   192.723587  45.249999 -123.280000   \n",
       "\n",
       "        OMC  Porosity       Sand       Silt     Preci  Soil Moisture  \n",
       "0   3.56868  0.490566  37.700001  42.700001  0.000853       0.092000  \n",
       "1   6.65464  0.509434  10.400000  66.800003  0.000849       0.001500  \n",
       "2   6.98220  0.490566  29.799999  46.400002  0.321031       0.123435  \n",
       "3   6.39604  0.471698   8.800000  59.599998  0.000435       0.394130  \n",
       "4  16.34352  0.539623  15.800000  43.799999  0.001720       0.387500  "
      ]
     },
     "execution_count": 2,
     "metadata": {},
     "output_type": "execute_result"
    }
   ],
   "source": [
    "dataset = pd.read_csv('../../../Input_data/ML_SSM_dataset_v1_20220317/ML_training&testing_v01shuffled_20220317.csv')\n",
    "dataset.head()"
   ]
  },
  {
   "cell_type": "markdown",
   "metadata": {},
   "source": [
    "## Construction of the matrix of characteristics (X) and the dependent variable vector (y)"
   ]
  },
  {
   "cell_type": "code",
   "execution_count": 3,
   "metadata": {},
   "outputs": [],
   "source": [
    "X = dataset.iloc[:, :-1].values\n",
    "y = dataset.iloc[:, -1].values"
   ]
  },
  {
   "cell_type": "markdown",
   "metadata": {
    "colab_type": "text",
    "id": "AyhQaTwP9RzG"
   },
   "source": [
    "## Division of the dataset into the Training Set and the Test Set\n"
   ]
  },
  {
   "cell_type": "code",
   "execution_count": 4,
   "metadata": {
    "colab": {},
    "colab_type": "code",
    "id": "bxOOauiN9VpC"
   },
   "outputs": [],
   "source": [
    "X_train, X_test, y_train, y_test = train_test_split(X, y, test_size = 0.2, random_state = 0)"
   ]
  },
  {
   "cell_type": "markdown",
   "metadata": {},
   "source": [
    "## Very important: Feature scaling of X (z-transformation => mean = 0, std=1)"
   ]
  },
  {
   "cell_type": "code",
   "execution_count": 24,
   "metadata": {},
   "outputs": [],
   "source": [
    "sc = StandardScaler()\n",
    "X_train = sc.fit_transform(X_train)\n",
    "X_test = sc.transform(X_test)"
   ]
  },
  {
   "cell_type": "code",
   "execution_count": 25,
   "metadata": {},
   "outputs": [
    {
     "data": {
      "text/plain": [
       "(1.0007917647030506, -3.9066559978927426e-05)"
      ]
     },
     "execution_count": 25,
     "metadata": {},
     "output_type": "execute_result"
    }
   ],
   "source": [
    "np.concatenate((X_train, X_test)).std(), np.concatenate((X_train, X_test)).mean()"
   ]
  },
  {
   "cell_type": "markdown",
   "metadata": {},
   "source": [
    "# STEP 1: number of layers and number of neurons per layer\n",
    "\n",
    "spoiler: 2 layers, 30 neurons each"
   ]
  },
  {
   "cell_type": "markdown",
   "metadata": {},
   "source": [
    "## Creating regressors\n",
    "\n",
    "1 - 2 - 3 layers, max 19^4 neurons [according to the rule]"
   ]
  },
  {
   "cell_type": "code",
   "execution_count": 162,
   "metadata": {},
   "outputs": [
    {
     "name": "stdout",
     "output_type": "stream",
     "text": [
      "1\n",
      "5\n",
      "10\n",
      "15\n",
      "19\n",
      "25\n",
      "30\n",
      "38\n",
      "57\n",
      "76\n"
     ]
    }
   ],
   "source": [
    "regressors = []\n",
    "n_layers = 1  \n",
    "\n",
    "# 1 layer => 11 minutes\n",
    "# 2 layers => 30 minutes\n",
    "# 3 layers => 40 minutes\n",
    "# 4 layers => 1h15m\n",
    "\n",
    "neurons = [1, 5, 10, 15, 19, 25, 30, 19*2, 19*3, 19*4]\n",
    "\n",
    "for i in neurons:\n",
    "    print(i)\n",
    "\n",
    "    regressor_i = MLPRegressor(hidden_layer_sizes=(i, i, i, i), \n",
    "                             activation = 'relu', #[\"identity\", \"logistic\", \"tanh\", \"relu\"], \n",
    "                             solver = 'adam', #[\"lbfgs\", \"sgd\", \"adam\"], \n",
    "                             learning_rate = 'constant', #['adaptive', 'invscaling', 'constant'],\n",
    "                             max_iter=3000, early_stopping=True, tol=1e-6\n",
    "                            ) \n",
    "    # regressor.fit(X_train, y_train)\n",
    "    \n",
    "    regressors.append(regressor_i)"
   ]
  },
  {
   "cell_type": "markdown",
   "metadata": {},
   "source": [
    "## Training in parallel"
   ]
  },
  {
   "cell_type": "code",
   "execution_count": 163,
   "metadata": {},
   "outputs": [
    {
     "name": "stdout",
     "output_type": "stream",
     "text": [
      "CPU times: user 0 ns, sys: 778 ms, total: 778 ms\n",
      "Wall time: 1h 13min 15s\n"
     ]
    }
   ],
   "source": [
    "%%time\n",
    "def train_pool(regressor, X_train=X_train, y=y_train, X_test=X_test, y_test=y_test):\n",
    "    regressor.fit(X_train, y_train)\n",
    "    \n",
    "    y_pred = regressor.predict(X_test)\n",
    "\n",
    "    metrics_i = {\n",
    "        'r2': r2_score(y_test, y_pred),\n",
    "        'MAE': mean_absolute_error(y_test, y_pred),\n",
    "        'MSE': mean_squared_error(y_test, y_pred),\n",
    "        'RMSE': np.sqrt(mean_squared_error(y_test, y_pred)),\n",
    "        'r': np.corrcoef(y_test, y_pred)[0, 1]\n",
    "    }\n",
    "    \n",
    "    return regressor, metrics_i\n",
    "\n",
    "with Pool(len(regressors)) as p:\n",
    "    res = p.map(train_pool, regressors)"
   ]
  },
  {
   "cell_type": "code",
   "execution_count": 6,
   "metadata": {},
   "outputs": [],
   "source": [
    "# with open('EP/MLP/layer4.pkl', 'wb') as f:\n",
    "#     pickle.dump(res, f)  # grid_search regressor"
   ]
  },
  {
   "cell_type": "markdown",
   "metadata": {},
   "source": [
    "## Loading all trained"
   ]
  },
  {
   "cell_type": "code",
   "execution_count": 166,
   "metadata": {},
   "outputs": [],
   "source": [
    "layers = {}\n",
    "for layer in [1, 2, 3, 4]:\n",
    "    with open(f'../../EP/MLP/layer{layer}.pkl', 'rb') as f:\n",
    "        res = pickle.load(f)\n",
    "    layers[f'layer{layer}'] = res"
   ]
  },
  {
   "cell_type": "code",
   "execution_count": null,
   "metadata": {},
   "outputs": [],
   "source": [
    "dataset_val = pd.read_csv('../../../Input_data/ML_SSM_dataset_v1_20220317/ML_validating_v01_20220303.csv')\n",
    "dataset2=pd.to_datetime(dataset_val['Date']) #move the datetime column to a new DF, and convert it to a recognized panda type \n",
    "DOY=dataset2.dt.dayofyear #create a Series \"day\", where the day of the year is stored\n",
    "#also allows for weekofyear\n",
    "Year= dataset2.dt.year #create a \"year series\"\n",
    "dataset_val.insert(0, 'DOY', DOY) #insert the day series to the beggining of the dataset\n",
    "dataset_val.insert(0, 'Year', Year)#insert the year series to the beggining of the dataset\n",
    "dataset_val.drop(labels=['Date'], axis=1,inplace = True) #eliminate the date column\n",
    "Xy = dataset_val[dataset.columns]\n",
    "Xy.shape\n",
    "X = Xy.iloc[:, :-1].values #all columns, but the last\n",
    "y_val = Xy.iloc[:, -1].values #only the last column\n",
    "# sc = StandardScaler()\n",
    "# X_val = sc.fit_transform(X)\n",
    "X_val = sc.transform(X)"
   ]
  },
  {
   "cell_type": "code",
   "execution_count": 179,
   "metadata": {},
   "outputs": [],
   "source": [
    "def get_val_metrics(regressor, X_val=X_val, y_val=y_val):\n",
    "        \n",
    "    y_val_pred = regressor.predict(X_val)\n",
    "\n",
    "    metrics_i = {\n",
    "        'r2': r2_score(y_val, y_val_pred),\n",
    "        'MAE': mean_absolute_error(y_val, y_val_pred),\n",
    "        'MSE': mean_squared_error(y_val, y_val_pred),\n",
    "        'RMSE': np.sqrt(mean_squared_error(y_val, y_val_pred)),\n",
    "        'r': np.corrcoef(y_val, y_val_pred)[0, 1]\n",
    "    }\n",
    "    \n",
    "    return metrics_i"
   ]
  },
  {
   "cell_type": "code",
   "execution_count": 180,
   "metadata": {},
   "outputs": [],
   "source": [
    "metrics_val = {}\n",
    "for k, res in layers.items():\n",
    "    reg_res = []\n",
    "    for reg_i, _ in res:\n",
    "        reg_res.append((reg_i, get_val_metrics(reg_i)))\n",
    "    metrics_val[k] = reg_res"
   ]
  },
  {
   "cell_type": "code",
   "execution_count": 213,
   "metadata": {},
   "outputs": [
    {
     "data": {
      "text/plain": [
       "<matplotlib.legend.Legend at 0x7f06769ab520>"
      ]
     },
     "execution_count": 213,
     "metadata": {},
     "output_type": "execute_result"
    },
    {
     "data": {
      "image/png": "[encoded data removed]",
      "text/plain": [
       "<Figure size 432x288 with 1 Axes>"
      ]
     },
     "metadata": {
      "needs_background": "light"
     },
     "output_type": "display_data"
    }
   ],
   "source": [
    "var = ['r2', 'MAE', 'MSE', 'RMSE', 'r']\n",
    "var = 'r2'\n",
    "\n",
    "for k, res in metrics_val.items():\n",
    "    plt.plot(neurons, [x[1][var] for x in res])\n",
    "    # plt.plot(neurons, [x[0].loss_ for x in res])\n",
    "plt.legend(layers.keys())\n",
    "plt.xlabel('N neurons')\n",
    "plt.ylabel(var)\n",
    "# plt.plot(30, r2score, 'x')  # optimized will be available after step 2\n",
    "plt.legend(list(layers.keys()) + ['optimized'])"
   ]
  },
  {
   "cell_type": "markdown",
   "metadata": {},
   "source": [
    "# STEP 2: fitting (30, 30) for other hyperparameters"
   ]
  },
  {
   "cell_type": "code",
   "execution_count": 205,
   "metadata": {},
   "outputs": [],
   "source": [
    "# expected fit 21h (2 min * 648) in fact run 30 minutes\n",
    "parameters = {  # the last is the default\n",
    "    \"activation\": [\"identity\", \"logistic\", \"tanh\", \"relu\"], \n",
    "    # \"solver\": [\"lbfgs\", \"sgd\", \"adam\"],   # other than adam never finish\n",
    "    \"learning_rate\": ['adaptive', 'invscaling', 'constant'],\n",
    "    \"tol\": 10.0 ** -np.arange(4, 8),\n",
    "    \"alpha\": 10.0 ** -np.arange(4, 7),\n",
    "    \"early_stopping\": [True, False]\n",
    "}"
   ]
  },
  {
   "cell_type": "code",
   "execution_count": 201,
   "metadata": {},
   "outputs": [
    {
     "data": {
      "text/plain": [
       "{'activation': ['identity', 'logistic', 'tanh', 'relu'],\n",
       " 'learning_rate': ['adaptive', 'invscaling', 'constant'],\n",
       " 'tol': array([1.e-04, 1.e-05, 1.e-06, 1.e-07]),\n",
       " 'alpha': array([1.e+00, 1.e-01, 1.e-02, 1.e-03, 1.e-04, 1.e-05]),\n",
       " 'early_stopping': [True, False]}"
      ]
     },
     "execution_count": 201,
     "metadata": {},
     "output_type": "execute_result"
    }
   ],
   "source": [
    "parameters"
   ]
  },
  {
   "cell_type": "markdown",
   "metadata": {},
   "source": [
    "# CV gridsearch"
   ]
  },
  {
   "cell_type": "code",
   "execution_count": 207,
   "metadata": {},
   "outputs": [
    {
     "name": "stdout",
     "output_type": "stream",
     "text": [
      "Fitting 2 folds for each of 288 candidates, totalling 576 fits\n",
      "Best Accuracy: 75.45 %\n",
      "Best Parameters: {'activation': 'tanh', 'alpha': 1e-06, 'early_stopping': False, 'learning_rate': 'adaptive', 'tol': 1e-07}\n",
      "CPU times: user 9min 7s, sys: 1.88 s, total: 9min 9s\n",
      "Wall time: 1h 27min 24s\n"
     ]
    }
   ],
   "source": [
    "%%time\n",
    "\n",
    "regressor = MLPRegressor(random_state=0, \n",
    "                         max_iter=1000, \n",
    "                         solver='adam',\n",
    "                         hidden_layer_sizes=(30, 30)\n",
    "                        )\n",
    "\n",
    "grid_search = GridSearchCV(estimator = regressor,\n",
    "                           param_grid = parameters,\n",
    "                           scoring = 'r2', #'accuracy',for classification only\n",
    "                           verbose=True,\n",
    "                           cv = 2,\n",
    "                           n_jobs = 20)  # or -1 to use all CPUs\n",
    "\n",
    "grid_search.fit(X_train, y_train)\n",
    "best_accuracy = grid_search.best_score_\n",
    "best_parameters = grid_search.best_params_\n",
    "print(\"Best Accuracy: {:.2f} %\".format(best_accuracy*100))\n",
    "print(\"Best Parameters:\", best_parameters)"
   ]
  },
  {
   "cell_type": "code",
   "execution_count": 2,
   "metadata": {},
   "outputs": [],
   "source": [
    "# with open('EP/MLP/grid_search_30_30.pkl', 'wb') as f:\n",
    "#     pickle.dump(grid_search, f)  # grid_search regressor"
   ]
  },
  {
   "cell_type": "code",
   "execution_count": 77,
   "metadata": {},
   "outputs": [],
   "source": [
    "# with open('EP/MLP/grid_search_30_30.pkl', 'rb') as f:\n",
    "#     loaded_model = pickle.load(f)\n",
    "# loaded_model.score(X_test, y_test)"
   ]
  }
 ],
 "metadata": {
  "colab": {
   "authorship_tag": "ABX9TyP1VVwrQU8S68bmX5lftYWC",
   "name": "Simple Linear Regression",
   "provenance": [],
   "toc_visible": true
  },
  "kernelspec": {
   "display_name": "Python",
   "language": "python",
   "name": "python3"
  },
  "language_info": {
   "codemirror_mode": {
    "name": "ipython",
    "version": 3
   },
   "file_extension": ".py",
   "mimetype": "text/x-python",
   "name": "python",
   "nbconvert_exporter": "python",
   "pygments_lexer": "ipython3",
   "version": "3.8.10"
  }
 },
 "nbformat": 4,
 "nbformat_minor": 4
}
