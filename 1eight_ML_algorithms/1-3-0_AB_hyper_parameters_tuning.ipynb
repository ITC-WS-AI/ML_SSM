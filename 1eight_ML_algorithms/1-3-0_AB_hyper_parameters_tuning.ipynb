{
 "cells": [
  {
   "cell_type": "code",
   "execution_count": null,
   "id": "06482852-51d6-44b6-8a7f-2107c2be9eae",
   "metadata": {},
   "outputs": [],
   "source": [
    "import pandas as pd\n",
    "from sklearn.model_selection import train_test_split\n",
    "from sklearn.model_selection import GridSearchCV\n",
    "from sklearn.ensemble import AdaBoostRegressor\n",
    "from sklearn.tree import DecisionTreeRegressor\n",
    "from datetime import datetime\n",
    "\n",
    "time_0 = datetime.now()\n",
    "start_time = time_0.strftime(\"%Y-%m-%d %H:%M:%S\")\n",
    "print('Program start running at: %s. ' % start_time)\n",
    "\n",
    "dataset = pd.read_csv('ML_training&testing_v01shuffled_20220317.csv')\n",
    "X = dataset.iloc[:, :-1].values.astype(float)\n",
    "y = dataset.iloc[:, -1].values.astype(float)\n",
    "X_train, X_test, y_train, y_test = train_test_split(X, y, test_size = 0.25, random_state = 0,shuffle=True)\n",
    "\n",
    "param_dist = {\n",
    "    'estimator__max_depth':[3,5,10],\n",
    "    'estimator__criterion':['squared_error','friedman_mse','poisson'],\n",
    "    'n_estimators':[30],\n",
    "    'learning_rate':[0.2]\n",
    "}\n",
    "dtr=DecisionTreeRegressor()\n",
    "ada=AdaBoostRegressor(estimator=dtr)\n",
    "grid_search = GridSearchCV(estimator = ada,\n",
    "                           param_grid = param_dist,\n",
    "                           cv = 2,\n",
    "                           scoring='r2',\n",
    "                           verbose=1,\n",
    "                           n_jobs = -1)\n",
    "grid_search.fit(X_train, y_train)\n",
    "evalute_result = grid_search.cv_results_\n",
    "print('evaluate_result:{0}'.format(evalute_result))\n",
    "print('best_param：{0}'.format(grid_search.best_params_))\n",
    "print('best_score:{0}'.format(grid_search.best_score_))\n",
    "\n",
    "time_1 = datetime.now()\n",
    "end_time = time_1.strftime(\"%Y-%m-%d %H:%M:%S\")\n",
    "print('program end running at: %s.' % end_time)\n",
    "time_consuming = (time_1 - time_0).seconds\n",
    "print('It takes %d seconds to run this scripts' % int(time_consuming))"
   ]
  }
 ],
 "metadata": {
  "kernelspec": {
   "display_name": "Python",
   "language": "python",
   "name": "python3"
  },
  "language_info": {
   "codemirror_mode": {
    "name": "ipython",
    "version": 3
   },
   "file_extension": ".py",
   "mimetype": "text/x-python",
   "name": "python",
   "nbconvert_exporter": "python",
   "pygments_lexer": "ipython3",
   "version": "3.8.10"
  }
 },
 "nbformat": 4,
 "nbformat_minor": 5
}
