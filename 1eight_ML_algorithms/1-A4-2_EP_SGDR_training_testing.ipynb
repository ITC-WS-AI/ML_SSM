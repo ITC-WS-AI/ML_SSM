{
 "cells": [
  {
   "cell_type": "markdown",
   "metadata": {
    "colab_type": "text",
    "id": "l_LulNCC8z96"
   },
   "source": [
    "# SGDRegressor"
   ]
  },
  {
   "cell_type": "code",
   "execution_count": 1,
   "metadata": {
    "colab": {},
    "colab_type": "code",
    "id": "nhKd4hWx9GFt"
   },
   "outputs": [],
   "source": [
    "import matplotlib.pyplot as plt\n",
    "import numpy as np\n",
    "import pandas as pd\n",
    "import pickle\n",
    "\n",
    "from sklearn.metrics import r2_score, mean_absolute_error, mean_squared_error\n",
    "from sklearn.preprocessing import StandardScaler\n",
    "from sklearn.model_selection import train_test_split\n",
    "from sklearn.linear_model import SGDRegressor\n",
    "\n",
    "from pathlib import Path"
   ]
  },
  {
   "cell_type": "code",
   "execution_count": 2,
   "metadata": {},
   "outputs": [],
   "source": [
    "path_data = Path(r'../../../Input_data/')"
   ]
  },
  {
   "cell_type": "markdown",
   "metadata": {
    "colab_type": "text",
    "id": "6JhpWJi59J1p"
   },
   "source": [
    "## Importing the dataset"
   ]
  },
  {
   "cell_type": "code",
   "execution_count": 3,
   "metadata": {
    "colab": {},
    "colab_type": "code",
    "id": "f8GfYDZ59O18"
   },
   "outputs": [
    {
     "data": {
      "text/html": [
       "<div>\n",
       "<style scoped>\n",
       "    .dataframe tbody tr th:only-of-type {\n",
       "        vertical-align: middle;\n",
       "    }\n",
       "\n",
       "    .dataframe tbody tr th {\n",
       "        vertical-align: top;\n",
       "    }\n",
       "\n",
       "    .dataframe thead th {\n",
       "        text-align: right;\n",
       "    }\n",
       "</style>\n",
       "<table border=\"1\" class=\"dataframe\">\n",
       "  <thead>\n",
       "    <tr style=\"text-align: right;\">\n",
       "      <th></th>\n",
       "      <th>Year</th>\n",
       "      <th>DOY</th>\n",
       "      <th>EVI</th>\n",
       "      <th>Evapo</th>\n",
       "      <th>LST_Daily</th>\n",
       "      <th>LST_Diff</th>\n",
       "      <th>NDVI</th>\n",
       "      <th>TI</th>\n",
       "      <th>T_air</th>\n",
       "      <th>API</th>\n",
       "      <th>Clay</th>\n",
       "      <th>Elevation</th>\n",
       "      <th>lat</th>\n",
       "      <th>lon</th>\n",
       "      <th>OMC</th>\n",
       "      <th>Porosity</th>\n",
       "      <th>Sand</th>\n",
       "      <th>Silt</th>\n",
       "      <th>Preci</th>\n",
       "      <th>Soil Moisture</th>\n",
       "    </tr>\n",
       "  </thead>\n",
       "  <tbody>\n",
       "    <tr>\n",
       "      <th>0</th>\n",
       "      <td>2015</td>\n",
       "      <td>222</td>\n",
       "      <td>0.120117</td>\n",
       "      <td>-0.002280</td>\n",
       "      <td>29.12</td>\n",
       "      <td>31.14</td>\n",
       "      <td>0.183740</td>\n",
       "      <td>11.589293</td>\n",
       "      <td>23.996123</td>\n",
       "      <td>8.695007</td>\n",
       "      <td>19.700001</td>\n",
       "      <td>1752.627563</td>\n",
       "      <td>40.078119</td>\n",
       "      <td>-112.361396</td>\n",
       "      <td>3.56868</td>\n",
       "      <td>0.490566</td>\n",
       "      <td>37.700001</td>\n",
       "      <td>42.700001</td>\n",
       "      <td>0.000853</td>\n",
       "      <td>0.092000</td>\n",
       "    </tr>\n",
       "    <tr>\n",
       "      <th>1</th>\n",
       "      <td>2010</td>\n",
       "      <td>177</td>\n",
       "      <td>0.515586</td>\n",
       "      <td>-0.004072</td>\n",
       "      <td>19.55</td>\n",
       "      <td>8.68</td>\n",
       "      <td>0.685505</td>\n",
       "      <td>14.058996</td>\n",
       "      <td>21.684099</td>\n",
       "      <td>14.624732</td>\n",
       "      <td>22.799999</td>\n",
       "      <td>153.939468</td>\n",
       "      <td>48.726702</td>\n",
       "      <td>3.203102</td>\n",
       "      <td>6.65464</td>\n",
       "      <td>0.509434</td>\n",
       "      <td>10.400000</td>\n",
       "      <td>66.800003</td>\n",
       "      <td>0.000849</td>\n",
       "      <td>0.001500</td>\n",
       "    </tr>\n",
       "    <tr>\n",
       "      <th>2</th>\n",
       "      <td>2012</td>\n",
       "      <td>79</td>\n",
       "      <td>0.238310</td>\n",
       "      <td>-0.002077</td>\n",
       "      <td>8.04</td>\n",
       "      <td>10.50</td>\n",
       "      <td>0.410580</td>\n",
       "      <td>14.444198</td>\n",
       "      <td>8.660008</td>\n",
       "      <td>4.510628</td>\n",
       "      <td>23.799999</td>\n",
       "      <td>73.877228</td>\n",
       "      <td>43.717169</td>\n",
       "      <td>3.857831</td>\n",
       "      <td>6.98220</td>\n",
       "      <td>0.490566</td>\n",
       "      <td>29.799999</td>\n",
       "      <td>46.400002</td>\n",
       "      <td>0.321031</td>\n",
       "      <td>0.123435</td>\n",
       "    </tr>\n",
       "    <tr>\n",
       "      <th>3</th>\n",
       "      <td>2013</td>\n",
       "      <td>95</td>\n",
       "      <td>0.188224</td>\n",
       "      <td>-0.002522</td>\n",
       "      <td>12.32</td>\n",
       "      <td>29.50</td>\n",
       "      <td>0.352700</td>\n",
       "      <td>15.731341</td>\n",
       "      <td>7.477071</td>\n",
       "      <td>13.977669</td>\n",
       "      <td>31.600000</td>\n",
       "      <td>213.627564</td>\n",
       "      <td>40.052801</td>\n",
       "      <td>-88.372904</td>\n",
       "      <td>6.39604</td>\n",
       "      <td>0.471698</td>\n",
       "      <td>8.800000</td>\n",
       "      <td>59.599998</td>\n",
       "      <td>0.000435</td>\n",
       "      <td>0.394130</td>\n",
       "    </tr>\n",
       "    <tr>\n",
       "      <th>4</th>\n",
       "      <td>2007</td>\n",
       "      <td>299</td>\n",
       "      <td>0.435490</td>\n",
       "      <td>-0.001802</td>\n",
       "      <td>8.66</td>\n",
       "      <td>7.38</td>\n",
       "      <td>0.882154</td>\n",
       "      <td>12.428805</td>\n",
       "      <td>7.207212</td>\n",
       "      <td>52.144912</td>\n",
       "      <td>40.299999</td>\n",
       "      <td>192.723587</td>\n",
       "      <td>45.249999</td>\n",
       "      <td>-123.280000</td>\n",
       "      <td>16.34352</td>\n",
       "      <td>0.539623</td>\n",
       "      <td>15.800000</td>\n",
       "      <td>43.799999</td>\n",
       "      <td>0.001720</td>\n",
       "      <td>0.387500</td>\n",
       "    </tr>\n",
       "  </tbody>\n",
       "</table>\n",
       "</div>"
      ],
      "text/plain": [
       "   Year  DOY       EVI     Evapo  LST_Daily  LST_Diff      NDVI         TI  \\\n",
       "0  2015  222  0.120117 -0.002280      29.12     31.14  0.183740  11.589293   \n",
       "1  2010  177  0.515586 -0.004072      19.55      8.68  0.685505  14.058996   \n",
       "2  2012   79  0.238310 -0.002077       8.04     10.50  0.410580  14.444198   \n",
       "3  2013   95  0.188224 -0.002522      12.32     29.50  0.352700  15.731341   \n",
       "4  2007  299  0.435490 -0.001802       8.66      7.38  0.882154  12.428805   \n",
       "\n",
       "       T_air        API       Clay    Elevation        lat         lon  \\\n",
       "0  23.996123   8.695007  19.700001  1752.627563  40.078119 -112.361396   \n",
       "1  21.684099  14.624732  22.799999   153.939468  48.726702    3.203102   \n",
       "2   8.660008   4.510628  23.799999    73.877228  43.717169    3.857831   \n",
       "3   7.477071  13.977669  31.600000   213.627564  40.052801  -88.372904   \n",
       "4   7.207212  52.144912  40.299999   192.723587  45.249999 -123.280000   \n",
       "\n",
       "        OMC  Porosity       Sand       Silt     Preci  Soil Moisture  \n",
       "0   3.56868  0.490566  37.700001  42.700001  0.000853       0.092000  \n",
       "1   6.65464  0.509434  10.400000  66.800003  0.000849       0.001500  \n",
       "2   6.98220  0.490566  29.799999  46.400002  0.321031       0.123435  \n",
       "3   6.39604  0.471698   8.800000  59.599998  0.000435       0.394130  \n",
       "4  16.34352  0.539623  15.800000  43.799999  0.001720       0.387500  "
      ]
     },
     "execution_count": 3,
     "metadata": {},
     "output_type": "execute_result"
    }
   ],
   "source": [
    "dataset = pd.read_csv(path_data / 'ML_SSM_dataset_v1_20220317/ML_training&testing_v01shuffled_20220317.csv')\n",
    "dataset.head()"
   ]
  },
  {
   "cell_type": "code",
   "execution_count": 4,
   "metadata": {},
   "outputs": [
    {
     "data": {
      "text/plain": [
       "(469434, 20)"
      ]
     },
     "execution_count": 4,
     "metadata": {},
     "output_type": "execute_result"
    }
   ],
   "source": [
    "dataset.shape"
   ]
  },
  {
   "cell_type": "markdown",
   "metadata": {},
   "source": [
    "## Construction of the matrix of characteristics (X) and the dependent variable vector (y)"
   ]
  },
  {
   "cell_type": "code",
   "execution_count": 5,
   "metadata": {},
   "outputs": [],
   "source": [
    "X = dataset.iloc[:, :-1].values #all columns, but the last\n",
    "y = dataset.iloc[:, -1].values #only the last column"
   ]
  },
  {
   "cell_type": "markdown",
   "metadata": {
    "colab_type": "text",
    "id": "AyhQaTwP9RzG"
   },
   "source": [
    "## Division of the dataset into the Training Set and the Test Set\n",
    "- Obs: \"random_state = 0\" to ensure the training and testing sets are the same each time we train the model. "
   ]
  },
  {
   "cell_type": "code",
   "execution_count": 6,
   "metadata": {
    "colab": {},
    "colab_type": "code",
    "id": "bxOOauiN9VpC"
   },
   "outputs": [],
   "source": [
    "X_train, X_test, y_train, y_test = train_test_split(X, y, test_size = 0.25, random_state = 0)"
   ]
  },
  {
   "cell_type": "markdown",
   "metadata": {},
   "source": [
    "## Very important: Feature scaling of X (z-transformation => mean = 0, std=1)\n",
    "\n",
    "### Obs: Fit_transform only applied to X_train to prevent data leaking"
   ]
  },
  {
   "cell_type": "code",
   "execution_count": 7,
   "metadata": {},
   "outputs": [
    {
     "data": {
      "text/plain": [
       "(117359, 19)"
      ]
     },
     "execution_count": 7,
     "metadata": {},
     "output_type": "execute_result"
    }
   ],
   "source": [
    "sc = StandardScaler()\n",
    "X_train = sc.fit_transform(X_train)\n",
    "X_test = sc.transform(X_test)\n",
    "X_test.shape"
   ]
  },
  {
   "cell_type": "code",
   "execution_count": 8,
   "metadata": {},
   "outputs": [
    {
     "data": {
      "text/plain": [
       "(1.0007581037794264, -2.6934007929017374e-05)"
      ]
     },
     "execution_count": 8,
     "metadata": {},
     "output_type": "execute_result"
    }
   ],
   "source": [
    "np.concatenate((X_train, X_test)).std(), np.concatenate((X_train, X_test)).mean()"
   ]
  },
  {
   "cell_type": "markdown",
   "metadata": {},
   "source": [
    "# Training (or loading) the estimator"
   ]
  },
  {
   "cell_type": "code",
   "execution_count": 9,
   "metadata": {},
   "outputs": [],
   "source": [
    "# with open('models/sgd_shuffled.pkl', 'rb') as f:\n",
    "with open('models/grid_search_sgd.pkl', 'rb') as f:\n",
    "    regressor = pickle.load(f)"
   ]
  },
  {
   "cell_type": "code",
   "execution_count": 10,
   "metadata": {},
   "outputs": [
    {
     "data": {
      "text/plain": [
       "{'average': True,\n",
       " 'learning_rate': 'constant',\n",
       " 'loss': 'epsilon_insensitive',\n",
       " 'max_iter': 1000,\n",
       " 'penalty': 'l2',\n",
       " 'warm_start': False}"
      ]
     },
     "execution_count": 10,
     "metadata": {},
     "output_type": "execute_result"
    }
   ],
   "source": [
    "regressor.best_params_"
   ]
  },
  {
   "cell_type": "code",
   "execution_count": 11,
   "metadata": {},
   "outputs": [
    {
     "data": {
      "text/plain": [
       "SGDRegressor(alpha=0.01, average=True, learning_rate='constant',\n",
       "             loss='epsilon_insensitive', random_state=0)"
      ]
     },
     "execution_count": 11,
     "metadata": {},
     "output_type": "execute_result"
    }
   ],
   "source": [
    "regressor = SGDRegressor(random_state=0, **{'alpha': 0.01, 'average': True, 'learning_rate': 'constant', \n",
    "                                'loss': 'epsilon_insensitive', 'penalty': 'l2', 'warm_start': False})\n",
    "regressor.fit(X_train, y_train)"
   ]
  },
  {
   "cell_type": "markdown",
   "metadata": {},
   "source": [
    "# Test random"
   ]
  },
  {
   "cell_type": "code",
   "execution_count": 12,
   "metadata": {},
   "outputs": [
    {
     "data": {
      "text/plain": [
       "(117359, 19)"
      ]
     },
     "execution_count": 12,
     "metadata": {},
     "output_type": "execute_result"
    }
   ],
   "source": [
    "X_test.shape"
   ]
  },
  {
   "cell_type": "code",
   "execution_count": 13,
   "metadata": {
    "colab": {},
    "colab_type": "code",
    "id": "Rn_sTJ2o9smm"
   },
   "outputs": [],
   "source": [
    "y_pred = regressor.predict(X_test) "
   ]
  },
  {
   "cell_type": "code",
   "execution_count": 14,
   "metadata": {},
   "outputs": [
    {
     "name": "stdout",
     "output_type": "stream",
     "text": [
      "R2score is 0.4154276585136958\n",
      "MAE is 0.06670216728686772\n",
      "MSE is 0.007270571237143125\n",
      "RMSE is 0.08526764472613939\n"
     ]
    }
   ],
   "source": [
    "y_pred = regressor.predict(X_test) \n",
    "r2score= r2_score(y_test, y_pred)\n",
    "print('R2score is',r2score )\n",
    "MAE=mean_absolute_error(y_test, y_pred)\n",
    "print('MAE is',MAE)\n",
    "MSE=mean_squared_error(y_test, y_pred)\n",
    "print('MSE is',MSE)\n",
    "print('RMSE is', np.sqrt(MSE))"
   ]
  },
  {
   "cell_type": "code",
   "execution_count": 15,
   "metadata": {},
   "outputs": [
    {
     "data": {
      "text/plain": [
       "<matplotlib.collections.PolyCollection at 0x7f4b1a1fba30>"
      ]
     },
     "execution_count": 15,
     "metadata": {},
     "output_type": "execute_result"
    },
    {
     "data": {
      "image/png": "[encoded data removed]",
      "text/plain": [
       "<Figure size 640x480 with 1 Axes>"
      ]
     },
     "metadata": {},
     "output_type": "display_data"
    }
   ],
   "source": [
    "plt.hexbin(y_test, y_pred, mincnt=1)"
   ]
  },
  {
   "cell_type": "markdown",
   "metadata": {},
   "source": [
    "# Parameter importance"
   ]
  },
  {
   "cell_type": "code",
   "execution_count": 16,
   "metadata": {},
   "outputs": [
    {
     "name": "stdout",
     "output_type": "stream",
     "text": [
      "Feature: Year, Score: -0.00051\n",
      "Feature: DOY, Score: -0.01159\n",
      "Feature: EVI, Score: 0.00725\n",
      "Feature: Evapo, Score: -0.01656\n",
      "Feature: LST_Daily, Score: -0.01680\n",
      "Feature: LST_Diff, Score: -0.01111\n",
      "Feature: NDVI, Score: -0.01383\n",
      "Feature: TI, Score: -0.00066\n",
      "Feature: T_air, Score: -0.01121\n",
      "Feature: API, Score: 0.03091\n",
      "Feature: Clay, Score: 0.00789\n",
      "Feature: Elevation, Score: -0.00278\n",
      "Feature: lat, Score: 0.01168\n",
      "Feature: lon, Score: 0.02066\n",
      "Feature: OMC, Score: 0.00334\n",
      "Feature: Porosity, Score: -0.00955\n",
      "Feature: Sand, Score: -0.01363\n",
      "Feature: Silt, Score: 0.01247\n",
      "Feature: Preci, Score: -0.00146\n"
     ]
    },
    {
     "data": {
      "text/plain": [
       "([0, 1, 2, 3, 4, 5, 6, 7, 8, 9, 10, 11, 12, 13, 14, 15, 16, 17, 18],\n",
       " [Text(0, 0, 'Year'),\n",
       "  Text(1, 0, 'DOY'),\n",
       "  Text(2, 0, 'EVI'),\n",
       "  Text(3, 0, 'Evapo'),\n",
       "  Text(4, 0, 'LST_Daily'),\n",
       "  Text(5, 0, 'LST_Diff'),\n",
       "  Text(6, 0, 'NDVI'),\n",
       "  Text(7, 0, 'TI'),\n",
       "  Text(8, 0, 'T_air'),\n",
       "  Text(9, 0, 'API'),\n",
       "  Text(10, 0, 'Clay'),\n",
       "  Text(11, 0, 'Elevation'),\n",
       "  Text(12, 0, 'lat'),\n",
       "  Text(13, 0, 'lon'),\n",
       "  Text(14, 0, 'OMC'),\n",
       "  Text(15, 0, 'Porosity'),\n",
       "  Text(16, 0, 'Sand'),\n",
       "  Text(17, 0, 'Silt'),\n",
       "  Text(18, 0, 'Preci')])"
      ]
     },
     "execution_count": 16,
     "metadata": {},
     "output_type": "execute_result"
    },
    {
     "data": {
      "image/png": "[encoded data removed]",
      "text/plain": [
       "<Figure size 640x480 with 1 Axes>"
      ]
     },
     "metadata": {},
     "output_type": "display_data"
    }
   ],
   "source": [
    "importance = regressor.coef_\n",
    "# summarize feature importance\n",
    "for i,v in enumerate(importance):\n",
    "\tprint('Feature: %s, Score: %.5f' % (dataset.columns[i],v))\n",
    "# plot feature importance\n",
    "plt.bar(dataset.columns[:-1], importance)\n",
    "plt.xticks(rotation=90)"
   ]
  },
  {
   "cell_type": "markdown",
   "metadata": {},
   "source": [
    "# Test temporal"
   ]
  },
  {
   "cell_type": "code",
   "execution_count": 17,
   "metadata": {},
   "outputs": [
    {
     "data": {
      "text/html": [
       "<div>\n",
       "<style scoped>\n",
       "    .dataframe tbody tr th:only-of-type {\n",
       "        vertical-align: middle;\n",
       "    }\n",
       "\n",
       "    .dataframe tbody tr th {\n",
       "        vertical-align: top;\n",
       "    }\n",
       "\n",
       "    .dataframe thead th {\n",
       "        text-align: right;\n",
       "    }\n",
       "</style>\n",
       "<table border=\"1\" class=\"dataframe\">\n",
       "  <thead>\n",
       "    <tr style=\"text-align: right;\">\n",
       "      <th></th>\n",
       "      <th>station</th>\n",
       "      <th>EVI</th>\n",
       "      <th>Evapo</th>\n",
       "      <th>LST_Daily</th>\n",
       "      <th>LST_Diff</th>\n",
       "      <th>NDVI</th>\n",
       "      <th>TI</th>\n",
       "      <th>T_air</th>\n",
       "      <th>API</th>\n",
       "      <th>Clay</th>\n",
       "      <th>...</th>\n",
       "      <th>ESA-CCI</th>\n",
       "      <th>lat</th>\n",
       "      <th>lon</th>\n",
       "      <th>network</th>\n",
       "      <th>OMC</th>\n",
       "      <th>Porosity</th>\n",
       "      <th>Sand</th>\n",
       "      <th>Silt</th>\n",
       "      <th>Soil Moisture</th>\n",
       "      <th>Preci</th>\n",
       "    </tr>\n",
       "  </thead>\n",
       "  <tbody>\n",
       "    <tr>\n",
       "      <th>0</th>\n",
       "      <td>SAA111</td>\n",
       "      <td>0.267585</td>\n",
       "      <td>-0.002658</td>\n",
       "      <td>13.80</td>\n",
       "      <td>5.34</td>\n",
       "      <td>0.503435</td>\n",
       "      <td>9.724592</td>\n",
       "      <td>10.782256</td>\n",
       "      <td>42.469012</td>\n",
       "      <td>9.4</td>\n",
       "      <td>...</td>\n",
       "      <td>0.256715</td>\n",
       "      <td>68.330194</td>\n",
       "      <td>27.550618</td>\n",
       "      <td>FMI</td>\n",
       "      <td>37.6694</td>\n",
       "      <td>0.762264</td>\n",
       "      <td>55.5</td>\n",
       "      <td>35.099998</td>\n",
       "      <td>0.175417</td>\n",
       "      <td>0.121573</td>\n",
       "    </tr>\n",
       "    <tr>\n",
       "      <th>1</th>\n",
       "      <td>SAA111</td>\n",
       "      <td>0.264823</td>\n",
       "      <td>-0.003970</td>\n",
       "      <td>22.36</td>\n",
       "      <td>13.26</td>\n",
       "      <td>0.497070</td>\n",
       "      <td>9.724592</td>\n",
       "      <td>15.129432</td>\n",
       "      <td>38.514693</td>\n",
       "      <td>9.4</td>\n",
       "      <td>...</td>\n",
       "      <td>0.258126</td>\n",
       "      <td>68.330194</td>\n",
       "      <td>27.550618</td>\n",
       "      <td>FMI</td>\n",
       "      <td>37.6694</td>\n",
       "      <td>0.762264</td>\n",
       "      <td>55.5</td>\n",
       "      <td>35.099998</td>\n",
       "      <td>0.172500</td>\n",
       "      <td>0.001892</td>\n",
       "    </tr>\n",
       "    <tr>\n",
       "      <th>2</th>\n",
       "      <td>SAA111</td>\n",
       "      <td>0.256537</td>\n",
       "      <td>-0.003107</td>\n",
       "      <td>18.15</td>\n",
       "      <td>11.12</td>\n",
       "      <td>0.477974</td>\n",
       "      <td>9.724592</td>\n",
       "      <td>16.073048</td>\n",
       "      <td>41.956012</td>\n",
       "      <td>9.4</td>\n",
       "      <td>...</td>\n",
       "      <td>0.287426</td>\n",
       "      <td>68.330194</td>\n",
       "      <td>27.550618</td>\n",
       "      <td>FMI</td>\n",
       "      <td>37.6694</td>\n",
       "      <td>0.762264</td>\n",
       "      <td>55.5</td>\n",
       "      <td>35.099998</td>\n",
       "      <td>0.179500</td>\n",
       "      <td>6.832266</td>\n",
       "    </tr>\n",
       "    <tr>\n",
       "      <th>3</th>\n",
       "      <td>SAA111</td>\n",
       "      <td>0.220529</td>\n",
       "      <td>-0.003018</td>\n",
       "      <td>10.73</td>\n",
       "      <td>-11.00</td>\n",
       "      <td>0.403011</td>\n",
       "      <td>9.724592</td>\n",
       "      <td>14.346681</td>\n",
       "      <td>41.557064</td>\n",
       "      <td>9.4</td>\n",
       "      <td>...</td>\n",
       "      <td>0.254694</td>\n",
       "      <td>68.330194</td>\n",
       "      <td>27.550618</td>\n",
       "      <td>FMI</td>\n",
       "      <td>37.6694</td>\n",
       "      <td>0.762264</td>\n",
       "      <td>55.5</td>\n",
       "      <td>35.099998</td>\n",
       "      <td>0.179375</td>\n",
       "      <td>0.021294</td>\n",
       "    </tr>\n",
       "    <tr>\n",
       "      <th>4</th>\n",
       "      <td>SAA111</td>\n",
       "      <td>0.213499</td>\n",
       "      <td>-0.003174</td>\n",
       "      <td>14.76</td>\n",
       "      <td>5.98</td>\n",
       "      <td>0.396828</td>\n",
       "      <td>9.724592</td>\n",
       "      <td>14.414658</td>\n",
       "      <td>42.532913</td>\n",
       "      <td>9.4</td>\n",
       "      <td>...</td>\n",
       "      <td>0.243986</td>\n",
       "      <td>68.330194</td>\n",
       "      <td>27.550618</td>\n",
       "      <td>FMI</td>\n",
       "      <td>37.6694</td>\n",
       "      <td>0.762264</td>\n",
       "      <td>55.5</td>\n",
       "      <td>35.099998</td>\n",
       "      <td>0.176958</td>\n",
       "      <td>0.166529</td>\n",
       "    </tr>\n",
       "  </tbody>\n",
       "</table>\n",
       "<p>5 rows × 22 columns</p>\n",
       "</div>"
      ],
      "text/plain": [
       "  station       EVI     Evapo  LST_Daily  LST_Diff      NDVI        TI  \\\n",
       "0  SAA111  0.267585 -0.002658      13.80      5.34  0.503435  9.724592   \n",
       "1  SAA111  0.264823 -0.003970      22.36     13.26  0.497070  9.724592   \n",
       "2  SAA111  0.256537 -0.003107      18.15     11.12  0.477974  9.724592   \n",
       "3  SAA111  0.220529 -0.003018      10.73    -11.00  0.403011  9.724592   \n",
       "4  SAA111  0.213499 -0.003174      14.76      5.98  0.396828  9.724592   \n",
       "\n",
       "       T_air        API  Clay  ...   ESA-CCI        lat        lon  network  \\\n",
       "0  10.782256  42.469012   9.4  ...  0.256715  68.330194  27.550618      FMI   \n",
       "1  15.129432  38.514693   9.4  ...  0.258126  68.330194  27.550618      FMI   \n",
       "2  16.073048  41.956012   9.4  ...  0.287426  68.330194  27.550618      FMI   \n",
       "3  14.346681  41.557064   9.4  ...  0.254694  68.330194  27.550618      FMI   \n",
       "4  14.414658  42.532913   9.4  ...  0.243986  68.330194  27.550618      FMI   \n",
       "\n",
       "       OMC  Porosity  Sand       Silt  Soil Moisture     Preci  \n",
       "0  37.6694  0.762264  55.5  35.099998       0.175417  0.121573  \n",
       "1  37.6694  0.762264  55.5  35.099998       0.172500  0.001892  \n",
       "2  37.6694  0.762264  55.5  35.099998       0.179500  6.832266  \n",
       "3  37.6694  0.762264  55.5  35.099998       0.179375  0.021294  \n",
       "4  37.6694  0.762264  55.5  35.099998       0.176958  0.166529  \n",
       "\n",
       "[5 rows x 22 columns]"
      ]
     },
     "execution_count": 17,
     "metadata": {},
     "output_type": "execute_result"
    }
   ],
   "source": [
    "dataset_val = pd.read_csv(path_data / 'ML_SSM_dataset_v1_20220317/ML_validating_v01_20220303.csv')\n",
    "dataset_val.head()"
   ]
  },
  {
   "cell_type": "code",
   "execution_count": 18,
   "metadata": {},
   "outputs": [],
   "source": [
    "dataset2=pd.to_datetime(dataset_val['Date']) #move the datetime column to a new DF, and convert it to a recognized panda type \n",
    "DOY=dataset2.dt.dayofyear #create a Series \"day\", where the day of the year is stored\n",
    "#also allows for weekofyear\n",
    "Year= dataset2.dt.year #create a \"year series\"\n",
    "dataset_val.insert(0, 'DOY', DOY) #insert the day series to the beggining of the dataset\n",
    "dataset_val.insert(0, 'Year', Year)#insert the year series to the beggining of the dataset\n",
    "dataset_val.drop(labels=['Date'], axis=1,inplace = True) #eliminate the date column"
   ]
  },
  {
   "cell_type": "code",
   "execution_count": 19,
   "metadata": {},
   "outputs": [
    {
     "data": {
      "text/plain": [
       "(199886, 20)"
      ]
     },
     "execution_count": 19,
     "metadata": {},
     "output_type": "execute_result"
    }
   ],
   "source": [
    "Xy = dataset_val[dataset.columns]\n",
    "Xy.shape"
   ]
  },
  {
   "cell_type": "code",
   "execution_count": 20,
   "metadata": {},
   "outputs": [],
   "source": [
    "X = Xy.iloc[:, :-1].values #all columns, but the last\n",
    "y_val = Xy.iloc[:, -1].values #only the last column\n",
    "X_val = sc.transform(X)"
   ]
  },
  {
   "cell_type": "code",
   "execution_count": 21,
   "metadata": {},
   "outputs": [
    {
     "name": "stdout",
     "output_type": "stream",
     "text": [
      "R2score is 0.41764943892258033\n",
      "MAE is 0.06604091718448352\n",
      "MSE is 0.007259531357466852\n",
      "RMSE is 0.08520288350441464\n",
      "r=0.6484311560603676\n",
      "CPU times: user 35.1 ms, sys: 38.5 ms, total: 73.5 ms\n",
      "Wall time: 11 ms\n"
     ]
    }
   ],
   "source": [
    "%%time\n",
    "y_val_pred = regressor.predict(X_val)\n",
    "from sklearn.metrics import r2_score, mean_absolute_error, mean_squared_error\n",
    "r2score= r2_score(y_val, y_val_pred)\n",
    "print('R2score is',r2score )\n",
    "MAE=mean_absolute_error(y_val, y_val_pred)\n",
    "print('MAE is',MAE)\n",
    "MSE=mean_squared_error(y_val, y_val_pred)\n",
    "print('MSE is',MSE)\n",
    "print('RMSE is', np.sqrt(MSE))\n",
    "r=np.corrcoef(y_val, y_val_pred)[0, 1]\n",
    "print(f'r={r}')"
   ]
  },
  {
   "cell_type": "markdown",
   "metadata": {},
   "source": [
    "# Test independent stations"
   ]
  },
  {
   "cell_type": "code",
   "execution_count": 22,
   "metadata": {},
   "outputs": [
    {
     "name": "stdout",
     "output_type": "stream",
     "text": [
      "...................................................................................................................................................."
     ]
    }
   ],
   "source": [
    "path = Path(path_data / 'ML_SSM_dataset_v1_20220317/output')\n",
    "# dir_out_ind = Path(r'../Input_data/ML_SSM_dataset_v1_20220317/output')\n",
    "\n",
    "Xys = []\n",
    "df_out = []\n",
    "\n",
    "for csv_path in path.glob('*.csv'):\n",
    "    print('.', end='')\n",
    "    df = pd.read_csv(csv_path)\n",
    "    dataset2 = pd.to_datetime(df['Date']) #move the datetime column to a new DF, and convert it to a recognized panda type \n",
    "    DOY = dataset2.dt.dayofyear #create a Series \"day\", where the day of the year is stored\n",
    "    #also allows for weekofyear\n",
    "    Year = dataset2.dt.year #create a \"year series\"\n",
    "    df.insert(0, 'DOY', DOY) #insert the day series to the beggining of the dataset\n",
    "    df.insert(0, 'Year', Year)#insert the year series to the beggining of the dataset\n",
    "    df.drop(labels=['Date'], axis=1,inplace = True) #eliminate the date column\n",
    "    \n",
    "    if not ('lat' in df.columns):\n",
    "        df['lat'] = df.Lat\n",
    "        df['lon'] = df.Lon\n",
    "    \n",
    "    Xy_ind = df[dataset.columns]\n",
    "    Xys.append(Xy_ind)\n",
    "    \n",
    "    X = Xy_ind.iloc[:, :-1].values #all columns, but the last\n",
    "    ys_ind_i = Xy_ind.iloc[:, -1].values #only the last column\n",
    "    # Xs_ind_i = StandardScaler().fit_transform(X)\n",
    "    Xs_ind_i = sc.transform(X)\n",
    "    \n",
    "    y_pred_i = regressor.predict(Xs_ind_i)\n",
    "    \n",
    "    if len(df.station.unique()) != 1:\n",
    "        raise Exception('multiple sitations?!')\n",
    "    \n",
    "    df_i = pd.DataFrame({'observed SSM': ys_ind_i, 'predicted SSM': y_pred_i})\n",
    "    df_i.index.name = 'ID'\n",
    "    df_i.index += 1\n",
    "    # df_i.to_csv(dir_out_ind / csv_path.name)\n",
    "    df_i.shape\n",
    "    df_i['station_name'] = csv_path.name\n",
    "    df_out.append(df_i)\n",
    "    # break\n",
    "df_out = pd.concat(df_out)"
   ]
  },
  {
   "cell_type": "code",
   "execution_count": 23,
   "metadata": {},
   "outputs": [],
   "source": [
    "def get_site_stats(row):\n",
    "    y_test = row['observed SSM']\n",
    "    y_pred = row['predicted SSM']\n",
    "    metrics_i = {\n",
    "        'r2': r2_score(y_test, y_pred),\n",
    "        'MAE': mean_absolute_error(y_test, y_pred),\n",
    "        'MSE': mean_squared_error(y_test, y_pred),\n",
    "        'RMSE': np.sqrt(mean_squared_error(y_test, y_pred)),\n",
    "        'r': np.corrcoef(y_test, y_pred)[0, 1],\n",
    "        'n_size': y_test.size\n",
    "    }\n",
    "    return pd.Series(metrics_i)"
   ]
  },
  {
   "cell_type": "code",
   "execution_count": 24,
   "metadata": {},
   "outputs": [],
   "source": [
    "df_out_stat = df_out.groupby('station_name').apply(get_site_stats)"
   ]
  },
  {
   "cell_type": "code",
   "execution_count": 25,
   "metadata": {},
   "outputs": [
    {
     "data": {
      "text/html": [
       "<div>\n",
       "<style scoped>\n",
       "    .dataframe tbody tr th:only-of-type {\n",
       "        vertical-align: middle;\n",
       "    }\n",
       "\n",
       "    .dataframe tbody tr th {\n",
       "        vertical-align: top;\n",
       "    }\n",
       "\n",
       "    .dataframe thead th {\n",
       "        text-align: right;\n",
       "    }\n",
       "</style>\n",
       "<table border=\"1\" class=\"dataframe\">\n",
       "  <thead>\n",
       "    <tr style=\"text-align: right;\">\n",
       "      <th></th>\n",
       "      <th>r2</th>\n",
       "      <th>MAE</th>\n",
       "      <th>MSE</th>\n",
       "      <th>RMSE</th>\n",
       "      <th>r</th>\n",
       "      <th>n_size</th>\n",
       "    </tr>\n",
       "  </thead>\n",
       "  <tbody>\n",
       "    <tr>\n",
       "      <th>count</th>\n",
       "      <td>148.000000</td>\n",
       "      <td>148.000000</td>\n",
       "      <td>148.000000</td>\n",
       "      <td>148.000000</td>\n",
       "      <td>148.000000</td>\n",
       "      <td>148.000000</td>\n",
       "    </tr>\n",
       "    <tr>\n",
       "      <th>mean</th>\n",
       "      <td>-5.494044</td>\n",
       "      <td>0.079198</td>\n",
       "      <td>0.010944</td>\n",
       "      <td>0.090754</td>\n",
       "      <td>0.576044</td>\n",
       "      <td>446.993243</td>\n",
       "    </tr>\n",
       "    <tr>\n",
       "      <th>std</th>\n",
       "      <td>21.194067</td>\n",
       "      <td>0.052594</td>\n",
       "      <td>0.018997</td>\n",
       "      <td>0.052215</td>\n",
       "      <td>0.251669</td>\n",
       "      <td>356.814582</td>\n",
       "    </tr>\n",
       "    <tr>\n",
       "      <th>min</th>\n",
       "      <td>-211.227273</td>\n",
       "      <td>0.026226</td>\n",
       "      <td>0.001128</td>\n",
       "      <td>0.033591</td>\n",
       "      <td>-0.556113</td>\n",
       "      <td>5.000000</td>\n",
       "    </tr>\n",
       "    <tr>\n",
       "      <th>25%</th>\n",
       "      <td>-2.887679</td>\n",
       "      <td>0.048028</td>\n",
       "      <td>0.003429</td>\n",
       "      <td>0.058560</td>\n",
       "      <td>0.492944</td>\n",
       "      <td>146.750000</td>\n",
       "    </tr>\n",
       "    <tr>\n",
       "      <th>50%</th>\n",
       "      <td>-0.308201</td>\n",
       "      <td>0.063964</td>\n",
       "      <td>0.005792</td>\n",
       "      <td>0.076107</td>\n",
       "      <td>0.643158</td>\n",
       "      <td>362.000000</td>\n",
       "    </tr>\n",
       "    <tr>\n",
       "      <th>75%</th>\n",
       "      <td>0.256021</td>\n",
       "      <td>0.095122</td>\n",
       "      <td>0.011922</td>\n",
       "      <td>0.109188</td>\n",
       "      <td>0.734701</td>\n",
       "      <td>748.500000</td>\n",
       "    </tr>\n",
       "    <tr>\n",
       "      <th>max</th>\n",
       "      <td>0.804425</td>\n",
       "      <td>0.400380</td>\n",
       "      <td>0.166787</td>\n",
       "      <td>0.408396</td>\n",
       "      <td>0.957395</td>\n",
       "      <td>1286.000000</td>\n",
       "    </tr>\n",
       "  </tbody>\n",
       "</table>\n",
       "</div>"
      ],
      "text/plain": [
       "               r2         MAE         MSE        RMSE           r       n_size\n",
       "count  148.000000  148.000000  148.000000  148.000000  148.000000   148.000000\n",
       "mean    -5.494044    0.079198    0.010944    0.090754    0.576044   446.993243\n",
       "std     21.194067    0.052594    0.018997    0.052215    0.251669   356.814582\n",
       "min   -211.227273    0.026226    0.001128    0.033591   -0.556113     5.000000\n",
       "25%     -2.887679    0.048028    0.003429    0.058560    0.492944   146.750000\n",
       "50%     -0.308201    0.063964    0.005792    0.076107    0.643158   362.000000\n",
       "75%      0.256021    0.095122    0.011922    0.109188    0.734701   748.500000\n",
       "max      0.804425    0.400380    0.166787    0.408396    0.957395  1286.000000"
      ]
     },
     "execution_count": 25,
     "metadata": {},
     "output_type": "execute_result"
    }
   ],
   "source": [
    "df_out_stat.describe()"
   ]
  },
  {
   "cell_type": "code",
   "execution_count": 26,
   "metadata": {},
   "outputs": [
    {
     "data": {
      "text/plain": [
       "r2            0.400401\n",
       "MAE           0.066934\n",
       "MSE           0.007276\n",
       "RMSE          0.085302\n",
       "r             0.635595\n",
       "n_size    66155.000000\n",
       "dtype: float64"
      ]
     },
     "execution_count": 26,
     "metadata": {},
     "output_type": "execute_result"
    }
   ],
   "source": [
    "get_site_stats(df_out)"
   ]
  }
 ],
 "metadata": {
  "colab": {
   "authorship_tag": "ABX9TyP1VVwrQU8S68bmX5lftYWC",
   "name": "Simple Linear Regression",
   "provenance": [],
   "toc_visible": true
  },
  "kernelspec": {
   "display_name": "Python",
   "language": "python",
   "name": "python3"
  },
  "language_info": {
   "codemirror_mode": {
    "name": "ipython",
    "version": 3
   },
   "file_extension": ".py",
   "mimetype": "text/x-python",
   "name": "python",
   "nbconvert_exporter": "python",
   "pygments_lexer": "ipython3",
   "version": "3.8.10"
  }
 },
 "nbformat": 4,
 "nbformat_minor": 4
}
