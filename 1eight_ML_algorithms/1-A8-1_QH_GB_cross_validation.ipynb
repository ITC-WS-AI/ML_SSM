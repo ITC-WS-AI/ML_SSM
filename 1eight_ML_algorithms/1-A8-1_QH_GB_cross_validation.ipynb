{
 "cells": [
  {
   "cell_type": "markdown",
   "metadata": {
    "colab_type": "text",
    "id": "l_LulNCC8z96"
   },
   "source": [
    "# K nearest Neighbors \n",
    "\n",
    "## Importing the Libraries"
   ]
  },
  {
   "cell_type": "code",
   "execution_count": 1,
   "metadata": {
    "colab": {},
    "colab_type": "code",
    "id": "nhKd4hWx9GFt"
   },
   "outputs": [],
   "source": [
    "import numpy as np\n",
    "import matplotlib.pyplot as plt\n",
    "import pandas as pd\n",
    "from sklearn.metrics import make_scorer"
   ]
  },
  {
   "cell_type": "markdown",
   "metadata": {
    "colab_type": "text",
    "id": "6JhpWJi59J1p"
   },
   "source": [
    "## Importing the dataset"
   ]
  },
  {
   "cell_type": "code",
   "execution_count": 2,
   "metadata": {},
   "outputs": [
    {
     "data": {
      "text/html": [
       "<div>\n",
       "<style scoped>\n",
       "    .dataframe tbody tr th:only-of-type {\n",
       "        vertical-align: middle;\n",
       "    }\n",
       "\n",
       "    .dataframe tbody tr th {\n",
       "        vertical-align: top;\n",
       "    }\n",
       "\n",
       "    .dataframe thead th {\n",
       "        text-align: right;\n",
       "    }\n",
       "</style>\n",
       "<table border=\"1\" class=\"dataframe\">\n",
       "  <thead>\n",
       "    <tr style=\"text-align: right;\">\n",
       "      <th></th>\n",
       "      <th>Year</th>\n",
       "      <th>DOY</th>\n",
       "      <th>EVI</th>\n",
       "      <th>Evapo</th>\n",
       "      <th>LST_Daily</th>\n",
       "      <th>LST_Diff</th>\n",
       "      <th>NDVI</th>\n",
       "      <th>TI</th>\n",
       "      <th>T_air</th>\n",
       "      <th>API</th>\n",
       "      <th>Clay</th>\n",
       "      <th>Elevation</th>\n",
       "      <th>lat</th>\n",
       "      <th>lon</th>\n",
       "      <th>OMC</th>\n",
       "      <th>Porosity</th>\n",
       "      <th>Sand</th>\n",
       "      <th>Silt</th>\n",
       "      <th>Preci</th>\n",
       "      <th>Soil Moisture</th>\n",
       "    </tr>\n",
       "  </thead>\n",
       "  <tbody>\n",
       "    <tr>\n",
       "      <th>0</th>\n",
       "      <td>2015</td>\n",
       "      <td>222</td>\n",
       "      <td>0.120117</td>\n",
       "      <td>-0.002280</td>\n",
       "      <td>29.12</td>\n",
       "      <td>31.14</td>\n",
       "      <td>0.183740</td>\n",
       "      <td>11.589293</td>\n",
       "      <td>23.996123</td>\n",
       "      <td>8.695007</td>\n",
       "      <td>19.700001</td>\n",
       "      <td>1752.627563</td>\n",
       "      <td>40.078119</td>\n",
       "      <td>-112.361396</td>\n",
       "      <td>3.56868</td>\n",
       "      <td>0.490566</td>\n",
       "      <td>37.700001</td>\n",
       "      <td>42.700001</td>\n",
       "      <td>0.000853</td>\n",
       "      <td>0.092000</td>\n",
       "    </tr>\n",
       "    <tr>\n",
       "      <th>1</th>\n",
       "      <td>2010</td>\n",
       "      <td>177</td>\n",
       "      <td>0.515586</td>\n",
       "      <td>-0.004072</td>\n",
       "      <td>19.55</td>\n",
       "      <td>8.68</td>\n",
       "      <td>0.685505</td>\n",
       "      <td>14.058996</td>\n",
       "      <td>21.684099</td>\n",
       "      <td>14.624732</td>\n",
       "      <td>22.799999</td>\n",
       "      <td>153.939468</td>\n",
       "      <td>48.726702</td>\n",
       "      <td>3.203102</td>\n",
       "      <td>6.65464</td>\n",
       "      <td>0.509434</td>\n",
       "      <td>10.400000</td>\n",
       "      <td>66.800003</td>\n",
       "      <td>0.000849</td>\n",
       "      <td>0.001500</td>\n",
       "    </tr>\n",
       "    <tr>\n",
       "      <th>2</th>\n",
       "      <td>2012</td>\n",
       "      <td>79</td>\n",
       "      <td>0.238310</td>\n",
       "      <td>-0.002077</td>\n",
       "      <td>8.04</td>\n",
       "      <td>10.50</td>\n",
       "      <td>0.410580</td>\n",
       "      <td>14.444198</td>\n",
       "      <td>8.660008</td>\n",
       "      <td>4.510628</td>\n",
       "      <td>23.799999</td>\n",
       "      <td>73.877228</td>\n",
       "      <td>43.717169</td>\n",
       "      <td>3.857831</td>\n",
       "      <td>6.98220</td>\n",
       "      <td>0.490566</td>\n",
       "      <td>29.799999</td>\n",
       "      <td>46.400002</td>\n",
       "      <td>0.321031</td>\n",
       "      <td>0.123435</td>\n",
       "    </tr>\n",
       "    <tr>\n",
       "      <th>3</th>\n",
       "      <td>2013</td>\n",
       "      <td>95</td>\n",
       "      <td>0.188224</td>\n",
       "      <td>-0.002522</td>\n",
       "      <td>12.32</td>\n",
       "      <td>29.50</td>\n",
       "      <td>0.352700</td>\n",
       "      <td>15.731341</td>\n",
       "      <td>7.477071</td>\n",
       "      <td>13.977669</td>\n",
       "      <td>31.600000</td>\n",
       "      <td>213.627564</td>\n",
       "      <td>40.052801</td>\n",
       "      <td>-88.372904</td>\n",
       "      <td>6.39604</td>\n",
       "      <td>0.471698</td>\n",
       "      <td>8.800000</td>\n",
       "      <td>59.599998</td>\n",
       "      <td>0.000435</td>\n",
       "      <td>0.394130</td>\n",
       "    </tr>\n",
       "    <tr>\n",
       "      <th>4</th>\n",
       "      <td>2007</td>\n",
       "      <td>299</td>\n",
       "      <td>0.435490</td>\n",
       "      <td>-0.001802</td>\n",
       "      <td>8.66</td>\n",
       "      <td>7.38</td>\n",
       "      <td>0.882154</td>\n",
       "      <td>12.428805</td>\n",
       "      <td>7.207212</td>\n",
       "      <td>52.144912</td>\n",
       "      <td>40.299999</td>\n",
       "      <td>192.723587</td>\n",
       "      <td>45.249999</td>\n",
       "      <td>-123.280000</td>\n",
       "      <td>16.34352</td>\n",
       "      <td>0.539623</td>\n",
       "      <td>15.800000</td>\n",
       "      <td>43.799999</td>\n",
       "      <td>0.001720</td>\n",
       "      <td>0.387500</td>\n",
       "    </tr>\n",
       "    <tr>\n",
       "      <th>...</th>\n",
       "      <td>...</td>\n",
       "      <td>...</td>\n",
       "      <td>...</td>\n",
       "      <td>...</td>\n",
       "      <td>...</td>\n",
       "      <td>...</td>\n",
       "      <td>...</td>\n",
       "      <td>...</td>\n",
       "      <td>...</td>\n",
       "      <td>...</td>\n",
       "      <td>...</td>\n",
       "      <td>...</td>\n",
       "      <td>...</td>\n",
       "      <td>...</td>\n",
       "      <td>...</td>\n",
       "      <td>...</td>\n",
       "      <td>...</td>\n",
       "      <td>...</td>\n",
       "      <td>...</td>\n",
       "      <td>...</td>\n",
       "    </tr>\n",
       "    <tr>\n",
       "      <th>469429</th>\n",
       "      <td>2016</td>\n",
       "      <td>197</td>\n",
       "      <td>0.309898</td>\n",
       "      <td>-0.001307</td>\n",
       "      <td>25.57</td>\n",
       "      <td>15.68</td>\n",
       "      <td>0.588824</td>\n",
       "      <td>13.894586</td>\n",
       "      <td>20.975506</td>\n",
       "      <td>1.797110</td>\n",
       "      <td>14.300000</td>\n",
       "      <td>2563.126221</td>\n",
       "      <td>35.700000</td>\n",
       "      <td>-105.809995</td>\n",
       "      <td>11.55080</td>\n",
       "      <td>0.581132</td>\n",
       "      <td>59.900002</td>\n",
       "      <td>25.799999</td>\n",
       "      <td>0.126868</td>\n",
       "      <td>0.001000</td>\n",
       "    </tr>\n",
       "    <tr>\n",
       "      <th>469430</th>\n",
       "      <td>2011</td>\n",
       "      <td>250</td>\n",
       "      <td>0.157988</td>\n",
       "      <td>-0.000601</td>\n",
       "      <td>22.23</td>\n",
       "      <td>32.08</td>\n",
       "      <td>0.256247</td>\n",
       "      <td>11.722256</td>\n",
       "      <td>22.917156</td>\n",
       "      <td>0.250635</td>\n",
       "      <td>17.000000</td>\n",
       "      <td>661.658142</td>\n",
       "      <td>47.759130</td>\n",
       "      <td>-118.745460</td>\n",
       "      <td>4.18932</td>\n",
       "      <td>0.516981</td>\n",
       "      <td>31.100000</td>\n",
       "      <td>51.900002</td>\n",
       "      <td>0.000858</td>\n",
       "      <td>0.072000</td>\n",
       "    </tr>\n",
       "    <tr>\n",
       "      <th>469431</th>\n",
       "      <td>2013</td>\n",
       "      <td>147</td>\n",
       "      <td>0.030116</td>\n",
       "      <td>-0.000081</td>\n",
       "      <td>36.09</td>\n",
       "      <td>19.04</td>\n",
       "      <td>0.047282</td>\n",
       "      <td>11.334223</td>\n",
       "      <td>29.584159</td>\n",
       "      <td>0.885216</td>\n",
       "      <td>25.400000</td>\n",
       "      <td>27.083851</td>\n",
       "      <td>36.602000</td>\n",
       "      <td>-117.144897</td>\n",
       "      <td>0.99992</td>\n",
       "      <td>0.520755</td>\n",
       "      <td>42.900002</td>\n",
       "      <td>31.700001</td>\n",
       "      <td>0.000852</td>\n",
       "      <td>0.020667</td>\n",
       "    </tr>\n",
       "    <tr>\n",
       "      <th>469432</th>\n",
       "      <td>2013</td>\n",
       "      <td>192</td>\n",
       "      <td>0.518430</td>\n",
       "      <td>-0.003983</td>\n",
       "      <td>25.18</td>\n",
       "      <td>13.34</td>\n",
       "      <td>0.684706</td>\n",
       "      <td>12.998422</td>\n",
       "      <td>24.711874</td>\n",
       "      <td>5.491154</td>\n",
       "      <td>19.799999</td>\n",
       "      <td>246.750183</td>\n",
       "      <td>39.866798</td>\n",
       "      <td>-93.147005</td>\n",
       "      <td>5.56852</td>\n",
       "      <td>0.464151</td>\n",
       "      <td>9.900000</td>\n",
       "      <td>70.199997</td>\n",
       "      <td>0.000854</td>\n",
       "      <td>0.181333</td>\n",
       "    </tr>\n",
       "    <tr>\n",
       "      <th>469433</th>\n",
       "      <td>2016</td>\n",
       "      <td>85</td>\n",
       "      <td>0.258698</td>\n",
       "      <td>-0.002285</td>\n",
       "      <td>9.91</td>\n",
       "      <td>2.56</td>\n",
       "      <td>0.569781</td>\n",
       "      <td>14.609997</td>\n",
       "      <td>9.990561</td>\n",
       "      <td>78.996310</td>\n",
       "      <td>17.000000</td>\n",
       "      <td>439.712647</td>\n",
       "      <td>40.650699</td>\n",
       "      <td>-122.606796</td>\n",
       "      <td>7.53388</td>\n",
       "      <td>0.509434</td>\n",
       "      <td>50.200001</td>\n",
       "      <td>32.799999</td>\n",
       "      <td>0.000871</td>\n",
       "      <td>0.187750</td>\n",
       "    </tr>\n",
       "  </tbody>\n",
       "</table>\n",
       "<p>469434 rows × 20 columns</p>\n",
       "</div>"
      ],
      "text/plain": [
       "        Year  DOY       EVI     Evapo  LST_Daily  LST_Diff      NDVI  \\\n",
       "0       2015  222  0.120117 -0.002280      29.12     31.14  0.183740   \n",
       "1       2010  177  0.515586 -0.004072      19.55      8.68  0.685505   \n",
       "2       2012   79  0.238310 -0.002077       8.04     10.50  0.410580   \n",
       "3       2013   95  0.188224 -0.002522      12.32     29.50  0.352700   \n",
       "4       2007  299  0.435490 -0.001802       8.66      7.38  0.882154   \n",
       "...      ...  ...       ...       ...        ...       ...       ...   \n",
       "469429  2016  197  0.309898 -0.001307      25.57     15.68  0.588824   \n",
       "469430  2011  250  0.157988 -0.000601      22.23     32.08  0.256247   \n",
       "469431  2013  147  0.030116 -0.000081      36.09     19.04  0.047282   \n",
       "469432  2013  192  0.518430 -0.003983      25.18     13.34  0.684706   \n",
       "469433  2016   85  0.258698 -0.002285       9.91      2.56  0.569781   \n",
       "\n",
       "               TI      T_air        API       Clay    Elevation        lat  \\\n",
       "0       11.589293  23.996123   8.695007  19.700001  1752.627563  40.078119   \n",
       "1       14.058996  21.684099  14.624732  22.799999   153.939468  48.726702   \n",
       "2       14.444198   8.660008   4.510628  23.799999    73.877228  43.717169   \n",
       "3       15.731341   7.477071  13.977669  31.600000   213.627564  40.052801   \n",
       "4       12.428805   7.207212  52.144912  40.299999   192.723587  45.249999   \n",
       "...           ...        ...        ...        ...          ...        ...   \n",
       "469429  13.894586  20.975506   1.797110  14.300000  2563.126221  35.700000   \n",
       "469430  11.722256  22.917156   0.250635  17.000000   661.658142  47.759130   \n",
       "469431  11.334223  29.584159   0.885216  25.400000    27.083851  36.602000   \n",
       "469432  12.998422  24.711874   5.491154  19.799999   246.750183  39.866798   \n",
       "469433  14.609997   9.990561  78.996310  17.000000   439.712647  40.650699   \n",
       "\n",
       "               lon       OMC  Porosity       Sand       Silt     Preci  \\\n",
       "0      -112.361396   3.56868  0.490566  37.700001  42.700001  0.000853   \n",
       "1         3.203102   6.65464  0.509434  10.400000  66.800003  0.000849   \n",
       "2         3.857831   6.98220  0.490566  29.799999  46.400002  0.321031   \n",
       "3       -88.372904   6.39604  0.471698   8.800000  59.599998  0.000435   \n",
       "4      -123.280000  16.34352  0.539623  15.800000  43.799999  0.001720   \n",
       "...            ...       ...       ...        ...        ...       ...   \n",
       "469429 -105.809995  11.55080  0.581132  59.900002  25.799999  0.126868   \n",
       "469430 -118.745460   4.18932  0.516981  31.100000  51.900002  0.000858   \n",
       "469431 -117.144897   0.99992  0.520755  42.900002  31.700001  0.000852   \n",
       "469432  -93.147005   5.56852  0.464151   9.900000  70.199997  0.000854   \n",
       "469433 -122.606796   7.53388  0.509434  50.200001  32.799999  0.000871   \n",
       "\n",
       "        Soil Moisture  \n",
       "0            0.092000  \n",
       "1            0.001500  \n",
       "2            0.123435  \n",
       "3            0.394130  \n",
       "4            0.387500  \n",
       "...               ...  \n",
       "469429       0.001000  \n",
       "469430       0.072000  \n",
       "469431       0.020667  \n",
       "469432       0.181333  \n",
       "469433       0.187750  \n",
       "\n",
       "[469434 rows x 20 columns]"
      ]
     },
     "execution_count": 2,
     "metadata": {},
     "output_type": "execute_result"
    }
   ],
   "source": [
    "dataset = pd.read_csv('/data/private/VM/data/ML_training&testing_v01shuffled_20220317.csv')\n",
    "dataset"
   ]
  },
  {
   "cell_type": "markdown",
   "metadata": {},
   "source": [
    "## Construction of the matrix of characteristics (X) and the dependent variable vector (y)"
   ]
  },
  {
   "cell_type": "code",
   "execution_count": 3,
   "metadata": {},
   "outputs": [],
   "source": [
    "X = dataset.iloc[:, :-1].values\n",
    "y = dataset.iloc[:, -1].values"
   ]
  },
  {
   "cell_type": "markdown",
   "metadata": {
    "colab_type": "text",
    "id": "AyhQaTwP9RzG"
   },
   "source": [
    "## Division of the dataset into the Training Set and the Test Set"
   ]
  },
  {
   "cell_type": "code",
   "execution_count": 4,
   "metadata": {
    "colab": {},
    "colab_type": "code",
    "id": "bxOOauiN9VpC"
   },
   "outputs": [],
   "source": [
    "from sklearn.model_selection import train_test_split\n",
    "X_train, X_test, y_train, y_test = train_test_split(X, y, test_size = 0.25, random_state = 0)"
   ]
  },
  {
   "cell_type": "code",
   "execution_count": 5,
   "metadata": {},
   "outputs": [
    {
     "data": {
      "text/plain": [
       "array([[2.01200000e+03, 2.18000000e+02, 1.30008333e-01, ...,\n",
       "        2.87999992e+01, 4.39000015e+01, 4.41074000e-04],\n",
       "       [2.01100000e+03, 2.26000000e+02, 4.82789881e-01, ...,\n",
       "        3.97000008e+01, 4.40999985e+01, 4.35114000e-04],\n",
       "       [2.01300000e+03, 2.47000000e+02, 2.82306548e-01, ...,\n",
       "        3.50999985e+01, 4.17999992e+01, 2.63536535e+00],\n",
       "       ...,\n",
       "       [2.01300000e+03, 2.03000000e+02, 1.10332738e-01, ...,\n",
       "        5.77000008e+01, 2.45000000e+01, 0.00000000e+00],\n",
       "       [2.01000000e+03, 1.09000000e+02, 4.05214290e-02, ...,\n",
       "        4.29000015e+01, 3.17000008e+01, 8.52346000e-04],\n",
       "       [2.01000000e+03, 2.26000000e+02, 4.27702679e-01, ...,\n",
       "        2.41000004e+01, 6.64000015e+01, 4.26173000e-04]])"
      ]
     },
     "execution_count": 5,
     "metadata": {},
     "output_type": "execute_result"
    }
   ],
   "source": [
    "X_train"
   ]
  },
  {
   "cell_type": "code",
   "execution_count": 6,
   "metadata": {},
   "outputs": [
    {
     "data": {
      "text/plain": [
       "array([[2.01500000e+03, 2.18000000e+02, 2.38563095e-01, ...,\n",
       "        1.28999996e+01, 6.25999985e+01, 1.29044000e-03],\n",
       "       [2.01400000e+03, 2.39000000e+02, 4.99024987e-01, ...,\n",
       "        1.89999998e+00, 7.96999969e+01, 4.26173000e-04],\n",
       "       [2.01400000e+03, 2.05000000e+02, 1.63733333e-01, ...,\n",
       "        3.89000015e+01, 3.82000008e+01, 6.76512700e-03],\n",
       "       ...,\n",
       "       [2.01200000e+03, 5.10000000e+01, 2.85629762e-01, ...,\n",
       "        9.30000019e+00, 6.46999969e+01, 0.00000000e+00],\n",
       "       [2.01100000e+03, 2.72000000e+02, 2.73874998e-01, ...,\n",
       "        3.79000015e+01, 3.92999992e+01, 8.71447000e-04],\n",
       "       [2.01200000e+03, 2.48000000e+02, 1.39112502e-01, ...,\n",
       "        6.24000015e+01, 2.05000000e+01, 8.51363000e-04]])"
      ]
     },
     "execution_count": 6,
     "metadata": {},
     "output_type": "execute_result"
    }
   ],
   "source": [
    "X_test"
   ]
  },
  {
   "cell_type": "markdown",
   "metadata": {},
   "source": [
    "## Very important: Feature scaling of X (range -3 to 3)\n",
    "\n",
    "### Obs: Fit_transform only applied to X_train to prevent data leaking"
   ]
  },
  {
   "cell_type": "code",
   "execution_count": 7,
   "metadata": {},
   "outputs": [],
   "source": [
    "from sklearn.preprocessing import StandardScaler\n",
    "sc = StandardScaler()\n",
    "X_train = sc.fit_transform(X_train)\n",
    "X_test = sc.transform(X_test)"
   ]
  },
  {
   "cell_type": "code",
   "execution_count": 8,
   "metadata": {},
   "outputs": [
    {
     "data": {
      "text/plain": [
       "array([[ 3.43512648e-01,  1.99929146e-01, -1.07440073e+00, ...,\n",
       "        -7.51134991e-01,  5.36323062e-01, -2.27753198e-01],\n",
       "       [ 6.06565046e-02,  3.07526129e-01,  1.73509821e+00, ...,\n",
       "        -1.16448126e-01,  5.51958448e-01, -2.27758769e-01],\n",
       "       [ 6.26368792e-01,  5.89968210e-01,  1.38479243e-01, ...,\n",
       "        -3.84297725e-01,  3.72148820e-01,  2.23496060e+00],\n",
       "       ...,\n",
       "       [ 6.26368792e-01, -1.81519770e-03, -1.23109419e+00, ...,\n",
       "         9.31658477e-01, -9.80332682e-01, -2.28165445e-01],\n",
       "       [-2.22199639e-01, -1.26607975e+00, -1.78706090e+00, ...,\n",
       "         6.98819817e-02, -4.17450123e-01, -2.27368806e-01],\n",
       "       [-2.22199639e-01,  3.07526129e-01,  1.29639206e+00, ...,\n",
       "        -1.02480720e+00,  2.29533087e+00, -2.27767126e-01]])"
      ]
     },
     "execution_count": 8,
     "metadata": {},
     "output_type": "execute_result"
    }
   ],
   "source": [
    "X_train"
   ]
  },
  {
   "cell_type": "markdown",
   "metadata": {
    "colab_type": "text",
    "id": "ZijQwFMQ9itx"
   },
   "source": [
    "## Construction and training of the regression model over the training set\n"
   ]
  },
  {
   "cell_type": "code",
   "execution_count": 9,
   "metadata": {},
   "outputs": [
    {
     "ename": "FileNotFoundError",
     "evalue": "[Errno 2] No such file or directory: 'GB.pkl'",
     "output_type": "error",
     "traceback": [
      "\u001b[0;31m---------------------------------------------------------------------------\u001b[0m",
      "\u001b[0;31mFileNotFoundError\u001b[0m                         Traceback (most recent call last)",
      "Cell \u001b[0;32mIn [9], line 5\u001b[0m\n\u001b[1;32m      1\u001b[0m \u001b[38;5;28;01mimport\u001b[39;00m \u001b[38;5;21;01mpickle\u001b[39;00m\n\u001b[1;32m      3\u001b[0m \u001b[38;5;66;03m# with open('GB.pkl', 'wb') as f:\u001b[39;00m\n\u001b[1;32m      4\u001b[0m \u001b[38;5;66;03m#     pickle.dump(regressor, f)\u001b[39;00m\n\u001b[0;32m----> 5\u001b[0m \u001b[38;5;28;01mwith\u001b[39;00m \u001b[38;5;28mopen\u001b[39m(\u001b[38;5;124m'\u001b[39m\u001b[38;5;124mGB.pkl\u001b[39m\u001b[38;5;124m'\u001b[39m, \u001b[38;5;124m'\u001b[39m\u001b[38;5;124mrb\u001b[39m\u001b[38;5;124m'\u001b[39m) \u001b[38;5;28;01mas\u001b[39;00m f:\n\u001b[1;32m      6\u001b[0m     regressor \u001b[38;5;241m=\u001b[39m pickle\u001b[38;5;241m.\u001b[39mload(f)\n\u001b[1;32m      7\u001b[0m regressor\u001b[38;5;241m.\u001b[39mscore(X_test, y_test)\n",
      "\u001b[0;31mFileNotFoundError\u001b[0m: [Errno 2] No such file or directory: 'GB.pkl'"
     ]
    }
   ],
   "source": [
    "import pickle\n",
    "\n",
    "# with open('GB.pkl', 'wb') as f:\n",
    "#     pickle.dump(regressor, f)\n",
    "with open('GB.pkl', 'rb') as f:\n",
    "    regressor = pickle.load(f)\n",
    "regressor.score(X_test, y_test)"
   ]
  },
  {
   "cell_type": "markdown",
   "metadata": {},
   "source": [
    "## HOW TO: Applying k-Fold Cross Validation after gridSearchCV"
   ]
  },
  {
   "cell_type": "code",
   "execution_count": 44,
   "metadata": {},
   "outputs": [
    {
     "data": {
      "text/plain": [
       "datetime.datetime(2022, 5, 9, 18, 57, 29, 275561)"
      ]
     },
     "execution_count": 44,
     "metadata": {},
     "output_type": "execute_result"
    }
   ],
   "source": [
    "import datetime\n",
    "starttime_cv = datetime.datetime.now()\n",
    "starttime_cv"
   ]
  },
  {
   "cell_type": "code",
   "execution_count": 46,
   "metadata": {},
   "outputs": [
    {
     "name": "stderr",
     "output_type": "stream",
     "text": [
      "[Parallel(n_jobs=-1)]: Using backend LokyBackend with 72 concurrent workers.\n"
     ]
    },
    {
     "name": "stdout",
     "output_type": "stream",
     "text": [
      "[CV] START .....................................................................\n",
      "[CV] START .....................................................................\n",
      "[CV] START .....................................................................\n",
      "[CV] START .....................................................................\n",
      "[CV] START .....................................................................\n",
      "[CV] END  nrmse: (test=-0.050) r: (test=0.895) r2: (test=0.801) total time= 4.5min\n",
      "[CV] END  nrmse: (test=-0.050) r: (test=0.893) r2: (test=0.797) total time= 5.1min\n"
     ]
    },
    {
     "name": "stderr",
     "output_type": "stream",
     "text": [
      "[Parallel(n_jobs=-1)]: Done   2 out of   5 | elapsed:  5.2min remaining:  7.8min\n"
     ]
    },
    {
     "name": "stdout",
     "output_type": "stream",
     "text": [
      "[CV] END  nrmse: (test=-0.050) r: (test=0.893) r2: (test=0.797) total time= 5.2min\n"
     ]
    },
    {
     "name": "stderr",
     "output_type": "stream",
     "text": [
      "[Parallel(n_jobs=-1)]: Done   3 out of   5 | elapsed:  5.2min remaining:  3.5min\n"
     ]
    },
    {
     "name": "stdout",
     "output_type": "stream",
     "text": [
      "[CV] END  nrmse: (test=-0.050) r: (test=0.893) r2: (test=0.797) total time= 5.2min\n",
      "[CV] END  nrmse: (test=-0.050) r: (test=0.893) r2: (test=0.798) total time= 5.2min\n"
     ]
    },
    {
     "name": "stderr",
     "output_type": "stream",
     "text": [
      "[Parallel(n_jobs=-1)]: Done   5 out of   5 | elapsed:  5.2min remaining:    0.0s\n",
      "[Parallel(n_jobs=-1)]: Done   5 out of   5 | elapsed:  5.2min finished\n"
     ]
    }
   ],
   "source": [
    "from sklearn.model_selection import cross_validate\n",
    "scores = cross_validate(estimator = regressor, X = X_train, y = y_train, cv = 5,\n",
    "                        verbose = 10,\n",
    "                        n_jobs = -1,\n",
    "                        scoring={'r':make_scorer(lambda X_train,y_train: np.corrcoef(X_train, y_train)[0, 1]),\n",
    "                                'r2':'r2',\n",
    "                                 'nrmse':'neg_root_mean_squared_error'},\n",
    "                        return_train_score=False)"
   ]
  },
  {
   "cell_type": "code",
   "execution_count": 48,
   "metadata": {},
   "outputs": [
    {
     "data": {
      "text/plain": [
       "{'fit_time': array([312.05717206, 309.39451051, 271.42549491, 308.04315376,\n",
       "        311.22366142]),\n",
       " 'score_time': array([0.16477537, 0.22839642, 0.18713021, 0.19690824, 0.16417074]),\n",
       " 'test_r': array([0.89327327, 0.89268181, 0.89535656, 0.89306977, 0.89310487]),\n",
       " 'test_r2': array([0.79782692, 0.79678087, 0.80145246, 0.79739217, 0.79748117]),\n",
       " 'test_nrmse': array([-0.05007081, -0.05017134, -0.04977445, -0.05000088, -0.05011428])}"
      ]
     },
     "execution_count": 48,
     "metadata": {},
     "output_type": "execute_result"
    }
   ],
   "source": [
    "scores"
   ]
  },
  {
   "cell_type": "code",
   "execution_count": 49,
   "metadata": {},
   "outputs": [
    {
     "name": "stdout",
     "output_type": "stream",
     "text": [
      "r: 0.89\n",
      "r2: 0.80\n",
      "nrmse: -0.05\n"
     ]
    }
   ],
   "source": [
    "r = scores['test_r']\n",
    "print(\"r: {:.2f}\".format(r.mean()))\n",
    "r2 = scores['test_r2']\n",
    "print(\"r2: {:.2f}\".format(r2.mean()))\n",
    "nrmse = scores['test_nrmse']\n",
    "print(\"nrmse: {:.2f}\".format(nrmse.mean()))"
   ]
  },
  {
   "cell_type": "code",
   "execution_count": 50,
   "metadata": {},
   "outputs": [
    {
     "name": "stdout",
     "output_type": "stream",
     "text": [
      "2022-05-09 19:05:35.060329\n",
      "running time of CV before gridSearchCV\n",
      "0:08:05.784768\n"
     ]
    }
   ],
   "source": [
    "endtime_cv = datetime.datetime.now()\n",
    "print(endtime_cv)\n",
    "print(\"running time of CV before gridSearchCV\")\n",
    "print(endtime_cv - starttime_cv)"
   ]
  },
  {
   "cell_type": "code",
   "execution_count": 6,
   "metadata": {},
   "outputs": [
    {
     "data": {
      "text/plain": [
       "0.798186718"
      ]
     },
     "execution_count": 6,
     "metadata": {},
     "output_type": "execute_result"
    }
   ],
   "source": [
    "np.mean([0.79782692, 0.79678087, 0.80145246, 0.79739217, 0.79748117])"
   ]
  },
  {
   "cell_type": "code",
   "execution_count": 7,
   "metadata": {},
   "outputs": [
    {
     "data": {
      "text/plain": [
       "0.0016673355100327238"
      ]
     },
     "execution_count": 7,
     "metadata": {},
     "output_type": "execute_result"
    }
   ],
   "source": [
    "np.std([0.79782692, 0.79678087, 0.80145246, 0.79739217, 0.79748117])"
   ]
  },
  {
   "cell_type": "code",
   "execution_count": null,
   "metadata": {},
   "outputs": [],
   "source": []
  }
 ],
 "metadata": {
  "colab": {
   "authorship_tag": "ABX9TyP1VVwrQU8S68bmX5lftYWC",
   "name": "Simple Linear Regression",
   "provenance": [],
   "toc_visible": true
  },
  "kernelspec": {
   "display_name": "Python",
   "language": "python",
   "name": "python3"
  },
  "language_info": {
   "codemirror_mode": {
    "name": "ipython",
    "version": 3
   },
   "file_extension": ".py",
   "mimetype": "text/x-python",
   "name": "python",
   "nbconvert_exporter": "python",
   "pygments_lexer": "ipython3",
   "version": "3.8.10"
  }
 },
 "nbformat": 4,
 "nbformat_minor": 4
}
