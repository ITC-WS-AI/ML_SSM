{
 "cells": [
  {
   "cell_type": "code",
   "execution_count": 1,
   "metadata": {
    "colab": {},
    "colab_type": "code",
    "id": "nhKd4hWx9GFt"
   },
   "outputs": [],
   "source": [
    "import numpy as np\n",
    "import matplotlib.pyplot as plt\n",
    "import pandas as pd\n",
    "import glob"
   ]
  },
  {
   "cell_type": "markdown",
   "metadata": {
    "colab_type": "text",
    "id": "6JhpWJi59J1p"
   },
   "source": [
    "## Importing the dataset"
   ]
  },
  {
   "cell_type": "code",
   "execution_count": 2,
   "metadata": {
    "tags": []
   },
   "outputs": [
    {
     "name": "stderr",
     "output_type": "stream",
     "text": [
      "/tmp/ipykernel_2122/385221115.py:19: FutureWarning: In a future version of pandas all arguments of concat except for the argument 'objs' will be keyword-only.\n",
      "  dataset = pd.concat([dataset, s], 1) #move the dependent variable (soilMoisture to the end of the dataframe)\n",
      "/tmp/ipykernel_2122/385221115.py:19: FutureWarning: In a future version of pandas all arguments of concat except for the argument 'objs' will be keyword-only.\n",
      "  dataset = pd.concat([dataset, s], 1) #move the dependent variable (soilMoisture to the end of the dataframe)\n",
      "/tmp/ipykernel_2122/385221115.py:19: FutureWarning: In a future version of pandas all arguments of concat except for the argument 'objs' will be keyword-only.\n",
      "  dataset = pd.concat([dataset, s], 1) #move the dependent variable (soilMoisture to the end of the dataframe)\n",
      "/tmp/ipykernel_2122/385221115.py:19: FutureWarning: In a future version of pandas all arguments of concat except for the argument 'objs' will be keyword-only.\n",
      "  dataset = pd.concat([dataset, s], 1) #move the dependent variable (soilMoisture to the end of the dataframe)\n",
      "/tmp/ipykernel_2122/385221115.py:19: FutureWarning: In a future version of pandas all arguments of concat except for the argument 'objs' will be keyword-only.\n",
      "  dataset = pd.concat([dataset, s], 1) #move the dependent variable (soilMoisture to the end of the dataframe)\n",
      "/tmp/ipykernel_2122/385221115.py:19: FutureWarning: In a future version of pandas all arguments of concat except for the argument 'objs' will be keyword-only.\n",
      "  dataset = pd.concat([dataset, s], 1) #move the dependent variable (soilMoisture to the end of the dataframe)\n",
      "/tmp/ipykernel_2122/385221115.py:19: FutureWarning: In a future version of pandas all arguments of concat except for the argument 'objs' will be keyword-only.\n",
      "  dataset = pd.concat([dataset, s], 1) #move the dependent variable (soilMoisture to the end of the dataframe)\n",
      "/tmp/ipykernel_2122/385221115.py:19: FutureWarning: In a future version of pandas all arguments of concat except for the argument 'objs' will be keyword-only.\n",
      "  dataset = pd.concat([dataset, s], 1) #move the dependent variable (soilMoisture to the end of the dataframe)\n"
     ]
    },
    {
     "name": "stdout",
     "output_type": "stream",
     "text": [
      "ependent_stations_v01/Independent_OZNET_Spring-Bank.csv\n",
      "ependent_stations_v01/Independent_SCAN_FrenchGulch.csv\n",
      "ependent_stations_v01/Independent_PBO-H2O_SEVILLETA.csv\n",
      "ependent_stations_v01/Independent_SNOTEL_SHUREE.csv\n",
      "ependent_stations_v01/Independent_USCRN_Stillwater-5-WNW.csv\n",
      "ependent_stations_v01/Independent_PBO-H2O_HAYSPEAK.csv\n",
      "ependent_stations_v01/Independent_HiWATER-EHWSN_HD-0018.csv\n",
      "ependent_stations_v01/Independent_SOILSCAPE_node803.csv\n"
     ]
    },
    {
     "name": "stderr",
     "output_type": "stream",
     "text": [
      "/tmp/ipykernel_2122/385221115.py:19: FutureWarning: In a future version of pandas all arguments of concat except for the argument 'objs' will be keyword-only.\n",
      "  dataset = pd.concat([dataset, s], 1) #move the dependent variable (soilMoisture to the end of the dataframe)\n",
      "/tmp/ipykernel_2122/385221115.py:19: FutureWarning: In a future version of pandas all arguments of concat except for the argument 'objs' will be keyword-only.\n",
      "  dataset = pd.concat([dataset, s], 1) #move the dependent variable (soilMoisture to the end of the dataframe)\n",
      "/tmp/ipykernel_2122/385221115.py:19: FutureWarning: In a future version of pandas all arguments of concat except for the argument 'objs' will be keyword-only.\n",
      "  dataset = pd.concat([dataset, s], 1) #move the dependent variable (soilMoisture to the end of the dataframe)\n",
      "/tmp/ipykernel_2122/385221115.py:19: FutureWarning: In a future version of pandas all arguments of concat except for the argument 'objs' will be keyword-only.\n",
      "  dataset = pd.concat([dataset, s], 1) #move the dependent variable (soilMoisture to the end of the dataframe)\n",
      "/tmp/ipykernel_2122/385221115.py:19: FutureWarning: In a future version of pandas all arguments of concat except for the argument 'objs' will be keyword-only.\n",
      "  dataset = pd.concat([dataset, s], 1) #move the dependent variable (soilMoisture to the end of the dataframe)\n",
      "/tmp/ipykernel_2122/385221115.py:19: FutureWarning: In a future version of pandas all arguments of concat except for the argument 'objs' will be keyword-only.\n",
      "  dataset = pd.concat([dataset, s], 1) #move the dependent variable (soilMoisture to the end of the dataframe)\n",
      "/tmp/ipykernel_2122/385221115.py:19: FutureWarning: In a future version of pandas all arguments of concat except for the argument 'objs' will be keyword-only.\n",
      "  dataset = pd.concat([dataset, s], 1) #move the dependent variable (soilMoisture to the end of the dataframe)\n",
      "/tmp/ipykernel_2122/385221115.py:19: FutureWarning: In a future version of pandas all arguments of concat except for the argument 'objs' will be keyword-only.\n",
      "  dataset = pd.concat([dataset, s], 1) #move the dependent variable (soilMoisture to the end of the dataframe)\n"
     ]
    },
    {
     "name": "stdout",
     "output_type": "stream",
     "text": [
      "ependent_stations_v01/Independent_SNOTEL_GOOSEBERRYR.S.UP.csv\n",
      "ependent_stations_v01/Independent_SCAN_SHELDON.csv\n",
      "ependent_stations_v01/Independent_COSMOS_Toulouse.csv\n",
      "ependent_stations_v01/Independent_SOILSCAPE_node915.csv\n",
      "ependent_stations_v01/Independent_SNOTEL_SASSERIDGE.csv\n",
      "ependent_stations_v01/Independent_HOBE_3.01.csv\n",
      "ependent_stations_v01/Independent_PBO-H2O_QCY2-BARD.csv\n",
      "ependent_stations_v01/Independent_SCAN_Selma.csv\n"
     ]
    },
    {
     "name": "stderr",
     "output_type": "stream",
     "text": [
      "/tmp/ipykernel_2122/385221115.py:19: FutureWarning: In a future version of pandas all arguments of concat except for the argument 'objs' will be keyword-only.\n",
      "  dataset = pd.concat([dataset, s], 1) #move the dependent variable (soilMoisture to the end of the dataframe)\n",
      "/tmp/ipykernel_2122/385221115.py:19: FutureWarning: In a future version of pandas all arguments of concat except for the argument 'objs' will be keyword-only.\n",
      "  dataset = pd.concat([dataset, s], 1) #move the dependent variable (soilMoisture to the end of the dataframe)\n",
      "/tmp/ipykernel_2122/385221115.py:19: FutureWarning: In a future version of pandas all arguments of concat except for the argument 'objs' will be keyword-only.\n",
      "  dataset = pd.concat([dataset, s], 1) #move the dependent variable (soilMoisture to the end of the dataframe)\n",
      "/tmp/ipykernel_2122/385221115.py:19: FutureWarning: In a future version of pandas all arguments of concat except for the argument 'objs' will be keyword-only.\n",
      "  dataset = pd.concat([dataset, s], 1) #move the dependent variable (soilMoisture to the end of the dataframe)\n",
      "/tmp/ipykernel_2122/385221115.py:19: FutureWarning: In a future version of pandas all arguments of concat except for the argument 'objs' will be keyword-only.\n",
      "  dataset = pd.concat([dataset, s], 1) #move the dependent variable (soilMoisture to the end of the dataframe)\n",
      "/tmp/ipykernel_2122/385221115.py:19: FutureWarning: In a future version of pandas all arguments of concat except for the argument 'objs' will be keyword-only.\n",
      "  dataset = pd.concat([dataset, s], 1) #move the dependent variable (soilMoisture to the end of the dataframe)\n",
      "/tmp/ipykernel_2122/385221115.py:19: FutureWarning: In a future version of pandas all arguments of concat except for the argument 'objs' will be keyword-only.\n",
      "  dataset = pd.concat([dataset, s], 1) #move the dependent variable (soilMoisture to the end of the dataframe)\n",
      "/tmp/ipykernel_2122/385221115.py:19: FutureWarning: In a future version of pandas all arguments of concat except for the argument 'objs' will be keyword-only.\n",
      "  dataset = pd.concat([dataset, s], 1) #move the dependent variable (soilMoisture to the end of the dataframe)\n",
      "/tmp/ipykernel_2122/385221115.py:19: FutureWarning: In a future version of pandas all arguments of concat except for the argument 'objs' will be keyword-only.\n",
      "  dataset = pd.concat([dataset, s], 1) #move the dependent variable (soilMoisture to the end of the dataframe)\n",
      "/tmp/ipykernel_2122/385221115.py:19: FutureWarning: In a future version of pandas all arguments of concat except for the argument 'objs' will be keyword-only.\n",
      "  dataset = pd.concat([dataset, s], 1) #move the dependent variable (soilMoisture to the end of the dataframe)\n"
     ]
    },
    {
     "name": "stdout",
     "output_type": "stream",
     "text": [
      "ependent_stations_v01/Independent_PBO-H2O_SLAVENCYN.csv\n",
      "ependent_stations_v01/Independent_HiWATER-EHWSN_SoilNET-003.csv\n",
      "ependent_stations_v01/Independent_HiWATER-EHWSN_SoilNET-004.csv\n",
      "ependent_stations_v01/Independent_SNOTEL_MYRTLECREEK.csv\n",
      "ependent_stations_v01/Independent_ICN_Freeport.csv\n",
      "ependent_stations_v01/Independent_SNOTEL_WINDYPEAK.csv\n",
      "ependent_stations_v01/Independent_SNOTEL_WILDBASIN.csv\n",
      "ependent_stations_v01/Independent_CTP-SMTMN_L26.csv\n",
      "ependent_stations_v01/Independent_SNOTEL_WHISKEYCK.csv\n",
      "ependent_stations_v01/Independent_HiWATER-EHWSN_WATERNET-10.csv\n"
     ]
    },
    {
     "name": "stderr",
     "output_type": "stream",
     "text": [
      "/tmp/ipykernel_2122/385221115.py:19: FutureWarning: In a future version of pandas all arguments of concat except for the argument 'objs' will be keyword-only.\n",
      "  dataset = pd.concat([dataset, s], 1) #move the dependent variable (soilMoisture to the end of the dataframe)\n",
      "/tmp/ipykernel_2122/385221115.py:19: FutureWarning: In a future version of pandas all arguments of concat except for the argument 'objs' will be keyword-only.\n",
      "  dataset = pd.concat([dataset, s], 1) #move the dependent variable (soilMoisture to the end of the dataframe)\n",
      "/tmp/ipykernel_2122/385221115.py:19: FutureWarning: In a future version of pandas all arguments of concat except for the argument 'objs' will be keyword-only.\n",
      "  dataset = pd.concat([dataset, s], 1) #move the dependent variable (soilMoisture to the end of the dataframe)\n",
      "/tmp/ipykernel_2122/385221115.py:19: FutureWarning: In a future version of pandas all arguments of concat except for the argument 'objs' will be keyword-only.\n",
      "  dataset = pd.concat([dataset, s], 1) #move the dependent variable (soilMoisture to the end of the dataframe)\n",
      "/tmp/ipykernel_2122/385221115.py:19: FutureWarning: In a future version of pandas all arguments of concat except for the argument 'objs' will be keyword-only.\n",
      "  dataset = pd.concat([dataset, s], 1) #move the dependent variable (soilMoisture to the end of the dataframe)\n",
      "/tmp/ipykernel_2122/385221115.py:19: FutureWarning: In a future version of pandas all arguments of concat except for the argument 'objs' will be keyword-only.\n",
      "  dataset = pd.concat([dataset, s], 1) #move the dependent variable (soilMoisture to the end of the dataframe)\n",
      "/tmp/ipykernel_2122/385221115.py:19: FutureWarning: In a future version of pandas all arguments of concat except for the argument 'objs' will be keyword-only.\n",
      "  dataset = pd.concat([dataset, s], 1) #move the dependent variable (soilMoisture to the end of the dataframe)\n",
      "/tmp/ipykernel_2122/385221115.py:19: FutureWarning: In a future version of pandas all arguments of concat except for the argument 'objs' will be keyword-only.\n",
      "  dataset = pd.concat([dataset, s], 1) #move the dependent variable (soilMoisture to the end of the dataframe)\n",
      "/tmp/ipykernel_2122/385221115.py:19: FutureWarning: In a future version of pandas all arguments of concat except for the argument 'objs' will be keyword-only.\n",
      "  dataset = pd.concat([dataset, s], 1) #move the dependent variable (soilMoisture to the end of the dataframe)\n",
      "/tmp/ipykernel_2122/385221115.py:19: FutureWarning: In a future version of pandas all arguments of concat except for the argument 'objs' will be keyword-only.\n",
      "  dataset = pd.concat([dataset, s], 1) #move the dependent variable (soilMoisture to the end of the dataframe)\n",
      "/tmp/ipykernel_2122/385221115.py:19: FutureWarning: In a future version of pandas all arguments of concat except for the argument 'objs' will be keyword-only.\n",
      "  dataset = pd.concat([dataset, s], 1) #move the dependent variable (soilMoisture to the end of the dataframe)\n",
      "/tmp/ipykernel_2122/385221115.py:19: FutureWarning: In a future version of pandas all arguments of concat except for the argument 'objs' will be keyword-only.\n",
      "  dataset = pd.concat([dataset, s], 1) #move the dependent variable (soilMoisture to the end of the dataframe)\n"
     ]
    },
    {
     "name": "stdout",
     "output_type": "stream",
     "text": [
      "ependent_stations_v01/Independent_AWDN_Brunswick.csv\n",
      "ependent_stations_v01/Independent_HiWATER-EHWSN_SoilNET-044.csv\n",
      "ependent_stations_v01/Independent_WEGENERNET_6.csv\n",
      "ependent_stations_v01/Independent_PBO-H2O_LITTLELOST.csv\n",
      "ependent_stations_v01/Independent_CTP-SMTMN_L13.csv\n",
      "ependent_stations_v01/Independent_REMEDHUS_Zamarron.csv\n",
      "ependent_stations_v01/Independent_HiWATER-EHWSN_HD-0009.csv\n",
      "ependent_stations_v01/Independent_SCAN_MtVernon.csv\n",
      "ependent_stations_v01/Independent_USCRN_Whitman-5-ENE.csv\n",
      "ependent_stations_v01/Independent_SNOTEL_SantaFe.csv\n",
      "ependent_stations_v01/Independent_FMI_SOD130.csv\n",
      "ependent_stations_v01/Independent_PBO-H2O_WICKSRANCH.csv\n"
     ]
    },
    {
     "name": "stderr",
     "output_type": "stream",
     "text": [
      "/tmp/ipykernel_2122/385221115.py:19: FutureWarning: In a future version of pandas all arguments of concat except for the argument 'objs' will be keyword-only.\n",
      "  dataset = pd.concat([dataset, s], 1) #move the dependent variable (soilMoisture to the end of the dataframe)\n",
      "/tmp/ipykernel_2122/385221115.py:19: FutureWarning: In a future version of pandas all arguments of concat except for the argument 'objs' will be keyword-only.\n",
      "  dataset = pd.concat([dataset, s], 1) #move the dependent variable (soilMoisture to the end of the dataframe)\n",
      "/tmp/ipykernel_2122/385221115.py:19: FutureWarning: In a future version of pandas all arguments of concat except for the argument 'objs' will be keyword-only.\n",
      "  dataset = pd.concat([dataset, s], 1) #move the dependent variable (soilMoisture to the end of the dataframe)\n",
      "/tmp/ipykernel_2122/385221115.py:19: FutureWarning: In a future version of pandas all arguments of concat except for the argument 'objs' will be keyword-only.\n",
      "  dataset = pd.concat([dataset, s], 1) #move the dependent variable (soilMoisture to the end of the dataframe)\n",
      "/tmp/ipykernel_2122/385221115.py:19: FutureWarning: In a future version of pandas all arguments of concat except for the argument 'objs' will be keyword-only.\n",
      "  dataset = pd.concat([dataset, s], 1) #move the dependent variable (soilMoisture to the end of the dataframe)\n",
      "/tmp/ipykernel_2122/385221115.py:19: FutureWarning: In a future version of pandas all arguments of concat except for the argument 'objs' will be keyword-only.\n",
      "  dataset = pd.concat([dataset, s], 1) #move the dependent variable (soilMoisture to the end of the dataframe)\n",
      "/tmp/ipykernel_2122/385221115.py:19: FutureWarning: In a future version of pandas all arguments of concat except for the argument 'objs' will be keyword-only.\n",
      "  dataset = pd.concat([dataset, s], 1) #move the dependent variable (soilMoisture to the end of the dataframe)\n",
      "/tmp/ipykernel_2122/385221115.py:19: FutureWarning: In a future version of pandas all arguments of concat except for the argument 'objs' will be keyword-only.\n",
      "  dataset = pd.concat([dataset, s], 1) #move the dependent variable (soilMoisture to the end of the dataframe)\n",
      "/tmp/ipykernel_2122/385221115.py:19: FutureWarning: In a future version of pandas all arguments of concat except for the argument 'objs' will be keyword-only.\n",
      "  dataset = pd.concat([dataset, s], 1) #move the dependent variable (soilMoisture to the end of the dataframe)\n"
     ]
    },
    {
     "name": "stdout",
     "output_type": "stream",
     "text": [
      "ependent_stations_v01/Independent_SOILSCAPE_node412.csv\n",
      "ependent_stations_v01/Independent_OZNET_Dry-Lake.csv\n",
      "ependent_stations_v01/Independent_SNOTEL_QUARTZMOUNTAIN.csv\n",
      "ependent_stations_v01/Independent_SNOTEL_MT.RYAN.csv\n",
      "ependent_stations_v01/Independent_SNOTEL_TIPTON.csv\n",
      "ependent_stations_v01/Independent_SCAN_Spooky.csv\n",
      "ependent_stations_v01/Independent_SOILSCAPE_node107.csv\n",
      "ependent_stations_v01/Independent_SCAN_LynhartRanch.csv\n",
      "ependent_stations_v01/Independent_SCAN_UAPBPointRemove.csv\n"
     ]
    },
    {
     "name": "stderr",
     "output_type": "stream",
     "text": [
      "/tmp/ipykernel_2122/385221115.py:19: FutureWarning: In a future version of pandas all arguments of concat except for the argument 'objs' will be keyword-only.\n",
      "  dataset = pd.concat([dataset, s], 1) #move the dependent variable (soilMoisture to the end of the dataframe)\n",
      "/tmp/ipykernel_2122/385221115.py:19: FutureWarning: In a future version of pandas all arguments of concat except for the argument 'objs' will be keyword-only.\n",
      "  dataset = pd.concat([dataset, s], 1) #move the dependent variable (soilMoisture to the end of the dataframe)\n",
      "/tmp/ipykernel_2122/385221115.py:19: FutureWarning: In a future version of pandas all arguments of concat except for the argument 'objs' will be keyword-only.\n",
      "  dataset = pd.concat([dataset, s], 1) #move the dependent variable (soilMoisture to the end of the dataframe)\n",
      "/tmp/ipykernel_2122/385221115.py:19: FutureWarning: In a future version of pandas all arguments of concat except for the argument 'objs' will be keyword-only.\n",
      "  dataset = pd.concat([dataset, s], 1) #move the dependent variable (soilMoisture to the end of the dataframe)\n",
      "/tmp/ipykernel_2122/385221115.py:19: FutureWarning: In a future version of pandas all arguments of concat except for the argument 'objs' will be keyword-only.\n",
      "  dataset = pd.concat([dataset, s], 1) #move the dependent variable (soilMoisture to the end of the dataframe)\n",
      "/tmp/ipykernel_2122/385221115.py:19: FutureWarning: In a future version of pandas all arguments of concat except for the argument 'objs' will be keyword-only.\n",
      "  dataset = pd.concat([dataset, s], 1) #move the dependent variable (soilMoisture to the end of the dataframe)\n",
      "/tmp/ipykernel_2122/385221115.py:19: FutureWarning: In a future version of pandas all arguments of concat except for the argument 'objs' will be keyword-only.\n",
      "  dataset = pd.concat([dataset, s], 1) #move the dependent variable (soilMoisture to the end of the dataframe)\n",
      "/tmp/ipykernel_2122/385221115.py:19: FutureWarning: In a future version of pandas all arguments of concat except for the argument 'objs' will be keyword-only.\n",
      "  dataset = pd.concat([dataset, s], 1) #move the dependent variable (soilMoisture to the end of the dataframe)\n"
     ]
    },
    {
     "name": "stdout",
     "output_type": "stream",
     "text": [
      "ependent_stations_v01/Independent_SCAN_AAMU-jtg.csv\n",
      "ependent_stations_v01/Independent_HiWATER-EHWSN_WATERNET-35.csv\n",
      "ependent_stations_v01/Independent_SNOTEL_HARDSCRABBLE.csv\n",
      "ependent_stations_v01/Independent_CTP-SMTMN_M20.csv\n",
      "ependent_stations_v01/Independent_COSMOS_Mozark.csv\n",
      "ependent_stations_v01/Independent_SNOTEL_CARSONPASS.csv\n",
      "ependent_stations_v01/Independent_SOILSCAPE_node802.csv\n",
      "ependent_stations_v01/Independent_SNOTEL_KILFOILCREEK.csv\n"
     ]
    },
    {
     "name": "stderr",
     "output_type": "stream",
     "text": [
      "/tmp/ipykernel_2122/385221115.py:19: FutureWarning: In a future version of pandas all arguments of concat except for the argument 'objs' will be keyword-only.\n",
      "  dataset = pd.concat([dataset, s], 1) #move the dependent variable (soilMoisture to the end of the dataframe)\n",
      "/tmp/ipykernel_2122/385221115.py:19: FutureWarning: In a future version of pandas all arguments of concat except for the argument 'objs' will be keyword-only.\n",
      "  dataset = pd.concat([dataset, s], 1) #move the dependent variable (soilMoisture to the end of the dataframe)\n",
      "/tmp/ipykernel_2122/385221115.py:19: FutureWarning: In a future version of pandas all arguments of concat except for the argument 'objs' will be keyword-only.\n",
      "  dataset = pd.concat([dataset, s], 1) #move the dependent variable (soilMoisture to the end of the dataframe)\n",
      "/tmp/ipykernel_2122/385221115.py:19: FutureWarning: In a future version of pandas all arguments of concat except for the argument 'objs' will be keyword-only.\n",
      "  dataset = pd.concat([dataset, s], 1) #move the dependent variable (soilMoisture to the end of the dataframe)\n",
      "/tmp/ipykernel_2122/385221115.py:19: FutureWarning: In a future version of pandas all arguments of concat except for the argument 'objs' will be keyword-only.\n",
      "  dataset = pd.concat([dataset, s], 1) #move the dependent variable (soilMoisture to the end of the dataframe)\n",
      "/tmp/ipykernel_2122/385221115.py:19: FutureWarning: In a future version of pandas all arguments of concat except for the argument 'objs' will be keyword-only.\n",
      "  dataset = pd.concat([dataset, s], 1) #move the dependent variable (soilMoisture to the end of the dataframe)\n",
      "/tmp/ipykernel_2122/385221115.py:19: FutureWarning: In a future version of pandas all arguments of concat except for the argument 'objs' will be keyword-only.\n",
      "  dataset = pd.concat([dataset, s], 1) #move the dependent variable (soilMoisture to the end of the dataframe)\n",
      "/tmp/ipykernel_2122/385221115.py:19: FutureWarning: In a future version of pandas all arguments of concat except for the argument 'objs' will be keyword-only.\n",
      "  dataset = pd.concat([dataset, s], 1) #move the dependent variable (soilMoisture to the end of the dataframe)\n",
      "/tmp/ipykernel_2122/385221115.py:19: FutureWarning: In a future version of pandas all arguments of concat except for the argument 'objs' will be keyword-only.\n",
      "  dataset = pd.concat([dataset, s], 1) #move the dependent variable (soilMoisture to the end of the dataframe)\n",
      "/tmp/ipykernel_2122/385221115.py:19: FutureWarning: In a future version of pandas all arguments of concat except for the argument 'objs' will be keyword-only.\n",
      "  dataset = pd.concat([dataset, s], 1) #move the dependent variable (soilMoisture to the end of the dataframe)\n",
      "/tmp/ipykernel_2122/385221115.py:19: FutureWarning: In a future version of pandas all arguments of concat except for the argument 'objs' will be keyword-only.\n",
      "  dataset = pd.concat([dataset, s], 1) #move the dependent variable (soilMoisture to the end of the dataframe)\n",
      "/tmp/ipykernel_2122/385221115.py:19: FutureWarning: In a future version of pandas all arguments of concat except for the argument 'objs' will be keyword-only.\n",
      "  dataset = pd.concat([dataset, s], 1) #move the dependent variable (soilMoisture to the end of the dataframe)\n",
      "/tmp/ipykernel_2122/385221115.py:19: FutureWarning: In a future version of pandas all arguments of concat except for the argument 'objs' will be keyword-only.\n",
      "  dataset = pd.concat([dataset, s], 1) #move the dependent variable (soilMoisture to the end of the dataframe)\n"
     ]
    },
    {
     "name": "stdout",
     "output_type": "stream",
     "text": [
      "ependent_stations_v01/Independent_SCAN_Cullman-NAHRC.csv\n",
      "ependent_stations_v01/Independent_USCRN_Nunn-7-NNE.csv\n",
      "ependent_stations_v01/Independent_AWDN_Ainsworth.csv\n",
      "ependent_stations_v01/Independent_HiWATER-EHWSN_WATERNET-32.csv\n",
      "ependent_stations_v01/Independent_HiWATER-EHWSN_WATERNET-40.csv\n",
      "ependent_stations_v01/Independent_HiWATER-EHWSN_BD-0016.csv\n",
      "ependent_stations_v01/Independent_AWDN_ClayCenter(SC).csv\n",
      "ependent_stations_v01/Independent_COSMOS_RobsonsCreekDualTube.csv\n",
      "ependent_stations_v01/Independent_HiWATER-EHWSN_HD-0010.csv\n",
      "ependent_stations_v01/Independent_AWDN_MeadAgrofarm.csv\n",
      "ependent_stations_v01/Independent_COSMOS_Water4CropsBudrioIT.csv\n",
      "ependent_stations_v01/Independent_SOILSCAPE_node1405.csv\n",
      "ependent_stations_v01/Independent_SOILSCAPE_node1018.csv\n"
     ]
    },
    {
     "name": "stderr",
     "output_type": "stream",
     "text": [
      "/tmp/ipykernel_2122/385221115.py:19: FutureWarning: In a future version of pandas all arguments of concat except for the argument 'objs' will be keyword-only.\n",
      "  dataset = pd.concat([dataset, s], 1) #move the dependent variable (soilMoisture to the end of the dataframe)\n",
      "/tmp/ipykernel_2122/385221115.py:19: FutureWarning: In a future version of pandas all arguments of concat except for the argument 'objs' will be keyword-only.\n",
      "  dataset = pd.concat([dataset, s], 1) #move the dependent variable (soilMoisture to the end of the dataframe)\n",
      "/tmp/ipykernel_2122/385221115.py:19: FutureWarning: In a future version of pandas all arguments of concat except for the argument 'objs' will be keyword-only.\n",
      "  dataset = pd.concat([dataset, s], 1) #move the dependent variable (soilMoisture to the end of the dataframe)\n",
      "/tmp/ipykernel_2122/385221115.py:19: FutureWarning: In a future version of pandas all arguments of concat except for the argument 'objs' will be keyword-only.\n",
      "  dataset = pd.concat([dataset, s], 1) #move the dependent variable (soilMoisture to the end of the dataframe)\n",
      "/tmp/ipykernel_2122/385221115.py:19: FutureWarning: In a future version of pandas all arguments of concat except for the argument 'objs' will be keyword-only.\n",
      "  dataset = pd.concat([dataset, s], 1) #move the dependent variable (soilMoisture to the end of the dataframe)\n",
      "/tmp/ipykernel_2122/385221115.py:19: FutureWarning: In a future version of pandas all arguments of concat except for the argument 'objs' will be keyword-only.\n",
      "  dataset = pd.concat([dataset, s], 1) #move the dependent variable (soilMoisture to the end of the dataframe)\n",
      "/tmp/ipykernel_2122/385221115.py:19: FutureWarning: In a future version of pandas all arguments of concat except for the argument 'objs' will be keyword-only.\n",
      "  dataset = pd.concat([dataset, s], 1) #move the dependent variable (soilMoisture to the end of the dataframe)\n",
      "/tmp/ipykernel_2122/385221115.py:19: FutureWarning: In a future version of pandas all arguments of concat except for the argument 'objs' will be keyword-only.\n",
      "  dataset = pd.concat([dataset, s], 1) #move the dependent variable (soilMoisture to the end of the dataframe)\n",
      "/tmp/ipykernel_2122/385221115.py:19: FutureWarning: In a future version of pandas all arguments of concat except for the argument 'objs' will be keyword-only.\n",
      "  dataset = pd.concat([dataset, s], 1) #move the dependent variable (soilMoisture to the end of the dataframe)\n",
      "/tmp/ipykernel_2122/385221115.py:19: FutureWarning: In a future version of pandas all arguments of concat except for the argument 'objs' will be keyword-only.\n",
      "  dataset = pd.concat([dataset, s], 1) #move the dependent variable (soilMoisture to the end of the dataframe)\n",
      "/tmp/ipykernel_2122/385221115.py:19: FutureWarning: In a future version of pandas all arguments of concat except for the argument 'objs' will be keyword-only.\n",
      "  dataset = pd.concat([dataset, s], 1) #move the dependent variable (soilMoisture to the end of the dataframe)\n",
      "/tmp/ipykernel_2122/385221115.py:19: FutureWarning: In a future version of pandas all arguments of concat except for the argument 'objs' will be keyword-only.\n",
      "  dataset = pd.concat([dataset, s], 1) #move the dependent variable (soilMoisture to the end of the dataframe)\n",
      "/tmp/ipykernel_2122/385221115.py:19: FutureWarning: In a future version of pandas all arguments of concat except for the argument 'objs' will be keyword-only.\n",
      "  dataset = pd.concat([dataset, s], 1) #move the dependent variable (soilMoisture to the end of the dataframe)\n"
     ]
    },
    {
     "name": "stdout",
     "output_type": "stream",
     "text": [
      "ependent_stations_v01/Independent_MAQU_NST-05.csv\n",
      "ependent_stations_v01/Independent_SOILSCAPE_node902.csv\n",
      "ependent_stations_v01/Independent_SCAN_HubbardBrook.csv\n",
      "ependent_stations_v01/Independent_SCAN_GoodwinCreekPasture.csv\n",
      "ependent_stations_v01/Independent_PBO-H2O_GRANITEPK.csv\n",
      "ependent_stations_v01/Independent_SMOSMANIA_Condom.csv\n",
      "ependent_stations_v01/Independent_SOILSCAPE_node505.csv\n",
      "ependent_stations_v01/Independent_SNOTEL_MERCHANTVALLEY.csv\n",
      "ependent_stations_v01/Independent_PBO-H2O_Upington.csv\n",
      "ependent_stations_v01/Independent_HiWATER-EHWSN_SoilNET-033.csv\n",
      "ependent_stations_v01/Independent_SNOTEL_GRANDTARGHEE.csv\n",
      "ependent_stations_v01/Independent_COSMOS_Biosphere.csv\n",
      "ependent_stations_v01/Independent_SNOTEL_CASTLECREEK.csv\n"
     ]
    },
    {
     "name": "stderr",
     "output_type": "stream",
     "text": [
      "/tmp/ipykernel_2122/385221115.py:19: FutureWarning: In a future version of pandas all arguments of concat except for the argument 'objs' will be keyword-only.\n",
      "  dataset = pd.concat([dataset, s], 1) #move the dependent variable (soilMoisture to the end of the dataframe)\n",
      "/tmp/ipykernel_2122/385221115.py:19: FutureWarning: In a future version of pandas all arguments of concat except for the argument 'objs' will be keyword-only.\n",
      "  dataset = pd.concat([dataset, s], 1) #move the dependent variable (soilMoisture to the end of the dataframe)\n",
      "/tmp/ipykernel_2122/385221115.py:19: FutureWarning: In a future version of pandas all arguments of concat except for the argument 'objs' will be keyword-only.\n",
      "  dataset = pd.concat([dataset, s], 1) #move the dependent variable (soilMoisture to the end of the dataframe)\n",
      "/tmp/ipykernel_2122/385221115.py:19: FutureWarning: In a future version of pandas all arguments of concat except for the argument 'objs' will be keyword-only.\n",
      "  dataset = pd.concat([dataset, s], 1) #move the dependent variable (soilMoisture to the end of the dataframe)\n",
      "/tmp/ipykernel_2122/385221115.py:19: FutureWarning: In a future version of pandas all arguments of concat except for the argument 'objs' will be keyword-only.\n",
      "  dataset = pd.concat([dataset, s], 1) #move the dependent variable (soilMoisture to the end of the dataframe)\n",
      "/tmp/ipykernel_2122/385221115.py:19: FutureWarning: In a future version of pandas all arguments of concat except for the argument 'objs' will be keyword-only.\n",
      "  dataset = pd.concat([dataset, s], 1) #move the dependent variable (soilMoisture to the end of the dataframe)\n",
      "/tmp/ipykernel_2122/385221115.py:19: FutureWarning: In a future version of pandas all arguments of concat except for the argument 'objs' will be keyword-only.\n",
      "  dataset = pd.concat([dataset, s], 1) #move the dependent variable (soilMoisture to the end of the dataframe)\n",
      "/tmp/ipykernel_2122/385221115.py:19: FutureWarning: In a future version of pandas all arguments of concat except for the argument 'objs' will be keyword-only.\n",
      "  dataset = pd.concat([dataset, s], 1) #move the dependent variable (soilMoisture to the end of the dataframe)\n",
      "/tmp/ipykernel_2122/385221115.py:19: FutureWarning: In a future version of pandas all arguments of concat except for the argument 'objs' will be keyword-only.\n",
      "  dataset = pd.concat([dataset, s], 1) #move the dependent variable (soilMoisture to the end of the dataframe)\n",
      "/tmp/ipykernel_2122/385221115.py:19: FutureWarning: In a future version of pandas all arguments of concat except for the argument 'objs' will be keyword-only.\n",
      "  dataset = pd.concat([dataset, s], 1) #move the dependent variable (soilMoisture to the end of the dataframe)\n",
      "/tmp/ipykernel_2122/385221115.py:19: FutureWarning: In a future version of pandas all arguments of concat except for the argument 'objs' will be keyword-only.\n",
      "  dataset = pd.concat([dataset, s], 1) #move the dependent variable (soilMoisture to the end of the dataframe)\n",
      "/tmp/ipykernel_2122/385221115.py:19: FutureWarning: In a future version of pandas all arguments of concat except for the argument 'objs' will be keyword-only.\n",
      "  dataset = pd.concat([dataset, s], 1) #move the dependent variable (soilMoisture to the end of the dataframe)\n"
     ]
    },
    {
     "name": "stdout",
     "output_type": "stream",
     "text": [
      "ependent_stations_v01/Independent_SNOTEL_LONECONE.csv\n",
      "ependent_stations_v01/Independent_OZNET_Balranald-Bolton-Park.csv\n",
      "ependent_stations_v01/Independent_USCRN_Durham-2-N.csv\n",
      "ependent_stations_v01/Independent_PBO-H2O_CARRIZORAN.csv\n",
      "ependent_stations_v01/Independent_UMBRIA_Monterchi.csv\n",
      "ependent_stations_v01/Independent_COSMOS_Daly.csv\n",
      "ependent_stations_v01/Independent_SNOTEL_ARAPAHORIDGE.csv\n",
      "ependent_stations_v01/Independent_SCAN_PineNut.csv\n",
      "ependent_stations_v01/Independent_SOILSCAPE_node112.csv\n",
      "ependent_stations_v01/Independent_RSMN_Barlad.csv\n",
      "ependent_stations_v01/Independent_HiWATER-EHWSN_BD-0038.csv\n",
      "ependent_stations_v01/Independent_SNOTEL_DIAMONDPEAK.csv\n"
     ]
    },
    {
     "name": "stderr",
     "output_type": "stream",
     "text": [
      "/tmp/ipykernel_2122/385221115.py:19: FutureWarning: In a future version of pandas all arguments of concat except for the argument 'objs' will be keyword-only.\n",
      "  dataset = pd.concat([dataset, s], 1) #move the dependent variable (soilMoisture to the end of the dataframe)\n",
      "/tmp/ipykernel_2122/385221115.py:19: FutureWarning: In a future version of pandas all arguments of concat except for the argument 'objs' will be keyword-only.\n",
      "  dataset = pd.concat([dataset, s], 1) #move the dependent variable (soilMoisture to the end of the dataframe)\n",
      "/tmp/ipykernel_2122/385221115.py:19: FutureWarning: In a future version of pandas all arguments of concat except for the argument 'objs' will be keyword-only.\n",
      "  dataset = pd.concat([dataset, s], 1) #move the dependent variable (soilMoisture to the end of the dataframe)\n",
      "/tmp/ipykernel_2122/385221115.py:19: FutureWarning: In a future version of pandas all arguments of concat except for the argument 'objs' will be keyword-only.\n",
      "  dataset = pd.concat([dataset, s], 1) #move the dependent variable (soilMoisture to the end of the dataframe)\n",
      "/tmp/ipykernel_2122/385221115.py:19: FutureWarning: In a future version of pandas all arguments of concat except for the argument 'objs' will be keyword-only.\n",
      "  dataset = pd.concat([dataset, s], 1) #move the dependent variable (soilMoisture to the end of the dataframe)\n",
      "/tmp/ipykernel_2122/385221115.py:19: FutureWarning: In a future version of pandas all arguments of concat except for the argument 'objs' will be keyword-only.\n",
      "  dataset = pd.concat([dataset, s], 1) #move the dependent variable (soilMoisture to the end of the dataframe)\n",
      "/tmp/ipykernel_2122/385221115.py:19: FutureWarning: In a future version of pandas all arguments of concat except for the argument 'objs' will be keyword-only.\n",
      "  dataset = pd.concat([dataset, s], 1) #move the dependent variable (soilMoisture to the end of the dataframe)\n",
      "/tmp/ipykernel_2122/385221115.py:19: FutureWarning: In a future version of pandas all arguments of concat except for the argument 'objs' will be keyword-only.\n",
      "  dataset = pd.concat([dataset, s], 1) #move the dependent variable (soilMoisture to the end of the dataframe)\n",
      "/tmp/ipykernel_2122/385221115.py:19: FutureWarning: In a future version of pandas all arguments of concat except for the argument 'objs' will be keyword-only.\n",
      "  dataset = pd.concat([dataset, s], 1) #move the dependent variable (soilMoisture to the end of the dataframe)\n",
      "/tmp/ipykernel_2122/385221115.py:19: FutureWarning: In a future version of pandas all arguments of concat except for the argument 'objs' will be keyword-only.\n",
      "  dataset = pd.concat([dataset, s], 1) #move the dependent variable (soilMoisture to the end of the dataframe)\n",
      "/tmp/ipykernel_2122/385221115.py:19: FutureWarning: In a future version of pandas all arguments of concat except for the argument 'objs' will be keyword-only.\n",
      "  dataset = pd.concat([dataset, s], 1) #move the dependent variable (soilMoisture to the end of the dataframe)\n",
      "/tmp/ipykernel_2122/385221115.py:19: FutureWarning: In a future version of pandas all arguments of concat except for the argument 'objs' will be keyword-only.\n",
      "  dataset = pd.concat([dataset, s], 1) #move the dependent variable (soilMoisture to the end of the dataframe)\n",
      "/tmp/ipykernel_2122/385221115.py:19: FutureWarning: In a future version of pandas all arguments of concat except for the argument 'objs' will be keyword-only.\n",
      "  dataset = pd.concat([dataset, s], 1) #move the dependent variable (soilMoisture to the end of the dataframe)\n"
     ]
    },
    {
     "name": "stdout",
     "output_type": "stream",
     "text": [
      "ependent_stations_v01/Independent_SNOTEL_CLEARCREEK#1.csv\n",
      "ependent_stations_v01/Independent_SNOTEL_BONESPRINGSDIV.csv\n",
      "ependent_stations_v01/Independent_USCRN_St.-Mary-1-SSW.csv\n",
      "ependent_stations_v01/Independent_HOBE_2.07.csv\n",
      "ependent_stations_v01/Independent_SNOTEL_Chalender.csv\n",
      "ependent_stations_v01/Independent_USCRN_Pierre-24-S.csv\n",
      "ependent_stations_v01/Independent_ARM_Cordell.csv\n",
      "ependent_stations_v01/Independent_RISMA_ON5.csv\n",
      "ependent_stations_v01/Independent_USCRN_Elkins-21-ENE.csv\n",
      "ependent_stations_v01/Independent_COSMOS_Sterling.csv\n",
      "ependent_stations_v01/Independent_PBO-H2O_MCDERMITT.csv\n",
      "ependent_stations_v01/Independent_CTP-SMTMN_S04.csv\n",
      "ependent_stations_v01/Independent_USCRN_Durham-2-SSW.csv\n",
      "ependent_stations_v01/Independent_BNZ-LTER_UP1A.csv\n",
      "ependent_stations_v01/Independent_SOILSCAPE_node1031.csv\n",
      "ependent_stations_v01/Independent_FMI_SOD091.csv\n",
      "ependent_stations_v01/Independent_SNOTEL_KALAMAZOO.csv\n",
      "ependent_stations_v01/Independent_SNOTEL_SuuRanch.csv\n",
      "ependent_stations_v01/Independent_SNOTEL_EASTWILLOWCREEK.csv\n",
      "ependent_stations_v01/Independent_SNOTEL_EFBLACKSFORKGS.csv\n",
      "ependent_stations_v01/Independent_SNOTEL_BIGGOOSE.csv\n",
      "ependent_stations_v01/Independent_CTP-SMTMN_L05-M06.csv\n",
      "ependent_stations_v01/Independent_SNOTEL_CLEARLAKE.csv\n",
      "ependent_stations_v01/Independent_BIEBRZA-S-1_marshland-soil-26.csv\n",
      "ependent_stations_v01/Independent_SNOTEL_GallegosPeak.csv\n",
      "ependent_stations_v01/Independent_PBO-H2O_KAMASLLOYD.csv\n"
     ]
    },
    {
     "name": "stderr",
     "output_type": "stream",
     "text": [
      "/tmp/ipykernel_2122/385221115.py:19: FutureWarning: In a future version of pandas all arguments of concat except for the argument 'objs' will be keyword-only.\n",
      "  dataset = pd.concat([dataset, s], 1) #move the dependent variable (soilMoisture to the end of the dataframe)\n",
      "/tmp/ipykernel_2122/385221115.py:19: FutureWarning: In a future version of pandas all arguments of concat except for the argument 'objs' will be keyword-only.\n",
      "  dataset = pd.concat([dataset, s], 1) #move the dependent variable (soilMoisture to the end of the dataframe)\n",
      "/tmp/ipykernel_2122/385221115.py:19: FutureWarning: In a future version of pandas all arguments of concat except for the argument 'objs' will be keyword-only.\n",
      "  dataset = pd.concat([dataset, s], 1) #move the dependent variable (soilMoisture to the end of the dataframe)\n",
      "/tmp/ipykernel_2122/385221115.py:19: FutureWarning: In a future version of pandas all arguments of concat except for the argument 'objs' will be keyword-only.\n",
      "  dataset = pd.concat([dataset, s], 1) #move the dependent variable (soilMoisture to the end of the dataframe)\n",
      "/tmp/ipykernel_2122/385221115.py:19: FutureWarning: In a future version of pandas all arguments of concat except for the argument 'objs' will be keyword-only.\n",
      "  dataset = pd.concat([dataset, s], 1) #move the dependent variable (soilMoisture to the end of the dataframe)\n",
      "/tmp/ipykernel_2122/385221115.py:19: FutureWarning: In a future version of pandas all arguments of concat except for the argument 'objs' will be keyword-only.\n",
      "  dataset = pd.concat([dataset, s], 1) #move the dependent variable (soilMoisture to the end of the dataframe)\n",
      "/tmp/ipykernel_2122/385221115.py:19: FutureWarning: In a future version of pandas all arguments of concat except for the argument 'objs' will be keyword-only.\n",
      "  dataset = pd.concat([dataset, s], 1) #move the dependent variable (soilMoisture to the end of the dataframe)\n",
      "/tmp/ipykernel_2122/385221115.py:19: FutureWarning: In a future version of pandas all arguments of concat except for the argument 'objs' will be keyword-only.\n",
      "  dataset = pd.concat([dataset, s], 1) #move the dependent variable (soilMoisture to the end of the dataframe)\n",
      "/tmp/ipykernel_2122/385221115.py:19: FutureWarning: In a future version of pandas all arguments of concat except for the argument 'objs' will be keyword-only.\n",
      "  dataset = pd.concat([dataset, s], 1) #move the dependent variable (soilMoisture to the end of the dataframe)\n",
      "/tmp/ipykernel_2122/385221115.py:19: FutureWarning: In a future version of pandas all arguments of concat except for the argument 'objs' will be keyword-only.\n",
      "  dataset = pd.concat([dataset, s], 1) #move the dependent variable (soilMoisture to the end of the dataframe)\n",
      "/tmp/ipykernel_2122/385221115.py:19: FutureWarning: In a future version of pandas all arguments of concat except for the argument 'objs' will be keyword-only.\n",
      "  dataset = pd.concat([dataset, s], 1) #move the dependent variable (soilMoisture to the end of the dataframe)\n",
      "/tmp/ipykernel_2122/385221115.py:19: FutureWarning: In a future version of pandas all arguments of concat except for the argument 'objs' will be keyword-only.\n",
      "  dataset = pd.concat([dataset, s], 1) #move the dependent variable (soilMoisture to the end of the dataframe)\n",
      "/tmp/ipykernel_2122/385221115.py:19: FutureWarning: In a future version of pandas all arguments of concat except for the argument 'objs' will be keyword-only.\n",
      "  dataset = pd.concat([dataset, s], 1) #move the dependent variable (soilMoisture to the end of the dataframe)\n",
      "/tmp/ipykernel_2122/385221115.py:19: FutureWarning: In a future version of pandas all arguments of concat except for the argument 'objs' will be keyword-only.\n",
      "  dataset = pd.concat([dataset, s], 1) #move the dependent variable (soilMoisture to the end of the dataframe)\n"
     ]
    },
    {
     "name": "stdout",
     "output_type": "stream",
     "text": [
      "ependent_stations_v01/Independent_SNOTEL_SALTRIVERSUMMIT.csv\n",
      "ependent_stations_v01/Independent_SCAN_RogersFarm#1.csv\n",
      "ependent_stations_v01/Independent_PBO-H2O_REIDHILLVW.csv\n",
      "ependent_stations_v01/Independent_HiWATER-EHWSN_BD-0045.csv\n",
      "ependent_stations_v01/Independent_SNOTEL_BUCKINGHORSE.csv\n",
      "ependent_stations_v01/Independent_HiWATER-EHWSN_BD-0039.csv\n",
      "ependent_stations_v01/Independent_SNOTEL_BALDY.csv\n",
      "ependent_stations_v01/Independent_SOILSCAPE_node509.csv\n",
      "ependent_stations_v01/Independent_SOILSCAPE_node1026.csv\n",
      "ependent_stations_v01/Independent_SOILSCAPE_node816.csv\n"
     ]
    },
    {
     "name": "stderr",
     "output_type": "stream",
     "text": [
      "/tmp/ipykernel_2122/385221115.py:19: FutureWarning: In a future version of pandas all arguments of concat except for the argument 'objs' will be keyword-only.\n",
      "  dataset = pd.concat([dataset, s], 1) #move the dependent variable (soilMoisture to the end of the dataframe)\n",
      "/tmp/ipykernel_2122/385221115.py:19: FutureWarning: In a future version of pandas all arguments of concat except for the argument 'objs' will be keyword-only.\n",
      "  dataset = pd.concat([dataset, s], 1) #move the dependent variable (soilMoisture to the end of the dataframe)\n",
      "/tmp/ipykernel_2122/385221115.py:19: FutureWarning: In a future version of pandas all arguments of concat except for the argument 'objs' will be keyword-only.\n",
      "  dataset = pd.concat([dataset, s], 1) #move the dependent variable (soilMoisture to the end of the dataframe)\n",
      "/tmp/ipykernel_2122/385221115.py:19: FutureWarning: In a future version of pandas all arguments of concat except for the argument 'objs' will be keyword-only.\n",
      "  dataset = pd.concat([dataset, s], 1) #move the dependent variable (soilMoisture to the end of the dataframe)\n",
      "/tmp/ipykernel_2122/385221115.py:19: FutureWarning: In a future version of pandas all arguments of concat except for the argument 'objs' will be keyword-only.\n",
      "  dataset = pd.concat([dataset, s], 1) #move the dependent variable (soilMoisture to the end of the dataframe)\n",
      "/tmp/ipykernel_2122/385221115.py:19: FutureWarning: In a future version of pandas all arguments of concat except for the argument 'objs' will be keyword-only.\n",
      "  dataset = pd.concat([dataset, s], 1) #move the dependent variable (soilMoisture to the end of the dataframe)\n",
      "/tmp/ipykernel_2122/385221115.py:19: FutureWarning: In a future version of pandas all arguments of concat except for the argument 'objs' will be keyword-only.\n",
      "  dataset = pd.concat([dataset, s], 1) #move the dependent variable (soilMoisture to the end of the dataframe)\n",
      "/tmp/ipykernel_2122/385221115.py:19: FutureWarning: In a future version of pandas all arguments of concat except for the argument 'objs' will be keyword-only.\n",
      "  dataset = pd.concat([dataset, s], 1) #move the dependent variable (soilMoisture to the end of the dataframe)\n",
      "/tmp/ipykernel_2122/385221115.py:19: FutureWarning: In a future version of pandas all arguments of concat except for the argument 'objs' will be keyword-only.\n",
      "  dataset = pd.concat([dataset, s], 1) #move the dependent variable (soilMoisture to the end of the dataframe)\n",
      "/tmp/ipykernel_2122/385221115.py:19: FutureWarning: In a future version of pandas all arguments of concat except for the argument 'objs' will be keyword-only.\n",
      "  dataset = pd.concat([dataset, s], 1) #move the dependent variable (soilMoisture to the end of the dataframe)\n",
      "/tmp/ipykernel_2122/385221115.py:19: FutureWarning: In a future version of pandas all arguments of concat except for the argument 'objs' will be keyword-only.\n",
      "  dataset = pd.concat([dataset, s], 1) #move the dependent variable (soilMoisture to the end of the dataframe)\n"
     ]
    },
    {
     "name": "stdout",
     "output_type": "stream",
     "text": [
      "ependent_stations_v01/Independent_PBO-H2O_IMPERIALSP.csv\n",
      "ependent_stations_v01/Independent_RISMA_MB2.csv\n",
      "ependent_stations_v01/Independent_PBO-H2O_AUBREYPEAK.csv\n",
      "ependent_stations_v01/Independent_SNOTEL_PARADISE.csv\n",
      "ependent_stations_v01/Independent_SNOTEL_MILL-DNORTH.csv\n",
      "ependent_stations_v01/Independent_SNOTEL_BENLOMONDTRAIL.csv\n",
      "ependent_stations_v01/Independent_SCAN_GoodwinCreekTimber.csv\n",
      "ependent_stations_v01/Independent_USCRN_Mercury-3-SSW.csv\n",
      "ependent_stations_v01/Independent_SNOTEL_REDPINERIDGE.csv\n",
      "ependent_stations_v01/Independent_SNOTEL_MUNSONRIDGE.csv\n",
      "ependent_stations_v01/Independent_SNOTEL_EASTRIMDIVIDE.csv\n",
      "ependent_stations_v01/Independent_MONGOLIA_Tsetserleg.csv\n"
     ]
    },
    {
     "name": "stderr",
     "output_type": "stream",
     "text": [
      "/tmp/ipykernel_2122/385221115.py:19: FutureWarning: In a future version of pandas all arguments of concat except for the argument 'objs' will be keyword-only.\n",
      "  dataset = pd.concat([dataset, s], 1) #move the dependent variable (soilMoisture to the end of the dataframe)\n",
      "/tmp/ipykernel_2122/385221115.py:19: FutureWarning: In a future version of pandas all arguments of concat except for the argument 'objs' will be keyword-only.\n",
      "  dataset = pd.concat([dataset, s], 1) #move the dependent variable (soilMoisture to the end of the dataframe)\n",
      "/tmp/ipykernel_2122/385221115.py:19: FutureWarning: In a future version of pandas all arguments of concat except for the argument 'objs' will be keyword-only.\n",
      "  dataset = pd.concat([dataset, s], 1) #move the dependent variable (soilMoisture to the end of the dataframe)\n",
      "/tmp/ipykernel_2122/385221115.py:19: FutureWarning: In a future version of pandas all arguments of concat except for the argument 'objs' will be keyword-only.\n",
      "  dataset = pd.concat([dataset, s], 1) #move the dependent variable (soilMoisture to the end of the dataframe)\n",
      "/tmp/ipykernel_2122/385221115.py:19: FutureWarning: In a future version of pandas all arguments of concat except for the argument 'objs' will be keyword-only.\n",
      "  dataset = pd.concat([dataset, s], 1) #move the dependent variable (soilMoisture to the end of the dataframe)\n",
      "/tmp/ipykernel_2122/385221115.py:19: FutureWarning: In a future version of pandas all arguments of concat except for the argument 'objs' will be keyword-only.\n",
      "  dataset = pd.concat([dataset, s], 1) #move the dependent variable (soilMoisture to the end of the dataframe)\n",
      "/tmp/ipykernel_2122/385221115.py:19: FutureWarning: In a future version of pandas all arguments of concat except for the argument 'objs' will be keyword-only.\n",
      "  dataset = pd.concat([dataset, s], 1) #move the dependent variable (soilMoisture to the end of the dataframe)\n",
      "/tmp/ipykernel_2122/385221115.py:19: FutureWarning: In a future version of pandas all arguments of concat except for the argument 'objs' will be keyword-only.\n",
      "  dataset = pd.concat([dataset, s], 1) #move the dependent variable (soilMoisture to the end of the dataframe)\n",
      "/tmp/ipykernel_2122/385221115.py:19: FutureWarning: In a future version of pandas all arguments of concat except for the argument 'objs' will be keyword-only.\n",
      "  dataset = pd.concat([dataset, s], 1) #move the dependent variable (soilMoisture to the end of the dataframe)\n",
      "/tmp/ipykernel_2122/385221115.py:19: FutureWarning: In a future version of pandas all arguments of concat except for the argument 'objs' will be keyword-only.\n",
      "  dataset = pd.concat([dataset, s], 1) #move the dependent variable (soilMoisture to the end of the dataframe)\n",
      "/tmp/ipykernel_2122/385221115.py:19: FutureWarning: In a future version of pandas all arguments of concat except for the argument 'objs' will be keyword-only.\n",
      "  dataset = pd.concat([dataset, s], 1) #move the dependent variable (soilMoisture to the end of the dataframe)\n",
      "/tmp/ipykernel_2122/385221115.py:19: FutureWarning: In a future version of pandas all arguments of concat except for the argument 'objs' will be keyword-only.\n",
      "  dataset = pd.concat([dataset, s], 1) #move the dependent variable (soilMoisture to the end of the dataframe)\n"
     ]
    },
    {
     "name": "stdout",
     "output_type": "stream",
     "text": [
      "ependent_stations_v01/Independent_SCAN_UAPBCampus-PB.csv\n",
      "ependent_stations_v01/Independent_SOILSCAPE_node1030.csv\n",
      "ependent_stations_v01/Independent_ARM_Vici.csv\n",
      "ependent_stations_v01/Independent_SCAN_Nephi.csv\n",
      "ependent_stations_v01/Independent_HOBE_3.05.csv\n",
      "ependent_stations_v01/Independent_BIEBRZA-S-1_marshland-soil-15.csv\n",
      "ependent_stations_v01/Independent_SNOTEL_FREMONTPASS.csv\n"
     ]
    },
    {
     "name": "stderr",
     "output_type": "stream",
     "text": [
      "/tmp/ipykernel_2122/385221115.py:19: FutureWarning: In a future version of pandas all arguments of concat except for the argument 'objs' will be keyword-only.\n",
      "  dataset = pd.concat([dataset, s], 1) #move the dependent variable (soilMoisture to the end of the dataframe)\n",
      "/tmp/ipykernel_2122/385221115.py:19: FutureWarning: In a future version of pandas all arguments of concat except for the argument 'objs' will be keyword-only.\n",
      "  dataset = pd.concat([dataset, s], 1) #move the dependent variable (soilMoisture to the end of the dataframe)\n",
      "/tmp/ipykernel_2122/385221115.py:19: FutureWarning: In a future version of pandas all arguments of concat except for the argument 'objs' will be keyword-only.\n",
      "  dataset = pd.concat([dataset, s], 1) #move the dependent variable (soilMoisture to the end of the dataframe)\n",
      "/tmp/ipykernel_2122/385221115.py:19: FutureWarning: In a future version of pandas all arguments of concat except for the argument 'objs' will be keyword-only.\n",
      "  dataset = pd.concat([dataset, s], 1) #move the dependent variable (soilMoisture to the end of the dataframe)\n",
      "/tmp/ipykernel_2122/385221115.py:19: FutureWarning: In a future version of pandas all arguments of concat except for the argument 'objs' will be keyword-only.\n",
      "  dataset = pd.concat([dataset, s], 1) #move the dependent variable (soilMoisture to the end of the dataframe)\n"
     ]
    }
   ],
   "source": [
    "for files in glob.glob(\"/data/private/VM/data/Independent_stations_v01/*.csv\"):\n",
    "    dataset = pd.read_csv(files)\n",
    "    # print(files[25:])\n",
    "    #remove string predictor: \"network\",\"station\"\n",
    "    dataset = dataset.drop('Unnamed: 0', axis=1)\n",
    "    # dataset = dataset.drop('network', axis=1)\n",
    "    # dataset = dataset.drop('station', axis=1)\n",
    "    dataset = dataset.drop('ESA-CCI', axis=1)\n",
    "    #deal with the date \n",
    "    dataset2=pd.to_datetime(dataset['Date']) #move the datetime column to a new DF, and convert it to a recognized panda type \n",
    "    DOY=dataset2.dt.dayofyear #create a Series \"day\", where the day of the year is stored\n",
    "    #also allows for weekofyear\n",
    "    Year= dataset2.dt.year #create a \"year series\"\n",
    "    dataset.insert(0, 'DOY', DOY) #insert the day series to the beggining of the dataset\n",
    "    dataset.insert(0, 'Year', Year)#insert the year series to the beggining of the dataset\n",
    "    dataset.drop(labels=['Date'], axis=1,inplace = True) #eliminate the date column\n",
    "    Year.value_counts() #registries groped by years in our dataset. Why 2017 and 2018 have so few entries?\n",
    "    s = dataset.pop('Soil Moisture')\n",
    "    dataset = pd.concat([dataset, s], 1) #move the dependent variable (soilMoisture to the end of the dataframe)\n",
    "    #save the new dataset, used for training all the models\n",
    "    dataset.rename(columns={'Lon':'lon'})\n",
    "    print(files[25:])\n",
    "    # dataset.to_csv(path_or_buf=r\"Independent_stations_v01cleaned/\"+files[25:], sep=',', index=False)"
   ]
  },
  {
   "cell_type": "code",
   "execution_count": null,
   "metadata": {},
   "outputs": [],
   "source": []
  }
 ],
 "metadata": {
  "colab": {
   "authorship_tag": "ABX9TyP1VVwrQU8S68bmX5lftYWC",
   "name": "Simple Linear Regression",
   "provenance": [],
   "toc_visible": true
  },
  "kernelspec": {
   "display_name": "Python",
   "language": "python",
   "name": "python3"
  },
  "language_info": {
   "codemirror_mode": {
    "name": "ipython",
    "version": 3
   },
   "file_extension": ".py",
   "mimetype": "text/x-python",
   "name": "python",
   "nbconvert_exporter": "python",
   "pygments_lexer": "ipython3",
   "version": "3.8.10"
  }
 },
 "nbformat": 4,
 "nbformat_minor": 4
}
